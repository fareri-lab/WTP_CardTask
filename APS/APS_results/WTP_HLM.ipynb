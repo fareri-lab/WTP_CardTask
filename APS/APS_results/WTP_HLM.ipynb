{
 "cells": [
  {
   "cell_type": "code",
   "execution_count": 2,
   "id": "bc69ffd5",
   "metadata": {},
   "outputs": [],
   "source": [
    "#import packages\n",
    "from __future__ import division \n",
    "import sys\n",
    "import pandas as pd\n",
    "import numpy as np\n",
    "import scipy\n",
    "from numpy import mean, std, cov \n",
    "from numpy.random import seed, randn\n",
    "import matplotlib.pyplot as plt\n",
    "from matplotlib import pyplot\n",
    "from math import sqrt\n",
    "import scipy.stats as stats \n",
    "from scipy.stats import t, pearsonr, sem\n",
    "import seaborn as sns\n",
    "from statistics import mean, stdev"
   ]
  },
  {
   "cell_type": "code",
   "execution_count": 20,
   "id": "120b550e",
   "metadata": {},
   "outputs": [
    {
     "name": "stdout",
     "output_type": "stream",
     "text": [
      "C:\\Users\\Adrian\\anaconda3\\python.exe\n",
      "Requirement already satisfied: bambi in c:\\users\\adrian\\anaconda3\\lib\\site-packages (0.7.1)\n",
      "Requirement already satisfied: statsmodels>=0.9 in c:\\users\\adrian\\anaconda3\\lib\\site-packages (from bambi) (0.12.2)\n",
      "Requirement already satisfied: arviz>=0.11.2 in c:\\users\\adrian\\anaconda3\\lib\\site-packages (from bambi) (0.12.1)\n",
      "Requirement already satisfied: pymc3>=3.9.0 in c:\\users\\adrian\\anaconda3\\lib\\site-packages (from bambi) (3.11.5)\n",
      "Requirement already satisfied: pandas>=1.0.0 in c:\\users\\adrian\\anaconda3\\lib\\site-packages (from bambi) (1.3.4)\n",
      "Requirement already satisfied: numpy<1.22.0,>=1.16.1 in c:\\users\\adrian\\anaconda3\\lib\\site-packages (from bambi) (1.21.6)\n",
      "Requirement already satisfied: formulae==0.2.0 in c:\\users\\adrian\\anaconda3\\lib\\site-packages (from bambi) (0.2.0)\n",
      "Requirement already satisfied: scipy>=1.7.0 in c:\\users\\adrian\\anaconda3\\lib\\site-packages (from bambi) (1.7.3)\n",
      "Requirement already satisfied: setuptools>=38.4 in c:\\users\\adrian\\anaconda3\\lib\\site-packages (from arviz>=0.11.2->bambi) (58.0.4)\n",
      "Requirement already satisfied: xarray-einstats>=0.2 in c:\\users\\adrian\\anaconda3\\lib\\site-packages (from arviz>=0.11.2->bambi) (0.2.2)\n",
      "Requirement already satisfied: matplotlib>=3.0 in c:\\users\\adrian\\anaconda3\\lib\\site-packages (from arviz>=0.11.2->bambi) (3.4.3)\n",
      "Requirement already satisfied: packaging in c:\\users\\adrian\\anaconda3\\lib\\site-packages (from arviz>=0.11.2->bambi) (21.0)\n",
      "Requirement already satisfied: xarray>=0.16.1 in c:\\users\\adrian\\anaconda3\\lib\\site-packages (from arviz>=0.11.2->bambi) (2022.3.0)\n",
      "Requirement already satisfied: netcdf4 in c:\\users\\adrian\\anaconda3\\lib\\site-packages (from arviz>=0.11.2->bambi) (1.5.8)\n",
      "Requirement already satisfied: typing-extensions>=3.7.4.3 in c:\\users\\adrian\\anaconda3\\lib\\site-packages (from arviz>=0.11.2->bambi) (3.10.0.2)\n",
      "Requirement already satisfied: python-dateutil>=2.7 in c:\\users\\adrian\\anaconda3\\lib\\site-packages (from matplotlib>=3.0->arviz>=0.11.2->bambi) (2.8.2)\n",
      "Requirement already satisfied: pyparsing>=2.2.1 in c:\\users\\adrian\\anaconda3\\lib\\site-packages (from matplotlib>=3.0->arviz>=0.11.2->bambi) (3.0.4)\n",
      "Requirement already satisfied: cycler>=0.10 in c:\\users\\adrian\\anaconda3\\lib\\site-packages (from matplotlib>=3.0->arviz>=0.11.2->bambi) (0.10.0)\n",
      "Requirement already satisfied: kiwisolver>=1.0.1 in c:\\users\\adrian\\anaconda3\\lib\\site-packages (from matplotlib>=3.0->arviz>=0.11.2->bambi) (1.3.1)\n",
      "Requirement already satisfied: pillow>=6.2.0 in c:\\users\\adrian\\anaconda3\\lib\\site-packages (from matplotlib>=3.0->arviz>=0.11.2->bambi) (8.4.0)\n",
      "Requirement already satisfied: six in c:\\users\\adrian\\anaconda3\\lib\\site-packages (from cycler>=0.10->matplotlib>=3.0->arviz>=0.11.2->bambi) (1.16.0)\n",
      "Requirement already satisfied: pytz>=2017.3 in c:\\users\\adrian\\anaconda3\\lib\\site-packages (from pandas>=1.0.0->bambi) (2021.3)\n",
      "Requirement already satisfied: deprecat in c:\\users\\adrian\\anaconda3\\lib\\site-packages (from pymc3>=3.9.0->bambi) (2.1.1)\n",
      "Requirement already satisfied: cachetools>=4.2.1 in c:\\users\\adrian\\anaconda3\\lib\\site-packages (from pymc3>=3.9.0->bambi) (5.1.0)\n",
      "Requirement already satisfied: fastprogress>=0.2.0 in c:\\users\\adrian\\anaconda3\\lib\\site-packages (from pymc3>=3.9.0->bambi) (1.0.2)\n",
      "Requirement already satisfied: dill in c:\\users\\adrian\\anaconda3\\lib\\site-packages (from pymc3>=3.9.0->bambi) (0.3.4)\n",
      "Requirement already satisfied: patsy>=0.5.1 in c:\\users\\adrian\\anaconda3\\lib\\site-packages (from pymc3>=3.9.0->bambi) (0.5.2)\n",
      "Requirement already satisfied: semver>=2.13.0 in c:\\users\\adrian\\anaconda3\\lib\\site-packages (from pymc3>=3.9.0->bambi) (2.13.0)\n",
      "Requirement already satisfied: theano-pymc==1.1.2 in c:\\users\\adrian\\anaconda3\\lib\\site-packages (from pymc3>=3.9.0->bambi) (1.1.2)\n",
      "Requirement already satisfied: filelock in c:\\users\\adrian\\anaconda3\\lib\\site-packages (from theano-pymc==1.1.2->pymc3>=3.9.0->bambi) (3.3.1)\n",
      "Requirement already satisfied: wrapt<2,>=1.10 in c:\\users\\adrian\\anaconda3\\lib\\site-packages (from deprecat->pymc3>=3.9.0->bambi) (1.12.1)\n",
      "Requirement already satisfied: cftime in c:\\users\\adrian\\anaconda3\\lib\\site-packages (from netcdf4->arviz>=0.11.2->bambi) (1.6.0)\n"
     ]
    }
   ],
   "source": [
    "import sys\n",
    "print(sys.executable)\n",
    "!{sys.executable} -m pip install bambi"
   ]
  },
  {
   "cell_type": "code",
   "execution_count": 5,
   "id": "f634545d",
   "metadata": {},
   "outputs": [],
   "source": [
    "import arviz as az\n",
    "import bambi as bmb\n",
    "import matplotlib.pyplot as plt\n",
    "import numpy as np\n",
    "\n",
    "from matplotlib.lines import Line2D\n",
    "from matplotlib.patches import Patch"
   ]
  },
  {
   "cell_type": "code",
   "execution_count": 13,
   "id": "e5dbca4f",
   "metadata": {},
   "outputs": [
    {
     "name": "stdout",
     "output_type": "stream",
     "text": [
      "                      subid  balanced  subtrial  social_money  \\\n",
      "0  56259489ed6e5a0005c80fde         1         1          0.05   \n",
      "1  56259489ed6e5a0005c80fde         1         2          0.03   \n",
      "2  56259489ed6e5a0005c80fde         1         3          0.01   \n",
      "3  56259489ed6e5a0005c80fde         1         4          0.01   \n",
      "4  56259489ed6e5a0005c80fde         1         5          0.03   \n",
      "\n",
      "   nonsocial_money  exp_chosen  decision_price  reaction_time  response  AQ  \\\n",
      "0             0.02         0.0            0.02         2.0925       2.0  37   \n",
      "1             0.04         0.0            0.04         1.8986       1.0  37   \n",
      "2             0.03         0.0            0.03         2.2145       2.0  37   \n",
      "3             0.05         1.0            0.01         1.4479       2.0  37   \n",
      "4             0.02         0.0            0.02         1.3662       2.0  37   \n",
      "\n",
      "   MSSSF     MSPSS  IRI_FS  IRI_EC  IRI_PD  IRI_PT  BRCS  LSAS  LSAS_FEAR  \\\n",
      "0     51  6.666667      26      20      14      15    18    12          0   \n",
      "1     51  6.666667      26      20      14      15    18    12          0   \n",
      "2     51  6.666667      26      20      14      15    18    12          0   \n",
      "3     51  6.666667      26      20      14      15    18    12          0   \n",
      "4     51  6.666667      26      20      14      15    18    12          0   \n",
      "\n",
      "   LSAS_AVOIDANCE  CESD  UCLA_loneliness  BISBAS_BIS  BISBAS_BASRR  BISBAS_FS  \\\n",
      "0              12    28               36          26            20         11   \n",
      "1              12    28               36          26            20         11   \n",
      "2              12    28               36          26            20         11   \n",
      "3              12    28               36          26            20         11   \n",
      "4              12    28               36          26            20         11   \n",
      "\n",
      "   BISBAS_BASD  RSE  STAI  UM_AFFILIATION  UM_INTIMACY  COVIDexperience_score  \\\n",
      "0           15   27    45              27           39                     13   \n",
      "1           15   27    45              27           39                     13   \n",
      "2           15   27    45              27           39                     13   \n",
      "3           15   27    45              27           39                     13   \n",
      "4           15   27    45              27           39                     13   \n",
      "\n",
      "   COVIDimpacts_score  COVIDthreat_score  COVIDpsychstress_score  dem_AGE  \\\n",
      "0                  39                 24                       3       35   \n",
      "1                  39                 24                       3       35   \n",
      "2                  39                 24                       3       35   \n",
      "3                  39                 24                       3       35   \n",
      "4                  39                 24                       3       35   \n",
      "\n",
      "   dem_SEX  dem_GENDER  dem_ETHNICITY  dem_RACE  avg_spent_social  \\\n",
      "0        2           1              2         5           0.02625   \n",
      "1        2           1              2         5           0.02625   \n",
      "2        2           1              2         5           0.02625   \n",
      "3        2           1              2         5           0.02625   \n",
      "4        2           1              2         5           0.02625   \n",
      "\n",
      "   avg_spent_nonsocial  total_spent_social  total_spent_nonsocial  \\\n",
      "0             0.028571                0.21                    1.2   \n",
      "1             0.028571                0.21                    1.2   \n",
      "2             0.028571                0.21                    1.2   \n",
      "3             0.028571                0.21                    1.2   \n",
      "4             0.028571                0.21                    1.2   \n",
      "\n",
      "   prop_social  prop_nonsocial  moresocial  prop_moresocial  \n",
      "0         0.16            0.84           0                0  \n",
      "1         0.16            0.84           0                0  \n",
      "2         0.16            0.84           0                0  \n",
      "3         0.16            0.84           0                0  \n",
      "4         0.16            0.84           0                0  \n",
      "Index(['subid', 'balanced', 'subtrial', 'social_money', 'nonsocial_money',\n",
      "       'exp_chosen', 'decision_price', 'reaction_time', 'response', 'AQ',\n",
      "       'MSSSF', 'MSPSS', 'IRI_FS', 'IRI_EC', 'IRI_PD', 'IRI_PT', 'BRCS',\n",
      "       'LSAS', 'LSAS_FEAR', 'LSAS_AVOIDANCE', 'CESD', 'UCLA_loneliness',\n",
      "       'BISBAS_BIS', 'BISBAS_BASRR', 'BISBAS_FS', 'BISBAS_BASD', 'RSE', 'STAI',\n",
      "       'UM_AFFILIATION', 'UM_INTIMACY', 'COVIDexperience_score',\n",
      "       'COVIDimpacts_score', 'COVIDthreat_score', 'COVIDpsychstress_score',\n",
      "       'dem_AGE', 'dem_SEX', 'dem_GENDER', 'dem_ETHNICITY', 'dem_RACE',\n",
      "       'avg_spent_social', 'avg_spent_nonsocial', 'total_spent_social',\n",
      "       'total_spent_nonsocial', 'prop_social', 'prop_nonsocial', 'moresocial',\n",
      "       'prop_moresocial'],\n",
      "      dtype='object')\n"
     ]
    }
   ],
   "source": [
    "#import excel file containing data summary\n",
    "\n",
    "data = pd.read_csv(r'WTP_Study2_LONG_REG.csv', encoding='utf-8-sig')\n",
    "pd.set_option(\"display.max_rows\", None, \"display.max_columns\", None)\n",
    "print(data.head())\n",
    "print(data.columns)"
   ]
  },
  {
   "cell_type": "code",
   "execution_count": 14,
   "id": "e005ab92",
   "metadata": {},
   "outputs": [],
   "source": [
    "# #import excel file  containing data summary\n",
    "# study2 = wtpdata.loc[(wtpdata['balanced'] == 1)]\n",
    "# study2= study2.reset_index(drop=True)\n",
    "# print(study2)\n"
   ]
  },
  {
   "cell_type": "code",
   "execution_count": 15,
   "id": "e2176f11",
   "metadata": {},
   "outputs": [],
   "source": [
    "# sum_wtp =study2.total_spent_social\n",
    "# aq = study2.AQ"
   ]
  },
  {
   "cell_type": "code",
   "execution_count": 16,
   "id": "51f07415",
   "metadata": {},
   "outputs": [],
   "source": [
    "# model_hierarchical = bmb.Model(\"p(sum_wtp,AQ ) ~ 1 + (1|dem_ID)\", df, family=\"binomial\")\n",
    "# model_hierarchical"
   ]
  },
  {
   "cell_type": "code",
   "execution_count": 17,
   "id": "9d6fe32a",
   "metadata": {},
   "outputs": [],
   "source": [
    " ## getting column names\n",
    "x_columns = [\"\"]\n",
    "demographics = [\"dem_AGE\",\"dem_GENDER\",\"dem_SEX\",\"dem_ETHNICITY\"]\n",
    "sociability = [\"MSPSS\",\"UM_AFFILIATION\",\"UM_INTIMACY\"]\n",
    "mentalizing = [\"AQ\",\"IRI_PD\",\"IRI_PT\",\"IRI_FS\",\"IRI_EC\"]\n",
    "solitude = ['MSSSF',\"UCLA_loneliness\"]\n",
    "dep_anx = ['RSE','CESD','LSAS','LSAS_FEAR','LSAS_AVOIDANCE',\"STAI\"]\n",
    "coping = ['BRCS']\n",
    "reward = ['BISBAS_BIS','BISBAS_BASRR','BISBAS_FS','BISBAS_BASD']\n",
    "covid = ['COVIDexperience_score','COVIDimpacts_score','COVIDthreat_score','COVIDpsychstress_score']\n",
    "y = data[\"prop_social\"]"
   ]
  },
  {
   "cell_type": "code",
   "execution_count": 18,
   "id": "d4c40b9c",
   "metadata": {},
   "outputs": [
    {
     "ename": "KeyError",
     "evalue": "\"None of [Index([''], dtype='object')] are in the [columns]\"",
     "output_type": "error",
     "traceback": [
      "\u001b[1;31m---------------------------------------------------------------------------\u001b[0m",
      "\u001b[1;31mKeyError\u001b[0m                                  Traceback (most recent call last)",
      "\u001b[1;32m~\\AppData\\Local\\Temp/ipykernel_7688/984717980.py\u001b[0m in \u001b[0;36m<module>\u001b[1;34m\u001b[0m\n\u001b[0;32m      6\u001b[0m     \u001b[0mresults\u001b[0m \u001b[1;33m=\u001b[0m \u001b[0msm\u001b[0m\u001b[1;33m.\u001b[0m\u001b[0mOLS\u001b[0m\u001b[1;33m(\u001b[0m\u001b[0my\u001b[0m\u001b[1;33m,\u001b[0m \u001b[0mx\u001b[0m\u001b[1;33m)\u001b[0m\u001b[1;33m.\u001b[0m\u001b[0mfit\u001b[0m\u001b[1;33m(\u001b[0m\u001b[1;33m)\u001b[0m\u001b[1;33m\u001b[0m\u001b[1;33m\u001b[0m\u001b[0m\n\u001b[0;32m      7\u001b[0m     \u001b[0mprint\u001b[0m\u001b[1;33m(\u001b[0m\u001b[0mresults\u001b[0m\u001b[1;33m.\u001b[0m\u001b[0msummary\u001b[0m\u001b[1;33m(\u001b[0m\u001b[1;33m)\u001b[0m\u001b[1;33m)\u001b[0m\u001b[1;33m\u001b[0m\u001b[1;33m\u001b[0m\u001b[0m\n\u001b[1;32m----> 8\u001b[1;33m \u001b[0mget_stats\u001b[0m\u001b[1;33m(\u001b[0m\u001b[1;33m)\u001b[0m\u001b[1;33m\u001b[0m\u001b[1;33m\u001b[0m\u001b[0m\n\u001b[0m",
      "\u001b[1;32m~\\AppData\\Local\\Temp/ipykernel_7688/984717980.py\u001b[0m in \u001b[0;36mget_stats\u001b[1;34m()\u001b[0m\n\u001b[0;32m      3\u001b[0m \u001b[1;32mimport\u001b[0m \u001b[0mstatsmodels\u001b[0m\u001b[1;33m.\u001b[0m\u001b[0mapi\u001b[0m \u001b[1;32mas\u001b[0m \u001b[0msm\u001b[0m\u001b[1;33m\u001b[0m\u001b[1;33m\u001b[0m\u001b[0m\n\u001b[0;32m      4\u001b[0m \u001b[1;32mdef\u001b[0m \u001b[0mget_stats\u001b[0m\u001b[1;33m(\u001b[0m\u001b[1;33m)\u001b[0m\u001b[1;33m:\u001b[0m\u001b[1;33m\u001b[0m\u001b[1;33m\u001b[0m\u001b[0m\n\u001b[1;32m----> 5\u001b[1;33m     \u001b[0mx\u001b[0m \u001b[1;33m=\u001b[0m \u001b[0mdata\u001b[0m\u001b[1;33m[\u001b[0m\u001b[0mx_columns\u001b[0m\u001b[1;33m]\u001b[0m\u001b[1;33m\u001b[0m\u001b[1;33m\u001b[0m\u001b[0m\n\u001b[0m\u001b[0;32m      6\u001b[0m     \u001b[0mresults\u001b[0m \u001b[1;33m=\u001b[0m \u001b[0msm\u001b[0m\u001b[1;33m.\u001b[0m\u001b[0mOLS\u001b[0m\u001b[1;33m(\u001b[0m\u001b[0my\u001b[0m\u001b[1;33m,\u001b[0m \u001b[0mx\u001b[0m\u001b[1;33m)\u001b[0m\u001b[1;33m.\u001b[0m\u001b[0mfit\u001b[0m\u001b[1;33m(\u001b[0m\u001b[1;33m)\u001b[0m\u001b[1;33m\u001b[0m\u001b[1;33m\u001b[0m\u001b[0m\n\u001b[0;32m      7\u001b[0m     \u001b[0mprint\u001b[0m\u001b[1;33m(\u001b[0m\u001b[0mresults\u001b[0m\u001b[1;33m.\u001b[0m\u001b[0msummary\u001b[0m\u001b[1;33m(\u001b[0m\u001b[1;33m)\u001b[0m\u001b[1;33m)\u001b[0m\u001b[1;33m\u001b[0m\u001b[1;33m\u001b[0m\u001b[0m\n",
      "\u001b[1;32m~\\anaconda3\\lib\\site-packages\\pandas\\core\\frame.py\u001b[0m in \u001b[0;36m__getitem__\u001b[1;34m(self, key)\u001b[0m\n\u001b[0;32m   3462\u001b[0m             \u001b[1;32mif\u001b[0m \u001b[0mis_iterator\u001b[0m\u001b[1;33m(\u001b[0m\u001b[0mkey\u001b[0m\u001b[1;33m)\u001b[0m\u001b[1;33m:\u001b[0m\u001b[1;33m\u001b[0m\u001b[1;33m\u001b[0m\u001b[0m\n\u001b[0;32m   3463\u001b[0m                 \u001b[0mkey\u001b[0m \u001b[1;33m=\u001b[0m \u001b[0mlist\u001b[0m\u001b[1;33m(\u001b[0m\u001b[0mkey\u001b[0m\u001b[1;33m)\u001b[0m\u001b[1;33m\u001b[0m\u001b[1;33m\u001b[0m\u001b[0m\n\u001b[1;32m-> 3464\u001b[1;33m             \u001b[0mindexer\u001b[0m \u001b[1;33m=\u001b[0m \u001b[0mself\u001b[0m\u001b[1;33m.\u001b[0m\u001b[0mloc\u001b[0m\u001b[1;33m.\u001b[0m\u001b[0m_get_listlike_indexer\u001b[0m\u001b[1;33m(\u001b[0m\u001b[0mkey\u001b[0m\u001b[1;33m,\u001b[0m \u001b[0maxis\u001b[0m\u001b[1;33m=\u001b[0m\u001b[1;36m1\u001b[0m\u001b[1;33m)\u001b[0m\u001b[1;33m[\u001b[0m\u001b[1;36m1\u001b[0m\u001b[1;33m]\u001b[0m\u001b[1;33m\u001b[0m\u001b[1;33m\u001b[0m\u001b[0m\n\u001b[0m\u001b[0;32m   3465\u001b[0m \u001b[1;33m\u001b[0m\u001b[0m\n\u001b[0;32m   3466\u001b[0m         \u001b[1;31m# take() does not accept boolean indexers\u001b[0m\u001b[1;33m\u001b[0m\u001b[1;33m\u001b[0m\u001b[0m\n",
      "\u001b[1;32m~\\anaconda3\\lib\\site-packages\\pandas\\core\\indexing.py\u001b[0m in \u001b[0;36m_get_listlike_indexer\u001b[1;34m(self, key, axis)\u001b[0m\n\u001b[0;32m   1312\u001b[0m             \u001b[0mkeyarr\u001b[0m\u001b[1;33m,\u001b[0m \u001b[0mindexer\u001b[0m\u001b[1;33m,\u001b[0m \u001b[0mnew_indexer\u001b[0m \u001b[1;33m=\u001b[0m \u001b[0max\u001b[0m\u001b[1;33m.\u001b[0m\u001b[0m_reindex_non_unique\u001b[0m\u001b[1;33m(\u001b[0m\u001b[0mkeyarr\u001b[0m\u001b[1;33m)\u001b[0m\u001b[1;33m\u001b[0m\u001b[1;33m\u001b[0m\u001b[0m\n\u001b[0;32m   1313\u001b[0m \u001b[1;33m\u001b[0m\u001b[0m\n\u001b[1;32m-> 1314\u001b[1;33m         \u001b[0mself\u001b[0m\u001b[1;33m.\u001b[0m\u001b[0m_validate_read_indexer\u001b[0m\u001b[1;33m(\u001b[0m\u001b[0mkeyarr\u001b[0m\u001b[1;33m,\u001b[0m \u001b[0mindexer\u001b[0m\u001b[1;33m,\u001b[0m \u001b[0maxis\u001b[0m\u001b[1;33m)\u001b[0m\u001b[1;33m\u001b[0m\u001b[1;33m\u001b[0m\u001b[0m\n\u001b[0m\u001b[0;32m   1315\u001b[0m \u001b[1;33m\u001b[0m\u001b[0m\n\u001b[0;32m   1316\u001b[0m         if needs_i8_conversion(ax.dtype) or isinstance(\n",
      "\u001b[1;32m~\\anaconda3\\lib\\site-packages\\pandas\\core\\indexing.py\u001b[0m in \u001b[0;36m_validate_read_indexer\u001b[1;34m(self, key, indexer, axis)\u001b[0m\n\u001b[0;32m   1372\u001b[0m                 \u001b[1;32mif\u001b[0m \u001b[0muse_interval_msg\u001b[0m\u001b[1;33m:\u001b[0m\u001b[1;33m\u001b[0m\u001b[1;33m\u001b[0m\u001b[0m\n\u001b[0;32m   1373\u001b[0m                     \u001b[0mkey\u001b[0m \u001b[1;33m=\u001b[0m \u001b[0mlist\u001b[0m\u001b[1;33m(\u001b[0m\u001b[0mkey\u001b[0m\u001b[1;33m)\u001b[0m\u001b[1;33m\u001b[0m\u001b[1;33m\u001b[0m\u001b[0m\n\u001b[1;32m-> 1374\u001b[1;33m                 \u001b[1;32mraise\u001b[0m \u001b[0mKeyError\u001b[0m\u001b[1;33m(\u001b[0m\u001b[1;34mf\"None of [{key}] are in the [{axis_name}]\"\u001b[0m\u001b[1;33m)\u001b[0m\u001b[1;33m\u001b[0m\u001b[1;33m\u001b[0m\u001b[0m\n\u001b[0m\u001b[0;32m   1375\u001b[0m \u001b[1;33m\u001b[0m\u001b[0m\n\u001b[0;32m   1376\u001b[0m             \u001b[0mnot_found\u001b[0m \u001b[1;33m=\u001b[0m \u001b[0mlist\u001b[0m\u001b[1;33m(\u001b[0m\u001b[0mensure_index\u001b[0m\u001b[1;33m(\u001b[0m\u001b[0mkey\u001b[0m\u001b[1;33m)\u001b[0m\u001b[1;33m[\u001b[0m\u001b[0mmissing_mask\u001b[0m\u001b[1;33m.\u001b[0m\u001b[0mnonzero\u001b[0m\u001b[1;33m(\u001b[0m\u001b[1;33m)\u001b[0m\u001b[1;33m[\u001b[0m\u001b[1;36m0\u001b[0m\u001b[1;33m]\u001b[0m\u001b[1;33m]\u001b[0m\u001b[1;33m.\u001b[0m\u001b[0munique\u001b[0m\u001b[1;33m(\u001b[0m\u001b[1;33m)\u001b[0m\u001b[1;33m)\u001b[0m\u001b[1;33m\u001b[0m\u001b[1;33m\u001b[0m\u001b[0m\n",
      "\u001b[1;31mKeyError\u001b[0m: \"None of [Index([''], dtype='object')] are in the [columns]\""
     ]
    }
   ],
   "source": [
    "## creating function to get model statistics\n",
    "import numpy as np\n",
    "import statsmodels.api as sm\n",
    "def get_stats():\n",
    "    x = data[x_columns]\n",
    "    results = sm.OLS(y, x).fit()\n",
    "    print(results.summary())\n",
    "get_stats()"
   ]
  },
  {
   "cell_type": "code",
   "execution_count": null,
   "id": "518282ae",
   "metadata": {},
   "outputs": [],
   "source": [
    "x_columns.extend(demographics)\n",
    "get_stats()"
   ]
  },
  {
   "cell_type": "code",
   "execution_count": null,
   "id": "15f79470",
   "metadata": {},
   "outputs": [],
   "source": [
    "x_columns.extend(sociability)\n",
    "get_stats()"
   ]
  },
  {
   "cell_type": "code",
   "execution_count": null,
   "id": "bb0388c8",
   "metadata": {},
   "outputs": [],
   "source": [
    "x_columns.extend(mentalizing)\n",
    "get_stats()"
   ]
  },
  {
   "cell_type": "code",
   "execution_count": null,
   "id": "46f7f804",
   "metadata": {},
   "outputs": [],
   "source": [
    "x_columns.extend(solitude)\n",
    "get_stats()"
   ]
  },
  {
   "cell_type": "code",
   "execution_count": null,
   "id": "e27a03b3",
   "metadata": {},
   "outputs": [],
   "source": [
    "x_columns.extend(dep_anx)\n",
    "get_stats()"
   ]
  },
  {
   "cell_type": "code",
   "execution_count": null,
   "id": "b37e1d67",
   "metadata": {},
   "outputs": [],
   "source": [
    "x_columns.extend(coping)\n",
    "get_stats()"
   ]
  },
  {
   "cell_type": "code",
   "execution_count": null,
   "id": "ccbcabd2",
   "metadata": {},
   "outputs": [],
   "source": [
    "x_columns.extend(reward)\n",
    "get_stats()"
   ]
  },
  {
   "cell_type": "code",
   "execution_count": null,
   "id": "7d41b5da",
   "metadata": {},
   "outputs": [],
   "source": [
    "x_columns.extend(covid)\n",
    "get_stats()"
   ]
  }
 ],
 "metadata": {
  "kernelspec": {
   "display_name": "Python 3 (ipykernel)",
   "language": "python",
   "name": "python3"
  },
  "language_info": {
   "codemirror_mode": {
    "name": "ipython",
    "version": 3
   },
   "file_extension": ".py",
   "mimetype": "text/x-python",
   "name": "python",
   "nbconvert_exporter": "python",
   "pygments_lexer": "ipython3",
   "version": "3.9.7"
  }
 },
 "nbformat": 4,
 "nbformat_minor": 5
}
