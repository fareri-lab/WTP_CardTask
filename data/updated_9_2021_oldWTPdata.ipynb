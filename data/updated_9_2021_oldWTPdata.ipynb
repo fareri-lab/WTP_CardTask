{
 "cells": [
  {
   "cell_type": "code",
   "execution_count": 20,
   "metadata": {},
   "outputs": [],
   "source": [
    "from __future__ import division\n",
    "import sys\n",
    "import pandas as pd\n",
    "import numpy as np\n",
    "import scipy\n",
    "from numpy import mean, std, cov\n",
    "from numpy.random import seed, randn\n",
    "import matplotlib.pyplot as plt\n",
    "from matplotlib import pyplot\n",
    "from math import sqrt\n",
    "from scipy.stats import t, pearsonr, sem\n",
    "import seaborn as sns\n",
    "from statistics import mean, stdev\n",
    "import seaborn as sns"
   ]
  },
  {
   "cell_type": "code",
   "execution_count": 45,
   "metadata": {},
   "outputs": [
    {
     "name": "stdout",
     "output_type": "stream",
     "text": [
      "                  participant  avg_spent_social  avg_spent_nonsocial  \\\n",
      "0    549ea92efdf99b4ffa5fa208          0.032000             0.030333   \n",
      "1    55a43687fdf99b7da1908e0f          0.018889             0.018261   \n",
      "2    55ea70c37480920010aa9982          0.031000             0.029250   \n",
      "3    566c9284d408ea000519c6d7          0.018889             0.017826   \n",
      "4    56f745653bd969000d170c15          0.033333             0.028929   \n",
      "5    57e972d7c3e5930001447bb1          0.030000             0.028235   \n",
      "6    58ab75c4ef58a9000119d16c          0.023684             0.022667   \n",
      "7    5c510d1310223b00012fa23e          0.028684             0.025000   \n",
      "8    5cb33d40f173240019513957          0.022593             0.020000   \n",
      "9    5cc166b25899270017dd60e2          0.032174             0.028889   \n",
      "10   5cfecc1e96681500168a1799          0.038696             0.036667   \n",
      "11   5d305152b2cfe00019231a2a          0.029231             0.025833   \n",
      "12   5da23c68cf775d001724d361          0.016957             0.019259   \n",
      "13   5dd48444dd9a7447d224cc71          0.027143             0.013750   \n",
      "14   5e27868c5cbbcc0b3599574b          0.028519             0.028261   \n",
      "15   5e31740eb3f28315c5e0d347          0.031739             0.028846   \n",
      "16   5e3760815bfa436fd256b2e9          0.023846             0.021250   \n",
      "17   5e5e9f949ec7440200735db7          0.026667             0.024783   \n",
      "18   5e76742575ad9c0506e721bb          0.032500             0.028966   \n",
      "19   5ea3310bf9c4f828f0c909c5          0.030769             0.029000   \n",
      "20   5ee1bc2e2be5f61f0eaf1713          0.027600             0.028000   \n",
      "21   5eeaff28cf5da71d691ef212          0.027500             0.028810   \n",
      "22    5ef76ff7d195c248bfe2511          0.032105             0.030833   \n",
      "23   5f12b3a2791d172281e7d6a9          0.028214             0.024545   \n",
      "24   5f18b5343b9a080d1e17db57          0.027273             0.026667   \n",
      "25   5f248a2f46a10507b20d9f17          0.032381             0.025862   \n",
      "26   5f2dc46d6fa1250ee8a1a15d          0.035333             0.036316   \n",
      "27   5f3ac1732efa0a74f975b1a8          0.022667             0.021000   \n",
      "28   5f4cc1ded01b151cbb03c0f8          0.026970             0.025882   \n",
      "29   5f4ced34dbc54406d1684da0          0.029762             0.033750   \n",
      "30   5f4ee0e82f0d6c12d692c29b          0.027879             0.028824   \n",
      "31   5f50dc440305bb077d82eca4          0.040417             0.035238   \n",
      "32   5f53216409e6d06275ef0545          0.036452             0.038235   \n",
      "33   5f5f09ebf7e0497dcdb37dee          0.040000             0.037826   \n",
      "34   5f647f4d6443f82231b6bc78          0.019524             0.019655   \n",
      "35   5f68d7190611d306d40d4b58          0.034231             0.030000   \n",
      "36   5f6ea39029ca174064215ac2          0.028966             0.026190   \n",
      "37   5f7e4fbc36d39211c80599fe          0.035263             0.028333   \n",
      "38   5f8dd51f6d2378145bf99cdc          0.034118             0.030000   \n",
      "39   5fbd2fffbbfb2d070580d353          0.028421             0.028387   \n",
      "40   5fcd31e19fd435c2162f2869          0.026000             0.020667   \n",
      "41   5ff0a56b116bbf440e520992          0.037692             0.031364   \n",
      "42   5ff37f2588f05799fa9a9873          0.028929             0.024500   \n",
      "43   600ecc3692aa597c9a274833          0.023750             0.022308   \n",
      "44   6016f95c56f32e8df6e841af          0.016522             0.019630   \n",
      "45   604557dd82b57569031a1da8          0.029091             0.027059   \n",
      "46   604a7ee304a949c38ab69799          0.031724             0.031905   \n",
      "47   60a647cf71f87619eeed97ea          0.041111             0.036522   \n",
      "48   60b0334a2e48ac0856f33161          0.020000             0.021379   \n",
      "49   60c357a0a275dce4c49ddefc          0.035000             0.031818   \n",
      "50   60c5b99d82cd6a9ad6e24f75          0.032500             0.027879   \n",
      "51   60cc618fcdb3956b8bd61133          0.031200             0.029600   \n",
      "52   60d86d6c0f4b31dab174a376          0.028400             0.025600   \n",
      "53   60dbf15243bf8d31a96ed803          0.039286             0.038636   \n",
      "54   60dca5d351d99ef73b2f8994          0.031613             0.030000   \n",
      "55   60dd5577b29a08bcb068a5d8          0.024643             0.022273   \n",
      "56   60ddb1b050d121b8fbc0349a          0.033824             0.030000   \n",
      "57   60ddcbb80c73eaf8ceca130e          0.034091             0.029259   \n",
      "58   60e024be16fcfabbaac7d3ae          0.032750             0.036000   \n",
      "59   60e040c54dc298116f43aae7          0.038636             0.030714   \n",
      "60   60e41b5208ffba4a93ddbab3          0.026000             0.024500   \n",
      "61   60e4bcdf85f979aaddffa104          0.040667             0.031714   \n",
      "62   60e5194cff6d453e2b606c55          0.030323             0.031579   \n",
      "63   60e637111a022da8d1963a65          0.041200             0.036000   \n",
      "64   60e96125cf260de73e1b535c          0.031739             0.030000   \n",
      "65   60ea0984f30f7e0a9b839e3b          0.028929             0.027273   \n",
      "66   60ec5e30aa066198fa55ec21          0.040357             0.037273   \n",
      "67   60edd81b455433dae20025fd          0.034444             0.032174   \n",
      "68   60f42d83362792b0bc8d3d47          0.015714             0.020000   \n",
      "69                      wtp01          0.030263             0.028000   \n",
      "70                      wtp02          0.025385             0.026522   \n",
      "71                      wtp03          0.016364             0.020370   \n",
      "72                      wtp04          0.026765             0.023333   \n",
      "73                      wtp05          0.030000             0.025000   \n",
      "74                      wtp06          0.031750             0.033333   \n",
      "75                      wtp07          0.032353             0.030625   \n",
      "76                      wtp08          0.025172             0.022500   \n",
      "77                      wtp09          0.025000             0.021739   \n",
      "78                      wtp10          0.026875             0.020000   \n",
      "79                      wtp11          0.025758             0.016250   \n",
      "80                      wtp12          0.026286             0.019091   \n",
      "81                      wtp13          0.032727             0.025185   \n",
      "82                      wtp14          0.027727             0.030000   \n",
      "83                      wtp15          0.027692             0.024783   \n",
      "84                      wtp16          0.026111             0.023438   \n",
      "85                      wtp17          0.021200             0.021304   \n",
      "86                      wtp18          0.018333             0.019200   \n",
      "87                      wtp19          0.026364             0.026154   \n",
      "88                      wtp20          0.029000             0.025882   \n",
      "89                      wtp21          0.038750             0.028684   \n",
      "90                      wtp22          0.020741             0.022609   \n",
      "91                      wtp23          0.032333             0.030000   \n",
      "92                      wtp24          0.031000             0.028462   \n",
      "93                      wtp25          0.028276             0.027778   \n",
      "94                      wtp26          0.033333             0.030500   \n",
      "95                      wtp27          0.031613             0.027857   \n",
      "96                      wtp28          0.024500             0.022069   \n",
      "97                      wtp29          0.032857             0.031176   \n",
      "98                      wtp30          0.028750             0.032000   \n",
      "99                      wtp31          0.030714             0.028235   \n",
      "100                     wtp32          0.034762             0.027917   \n",
      "\n",
      "     total_spent_social  total_spent_nonsocial  prop_social  prop_nonsocial  \\\n",
      "0                  0.64                   0.91     0.400000        0.600000   \n",
      "1                  0.51                   0.42     0.540000        0.460000   \n",
      "2                  0.31                   1.17     0.200000        0.800000   \n",
      "3                  0.51                   0.41     0.540000        0.460000   \n",
      "4                  0.70                   0.81     0.428571        0.571429   \n",
      "5                  0.99                   0.48     0.660000        0.340000   \n",
      "6                  0.45                   0.68     0.387755        0.612245   \n",
      "7                  1.09                   0.30     0.760000        0.240000   \n",
      "8                  0.61                   0.46     0.540000        0.460000   \n",
      "9                  0.74                   0.78     0.460000        0.540000   \n",
      "10                 0.89                   0.99     0.460000        0.540000   \n",
      "11                 0.76                   0.62     0.520000        0.480000   \n",
      "12                 0.39                   0.52     0.460000        0.540000   \n",
      "13                 1.14                   0.11     0.840000        0.160000   \n",
      "14                 0.77                   0.65     0.540000        0.460000   \n",
      "15                 0.73                   0.75     0.469388        0.530612   \n",
      "16                 0.62                   0.51     0.520000        0.480000   \n",
      "17                 0.72                   0.57     0.540000        0.460000   \n",
      "18                 0.52                   0.84     0.355556        0.644444   \n",
      "19                 1.20                   0.29     0.795918        0.204082   \n",
      "20                 0.69                   0.70     0.500000        0.500000   \n",
      "21                 0.22                   1.21     0.160000        0.840000   \n",
      "22                 1.22                   0.37     0.760000        0.240000   \n",
      "23                 0.79                   0.54     0.560000        0.440000   \n",
      "24                 0.30                   1.04     0.220000        0.780000   \n",
      "25                 0.68                   0.75     0.420000        0.580000   \n",
      "26                 1.06                   0.69     0.612245        0.387755   \n",
      "27                 0.68                   0.42     0.600000        0.400000   \n",
      "28                 0.89                   0.44     0.660000        0.340000   \n",
      "29                 1.25                   0.27     0.840000        0.160000   \n",
      "30                 0.92                   0.49     0.660000        0.340000   \n",
      "31                 0.97                   0.74     0.533333        0.466667   \n",
      "32                 1.13                   0.65     0.645833        0.354167   \n",
      "33                 1.08                   0.87     0.540000        0.460000   \n",
      "34                 0.41                   0.57     0.420000        0.580000   \n",
      "35                 0.89                   0.69     0.530612        0.469388   \n",
      "36                 0.84                   0.55     0.580000        0.420000   \n",
      "37                 0.67                   0.85     0.387755        0.612245   \n",
      "38                 0.58                   0.90     0.361702        0.638298   \n",
      "39                 0.54                   0.88     0.380000        0.620000   \n",
      "40                 0.91                   0.31     0.700000        0.300000   \n",
      "41                 0.98                   0.69     0.541667        0.458333   \n",
      "42                 0.81                   0.49     0.583333        0.416667   \n",
      "43                 0.57                   0.58     0.480000        0.520000   \n",
      "44                 0.38                   0.53     0.460000        0.540000   \n",
      "45                 0.96                   0.46     0.660000        0.340000   \n",
      "46                 0.92                   0.67     0.580000        0.420000   \n",
      "47                 1.11                   0.84     0.540000        0.460000   \n",
      "48                 0.42                   0.62     0.420000        0.580000   \n",
      "49                 0.98                   0.70     0.560000        0.440000   \n",
      "50                 0.52                   0.92     0.326531        0.673469   \n",
      "51                 0.78                   0.74     0.500000        0.500000   \n",
      "52                 0.71                   0.64     0.500000        0.500000   \n",
      "53                 1.10                   0.85     0.560000        0.440000   \n",
      "54                 0.98                   0.57     0.620000        0.380000   \n",
      "55                 0.69                   0.49     0.560000        0.440000   \n",
      "56                 1.15                   0.48     0.680000        0.320000   \n",
      "57                 0.75                   0.79     0.448980        0.551020   \n",
      "58                 1.31                   0.36     0.800000        0.200000   \n",
      "59                 0.85                   0.86     0.440000        0.560000   \n",
      "60                 0.78                   0.49     0.600000        0.400000   \n",
      "61                 0.61                   1.11     0.300000        0.700000   \n",
      "62                 0.94                   0.60     0.620000        0.380000   \n",
      "63                 1.03                   0.90     0.500000        0.500000   \n",
      "64                 0.73                   0.81     0.460000        0.540000   \n",
      "65                 0.81                   0.60     0.560000        0.440000   \n",
      "66                 1.13                   0.82     0.560000        0.440000   \n",
      "67                 0.93                   0.74     0.540000        0.460000   \n",
      "68                 0.33                   0.58     0.420000        0.580000   \n",
      "69                 1.15                   0.28     0.791667        0.208333   \n",
      "70                 0.66                   0.61     0.530612        0.469388   \n",
      "71                 0.36                   0.55     0.448980        0.551020   \n",
      "72                 0.91                   0.35     0.693878        0.306122   \n",
      "73                 1.23                   0.20     0.836735        0.163265   \n",
      "74                 1.27                   0.30     0.816327        0.183673   \n",
      "75                 0.55                   0.98     0.346939        0.653061   \n",
      "76                 0.73                   0.45     0.591837        0.408163   \n",
      "77                 0.60                   0.50     0.510638        0.489362   \n",
      "78                 0.86                   0.30     0.680851        0.319149   \n",
      "79                 0.85                   0.26     0.673469        0.326531   \n",
      "80                 0.92                   0.21     0.760870        0.239130   \n",
      "81                 0.72                   0.68     0.448980        0.551020   \n",
      "82                 1.22                   0.18     0.880000        0.120000   \n",
      "83                 0.72                   0.57     0.530612        0.469388   \n",
      "84                 0.47                   0.75     0.360000        0.640000   \n",
      "85                 0.53                   0.49     0.520833        0.479167   \n",
      "86                 0.44                   0.48     0.489796        0.510204   \n",
      "87                 0.87                   0.34     0.717391        0.282609   \n",
      "88                 0.87                   0.44     0.638298        0.361702   \n",
      "89                 0.31                   1.09     0.173913        0.826087   \n",
      "90                 0.56                   0.52     0.540000        0.460000   \n",
      "91                 0.97                   0.51     0.638298        0.361702   \n",
      "92                 0.93                   0.37     0.697674        0.302326   \n",
      "93                 0.82                   0.50     0.617021        0.382979   \n",
      "94                 0.60                   0.61     0.473684        0.526316   \n",
      "95                 0.98                   0.39     0.688889        0.311111   \n",
      "96                 0.49                   0.64     0.408163        0.591837   \n",
      "97                 0.92                   0.53     0.622222        0.377778   \n",
      "98                 0.92                   0.48     0.680851        0.319149   \n",
      "99                 0.43                   0.96     0.291667        0.708333   \n",
      "100                0.73                   0.67     0.466667        0.533333   \n",
      "\n",
      "     moresocial  prop_moresocial  AQ     MSPSS  \n",
      "0             1                0  26  4.000000  \n",
      "1             1                1  16  7.000000  \n",
      "2             1                0  17  5.750000  \n",
      "3             1                1   5  7.000000  \n",
      "4             1                0  32  4.916667  \n",
      "5             1                1  23  4.250000  \n",
      "6             1                0  20  6.000000  \n",
      "7             1                1  22  1.250000  \n",
      "8             1                1  20  3.000000  \n",
      "9             1                0  19  2.500000  \n",
      "10            1                0  23  1.333333  \n",
      "11            1                1  22  2.416667  \n",
      "12            0                0  21  5.666667  \n",
      "13            1                1  10  7.000000  \n",
      "14            1                1  19  5.000000  \n",
      "15            1                0  17  5.000000  \n",
      "16            1                1  27  4.416667  \n",
      "17            1                1  12  5.333333  \n",
      "18            1                0  25  6.083333  \n",
      "19            1                1  26  5.666667  \n",
      "20            0                0  19  5.333333  \n",
      "21            0                0  31  1.500000  \n",
      "22            1                1  26  3.250000  \n",
      "23            1                1  16  5.416667  \n",
      "24            1                0  33  4.416667  \n",
      "25            1                0  30  4.083333  \n",
      "26            0                1  11  6.500000  \n",
      "27            1                1   4  6.000000  \n",
      "28            1                1   9  6.416667  \n",
      "29            0                1  11  6.333333  \n",
      "30            0                1  21  4.583333  \n",
      "31            1                1  21  5.916667  \n",
      "32            0                1  20  6.500000  \n",
      "33            1                1  22  5.666667  \n",
      "34            0                0  19  5.583333  \n",
      "35            1                1  15  7.000000  \n",
      "36            1                1  25  5.416667  \n",
      "37            1                0  29  5.500000  \n",
      "38            1                0  17  5.166667  \n",
      "39            1                0  21  6.666667  \n",
      "40            1                1   7  6.333333  \n",
      "41            1                1  15  7.000000  \n",
      "42            1                1  12  6.583333  \n",
      "43            1                0  24  5.666667  \n",
      "44            0                0  13  4.416667  \n",
      "45            1                1  14  5.583333  \n",
      "46            0                1  17  3.750000  \n",
      "47            1                1  15  6.333333  \n",
      "48            0                0  18  5.750000  \n",
      "49            1                1  13  6.416667  \n",
      "50            1                0  19  5.750000  \n",
      "51            1                0  15  6.250000  \n",
      "52            1                0  27  4.583333  \n",
      "53            1                1  16  6.333333  \n",
      "54            1                1  20  4.916667  \n",
      "55            1                1  21  5.583333  \n",
      "56            1                1  18  5.583333  \n",
      "57            1                0  22  6.000000  \n",
      "58            0                1  21  4.250000  \n",
      "59            1                0  13  6.916667  \n",
      "60            1                1  19  5.583333  \n",
      "61            1                0  27  5.666667  \n",
      "62            0                1  22  4.083333  \n",
      "63            1                0  27  5.333333  \n",
      "64            1                0  26  6.583333  \n",
      "65            1                1  16  5.000000  \n",
      "66            1                1  17  5.000000  \n",
      "67            1                1  26  3.333333  \n",
      "68            0                0  26  4.666667  \n",
      "69            1                1  14  6.250000  \n",
      "70            0                1  11  5.916600  \n",
      "71            0                0  26  6.166700  \n",
      "72            1                1  23  5.666000  \n",
      "73            1                1  21  7.000000  \n",
      "74            0                1  20  6.750000  \n",
      "75            1                0  27  3.750000  \n",
      "76            1                1  17  4.916000  \n",
      "77            1                1  23  2.833000  \n",
      "78            1                1  15  5.833000  \n",
      "79            1                1  18  6.500000  \n",
      "80            1                1  19  6.083000  \n",
      "81            1                0  21  5.333000  \n",
      "82            0                1  18  6.916000  \n",
      "83            1                1  23  5.083000  \n",
      "84            1                0  27  6.333000  \n",
      "85            0                1  22  4.750000  \n",
      "86            0                0  16  7.000000  \n",
      "87            1                1  20  5.000000  \n",
      "88            1                1  21  5.000000  \n",
      "89            1                0  22  4.917000  \n",
      "90            0                1  22  5.083000  \n",
      "91            1                1  24  5.083000  \n",
      "92            1                1  14  5.000000  \n",
      "93            1                1  26  3.583000  \n",
      "94            1                0  25  5.917000  \n",
      "95            1                1  18  4.500000  \n",
      "96            1                0  27  5.167000  \n",
      "97            1                1  19  6.000000  \n",
      "98            0                1  12  5.417000  \n",
      "99            1                0  17  1.917000  \n",
      "100           1                0  21  5.417000  \n"
     ]
    }
   ],
   "source": [
    "#import excel file containing data summary\n",
    "\n",
    "wtpdata = pd.read_csv(r'/Users/melziur/Desktop/9_16_21/wtp_data_OLD/old_wtp_data.csv', encoding='utf-8-sig')\n",
    "#wtpdata = pd.read_excel(r'wtp_taskdata_NEW.xlsx')\n",
    "pd.set_option(\"display.max_rows\", None, \"display.max_columns\", None)\n",
    "print(wtpdata)"
   ]
  },
  {
   "cell_type": "code",
   "execution_count": 46,
   "metadata": {},
   "outputs": [
    {
     "name": "stdout",
     "output_type": "stream",
     "text": [
      "group mean: 0.029477955109\n",
      "standard error of the mean: 0.000581378027\n"
     ]
    }
   ],
   "source": [
    "socialavg = wtpdata.avg_spent_social\n",
    "#calculate group mean for av spent on social experiences\n",
    "social_M = mean(socialavg)\n",
    "print('group mean: %.12f'% (social_M))\n",
    "print('standard error of the mean: %.12f'% (sem(socialavg)))"
   ]
  },
  {
   "cell_type": "code",
   "execution_count": 47,
   "metadata": {},
   "outputs": [
    {
     "name": "stdout",
     "output_type": "stream",
     "text": [
      "group mean: 0.027207715624\n",
      "standard error of the mean: 0.000523720790\n"
     ]
    }
   ],
   "source": [
    "nonsocialavg = wtpdata.avg_spent_nonsocial\n",
    "#calculate group mean for av spent on non-social experiences\n",
    "nonsocial_M = mean(nonsocialavg)\n",
    "print('group mean: %.12f'% (nonsocial_M))\n",
    "print('standard error of the mean: %.12f'% (sem(nonsocialavg)))"
   ]
  },
  {
   "cell_type": "code",
   "execution_count": 48,
   "metadata": {},
   "outputs": [
    {
     "name": "stdout",
     "output_type": "stream",
     "text": [
      "101\n"
     ]
    }
   ],
   "source": [
    "#sample size\n",
    "n = len(wtpdata)\n",
    "print(n)"
   ]
  },
  {
   "cell_type": "code",
   "execution_count": 49,
   "metadata": {},
   "outputs": [
    {
     "name": "stdout",
     "output_type": "stream",
     "text": [
      "0.0015136415865342975 0.22929418799999993\n",
      "0.003151331253964951\n"
     ]
    }
   ],
   "source": [
    "#Calculate STD\n",
    "# sum squared difference between observations\n",
    "d1 = sum([(socialavg[i]-nonsocialavg[i])**2 for i in range(n)])\n",
    "# sum difference between observations\n",
    "d2 = sum([socialavg[i]-nonsocialavg[i] for i in range(n)])\n",
    "print(d1,d2)\n",
    "\n",
    "# standard deviation of the difference between means\n",
    "standev = np.sqrt((d1 - (d2**2 / n)) / (n - 1))\n",
    "print(standev)"
   ]
  },
  {
   "cell_type": "code",
   "execution_count": 50,
   "metadata": {},
   "outputs": [
    {
     "name": "stdout",
     "output_type": "stream",
     "text": [
      "0.00031356917963662066\n",
      "7.23999561366133\n",
      "100\n"
     ]
    }
   ],
   "source": [
    "#calculate standard error of the difference between the means\n",
    "sed = standev / np.sqrt(n)\n",
    "print(sed)\n",
    "\n",
    "\n",
    "# calculate the t statistic\n",
    "t_stat = (social_M - nonsocial_M) / sed\n",
    "print(t_stat)\n",
    "\n",
    "\n",
    "# degrees of freedom\n",
    "df = n - 1\n",
    "print(df)\n",
    "alpha= 0.05"
   ]
  },
  {
   "cell_type": "code",
   "execution_count": 51,
   "metadata": {},
   "outputs": [
    {
     "name": "stdout",
     "output_type": "stream",
     "text": [
      "t=7.240, df=100, cv=1.660, p=0.000\n",
      "Reject the null hypothesis that the means are equal.\n",
      "Reject the null hypothesis that the means are equal.\n"
     ]
    }
   ],
   "source": [
    "# calculate the critical value\n",
    "cv = t.ppf(1.0 - alpha, df)\n",
    "# calculate the p-value\n",
    "p = (1.0 - t.cdf(abs(t_stat), df)) * 2.0\n",
    "# return everything\n",
    "print('t=%.3f, df=%d, cv=%.3f, p=%.3f' % (t_stat, df, cv, p))\n",
    "# interpret via critical value\n",
    "if abs(t_stat) <= cv:\n",
    "\tprint('Accept null hypothesis that the means are equal.')\n",
    "else:\n",
    "\tprint('Reject the null hypothesis that the means are equal.')\n",
    "# interpret via p-value\n",
    "if p > alpha:\n",
    "\tprint('Accept null hypothesis that the means are equal.')\n",
    "else:\n",
    "\tprint('Reject the null hypothesis that the means are equal.')"
   ]
  },
  {
   "cell_type": "code",
   "execution_count": 52,
   "metadata": {},
   "outputs": [
    {
     "data": {
      "image/png": "[encoded data removed]",
      "text/plain": [
       "<Figure size 432x288 with 1 Axes>"
      ]
     },
     "metadata": {
      "needs_background": "light"
     },
     "output_type": "display_data"
    }
   ],
   "source": [
    "wtp_means = pd.DataFrame({'experience_type': ['social','nonsocial'], 'average_spent': [social_M, nonsocial_M]})\n",
    "\n",
    "wtp_plot = sns.barplot(x=wtp_means.experience_type, y=wtp_means.average_spent, data=wtp_means)\n"
   ]
  },
  {
   "cell_type": "code",
   "execution_count": 53,
   "metadata": {},
   "outputs": [
    {
     "name": "stdout",
     "output_type": "stream",
     "text": [
      "0.40827197741673504\n"
     ]
    }
   ],
   "source": [
    "#calculate effect size- cohens d\n",
    "\n",
    "cohens_d = (mean(socialavg) - mean(nonsocialavg)) / (sqrt((stdev(socialavg) ** 2 + stdev(nonsocialavg) ** 2) / 2))\n",
    "\n",
    "print(cohens_d)"
   ]
  },
  {
   "cell_type": "code",
   "execution_count": 54,
   "metadata": {},
   "outputs": [
    {
     "data": {
      "image/png": "[encoded data removed]",
      "text/plain": [
       "<Figure size 432x288 with 1 Axes>"
      ]
     },
     "metadata": {
      "needs_background": "light"
     },
     "output_type": "display_data"
    },
    {
     "name": "stdout",
     "output_type": "stream",
     "text": [
      "[[ 3.41380414e-05 -1.74470646e-04]\n",
      " [-1.74470646e-04  1.68120822e+00]]\n",
      "Pearsons correlation: -0.023\n",
      "p value: 0.8192\n",
      "Accept null hypothesis that the means are equal.\n"
     ]
    }
   ],
   "source": [
    "prop_social = wtpdata['prop_social']\n",
    "aq = wtpdata.AQ #autism quotient\n",
    "mspss = wtpdata.MSPSS #perceived social support\n",
    "\n",
    "\n",
    "#amount spent on social / mulitdimensional scale of perceived social support\n",
    "pyplot.scatter(socialavg, mspss)\n",
    "pyplot.show()\n",
    "covariance = cov(socialavg, mspss)\n",
    "print(covariance)\n",
    "corr, _ = pearsonr(socialavg, mspss)\n",
    "print('Pearsons correlation: %.3f' % corr)\n",
    "r,p = scipy.stats.pearsonr(socialavg, mspss)\n",
    "print('p value: %.4f' % p)\n",
    "alpha = 0.10\n",
    "if p > alpha:\n",
    "\tprint('Accept null hypothesis that the means are equal.')\n",
    "else:\n",
    "    print('Reject the null hypothesis that the means are equal.')\n"
   ]
  },
  {
   "cell_type": "code",
   "execution_count": 55,
   "metadata": {},
   "outputs": [
    {
     "data": {
      "image/png": "[encoded data removed]",
      "text/plain": [
       "<Figure size 432x288 with 1 Axes>"
      ]
     },
     "metadata": {
      "needs_background": "light"
     },
     "output_type": "display_data"
    },
    {
     "name": "stdout",
     "output_type": "stream",
     "text": [
      "[[3.41380414e-05 3.68272652e-03]\n",
      " [3.68272652e-03 3.29176238e+01]]\n",
      "Pearsons correlation: 0.110\n",
      "p value: 0.2741\n",
      "Accept null hypothesis that the means are equal.\n"
     ]
    }
   ],
   "source": [
    "#amount spent on social / aq\n",
    "pyplot.scatter(socialavg, aq)\n",
    "pyplot.show()\n",
    "covariance = cov(socialavg, aq)\n",
    "print(covariance)\n",
    "corr, _ = pearsonr(socialavg, aq)\n",
    "print('Pearsons correlation: %.3f' % corr)\n",
    "r,p = scipy.stats.pearsonr(socialavg, aq)\n",
    "print('p value: %.4f' % p)\n",
    "alpha = 0.10\n",
    "if p > alpha:\n",
    "\tprint('Accept null hypothesis that the means are equal.')\n",
    "else:\n",
    "    print('Reject the null hypothesis that the means are equal.')"
   ]
  },
  {
   "cell_type": "code",
   "execution_count": 56,
   "metadata": {},
   "outputs": [
    {
     "data": {
      "image/png": "[encoded data removed]",
      "text/plain": [
       "<Figure size 432x288 with 1 Axes>"
      ]
     },
     "metadata": {
      "needs_background": "light"
     },
     "output_type": "display_data"
    },
    {
     "name": "stdout",
     "output_type": "stream",
     "text": [
      "[[0.0221414  0.0401066 ]\n",
      " [0.0401066  1.68120822]]\n",
      "Pearsons correlation: 0.208\n",
      "p value: 0.0370\n",
      "Reject the null hypothesis that the means are equal.\n"
     ]
    }
   ],
   "source": [
    "##### prop of chosen social // self report #####\n",
    "#prop of chosen social // MSPSS\n",
    "pyplot.scatter(prop_social, mspss)\n",
    "pyplot.show()\n",
    "covariance = cov(prop_social, mspss)\n",
    "print(covariance)\n",
    "corr, _ = pearsonr(prop_social, mspss)\n",
    "print('Pearsons correlation: %.3f' % corr)\n",
    "r,p = scipy.stats.pearsonr(prop_social, mspss)\n",
    "print('p value: %.4f' % p)\n",
    "alpha = 0.10\n",
    "if p > alpha:\n",
    "\tprint('Accept null hypothesis that the means are equal.')\n",
    "else:\n",
    "    print('Reject the null hypothesis that the means are equal.')"
   ]
  },
  {
   "cell_type": "code",
   "execution_count": 57,
   "metadata": {},
   "outputs": [
    {
     "data": {
      "image/png": "[encoded data removed]",
      "text/plain": [
       "<Figure size 432x288 with 1 Axes>"
      ]
     },
     "metadata": {
      "needs_background": "light"
     },
     "output_type": "display_data"
    },
    {
     "name": "stdout",
     "output_type": "stream",
     "text": [
      "[[ 2.21413965e-02 -3.14753379e-01]\n",
      " [-3.14753379e-01  3.29176238e+01]]\n",
      "Pearsons correlation: -0.369\n",
      "p value: 0.0001\n",
      "Reject the null hypothesis that the means are equal.\n"
     ]
    }
   ],
   "source": [
    "# prop social // aq\n",
    "pyplot.scatter(prop_social, aq)\n",
    "pyplot.show()\n",
    "covariance = cov(prop_social, aq)\n",
    "print(covariance)\n",
    "corr, _ = pearsonr(prop_social, aq)\n",
    "print('Pearsons correlation: %.3f' % corr)\n",
    "r,p = scipy.stats.pearsonr(prop_social, aq)\n",
    "print('p value: %.4f' % p)\n",
    "\n",
    "alpha = 0.10\n",
    "if p > alpha:\n",
    "\tprint('Accept null hypothesis that the means are equal.')\n",
    "else:\n",
    "    print('Reject the null hypothesis that the means are equal.')"
   ]
  },
  {
   "cell_type": "code",
   "execution_count": 58,
   "metadata": {},
   "outputs": [
    {
     "data": {
      "image/png": "[encoded data removed]",
      "text/plain": [
       "<Figure size 432x288 with 1 Axes>"
      ]
     },
     "metadata": {
      "needs_background": "light"
     },
     "output_type": "display_data"
    },
    {
     "name": "stdout",
     "output_type": "stream",
     "text": [
      "[[ 2.77026301e-05 -6.00026485e-04]\n",
      " [-6.00026485e-04  1.68120822e+00]]\n",
      "Pearsons correlation: -0.088\n",
      "p value: 0.3820\n",
      "Accept null hypothesis that the means are equal.\n"
     ]
    }
   ],
   "source": [
    "##### avg spent on nonsocial // self report #####\n",
    "# nonsocial // mspss (social support)\n",
    "pyplot.scatter(nonsocialavg, mspss)\n",
    "pyplot.show()\n",
    "covariance = cov(nonsocialavg, mspss)\n",
    "print(covariance)\n",
    "corr, _ = pearsonr(nonsocialavg, mspss)\n",
    "print('Pearsons correlation: %.3f' % corr)\n",
    "r,p = scipy.stats.pearsonr(nonsocialavg, mspss)\n",
    "print('p value: %.4f' % p)\n",
    "alpha = 0.10\n",
    "if p > alpha:\n",
    "\tprint('Accept null hypothesis that the means are equal.')\n",
    "else:\n",
    "    print('Reject the null hypothesis that the means are equal.')"
   ]
  },
  {
   "cell_type": "code",
   "execution_count": 59,
   "metadata": {},
   "outputs": [
    {
     "data": {
      "image/png": "[encoded data removed]",
      "text/plain": [
       "<Figure size 432x288 with 1 Axes>"
      ]
     },
     "metadata": {
      "needs_background": "light"
     },
     "output_type": "display_data"
    },
    {
     "name": "stdout",
     "output_type": "stream",
     "text": [
      "[[2.77026301e-05 3.46242869e-03]\n",
      " [3.46242869e-03 3.29176238e+01]]\n",
      "Pearsons correlation: 0.115\n",
      "p value: 0.2536\n",
      "Accept null hypothesis that the means are equal.\n"
     ]
    }
   ],
   "source": [
    "# nonsocial // aq\n",
    "pyplot.scatter(nonsocialavg, aq)\n",
    "pyplot.show()\n",
    "covariance = cov(nonsocialavg, aq)\n",
    "print(covariance)\n",
    "corr, _ = pearsonr(nonsocialavg, aq)\n",
    "print('Pearsons correlation: %.3f' % corr)\n",
    "r,p = scipy.stats.pearsonr(nonsocialavg, aq)\n",
    "print('p value: %.4f' % p)\n",
    "alpha = 0.10\n",
    "if p > alpha:\n",
    "\tprint('Accept null hypothesis that the means are equal.')\n",
    "else:\n",
    "    print('Reject the null hypothesis that the means are equal.')"
   ]
  },
  {
   "cell_type": "code",
   "execution_count": 60,
   "metadata": {},
   "outputs": [
    {
     "name": "stdout",
     "output_type": "stream",
     "text": [
      "mean: 0.543336043743\n"
     ]
    }
   ],
   "source": [
    "prop_socialavg= wtpdata.prop_social\n",
    "#calculate group mean for prop of chosen social experiences\n",
    "prop_soc_M = mean(prop_socialavg)\n",
    "print('mean: %.12f'% (prop_soc_M))"
   ]
  },
  {
   "cell_type": "code",
   "execution_count": 61,
   "metadata": {},
   "outputs": [
    {
     "name": "stdout",
     "output_type": "stream",
     "text": [
      "mean: 0.456663956257\n"
     ]
    }
   ],
   "source": [
    "prop_nonsocialavg= wtpdata.prop_nonsocial\n",
    "#calculate group mean for prop of chosen social experiences\n",
    "prop_nonsoc_M = mean(prop_nonsocialavg)\n",
    "print('mean: %.12f'% (prop_nonsoc_M))"
   ]
  },
  {
   "cell_type": "code",
   "execution_count": 62,
   "metadata": {},
   "outputs": [
    {
     "name": "stdout",
     "output_type": "stream",
     "text": [
      "9.615275723412374 8.753880836\n"
     ]
    }
   ],
   "source": [
    "#Calculate STD\n",
    "# sum squared difference between observations\n",
    "d1 = sum([(prop_socialavg[i]-prop_nonsocialavg[i])**2 for i in range(n)])\n",
    "# sum difference between observations\n",
    "d2 = sum([prop_socialavg[i]-prop_nonsocialavg[i] for i in range(n)])\n",
    "print(d1,d2)"
   ]
  },
  {
   "cell_type": "code",
   "execution_count": 63,
   "metadata": {},
   "outputs": [
    {
     "name": "stdout",
     "output_type": "stream",
     "text": [
      "0.29759970762351257\n"
     ]
    }
   ],
   "source": [
    "# standard deviation of the difference between means\n",
    "standev = np.sqrt((d1 - (d2**2 / n)) / (n - 1))\n",
    "print(standev)"
   ]
  },
  {
   "cell_type": "code",
   "execution_count": 64,
   "metadata": {},
   "outputs": [
    {
     "name": "stdout",
     "output_type": "stream",
     "text": [
      "0.029612277688101422\n"
     ]
    }
   ],
   "source": [
    "#calculate standard error of the difference between the means\n",
    "sed = standev / np.sqrt(n)\n",
    "print(sed)"
   ]
  },
  {
   "cell_type": "code",
   "execution_count": 65,
   "metadata": {},
   "outputs": [
    {
     "name": "stdout",
     "output_type": "stream",
     "text": [
      "2.9268970255528317\n",
      "100\n"
     ]
    }
   ],
   "source": [
    "# calculate the t statistic\n",
    "t_stat = (prop_soc_M - prop_nonsoc_M) / sed\n",
    "print(t_stat)\n",
    "\n",
    "# degrees of freedom\n",
    "df = n - 1\n",
    "print(df)\n",
    "alpha= 0.05"
   ]
  },
  {
   "cell_type": "code",
   "execution_count": 66,
   "metadata": {},
   "outputs": [
    {
     "name": "stdout",
     "output_type": "stream",
     "text": [
      "t=2.927, df=100, cv=1.660, p=0.004\n",
      "Reject the null hypothesis that the means are equal.\n",
      "Reject the null hypothesis that the means are equal.\n"
     ]
    }
   ],
   "source": [
    "# calculate the critical value\n",
    "cv = t.ppf(1.0 - alpha, df)\n",
    "# calculate the p-value\n",
    "p = (1.0 - t.cdf(abs(t_stat), df)) * 2.0\n",
    "# return everything\n",
    "print('t=%.3f, df=%d, cv=%.3f, p=%.3f' % (t_stat, df, cv, p))\n",
    "# interpret via critical value\n",
    "if abs(t_stat) <= cv:\n",
    "\tprint('Accept null hypothesis that the means are equal.')\n",
    "else:\n",
    "\tprint('Reject the null hypothesis that the means are equal.')\n",
    "# interpret via p-value\n",
    "if p > alpha:\n",
    "\tprint('Accept null hypothesis that the means are equal.')\n",
    "else:\n",
    "\tprint('Reject the null hypothesis that the means are equal.')\n"
   ]
  },
  {
   "cell_type": "code",
   "execution_count": 67,
   "metadata": {},
   "outputs": [
    {
     "data": {
      "image/png": "[encoded data removed]",
      "text/plain": [
       "<Figure size 432x288 with 1 Axes>"
      ]
     },
     "metadata": {
      "needs_background": "light"
     },
     "output_type": "display_data"
    }
   ],
   "source": [
    "wtp_means = pd.DataFrame({'experience_type': ['social','nonsocial'], 'prop_chosen': [prop_soc_M, prop_nonsoc_M]})\n",
    "\n",
    "wtp_plot = sns.barplot(x=wtp_means.experience_type, y=wtp_means.prop_chosen, data=wtp_means)\n"
   ]
  },
  {
   "cell_type": "code",
   "execution_count": 68,
   "metadata": {},
   "outputs": [],
   "source": [
    "###################################\n",
    "#### t stats for sums #####"
   ]
  },
  {
   "cell_type": "code",
   "execution_count": 69,
   "metadata": {},
   "outputs": [
    {
     "name": "stdout",
     "output_type": "stream",
     "text": [
      "mean: 0.780792079208\n"
     ]
    }
   ],
   "source": [
    "social_sum= wtpdata.total_spent_social\n",
    "#calculate group mean for prop of chosen social experiences\n",
    "social_sum_M = mean(social_sum)\n",
    "print('mean: %.12f'% (social_sum_M))\n"
   ]
  },
  {
   "cell_type": "code",
   "execution_count": 70,
   "metadata": {},
   "outputs": [
    {
     "name": "stdout",
     "output_type": "stream",
     "text": [
      "mean: 0.607128712871\n"
     ]
    }
   ],
   "source": [
    "nonsocial_sum= wtpdata.total_spent_nonsocial\n",
    "#calculate group mean for prop of chosen social experiences\n",
    "nonsocial_sum_M = mean(nonsocial_sum)\n",
    "print('mean: %.12f'% (nonsocial_sum_M))"
   ]
  },
  {
   "cell_type": "code",
   "execution_count": 71,
   "metadata": {},
   "outputs": [
    {
     "name": "stdout",
     "output_type": "stream",
     "text": [
      "20.505199999999988 17.540000000000003\n"
     ]
    }
   ],
   "source": [
    "# sum squared difference between observations\n",
    "d1 = sum([(social_sum[i]-nonsocial_sum[i])**2 for i in range(n)])\n",
    "# sum difference between observations\n",
    "d2 = sum([social_sum[i]-nonsocial_sum[i] for i in range(n)])\n",
    "print(d1,d2)"
   ]
  },
  {
   "cell_type": "code",
   "execution_count": 72,
   "metadata": {},
   "outputs": [
    {
     "name": "stdout",
     "output_type": "stream",
     "text": [
      "0.4178414119550075\n"
     ]
    }
   ],
   "source": [
    "# standard deviation of the difference between means\n",
    "standev = np.sqrt((d1 - (d2**2 / n)) / (n - 1))\n",
    "print(standev)"
   ]
  },
  {
   "cell_type": "code",
   "execution_count": 73,
   "metadata": {},
   "outputs": [
    {
     "name": "stdout",
     "output_type": "stream",
     "text": [
      "0.04157677445050852\n"
     ]
    }
   ],
   "source": [
    "#calculate standard error of the difference between the means\n",
    "sed = standev / np.sqrt(n)\n",
    "print(sed)"
   ]
  },
  {
   "cell_type": "code",
   "execution_count": 74,
   "metadata": {},
   "outputs": [
    {
     "name": "stdout",
     "output_type": "stream",
     "text": [
      "4.17693216060703\n"
     ]
    }
   ],
   "source": [
    "# calculate the t statistic\n",
    "t_stat = (social_sum_M - nonsocial_sum_M) / sed\n",
    "print(t_stat)"
   ]
  },
  {
   "cell_type": "code",
   "execution_count": 75,
   "metadata": {},
   "outputs": [
    {
     "name": "stdout",
     "output_type": "stream",
     "text": [
      "100\n"
     ]
    }
   ],
   "source": [
    "# degrees of freedom\n",
    "df = n - 1\n",
    "print(df)\n",
    "alpha= 0.05"
   ]
  },
  {
   "cell_type": "code",
   "execution_count": 76,
   "metadata": {},
   "outputs": [
    {
     "name": "stdout",
     "output_type": "stream",
     "text": [
      "t=4.177, df=100, cv=1.660, p=0.000\n",
      "Reject the null hypothesis that the means are equal.\n",
      "Reject the null hypothesis that the means are equal.\n"
     ]
    }
   ],
   "source": [
    "# calculate the critical value\n",
    "cv = t.ppf(1.0 - alpha, df)\n",
    "# calculate the p-value\n",
    "p = (1.0 - t.cdf(abs(t_stat), df)) * 2.0\n",
    "# return everything\n",
    "print('t=%.3f, df=%d, cv=%.3f, p=%.3f' % (t_stat, df, cv, p))\n",
    "# interpret via critical value\n",
    "if abs(t_stat) <= cv:\n",
    "\tprint('Accept null hypothesis that the means are equal.')\n",
    "else:\n",
    "\tprint('Reject the null hypothesis that the means are equal.')\n",
    "# interpret via p-value\n",
    "if p > alpha:\n",
    "\tprint('Accept null hypothesis that the means are equal.')\n",
    "else:\n",
    "\tprint('Reject the null hypothesis that the means are equal.')\n"
   ]
  },
  {
   "cell_type": "code",
   "execution_count": 77,
   "metadata": {},
   "outputs": [
    {
     "data": {
      "image/png": "[encoded data removed]",
      "text/plain": [
       "<Figure size 432x288 with 1 Axes>"
      ]
     },
     "metadata": {
      "needs_background": "light"
     },
     "output_type": "display_data"
    }
   ],
   "source": [
    "wtp_sum_means = pd.DataFrame({'experience_type': ['social','nonsocial'], 'mean_sum': [social_sum_M, nonsocial_sum_M]})\n",
    "\n",
    "wtp_plot = sns.barplot(x=wtp_sum_means.experience_type, y=wtp_sum_means.mean_sum, data=wtp_sum_means)\n"
   ]
  },
  {
   "cell_type": "code",
   "execution_count": 78,
   "metadata": {},
   "outputs": [],
   "source": [
    "#### sum // self-report ####\n"
   ]
  },
  {
   "cell_type": "code",
   "execution_count": 79,
   "metadata": {},
   "outputs": [
    {
     "data": {
      "image/png": "[encoded data removed]",
      "text/plain": [
       "<Figure size 432x288 with 1 Axes>"
      ]
     },
     "metadata": {
      "needs_background": "light"
     },
     "output_type": "display_data"
    },
    {
     "name": "stdout",
     "output_type": "stream",
     "text": [
      "[[0.06604137 0.0496115 ]\n",
      " [0.0496115  1.68120822]]\n",
      "Pearsons correlation: 0.149\n",
      "p value: 0.1373\n",
      "Accept null hypothesis that the means are equal.\n"
     ]
    }
   ],
   "source": [
    "#sum of social / mulitdimensional scale of perceived social support\n",
    "pyplot.scatter(social_sum, mspss)\n",
    "pyplot.show()\n",
    "covariance = cov(social_sum, mspss)\n",
    "print(covariance)\n",
    "corr, _ = pearsonr(social_sum, mspss)\n",
    "print('Pearsons correlation: %.3f' % corr)\n",
    "r,p = scipy.stats.pearsonr(social_sum, mspss)\n",
    "print('p value: %.4f' % p)\n",
    "alpha = 0.10\n",
    "if p > alpha:\n",
    "\tprint('Accept null hypothesis that the means are equal.')\n",
    "else:\n",
    "    print('Reject the null hypothesis that the means are equal.')"
   ]
  },
  {
   "cell_type": "code",
   "execution_count": 80,
   "metadata": {},
   "outputs": [
    {
     "data": {
      "image/png": "[encoded data removed]",
      "text/plain": [
       "<Figure size 432x288 with 1 Axes>"
      ]
     },
     "metadata": {
      "needs_background": "light"
     },
     "output_type": "display_data"
    },
    {
     "name": "stdout",
     "output_type": "stream",
     "text": [
      "[[ 0.06604137 -0.35821782]\n",
      " [-0.35821782 32.91762376]]\n",
      "Pearsons correlation: -0.243\n",
      "p value: 0.0144\n",
      "Reject the null hypothesis that the means are equal.\n"
     ]
    }
   ],
   "source": [
    "#sum of social / aq\n",
    "pyplot.scatter(social_sum, aq)\n",
    "pyplot.show()\n",
    "covariance = cov(social_sum, aq)\n",
    "print(covariance)\n",
    "corr, _ = pearsonr(social_sum, aq)\n",
    "print('Pearsons correlation: %.3f' % corr)\n",
    "r,p = scipy.stats.pearsonr(social_sum, aq)\n",
    "print('p value: %.4f' % p)\n",
    "alpha = 0.10\n",
    "if p > alpha:\n",
    "\tprint('Accept null hypothesis that the means are equal.')\n",
    "else:\n",
    "    print('Reject the null hypothesis that the means are equal.')"
   ]
  },
  {
   "cell_type": "code",
   "execution_count": 81,
   "metadata": {},
   "outputs": [
    {
     "data": {
      "image/png": "[encoded data removed]",
      "text/plain": [
       "<Figure size 432x288 with 1 Axes>"
      ]
     },
     "metadata": {
      "needs_background": "light"
     },
     "output_type": "display_data"
    },
    {
     "name": "stdout",
     "output_type": "stream",
     "text": [
      "[[ 0.05303867 -0.06988732]\n",
      " [-0.06988732  1.68120822]]\n",
      "Pearsons correlation: -0.234\n",
      "p value: 0.0185\n",
      "Reject the null hypothesis that the means are equal.\n"
     ]
    }
   ],
   "source": [
    "#sum of nonsocial / mulitdimensional scale of perceived social support\n",
    "pyplot.scatter(nonsocial_sum, mspss)\n",
    "pyplot.show()\n",
    "covariance = cov(nonsocial_sum, mspss)\n",
    "print(covariance)\n",
    "corr, _ = pearsonr(nonsocial_sum, mspss)\n",
    "print('Pearsons correlation: %.3f' % corr)\n",
    "r,p = scipy.stats.pearsonr(nonsocial_sum, mspss)\n",
    "print('p value: %.4f' % p)\n",
    "alpha = 0.10\n",
    "if p > alpha:\n",
    "\tprint('Accept null hypothesis that the means are equal.')\n",
    "else:\n",
    "    print('Reject the null hypothesis that the means are equal.')"
   ]
  },
  {
   "cell_type": "code",
   "execution_count": 82,
   "metadata": {},
   "outputs": [
    {
     "data": {
      "image/png": "[encoded data removed]",
      "text/plain": [
       "<Figure size 432x288 with 1 Axes>"
      ]
     },
     "metadata": {
      "needs_background": "light"
     },
     "output_type": "display_data"
    },
    {
     "name": "stdout",
     "output_type": "stream",
     "text": [
      "[[ 0.05303867  0.4762396 ]\n",
      " [ 0.4762396  32.91762376]]\n",
      "Pearsons correlation: 0.360\n",
      "p value: 0.0002\n",
      "Reject the null hypothesis that the means are equal.\n"
     ]
    }
   ],
   "source": [
    "#sum of nonsocial  / aq\n",
    "pyplot.scatter(nonsocial_sum, aq)\n",
    "pyplot.show()\n",
    "covariance = cov(nonsocial_sum, aq)\n",
    "print(covariance)\n",
    "corr, _ = pearsonr(nonsocial_sum, aq)\n",
    "print('Pearsons correlation: %.3f' % corr)\n",
    "r,p = scipy.stats.pearsonr(nonsocial_sum, aq)\n",
    "print('p value: %.4f' % p)\n",
    "alpha = 0.10\n",
    "if p > alpha:\n",
    "\tprint('Accept null hypothesis that the means are equal.')\n",
    "else:\n",
    "    print('Reject the null hypothesis that the means are equal.')"
   ]
  },
  {
   "cell_type": "code",
   "execution_count": 3,
   "metadata": {},
   "outputs": [
    {
     "name": "stdout",
     "output_type": "stream",
     "text": [
      "                 participant  avg_spent_social  avg_spent_nonsocial  \\\n",
      "0   549ea92efdf99b4ffa5fa208          0.032000             0.030333   \n",
      "1   55a43687fdf99b7da1908e0f          0.018889             0.018261   \n",
      "2   55ea70c37480920010aa9982          0.031000             0.029250   \n",
      "3   566c9284d408ea000519c6d7          0.018889             0.017826   \n",
      "4   56f745653bd969000d170c15          0.033333             0.028929   \n",
      "5   57e972d7c3e5930001447bb1          0.030000             0.028235   \n",
      "6   58ab75c4ef58a9000119d16c          0.023684             0.022667   \n",
      "7   5c510d1310223b00012fa23e          0.028684             0.025000   \n",
      "8   5cb33d40f173240019513957          0.022593             0.020000   \n",
      "9   5cc166b25899270017dd60e2          0.032174             0.028889   \n",
      "10  5cfecc1e96681500168a1799          0.038696             0.036667   \n",
      "11  5d305152b2cfe00019231a2a          0.029231             0.025833   \n",
      "12  5da23c68cf775d001724d361          0.016957             0.019259   \n",
      "13  5dd48444dd9a7447d224cc71          0.027143             0.013750   \n",
      "14  5e27868c5cbbcc0b3599574b          0.028519             0.028261   \n",
      "15  5e31740eb3f28315c5e0d347          0.031739             0.028846   \n",
      "16  5e3760815bfa436fd256b2e9          0.023846             0.021250   \n",
      "17  5e5e9f949ec7440200735db7          0.026667             0.024783   \n",
      "18  5e76742575ad9c0506e721bb          0.032500             0.028966   \n",
      "19  5ea3310bf9c4f828f0c909c5          0.030769             0.029000   \n",
      "20  5ee1bc2e2be5f61f0eaf1713          0.027600             0.028000   \n",
      "21  5eeaff28cf5da71d691ef212          0.027500             0.028810   \n",
      "22   5ef76ff7d195c248bfe2511          0.032105             0.030833   \n",
      "23  5f12b3a2791d172281e7d6a9          0.028214             0.024545   \n",
      "24  5f18b5343b9a080d1e17db57          0.027273             0.026667   \n",
      "25  5f248a2f46a10507b20d9f17          0.032381             0.025862   \n",
      "26  5f2dc46d6fa1250ee8a1a15d          0.035333             0.036316   \n",
      "27  5f3ac1732efa0a74f975b1a8          0.022667             0.021000   \n",
      "28  5f4cc1ded01b151cbb03c0f8          0.026970             0.025882   \n",
      "29  5f4ced34dbc54406d1684da0          0.029762             0.033750   \n",
      "30  5f4ee0e82f0d6c12d692c29b          0.027879             0.028824   \n",
      "31  5f50dc440305bb077d82eca4          0.040417             0.035238   \n",
      "32  5f53216409e6d06275ef0545          0.036452             0.038235   \n",
      "33  5f5f09ebf7e0497dcdb37dee          0.040000             0.037826   \n",
      "34  5f647f4d6443f82231b6bc78          0.019524             0.019655   \n",
      "35  5f68d7190611d306d40d4b58          0.034231             0.030000   \n",
      "36  5f6ea39029ca174064215ac2          0.028966             0.026190   \n",
      "37  5f7e4fbc36d39211c80599fe          0.035263             0.028333   \n",
      "38  5f8dd51f6d2378145bf99cdc          0.034118             0.030000   \n",
      "39  5fbd2fffbbfb2d070580d353          0.028421             0.028387   \n",
      "40  5fcd31e19fd435c2162f2869          0.026000             0.020667   \n",
      "41  5ff0a56b116bbf440e520992          0.037692             0.031364   \n",
      "42  5ff37f2588f05799fa9a9873          0.028929             0.024500   \n",
      "43  600ecc3692aa597c9a274833          0.023750             0.022308   \n",
      "44  6016f95c56f32e8df6e841af          0.016522             0.019630   \n",
      "45  604557dd82b57569031a1da8          0.029091             0.027059   \n",
      "46  604a7ee304a949c38ab69799          0.031724             0.031905   \n",
      "47  60a647cf71f87619eeed97ea          0.041111             0.036522   \n",
      "48  60b0334a2e48ac0856f33161          0.020000             0.021379   \n",
      "49  60c357a0a275dce4c49ddefc          0.035000             0.031818   \n",
      "50  60c5b99d82cd6a9ad6e24f75          0.032500             0.027879   \n",
      "51  60cc618fcdb3956b8bd61133          0.031200             0.029600   \n",
      "52  60d86d6c0f4b31dab174a376          0.028400             0.025600   \n",
      "53  60dbf15243bf8d31a96ed803          0.039286             0.038636   \n",
      "54  60dca5d351d99ef73b2f8994          0.031613             0.030000   \n",
      "55  60dd5577b29a08bcb068a5d8          0.024643             0.022273   \n",
      "56  60ddb1b050d121b8fbc0349a          0.033824             0.030000   \n",
      "57  60ddcbb80c73eaf8ceca130e          0.034091             0.029259   \n",
      "58  60e024be16fcfabbaac7d3ae          0.032750             0.036000   \n",
      "59  60e040c54dc298116f43aae7          0.038636             0.030714   \n",
      "60  60e41b5208ffba4a93ddbab3          0.026000             0.024500   \n",
      "61  60e4bcdf85f979aaddffa104          0.040667             0.031714   \n",
      "62  60e5194cff6d453e2b606c55          0.030323             0.031579   \n",
      "63  60e637111a022da8d1963a65          0.041200             0.036000   \n",
      "64  60e96125cf260de73e1b535c          0.031739             0.030000   \n",
      "65  60ea0984f30f7e0a9b839e3b          0.028929             0.027273   \n",
      "66  60ec5e30aa066198fa55ec21          0.040357             0.037273   \n",
      "67  60edd81b455433dae20025fd          0.034444             0.032174   \n",
      "68  60f42d83362792b0bc8d3d47          0.015714             0.020000   \n",
      "\n",
      "    total_spent_social  total_spent_nonsocial  prop_social  prop_nonsocial  \\\n",
      "0                 0.64                   0.91     0.400000        0.600000   \n",
      "1                 0.51                   0.42     0.540000        0.460000   \n",
      "2                 0.31                   1.17     0.200000        0.800000   \n",
      "3                 0.51                   0.41     0.540000        0.460000   \n",
      "4                 0.70                   0.81     0.428571        0.571429   \n",
      "5                 0.99                   0.48     0.660000        0.340000   \n",
      "6                 0.45                   0.68     0.387755        0.612245   \n",
      "7                 1.09                   0.30     0.760000        0.240000   \n",
      "8                 0.61                   0.46     0.540000        0.460000   \n",
      "9                 0.74                   0.78     0.460000        0.540000   \n",
      "10                0.89                   0.99     0.460000        0.540000   \n",
      "11                0.76                   0.62     0.520000        0.480000   \n",
      "12                0.39                   0.52     0.460000        0.540000   \n",
      "13                1.14                   0.11     0.840000        0.160000   \n",
      "14                0.77                   0.65     0.540000        0.460000   \n",
      "15                0.73                   0.75     0.469388        0.530612   \n",
      "16                0.62                   0.51     0.520000        0.480000   \n",
      "17                0.72                   0.57     0.540000        0.460000   \n",
      "18                0.52                   0.84     0.355556        0.644444   \n",
      "19                1.20                   0.29     0.795918        0.204082   \n",
      "20                0.69                   0.70     0.500000        0.500000   \n",
      "21                0.22                   1.21     0.160000        0.840000   \n",
      "22                1.22                   0.37     0.760000        0.240000   \n",
      "23                0.79                   0.54     0.560000        0.440000   \n",
      "24                0.30                   1.04     0.220000        0.780000   \n",
      "25                0.68                   0.75     0.420000        0.580000   \n",
      "26                1.06                   0.69     0.612245        0.387755   \n",
      "27                0.68                   0.42     0.600000        0.400000   \n",
      "28                0.89                   0.44     0.660000        0.340000   \n",
      "29                1.25                   0.27     0.840000        0.160000   \n",
      "30                0.92                   0.49     0.660000        0.340000   \n",
      "31                0.97                   0.74     0.533333        0.466667   \n",
      "32                1.13                   0.65     0.645833        0.354167   \n",
      "33                1.08                   0.87     0.540000        0.460000   \n",
      "34                0.41                   0.57     0.420000        0.580000   \n",
      "35                0.89                   0.69     0.530612        0.469388   \n",
      "36                0.84                   0.55     0.580000        0.420000   \n",
      "37                0.67                   0.85     0.387755        0.612245   \n",
      "38                0.58                   0.90     0.361702        0.638298   \n",
      "39                0.54                   0.88     0.380000        0.620000   \n",
      "40                0.91                   0.31     0.700000        0.300000   \n",
      "41                0.98                   0.69     0.541667        0.458333   \n",
      "42                0.81                   0.49     0.583333        0.416667   \n",
      "43                0.57                   0.58     0.480000        0.520000   \n",
      "44                0.38                   0.53     0.460000        0.540000   \n",
      "45                0.96                   0.46     0.660000        0.340000   \n",
      "46                0.92                   0.67     0.580000        0.420000   \n",
      "47                1.11                   0.84     0.540000        0.460000   \n",
      "48                0.42                   0.62     0.420000        0.580000   \n",
      "49                0.98                   0.70     0.560000        0.440000   \n",
      "50                0.52                   0.92     0.326531        0.673469   \n",
      "51                0.78                   0.74     0.500000        0.500000   \n",
      "52                0.71                   0.64     0.500000        0.500000   \n",
      "53                1.10                   0.85     0.560000        0.440000   \n",
      "54                0.98                   0.57     0.620000        0.380000   \n",
      "55                0.69                   0.49     0.560000        0.440000   \n",
      "56                1.15                   0.48     0.680000        0.320000   \n",
      "57                0.75                   0.79     0.448980        0.551020   \n",
      "58                1.31                   0.36     0.800000        0.200000   \n",
      "59                0.85                   0.86     0.440000        0.560000   \n",
      "60                0.78                   0.49     0.600000        0.400000   \n",
      "61                0.61                   1.11     0.300000        0.700000   \n",
      "62                0.94                   0.60     0.620000        0.380000   \n",
      "63                1.03                   0.90     0.500000        0.500000   \n",
      "64                0.73                   0.81     0.460000        0.540000   \n",
      "65                0.81                   0.60     0.560000        0.440000   \n",
      "66                1.13                   0.82     0.560000        0.440000   \n",
      "67                0.93                   0.74     0.540000        0.460000   \n",
      "68                0.33                   0.58     0.420000        0.580000   \n",
      "\n",
      "    moresocial  prop_moresocial  AQ     MSPSS  \n",
      "0            1                0  26  4.000000  \n",
      "1            1                1  16  7.000000  \n",
      "2            1                0  17  5.750000  \n",
      "3            1                1   5  7.000000  \n",
      "4            1                0  32  4.916667  \n",
      "5            1                1  23  4.250000  \n",
      "6            1                0  20  6.000000  \n",
      "7            1                1  22  1.250000  \n",
      "8            1                1  20  3.000000  \n",
      "9            1                0  19  2.500000  \n",
      "10           1                0  23  1.333333  \n",
      "11           1                1  22  2.416667  \n",
      "12           0                0  21  5.666667  \n",
      "13           1                1  10  7.000000  \n",
      "14           1                1  19  5.000000  \n",
      "15           1                0  17  5.000000  \n",
      "16           1                1  27  4.416667  \n",
      "17           1                1  12  5.333333  \n",
      "18           1                0  25  6.083333  \n",
      "19           1                1  26  5.666667  \n",
      "20           0                0  19  5.333333  \n",
      "21           0                0  31  1.500000  \n",
      "22           1                1  26  3.250000  \n",
      "23           1                1  16  5.416667  \n",
      "24           1                0  33  4.416667  \n",
      "25           1                0  30  4.083333  \n",
      "26           0                1  11  6.500000  \n",
      "27           1                1   4  6.000000  \n",
      "28           1                1   9  6.416667  \n",
      "29           0                1  11  6.333333  \n",
      "30           0                1  21  4.583333  \n",
      "31           1                1  21  5.916667  \n",
      "32           0                1  20  6.500000  \n",
      "33           1                1  22  5.666667  \n",
      "34           0                0  19  5.583333  \n",
      "35           1                1  15  7.000000  \n",
      "36           1                1  25  5.416667  \n",
      "37           1                0  29  5.500000  \n",
      "38           1                0  17  5.166667  \n",
      "39           1                0  21  6.666667  \n",
      "40           1                1   7  6.333333  \n",
      "41           1                1  15  7.000000  \n",
      "42           1                1  12  6.583333  \n",
      "43           1                0  24  5.666667  \n",
      "44           0                0  13  4.416667  \n",
      "45           1                1  14  5.583333  \n",
      "46           0                1  17  3.750000  \n",
      "47           1                1  15  6.333333  \n",
      "48           0                0  18  5.750000  \n",
      "49           1                1  13  6.416667  \n",
      "50           1                0  19  5.750000  \n",
      "51           1                0  15  6.250000  \n",
      "52           1                0  27  4.583333  \n",
      "53           1                1  16  6.333333  \n",
      "54           1                1  20  4.916667  \n",
      "55           1                1  21  5.583333  \n",
      "56           1                1  18  5.583333  \n",
      "57           1                0  22  6.000000  \n",
      "58           0                1  21  4.250000  \n",
      "59           1                0  13  6.916667  \n",
      "60           1                1  19  5.583333  \n",
      "61           1                0  27  5.666667  \n",
      "62           0                1  22  4.083333  \n",
      "63           1                0  27  5.333333  \n",
      "64           1                0  26  6.583333  \n",
      "65           1                1  16  5.000000  \n",
      "66           1                1  17  5.000000  \n",
      "67           1                1  26  3.333333  \n",
      "68           0                0  26  4.666667  \n"
     ]
    }
   ],
   "source": [
    "#import excel file containing data summary\n",
    "\n",
    "wtpdata = pd.read_csv(r'/Users/dfareri/Dropbox/Dominic/Github/fareri-lab/WTP_CardTask/data/old_wtp_data_pilot1.csv', encoding='utf-8-sig')\n",
    "#wtpdata = pd.read_excel(r'wtp_taskdata_NEW.xlsx')\n",
    "pd.set_option(\"display.max_rows\", None, \"display.max_columns\", None)\n",
    "print(wtpdata)"
   ]
  },
  {
   "cell_type": "code",
   "execution_count": 6,
   "metadata": {},
   "outputs": [
    {
     "name": "stdout",
     "output_type": "stream",
     "text": [
      "69\n",
      "68\n"
     ]
    }
   ],
   "source": [
    "#sample size\n",
    "n_pilot1 = len(wtpdata)\n",
    "print(n_pilot1)\n",
    "\n",
    "# degrees of freedom\n",
    "df = n_pilot1 - 1\n",
    "print(df)\n",
    "alpha= 0.05"
   ]
  },
  {
   "cell_type": "code",
   "execution_count": 10,
   "metadata": {},
   "outputs": [
    {
     "name": "stdout",
     "output_type": "stream",
     "text": [
      "mean: 0.526219992058\n",
      "mean: 0.473780007942\n",
      "5.400339712761417 3.618358904\n",
      "0.2768146818326052\n",
      "0.033324571619083955\n"
     ]
    }
   ],
   "source": [
    "prop_socialavg_pilot1= wtpdata.prop_social\n",
    "prop_nonsocialavg_pilot1= wtpdata.prop_nonsocial\n",
    "#calculate group mean for prop of chosen social experiences\n",
    "prop_soc_M_pilot1 = mean(prop_socialavg_pilot1)\n",
    "print('mean: %.12f'% (prop_soc_M_pilot1))\n",
    "\n",
    "\n",
    "#calculate group mean for prop of chosen social experiences\n",
    "prop_nonsoc_M_pilot1 = mean(prop_nonsocialavg_pilot1)\n",
    "print('mean: %.12f'% (prop_nonsoc_M_pilot1))\n",
    "\n",
    "#Calculate STD\n",
    "# sum squared difference between observations\n",
    "d1 = sum([(prop_socialavg_pilot1[i]-prop_nonsocialavg_pilot1[i])**2 for i in range(n_pilot1)])\n",
    "# sum difference between observations\n",
    "d2 = sum([prop_socialavg_pilot1[i]-prop_nonsocialavg_pilot1[i] for i in range(n_pilot1)])\n",
    "print(d1,d2)\n",
    "\n",
    "\n",
    "# standard deviation of the difference between means\n",
    "standev = np.sqrt((d1 - (d2**2 / n_pilot1)) / (n_pilot1 - 1))\n",
    "print(standev)\n",
    "\n",
    "\n",
    "#calculate standard error of the difference between the means\n",
    "sed = standev / np.sqrt(n_pilot1)\n",
    "print(sed)"
   ]
  },
  {
   "cell_type": "code",
   "execution_count": 13,
   "metadata": {},
   "outputs": [
    {
     "name": "stdout",
     "output_type": "stream",
     "text": [
      "1.5736131499410246\n",
      "68\n",
      "t=1.574, df=68, cv=1.668, p=0.120\n",
      "Accept null hypothesis that the means are equal.\n",
      "Accept null hypothesis that the means are equal.\n",
      "0.3788815229652694\n"
     ]
    }
   ],
   "source": [
    "# calculate the t statistic\n",
    "t_stat = (prop_soc_M_pilot1 - prop_nonsoc_M_pilot1) / sed\n",
    "print(t_stat)\n",
    "\n",
    "# degrees of freedom\n",
    "df = n_pilot1 - 1\n",
    "print(df)\n",
    "alpha= 0.05\n",
    "\n",
    "# calculate the critical value\n",
    "cv = t.ppf(1.0 - alpha, df)\n",
    "# calculate the p-value\n",
    "p = (1.0 - t.cdf(abs(t_stat), df)) * 2.0\n",
    "# return everything\n",
    "print('t=%.3f, df=%d, cv=%.3f, p=%.3f' % (t_stat, df, cv, p))\n",
    "# interpret via critical value\n",
    "if abs(t_stat) <= cv:\n",
    "\tprint('Accept null hypothesis that the means are equal.')\n",
    "else:\n",
    "\tprint('Reject the null hypothesis that the means are equal.')\n",
    "# interpret via p-value\n",
    "if p > alpha:\n",
    "\tprint('Accept null hypothesis that the means are equal.')\n",
    "else:\n",
    "\tprint('Reject the null hypothesis that the means are equal.')\n",
    "\n",
    "    \n",
    "#calculate effect size- cohens d\n",
    "cohens_d = (mean(prop_socialavg_pilot1) - mean(prop_nonsocialavg_pilot1)) / (sqrt((stdev(prop_socialavg_pilot1) ** 2 + stdev(prop_nonsocialavg_pilot1) ** 2) / 2))\n",
    "\n",
    "print(cohens_d)"
   ]
  },
  {
   "cell_type": "code",
   "execution_count": 17,
   "metadata": {},
   "outputs": [
    {
     "data": {
      "image/png": "[encoded data removed]",
      "text/plain": [
       "<Figure size 432x288 with 1 Axes>"
      ]
     },
     "metadata": {
      "needs_background": "light"
     },
     "output_type": "display_data"
    },
    {
     "name": "stdout",
     "output_type": "stream",
     "text": [
      "[[0.01915659 0.01670932]\n",
      " [0.01670932 1.85765961]]\n",
      "Pearsons correlation: 0.089\n",
      "p value: 0.4692\n",
      "Accept null hypothesis that the means are equal.\n"
     ]
    }
   ],
   "source": [
    "##### prop of chosen social // self report #####\n",
    "#prop of chosen social // MSPSS\n",
    "pyplot.scatter(prop_socialavg_pilot1, wtpdata.MSPSS)\n",
    "pyplot.show()\n",
    "covariance = cov(prop_socialavg_pilot1, wtpdata.MSPSS)\n",
    "print(covariance)\n",
    "corr, _ = pearsonr(prop_socialavg_pilot1, wtpdata.MSPSS)\n",
    "print('Pearsons correlation: %.3f' % corr)\n",
    "r,p = scipy.stats.pearsonr(prop_socialavg_pilot1, wtpdata.MSPSS)\n",
    "print('p value: %.4f' % p)\n",
    "alpha = 0.10\n",
    "if p > alpha:\n",
    "\tprint('Accept null hypothesis that the means are equal.')\n",
    "else:\n",
    "    print('Reject the null hypothesis that the means are equal.')"
   ]
  },
  {
   "cell_type": "code",
   "execution_count": 25,
   "metadata": {},
   "outputs": [
    {
     "data": {
      "image/png": "[encoded data removed]",
      "text/plain": [
       "<Figure size 432x288 with 1 Axes>"
      ]
     },
     "metadata": {
      "needs_background": "light"
     },
     "output_type": "display_data"
    },
    {
     "name": "stdout",
     "output_type": "stream",
     "text": [
      "[[ 1.91565920e-02 -3.42379298e-01]\n",
      " [-3.42379298e-01  3.95464621e+01]]\n",
      "Pearsons correlation: -0.393\n",
      "p value: 0.0008\n",
      "Reject the null hypothesis that the means are equal.\n"
     ]
    },
    {
     "data": {
      "image/png": "[encoded data removed]",
      "text/plain": [
       "<Figure size 432x288 with 1 Axes>"
      ]
     },
     "metadata": {
      "needs_background": "light"
     },
     "output_type": "display_data"
    }
   ],
   "source": [
    "##### prop of chosen social // self report #####\n",
    "#prop of chosen social // AQ\n",
    "pyplot.scatter(prop_socialavg_pilot1, wtpdata.AQ)\n",
    "pyplot.show()\n",
    "covariance = cov(prop_socialavg_pilot1, wtpdata.AQ)\n",
    "print(covariance)\n",
    "corr, _ = pearsonr(prop_socialavg_pilot1, wtpdata.AQ)\n",
    "print('Pearsons correlation: %.3f' % corr)\n",
    "r,p = scipy.stats.pearsonr(prop_socialavg_pilot1, wtpdata.AQ)\n",
    "print('p value: %.4f' % p)\n",
    "alpha = 0.10\n",
    "if p > alpha:\n",
    "\tprint('Accept null hypothesis that the means are equal.')\n",
    "else:\n",
    "    print('Reject the null hypothesis that the means are equal.')\n",
    "    \n",
    "sns.regplot(x=\"AQ\", y=\"prop_social\", data=wtpdata);\n"
   ]
  },
  {
   "cell_type": "code",
   "execution_count": null,
   "metadata": {},
   "outputs": [],
   "source": []
  },
  {
   "cell_type": "code",
   "execution_count": null,
   "metadata": {},
   "outputs": [],
   "source": []
  }
 ],
 "metadata": {
  "kernelspec": {
   "display_name": "Python 3",
   "language": "python",
   "name": "python3"
  },
  "language_info": {
   "codemirror_mode": {
    "name": "ipython",
    "version": 3
   },
   "file_extension": ".py",
   "mimetype": "text/x-python",
   "name": "python",
   "nbconvert_exporter": "python",
   "pygments_lexer": "ipython3",
   "version": "3.8.5"
  }
 },
 "nbformat": 4,
 "nbformat_minor": 5
}
