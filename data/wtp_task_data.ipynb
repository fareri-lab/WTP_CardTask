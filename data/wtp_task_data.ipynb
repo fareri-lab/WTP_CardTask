{
 "cells": [
  {
   "cell_type": "code",
   "execution_count": 32,
   "metadata": {},
   "outputs": [],
   "source": [
    "#import packages\n",
    "import pandas as pd\n",
    "import numpy as np\n",
    "from math import sqrt\n",
    "from numpy.random import seed\n",
    "from numpy.random import randn\n",
    "from numpy import mean\n",
    "from scipy.stats import t\n",
    "import seaborn as sns\n",
    "import matplotlib.pyplot as plt"
   ]
  },
  {
   "cell_type": "code",
   "execution_count": 59,
   "metadata": {},
   "outputs": [],
   "source": [
    "#import excel file containing data summary\n",
    "wtpdata = pd.read_excel (r'wtp_taskdata_summary.xlsx')\n"
   ]
  },
  {
   "cell_type": "code",
   "execution_count": 34,
   "metadata": {},
   "outputs": [
    {
     "name": "stdout",
     "output_type": "stream",
     "text": [
      "                  participant  avg_spent_social  avg_spent_nonsocial  \\\n",
      "0    5ea3310bf9c4f828f0c909c5          0.030244             0.029000   \n",
      "1    5eeaff28cf5da71d691ef212          0.026000             0.028780   \n",
      "2    5ee1bc2e2be5f61f0eaf1713          0.027308             0.028000   \n",
      "3   ﻿5cfecc1e96681500168a1799          0.038333             0.037037   \n",
      "4    5ff362e8c9707d8ff6020080          0.028800             0.026800   \n",
      "5   ﻿5e76742575ad9c0506e721bb          0.031667             0.029091   \n",
      "6    ﻿5ef76ff7d195c248bfe2511          0.031795             0.030833   \n",
      "7   ﻿5f7e4fbc36d39211c80599fe          0.035263             0.027813   \n",
      "8   ﻿5f8dd51f6d2378145bf99cdc          0.326316             0.029063   \n",
      "9   ﻿5f12b3a2791d172281e7d6a9          0.028621             0.024545   \n",
      "10  ﻿5f974745d58f7f0fca155a48          0.029615             0.027200   \n",
      "11  ﻿5ff0a56b116bbf440e520992          0.037692             0.029600   \n",
      "12  ﻿566c9284d408ea000519c6d7          0.018889             0.017500   \n",
      "13  ﻿5f2dc46d6fa1250ee8a1a15d          0.035333             0.036500   \n",
      "14   5f5f09ebf7e0497dcdb37dee          0.040000             0.037826   \n",
      "15   5f50dc440305bb077d82eca4          0.040000             0.036539   \n",
      "16   5f53216409e6d06275ef0545          0.038387             0.037895   \n",
      "17   5ff37f2588f05799fa9a9873          0.028710             0.023158   \n",
      "\n",
      "    %_social      DIFF  \n",
      "0   0.803922  0.001244  \n",
      "1   0.196078 -0.002780  \n",
      "2   0.509804 -0.000692  \n",
      "3   0.470588  0.001296  \n",
      "4   0.490566  0.002000  \n",
      "5   0.352941  0.002576  \n",
      "6   0.764706  0.000962  \n",
      "7   0.372549  0.007451  \n",
      "8   0.372549  0.297253  \n",
      "9   0.568627  0.004075  \n",
      "10  0.509804  0.002415  \n",
      "11  0.509804  0.008092  \n",
      "12  0.529412  0.001389  \n",
      "13  0.600000 -0.001167  \n",
      "14  0.540000  0.002174  \n",
      "15  0.680000  0.003461  \n",
      "16  0.622642  0.000492  \n",
      "17  0.620000  0.005552  \n"
     ]
    }
   ],
   "source": [
    "print(wtpdata)"
   ]
  },
  {
   "cell_type": "code",
   "execution_count": 35,
   "metadata": {},
   "outputs": [
    {
     "name": "stdout",
     "output_type": "stream",
     "text": [
      "0.04849848833227512\n"
     ]
    }
   ],
   "source": [
    "socialavg= wtpdata.avg_spent_social\n",
    "#calculate group mean for av spent on social experiences\n",
    "social_M = np.mean(socialavg)\n",
    "print(social_M)"
   ]
  },
  {
   "cell_type": "code",
   "execution_count": 36,
   "metadata": {},
   "outputs": [
    {
     "name": "stdout",
     "output_type": "stream",
     "text": [
      "0.029843302241504492\n"
     ]
    }
   ],
   "source": [
    "nonsocialavg = wtpdata.avg_spent_nonsocial\n",
    "#calculate group mean for av spent on non-social experiences\n",
    "\n",
    "nonsocial_M = np.mean(nonsocialavg)\n",
    "print(nonsocial_M)\n"
   ]
  },
  {
   "cell_type": "code",
   "execution_count": 37,
   "metadata": {},
   "outputs": [
    {
     "name": "stdout",
     "output_type": "stream",
     "text": [
      "18\n"
     ]
    }
   ],
   "source": [
    "#sample size\n",
    "n = len(wtpdata)\n",
    "print(n)"
   ]
  },
  {
   "cell_type": "code",
   "execution_count": 38,
   "metadata": {},
   "outputs": [
    {
     "name": "stdout",
     "output_type": "stream",
     "text": [
      "0.0885770173529377 0.3357933496338712\n",
      "0.06958394419585202\n"
     ]
    }
   ],
   "source": [
    "#Calculate std\n",
    "# sum squared difference between observations\n",
    "d1 = sum([(socialavg[i]-nonsocialavg[i])**2 for i in range(n)])\n",
    "# sum difference between observations\n",
    "d2 = sum([socialavg[i]-nonsocialavg[i] for i in range(n)])\n",
    "print(d1,d2)\n",
    "\n",
    "# standard deviation of the difference between means\n",
    "std = np.sqrt((d1 - (d2**2 / n)) / (n - 1))\n",
    "print(std)"
   ]
  },
  {
   "cell_type": "code",
   "execution_count": 39,
   "metadata": {},
   "outputs": [
    {
     "name": "stdout",
     "output_type": "stream",
     "text": [
      "0.01640109293419776\n"
     ]
    }
   ],
   "source": [
    "#calculate standard error of the difference between the means\n",
    "sed = std / np.sqrt(n)\n",
    "print(sed)"
   ]
  },
  {
   "cell_type": "code",
   "execution_count": 40,
   "metadata": {},
   "outputs": [
    {
     "name": "stdout",
     "output_type": "stream",
     "text": [
      "1.1374355456442102\n"
     ]
    }
   ],
   "source": [
    "# calculate the t statistic\n",
    "t_stat = (social_M - nonsocial_M) / sed\n",
    "print(t_stat)"
   ]
  },
  {
   "cell_type": "code",
   "execution_count": 41,
   "metadata": {},
   "outputs": [
    {
     "name": "stdout",
     "output_type": "stream",
     "text": [
      "17\n"
     ]
    }
   ],
   "source": [
    "# degrees of freedom\n",
    "df = n - 1\n",
    "print(df)\n",
    "alpha= 0.05"
   ]
  },
  {
   "cell_type": "code",
   "execution_count": 42,
   "metadata": {},
   "outputs": [
    {
     "name": "stdout",
     "output_type": "stream",
     "text": [
      "t=1.137, df=17, cv=1.740, p=0.271\n",
      "Accept null hypothesis that the means are equal.\n",
      "Accept null hypothesis that the means are equal.\n"
     ]
    }
   ],
   "source": [
    "# calculate the critical value\n",
    "cv = t.ppf(1.0 - alpha, df)\n",
    "# calculate the p-value\n",
    "p = (1.0 - t.cdf(abs(t_stat), df)) * 2.0\n",
    "# return everything\n",
    "print('t=%.3f, df=%d, cv=%.3f, p=%.3f' % (t_stat, df, cv, p))\n",
    "# interpret via critical value\n",
    "if abs(t_stat) <= cv:\n",
    "\tprint('Accept null hypothesis that the means are equal.')\n",
    "else:\n",
    "\tprint('Reject the null hypothesis that the means are equal.')\n",
    "# interpret via p-value\n",
    "if p > alpha:\n",
    "\tprint('Accept null hypothesis that the means are equal.')\n",
    "else:\n",
    "\tprint('Reject the null hypothesis that the means are equal.')"
   ]
  },
  {
   "cell_type": "code",
   "execution_count": 138,
   "metadata": {},
   "outputs": [
    {
     "data": {
      "image/png": "[encoded data removed]",
      "text/plain": [
       "<Figure size 432x288 with 1 Axes>"
      ]
     },
     "metadata": {
      "needs_background": "light"
     },
     "output_type": "display_data"
    }
   ],
   "source": [
    "#wtp_means = pd.DataFrame({'experience_type': ['social','nonsocial'], 'average_spent': [social_M, nonsocial_M]})\n",
    "#print(wtp_means)\n",
    "ax = sns.barplot(data=wtpdata, x=wtp_means.experience_type, y=wtp_means.average_spent, ci=68)"
   ]
  },
  {
   "cell_type": "code",
   "execution_count": null,
   "metadata": {},
   "outputs": [],
   "source": []
  },
  {
   "cell_type": "code",
   "execution_count": null,
   "metadata": {},
   "outputs": [],
   "source": []
  }
 ],
 "metadata": {
  "kernelspec": {
   "display_name": "Python 3",
   "language": "python",
   "name": "python3"
  },
  "language_info": {
   "codemirror_mode": {
    "name": "ipython",
    "version": 3
   },
   "file_extension": ".py",
   "mimetype": "text/x-python",
   "name": "python",
   "nbconvert_exporter": "python",
   "pygments_lexer": "ipython3",
   "version": "3.7.4"
  }
 },
 "nbformat": 4,
 "nbformat_minor": 2
}
