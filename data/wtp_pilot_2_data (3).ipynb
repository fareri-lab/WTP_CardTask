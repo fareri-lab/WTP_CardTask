{
 "cells": [
  {
   "cell_type": "code",
   "execution_count": 538,
   "metadata": {},
   "outputs": [],
   "source": [
    "#### NEW PILOT DATA WITH BALANCED TRIAL SPREADSHEET ####\n"
   ]
  },
  {
   "cell_type": "code",
   "execution_count": 2,
   "metadata": {},
   "outputs": [],
   "source": [
    "#import packages\n",
    "from __future__ import division \n",
    "import sys\n",
    "import pandas as pd\n",
    "import numpy as np\n",
    "import scipy\n",
    "from numpy import mean, std, cov \n",
    "from numpy.random import seed, randn\n",
    "import matplotlib.pyplot as plt\n",
    "from matplotlib import pyplot\n",
    "from math import sqrt\n",
    "import scipy.stats as stats \n",
    "from scipy.stats import t, pearsonr, sem\n",
    "import seaborn as sns\n",
    "from statistics import mean, stdev"
   ]
  },
  {
   "cell_type": "code",
   "execution_count": 3,
   "metadata": {},
   "outputs": [
    {
     "name": "stdout",
     "output_type": "stream",
     "text": [
      "                 participant  avg_spent_social  avg_spent_nonsocial  \\\n",
      "0   5914b7b50a4b9d0001add64f          0.020870             0.022963   \n",
      "1   5beaed3f0af61d0001968d9a          0.033846             0.030000   \n",
      "2   5c523d16102de10001022098          0.029211             0.031667   \n",
      "3   5dc368ce880a2927e264dbec          0.029474             0.032258   \n",
      "4   5e70d4869ffb1404cb1f5070          0.024444             0.022174   \n",
      "5   5efc9ea8f8e7950584b12e87          0.032258             0.031579   \n",
      "6   5f2f566ddaea2a3417b75920          0.021304             0.022593   \n",
      "7   5f3964ca4539e00bd5ce47fb          0.028750             0.028077   \n",
      "8   5f793609f8089e53266336f5          0.030233             0.030000   \n",
      "9   5f8c70c9c8e71c0b49e49797          0.028000             0.029143   \n",
      "10  5f94977cf830e82e361b9de1          0.030000             0.030882   \n",
      "11  60fc6bdffe3e6e8caf924670          0.022273             0.023571   \n",
      "12  60fd7f782b0c5f0b6503302a          0.030476             0.031250   \n",
      "13  60fd9a010279e0f7e338571a          0.031154             0.026667   \n",
      "14  60fdae513bfebe2fe0122138          0.030435             0.025769   \n",
      "15  60fdce10226d20ddc8990f04          0.022381             0.024483   \n",
      "16  60fe2fb42ec6d443757a92fc          0.033571             0.032727   \n",
      "17  60fed38a8adb46e44e0869a5          0.024074             0.026957   \n",
      "18  60ff2035293107014b9770e8          0.032143             0.029167   \n",
      "19  610040d9d3e1fbd63a3f41e5          0.029200             0.028000   \n",
      "20  61009741973fdb40344de5e7          0.026316             0.030833   \n",
      "21  6100b292b7fc7f30ec9132dc          0.030303             0.027059   \n",
      "22  6101667971d68405d105698a          0.025455             0.025357   \n",
      "23  61023e0830e893bec6bd8f3c          0.029032             0.028947   \n",
      "24  6102c8ad26a015adcd8aaac4          0.020000             0.024000   \n",
      "25  610321b49114d026a41efd28          0.032000             0.033667   \n",
      "26  6103fa5faa24894dcd2cda34          0.040000             0.030000   \n",
      "27  610421096c1af729ade5aac1          0.026667             0.021176   \n",
      "28  610808ab1708833b02eb8a57          0.035294             0.033939   \n",
      "29  61083f623522116ea15fdc05          0.030323             0.030526   \n",
      "30  610854af9b70aacc11550cde          0.028889             0.031563   \n",
      "31  61088cda72a1106216fa4858          0.024815             0.022609   \n",
      "32  610934fd924a7b98497b2108          0.035312             0.033333   \n",
      "33  610999f68d373b548447abfe          0.032593             0.029130   \n",
      "34  6109c9dd829e3b0e3a87b8e8          0.031905             0.030345   \n",
      "35  6109d72bcd6919f7b64afbe3          0.028333             0.029500   \n",
      "36  610a06e4613ff666139fd6d9          0.028286             0.026000   \n",
      "37  610c59ee34cc312d7ca55e45          0.031081             0.030000   \n",
      "38  610d3d786149dbd00d635e26          0.037778             0.035217   \n",
      "39  610dd86540919edb725d1f3f          0.027097             0.025263   \n",
      "40  61110e69c5c85f3be8c8ebb4          0.023182             0.022143   \n",
      "41  61111442bb1b255927718949          0.024444             0.020870   \n",
      "42  61113effc33961d5c253618a          0.026562             0.018889   \n",
      "43  6111646d1922d97d81f4f9c1          0.034375             0.033333   \n",
      "44  611188e5b3c601c90fc9a4f6          0.031282             0.031818   \n",
      "45  611267d44fb8536ce68fe464          0.030435             0.028889   \n",
      "46  611292e82906a9ff09cdf126          0.028947             0.030000   \n",
      "47  6113ef42af7454532d9efcce          0.023043             0.023333   \n",
      "48  6114f601f6b1fb77d261f013          0.022500             0.028293   \n",
      "\n",
      "    total_spent_social  total_spent_nonsocial  prop_social  prop_nonsocial  \\\n",
      "0                 0.48                   0.62     0.460000        0.540000   \n",
      "1                 0.44                   1.08     0.265306        0.734694   \n",
      "2                 1.11                   0.38     0.760000        0.240000   \n",
      "3                 0.56                   1.00     0.380000        0.620000   \n",
      "4                 0.66                   0.51     0.540000        0.460000   \n",
      "5                 1.00                   0.60     0.620000        0.380000   \n",
      "6                 0.49                   0.61     0.460000        0.540000   \n",
      "7                 0.69                   0.73     0.480000        0.520000   \n",
      "8                 1.30                   0.21     0.860000        0.140000   \n",
      "9                 0.42                   1.02     0.300000        0.700000   \n",
      "10                0.48                   1.05     0.320000        0.680000   \n",
      "11                0.49                   0.66     0.440000        0.560000   \n",
      "12                1.28                   0.25     0.840000        0.160000   \n",
      "13                0.81                   0.64     0.520000        0.480000   \n",
      "14                0.70                   0.67     0.469388        0.530612   \n",
      "15                0.47                   0.71     0.420000        0.580000   \n",
      "16                0.94                   0.72     0.560000        0.440000   \n",
      "17                0.65                   0.62     0.540000        0.460000   \n",
      "18                0.45                   1.05     0.280000        0.720000   \n",
      "19                0.73                   0.70     0.500000        0.500000   \n",
      "20                1.00                   0.37     0.760000        0.240000   \n",
      "21                1.00                   0.46     0.660000        0.340000   \n",
      "22                0.56                   0.71     0.440000        0.560000   \n",
      "23                0.90                   0.55     0.620000        0.380000   \n",
      "24                0.50                   0.60     0.500000        0.500000   \n",
      "25                0.64                   1.01     0.400000        0.600000   \n",
      "26                0.16                   1.35     0.081633        0.918367   \n",
      "27                0.88                   0.36     0.660000        0.340000   \n",
      "28                0.60                   1.12     0.340000        0.660000   \n",
      "29                0.94                   0.58     0.620000        0.380000   \n",
      "30                0.52                   1.01     0.360000        0.640000   \n",
      "31                0.67                   0.52     0.540000        0.460000   \n",
      "32                1.13                   0.60     0.640000        0.360000   \n",
      "33                0.88                   0.67     0.540000        0.460000   \n",
      "34                0.67                   0.88     0.420000        0.580000   \n",
      "35                0.85                   0.59     0.600000        0.400000   \n",
      "36                0.99                   0.39     0.700000        0.300000   \n",
      "37                1.15                   0.39     0.740000        0.260000   \n",
      "38                1.02                   0.81     0.540000        0.460000   \n",
      "39                0.84                   0.48     0.620000        0.380000   \n",
      "40                0.51                   0.62     0.440000        0.560000   \n",
      "41                0.66                   0.48     0.540000        0.460000   \n",
      "42                0.85                   0.34     0.640000        0.360000   \n",
      "43                1.10                   0.60     0.640000        0.360000   \n",
      "44                1.22                   0.35     0.780000        0.220000   \n",
      "45                0.70                   0.78     0.460000        0.540000   \n",
      "46                1.10                   0.36     0.760000        0.240000   \n",
      "47                0.53                   0.63     0.460000        0.540000   \n",
      "48                0.18                   1.16     0.163265        0.836735   \n",
      "\n",
      "    moresocial  prop_moresocial  AQ     MSPSS  \n",
      "0            0                0  30  3.333333  \n",
      "1            1                0  28  3.916667  \n",
      "2            0                1  22  6.333333  \n",
      "3            0                0  26  4.416667  \n",
      "4            1                1  19  6.000000  \n",
      "5            1                1  32  5.750000  \n",
      "6            0                0  19  5.250000  \n",
      "7            1                0  18  5.333333  \n",
      "8            1                1  10  6.500000  \n",
      "9            0                0  20  5.750000  \n",
      "10           0                0  12  4.333333  \n",
      "11           0                0  15  7.000000  \n",
      "12           0                1  22  3.166667  \n",
      "13           1                1  13  5.916667  \n",
      "14           1                0  20  5.250000  \n",
      "15           0                0  24  5.333333  \n",
      "16           1                1  15  7.000000  \n",
      "17           0                1  20  5.000000  \n",
      "18           1                0  19  5.333333  \n",
      "19           1                0  25  6.166667  \n",
      "20           0                1  25  6.000000  \n",
      "21           1                1  24  6.166667  \n",
      "22           1                0  23  4.416667  \n",
      "23           1                1  16  6.916667  \n",
      "24           0                0  21  5.583333  \n",
      "25           0                0  24  5.000000  \n",
      "26           1                0  13  4.750000  \n",
      "27           1                1  16  5.416667  \n",
      "28           1                0  21  6.250000  \n",
      "29           0                1  15  5.750000  \n",
      "30           0                0  26  5.083333  \n",
      "31           1                1  20  6.583333  \n",
      "32           1                1  23  6.166667  \n",
      "33           1                1  10  5.416667  \n",
      "34           1                0  29  6.916667  \n",
      "35           0                1  16  5.166667  \n",
      "36           1                1  21  4.166667  \n",
      "37           1                1  44  6.166667  \n",
      "38           1                1  22  5.500000  \n",
      "39           1                1  15  4.583333  \n",
      "40           1                0  24  7.000000  \n",
      "41           1                1  21  5.166667  \n",
      "42           1                1  32  5.666667  \n",
      "43           1                1  16  7.000000  \n",
      "44           0                1  27  6.583333  \n",
      "45           1                0  20  7.000000  \n",
      "46           0                1  24  6.666667  \n",
      "47           0                0  17  6.333333  \n",
      "48           0                0  24  6.000000  \n"
     ]
    }
   ],
   "source": [
    "#import excel file containing data summary\n",
    "\n",
    "#wtpdata = pd.read_csv(r'new_pilot_wtp.csv', encoding='utf-8-sig')\n",
    "wtpdata = pd.read_csv(r'updated_allwtp.csv', encoding='utf-8-sig')\n",
    "pd.set_option(\"display.max_rows\", None, \"display.max_columns\", None)\n",
    "print(wtpdata)"
   ]
  },
  {
   "cell_type": "code",
   "execution_count": 628,
   "metadata": {},
   "outputs": [
    {
     "name": "stdout",
     "output_type": "stream",
     "text": [
      "group mean: 0.028782548388\n",
      "standard error of the mean: 0.000636588329\n"
     ]
    }
   ],
   "source": [
    "socialavg= wtpdata.avg_spent_social\n",
    "#calculate group mean for av spent on social experiences\n",
    "social_M = mean(socialavg)\n",
    "print('group mean: %.12f'% (social_M))\n",
    "print('standard error of the mean: %.12f'% (sem(socialavg)))"
   ]
  },
  {
   "cell_type": "code",
   "execution_count": 629,
   "metadata": {},
   "outputs": [
    {
     "name": "stdout",
     "output_type": "stream",
     "text": [
      "group mean: 0.028080804429\n",
      "standard error of the mean: 0.000570724950\n"
     ]
    }
   ],
   "source": [
    "nonsocialavg = wtpdata.avg_spent_nonsocial\n",
    "#calculate group mean for av spent on non-social experiences\n",
    "\n",
    "\n",
    "nonsocial_M = mean(nonsocialavg)\n",
    "print('group mean: %.12f'% (nonsocial_M))\n",
    "print('standard error of the mean: %.12f'% (sem(nonsocialavg)))"
   ]
  },
  {
   "cell_type": "code",
   "execution_count": 12,
   "metadata": {},
   "outputs": [
    {
     "name": "stdout",
     "output_type": "stream",
     "text": [
      "49\n"
     ]
    }
   ],
   "source": [
    "#sample size\n",
    "n = len(wtpdata)\n",
    "print(n)"
   ]
  },
  {
   "cell_type": "code",
   "execution_count": 631,
   "metadata": {},
   "outputs": [
    {
     "name": "stdout",
     "output_type": "stream",
     "text": [
      "0.0004517763286681121 0.034385453999999996\n",
      "0.0029848455572825984\n"
     ]
    }
   ],
   "source": [
    "#Calculate STD\n",
    "# sum squared difference between observations\n",
    "d1 = sum([(socialavg[i]-nonsocialavg[i])**2 for i in range(n)])\n",
    "# sum difference between observations\n",
    "d2 = sum([socialavg[i]-nonsocialavg[i] for i in range(n)])\n",
    "print(d1,d2)\n",
    "\n",
    "# standard deviation of the difference between means\n",
    "standev = np.sqrt((d1 - (d2**2 / n)) / (n - 1))\n",
    "print(standev)"
   ]
  },
  {
   "cell_type": "code",
   "execution_count": 632,
   "metadata": {},
   "outputs": [
    {
     "name": "stdout",
     "output_type": "stream",
     "text": [
      "0.00042640650818322835\n"
     ]
    }
   ],
   "source": [
    "#calculate standard error of the difference between the means\n",
    "sed = standev / np.sqrt(n)\n",
    "print(sed)"
   ]
  },
  {
   "cell_type": "code",
   "execution_count": 633,
   "metadata": {},
   "outputs": [
    {
     "name": "stdout",
     "output_type": "stream",
     "text": [
      "1.6457158737411424\n"
     ]
    }
   ],
   "source": [
    "# calculate the t statistic\n",
    "t_stat = (social_M - nonsocial_M) / sed\n",
    "print(t_stat)"
   ]
  },
  {
   "cell_type": "code",
   "execution_count": 634,
   "metadata": {},
   "outputs": [
    {
     "name": "stdout",
     "output_type": "stream",
     "text": [
      "48\n"
     ]
    }
   ],
   "source": [
    "# degrees of freedom\n",
    "df = n - 1\n",
    "print(df)\n",
    "alpha= 0.05"
   ]
  },
  {
   "cell_type": "code",
   "execution_count": 635,
   "metadata": {},
   "outputs": [
    {
     "name": "stdout",
     "output_type": "stream",
     "text": [
      "t=1.646, df=48, cv=1.677, p=0.106\n",
      "Accept null hypothesis that the means are equal.\n",
      "Accept null hypothesis that the means are equal.\n"
     ]
    }
   ],
   "source": [
    "# calculate the critical value\n",
    "cv = t.ppf(1.0 - alpha, df)\n",
    "# calculate the p-value\n",
    "p = (1.0 - t.cdf(abs(t_stat), df)) * 2.0\n",
    "# return everything\n",
    "print('t=%.3f, df=%d, cv=%.3f, p=%.3f' % (t_stat, df, cv, p))\n",
    "# interpret via critical value\n",
    "if abs(t_stat) <= cv:\n",
    "\tprint('Accept null hypothesis that the means are equal.')\n",
    "else:\n",
    "\tprint('Reject the null hypothesis that the means are equal.')\n",
    "# interpret via p-value\n",
    "if p > alpha:\n",
    "\tprint('Accept null hypothesis that the means are equal.')\n",
    "else:\n",
    "\tprint('Reject the null hypothesis that the means are equal.')"
   ]
  },
  {
   "cell_type": "code",
   "execution_count": 636,
   "metadata": {},
   "outputs": [
    {
     "data": {
      "image/png": "[encoded data removed]",
      "text/plain": [
       "<Figure size 432x288 with 1 Axes>"
      ]
     },
     "metadata": {
      "needs_background": "light"
     },
     "output_type": "display_data"
    }
   ],
   "source": [
    "wtp_means = pd.DataFrame({'experience_type': ['social','nonsocial'], 'average_spent': [social_M, nonsocial_M]})\n",
    "\n",
    "wtp_plot = sns.barplot(x=wtp_means.experience_type, y=wtp_means.average_spent, data=wtp_means)"
   ]
  },
  {
   "cell_type": "code",
   "execution_count": 637,
   "metadata": {},
   "outputs": [
    {
     "name": "stdout",
     "output_type": "stream",
     "text": [
      "0.16582322907868988\n"
     ]
    }
   ],
   "source": [
    "#calculate effect size- cohens d\n",
    "\n",
    "cohens_d = (mean(socialavg) - mean(nonsocialavg)) / (sqrt((stdev(socialavg) ** 2 + stdev(nonsocialavg) ** 2) / 2))\n",
    "\n",
    "print(cohens_d)"
   ]
  },
  {
   "cell_type": "code",
   "execution_count": 638,
   "metadata": {},
   "outputs": [],
   "source": [
    "prop_social = wtpdata['prop_social']\n",
    "aq = wtpdata.AQ #autism quotient\n",
    "mspss = wtpdata.MSPSS #perceived social support"
   ]
  },
  {
   "cell_type": "code",
   "execution_count": 639,
   "metadata": {},
   "outputs": [
    {
     "data": {
      "image/png": "[encoded data removed]",
      "text/plain": [
       "<Figure size 432x288 with 1 Axes>"
      ]
     },
     "metadata": {
      "needs_background": "light"
     },
     "output_type": "display_data"
    },
    {
     "name": "stdout",
     "output_type": "stream",
     "text": [
      "[[1.98569904e-05 2.35005980e-04]\n",
      " [2.35005980e-04 9.27083333e-01]]\n",
      "Pearsons correlation: 0.055\n",
      "p value: 0.7086\n",
      "Accept null hypothesis that the means are equal.\n"
     ]
    }
   ],
   "source": [
    "#amount spent on social / mulitdimensional scale of perceived social support\n",
    "pyplot.scatter(socialavg, mspss)\n",
    "pyplot.show()\n",
    "covariance = cov(socialavg, mspss)\n",
    "print(covariance)\n",
    "corr, _ = pearsonr(socialavg, mspss)\n",
    "print('Pearsons correlation: %.3f' % corr)\n",
    "r,p = scipy.stats.pearsonr(socialavg, mspss)\n",
    "print('p value: %.4f' % p)\n",
    "alpha = 0.10\n",
    "if p > alpha:\n",
    "\tprint('Accept null hypothesis that the means are equal.')\n",
    "else:\n",
    "    print('Reject the null hypothesis that the means are equal.')"
   ]
  },
  {
   "cell_type": "code",
   "execution_count": 640,
   "metadata": {},
   "outputs": [
    {
     "data": {
      "image/png": "[encoded data removed]",
      "text/plain": [
       "<Figure size 432x288 with 1 Axes>"
      ]
     },
     "metadata": {
      "needs_background": "light"
     },
     "output_type": "display_data"
    },
    {
     "name": "stdout",
     "output_type": "stream",
     "text": [
      "[[ 1.98569904e-05 -1.92809653e-03]\n",
      " [-1.92809653e-03  3.92363946e+01]]\n",
      "Pearsons correlation: -0.069\n",
      "p value: 0.6372\n",
      "Accept null hypothesis that the means are equal.\n"
     ]
    }
   ],
   "source": [
    "#amount spent on social / aq\n",
    "pyplot.scatter(socialavg, aq)\n",
    "pyplot.show()\n",
    "covariance = cov(socialavg, aq)\n",
    "print(covariance)\n",
    "corr, _ = pearsonr(socialavg, aq)\n",
    "print('Pearsons correlation: %.3f' % corr)\n",
    "r,p = scipy.stats.pearsonr(socialavg, aq)\n",
    "print('p value: %.4f' % p)\n",
    "alpha = 0.10\n",
    "if p > alpha:\n",
    "\tprint('Accept null hypothesis that the means are equal.')\n",
    "else:\n",
    "    print('Reject the null hypothesis that the means are equal.')"
   ]
  },
  {
   "cell_type": "code",
   "execution_count": 641,
   "metadata": {},
   "outputs": [],
   "source": [
    "##### prop of chosen social // self report #####"
   ]
  },
  {
   "cell_type": "code",
   "execution_count": 642,
   "metadata": {},
   "outputs": [
    {
     "data": {
      "image/png": "[encoded data removed]",
      "text/plain": [
       "<Figure size 432x288 with 1 Axes>"
      ]
     },
     "metadata": {
      "needs_background": "light"
     },
     "output_type": "display_data"
    },
    {
     "name": "stdout",
     "output_type": "stream",
     "text": [
      "[[0.02816757 0.03141278]\n",
      " [0.03141278 0.92708333]]\n",
      "Pearsons correlation: 0.194\n",
      "p value: 0.1808\n",
      "Accept null hypothesis that the means are equal.\n"
     ]
    }
   ],
   "source": [
    "#prop of chosen social // MSPSS\n",
    "pyplot.scatter(prop_social, mspss)\n",
    "pyplot.show()\n",
    "covariance = cov(prop_social, mspss)\n",
    "print(covariance)\n",
    "corr, _ = pearsonr(prop_social, mspss)\n",
    "print('Pearsons correlation: %.3f' % corr)\n",
    "r,p = scipy.stats.pearsonr(prop_social, mspss)\n",
    "print('p value: %.4f' % p)\n",
    "alpha = 0.10\n",
    "if p > alpha:\n",
    "\tprint('Accept null hypothesis that the means are equal.')\n",
    "else:\n",
    "    print('Reject the null hypothesis that the means are equal.')"
   ]
  },
  {
   "cell_type": "code",
   "execution_count": 643,
   "metadata": {},
   "outputs": [
    {
     "data": {
      "image/png": "[encoded data removed]",
      "text/plain": [
       "<Figure size 432x288 with 1 Axes>"
      ]
     },
     "metadata": {
      "needs_background": "light"
     },
     "output_type": "display_data"
    },
    {
     "name": "stdout",
     "output_type": "stream",
     "text": [
      "[[2.81675655e-02 9.34964598e-02]\n",
      " [9.34964598e-02 3.92363946e+01]]\n",
      "Pearsons correlation: 0.089\n",
      "p value: 0.5434\n",
      "Accept null hypothesis that the means are equal.\n"
     ]
    }
   ],
   "source": [
    "# prop social // aq\n",
    "pyplot.scatter(prop_social, aq)\n",
    "pyplot.show()\n",
    "covariance = cov(prop_social, aq)\n",
    "print(covariance)\n",
    "corr, _ = pearsonr(prop_social, aq)\n",
    "print('Pearsons correlation: %.3f' % corr)\n",
    "r,p = scipy.stats.pearsonr(prop_social, aq)\n",
    "print('p value: %.4f' % p)\n",
    "\n",
    "alpha = 0.10\n",
    "if p > alpha:\n",
    "\tprint('Accept null hypothesis that the means are equal.')\n",
    "else:\n",
    "    print('Reject the null hypothesis that the means are equal.')"
   ]
  },
  {
   "cell_type": "code",
   "execution_count": 644,
   "metadata": {},
   "outputs": [],
   "source": [
    "##### avg spent on nonsocial // self report #####"
   ]
  },
  {
   "cell_type": "code",
   "execution_count": 645,
   "metadata": {},
   "outputs": [
    {
     "data": {
      "image/png": "[encoded data removed]",
      "text/plain": [
       "<Figure size 432x288 with 1 Axes>"
      ]
     },
     "metadata": {
      "needs_background": "light"
     },
     "output_type": "display_data"
    },
    {
     "name": "stdout",
     "output_type": "stream",
     "text": [
      "[[1.59606215e-05 2.75636613e-04]\n",
      " [2.75636613e-04 9.27083333e-01]]\n",
      "Pearsons correlation: 0.072\n",
      "p value: 0.6246\n",
      "Accept null hypothesis that the means are equal.\n"
     ]
    }
   ],
   "source": [
    "# nonsocial // mspss (social support)\n",
    "pyplot.scatter(nonsocialavg, mspss)\n",
    "pyplot.show()\n",
    "covariance = cov(nonsocialavg, mspss)\n",
    "print(covariance)\n",
    "corr, _ = pearsonr(nonsocialavg, mspss)\n",
    "print('Pearsons correlation: %.3f' % corr)\n",
    "r,p = scipy.stats.pearsonr(nonsocialavg, mspss)\n",
    "print('p value: %.4f' % p)\n",
    "alpha = 0.10\n",
    "if p > alpha:\n",
    "\tprint('Accept null hypothesis that the means are equal.')\n",
    "else:\n",
    "    print('Reject the null hypothesis that the means are equal.')"
   ]
  },
  {
   "cell_type": "code",
   "execution_count": 646,
   "metadata": {},
   "outputs": [
    {
     "data": {
      "image/png": "[encoded data removed]",
      "text/plain": [
       "<Figure size 432x288 with 1 Axes>"
      ]
     },
     "metadata": {
      "needs_background": "light"
     },
     "output_type": "display_data"
    },
    {
     "name": "stdout",
     "output_type": "stream",
     "text": [
      "[[1.59606215e-05 6.62812920e-04]\n",
      " [6.62812920e-04 3.92363946e+01]]\n",
      "Pearsons correlation: 0.026\n",
      "p value: 0.8566\n",
      "Accept null hypothesis that the means are equal.\n"
     ]
    }
   ],
   "source": [
    "# nonsocial // aq\n",
    "pyplot.scatter(nonsocialavg, aq)\n",
    "pyplot.show()\n",
    "covariance = cov(nonsocialavg, aq)\n",
    "print(covariance)\n",
    "corr, _ = pearsonr(nonsocialavg, aq)\n",
    "print('Pearsons correlation: %.3f' % corr)\n",
    "r,p = scipy.stats.pearsonr(nonsocialavg, aq)\n",
    "print('p value: %.4f' % p)\n",
    "alpha = 0.10\n",
    "if p > alpha:\n",
    "\tprint('Accept null hypothesis that the means are equal.')\n",
    "else:\n",
    "    print('Reject the null hypothesis that the means are equal.')"
   ]
  },
  {
   "cell_type": "code",
   "execution_count": 647,
   "metadata": {},
   "outputs": [],
   "source": [
    "###################################"
   ]
  },
  {
   "cell_type": "code",
   "execution_count": 648,
   "metadata": {},
   "outputs": [],
   "source": [
    "#### t stat for proportions ####"
   ]
  },
  {
   "cell_type": "code",
   "execution_count": 5,
   "metadata": {},
   "outputs": [
    {
     "name": "stdout",
     "output_type": "stream",
     "text": [
      "mean: 0.524073302776\n",
      "mean: 0.475926697224\n"
     ]
    }
   ],
   "source": [
    "prop_socialavg= wtpdata.prop_social\n",
    "#calculate group mean for prop of chosen social experiences\n",
    "prop_soc_M = mean(prop_socialavg)\n",
    "print('mean: %.12f'% (prop_soc_M))\n",
    "\n",
    "\n",
    "prop_nonsocialavg= wtpdata.prop_nonsocial\n",
    "#calculate group mean for prop of chosen social experiences\n",
    "prop_nonsoc_M = mean(prop_nonsocialavg)\n",
    "print('mean: %.12f'% (prop_nonsoc_M))"
   ]
  },
  {
   "cell_type": "code",
   "execution_count": 9,
   "metadata": {},
   "outputs": [
    {
     "name": "stdout",
     "output_type": "stream",
     "text": [
      "5.521759268374845 2.3591836720000003\n",
      "0.3356639124772182\n"
     ]
    }
   ],
   "source": [
    "#Calculate STD\n",
    "# sum squared difference between observations\n",
    "d1 = sum([(prop_socialavg[i]-prop_nonsocialavg[i])**2 for i in range(n)])\n",
    "# sum difference between observations\n",
    "d2 = sum([prop_socialavg[i]-prop_nonsocialavg[i] for i in range(n)])\n",
    "print(d1,d2)\n",
    "\n",
    "# standard deviation of the difference between means\n",
    "standev = np.sqrt((d1 - (d2**2 / n)) / (n - 1))\n",
    "print(standev)"
   ]
  },
  {
   "cell_type": "code",
   "execution_count": 10,
   "metadata": {},
   "outputs": [
    {
     "name": "stdout",
     "output_type": "stream",
     "text": [
      "0.04795198749674546\n"
     ]
    }
   ],
   "source": [
    "#calculate standard error of the difference between the means\n",
    "sed = standev / np.sqrt(n)\n",
    "print(sed)"
   ]
  },
  {
   "cell_type": "code",
   "execution_count": 17,
   "metadata": {},
   "outputs": [
    {
     "name": "stdout",
     "output_type": "stream",
     "text": [
      "1.0040586024570546\n"
     ]
    }
   ],
   "source": [
    "# calculate the t statistic\n",
    "t_stat = (prop_soc_M - prop_nonsoc_M) / sed\n",
    "print(t_stat)"
   ]
  },
  {
   "cell_type": "code",
   "execution_count": 13,
   "metadata": {},
   "outputs": [
    {
     "name": "stdout",
     "output_type": "stream",
     "text": [
      "49\n",
      "48\n"
     ]
    }
   ],
   "source": [
    "#sample size\n",
    "n = len(wtpdata)\n",
    "print(n)\n",
    "\n",
    "# degrees of freedom\n",
    "df = n - 1\n",
    "print(df)\n",
    "alpha= 0.05"
   ]
  },
  {
   "cell_type": "code",
   "execution_count": 14,
   "metadata": {},
   "outputs": [
    {
     "name": "stdout",
     "output_type": "stream",
     "text": [
      "t=1.004, df=48, cv=1.677, p=0.320\n",
      "Accept null hypothesis that the means are equal.\n",
      "Accept null hypothesis that the means are equal.\n"
     ]
    }
   ],
   "source": [
    "# calculate the critical value\n",
    "cv = t.ppf(1.0 - alpha, df)\n",
    "# calculate the p-value\n",
    "p = (1.0 - t.cdf(abs(t_stat), df)) * 2.0\n",
    "# return everything\n",
    "print('t=%.3f, df=%d, cv=%.3f, p=%.3f' % (t_stat, df, cv, p))\n",
    "# interpret via critical value\n",
    "if abs(t_stat) <= cv:\n",
    "\tprint('Accept null hypothesis that the means are equal.')\n",
    "else:\n",
    "\tprint('Reject the null hypothesis that the means are equal.')\n",
    "# interpret via p-value\n",
    "if p > alpha:\n",
    "\tprint('Accept null hypothesis that the means are equal.')\n",
    "else:\n",
    "\tprint('Reject the null hypothesis that the means are equal.')\n",
    "\n"
   ]
  },
  {
   "cell_type": "code",
   "execution_count": 33,
   "metadata": {},
   "outputs": [
    {
     "name": "stdout",
     "output_type": "stream",
     "text": [
      "  experience_type  prop_chosen\n",
      "0          social     0.524073\n",
      "1       nonsocial     0.475927\n"
     ]
    },
    {
     "data": {
      "image/png": "[encoded data removed]",
      "text/plain": [
       "<Figure size 432x288 with 1 Axes>"
      ]
     },
     "metadata": {
      "needs_background": "light"
     },
     "output_type": "display_data"
    }
   ],
   "source": [
    "wtp_means = pd.DataFrame({'experience_type': ['social','nonsocial'], 'prop_chosen': [prop_soc_M, prop_nonsoc_M]})\n",
    "print(wtp_means)\n",
    "wtp_plot = sns.barplot(x=wtp_means.experience_type, y=wtp_means.prop_chosen, data=wtp_means)\n",
    "\n",
    "wtp_means2 = pd.DataFrame({'experience_type': ['social','nonsocial'], 'prop_chosen': [prop_social, prop_nonsocial]})\n",
    "print(wtp_means2)"
   ]
  },
  {
   "cell_type": "code",
   "execution_count": 22,
   "metadata": {},
   "outputs": [
    {
     "name": "stdout",
     "output_type": "stream",
     "text": [
      "0.2868738864163014\n"
     ]
    }
   ],
   "source": [
    "#calculate effect size- cohens d\n",
    "\n",
    "cohens_d = (mean(prop_socialavg) - mean(prop_nonsocialavg)) / (sqrt((stdev(prop_socialavg) ** 2 + stdev(prop_nonsocialavg) ** 2) / 2))\n",
    "print(cohens_d)"
   ]
  },
  {
   "cell_type": "code",
   "execution_count": 20,
   "metadata": {},
   "outputs": [],
   "source": [
    "###################################"
   ]
  },
  {
   "cell_type": "code",
   "execution_count": 657,
   "metadata": {},
   "outputs": [],
   "source": [
    "#### t stats for sums #####"
   ]
  },
  {
   "cell_type": "code",
   "execution_count": 658,
   "metadata": {},
   "outputs": [
    {
     "name": "stdout",
     "output_type": "stream",
     "text": [
      "mean: 0.753061224490\n"
     ]
    }
   ],
   "source": [
    "social_sum= wtpdata.total_spent_social\n",
    "#calculate group mean for prop of chosen social experiences\n",
    "social_sum_M = mean(social_sum)\n",
    "print('mean: %.12f'% (social_sum_M))"
   ]
  },
  {
   "cell_type": "code",
   "execution_count": 659,
   "metadata": {},
   "outputs": [
    {
     "name": "stdout",
     "output_type": "stream",
     "text": [
      "mean: 0.665306122449\n"
     ]
    }
   ],
   "source": [
    "nonsocial_sum= wtpdata.total_spent_nonsocial\n",
    "#calculate group mean for prop of chosen social experiences\n",
    "nonsocial_sum_M = mean(nonsocial_sum)\n",
    "print('mean: %.12f'% (nonsocial_sum_M))\n"
   ]
  },
  {
   "cell_type": "code",
   "execution_count": 660,
   "metadata": {},
   "outputs": [
    {
     "name": "stdout",
     "output_type": "stream",
     "text": [
      "12.528000000000002 4.300000000000001\n"
     ]
    }
   ],
   "source": [
    "# sum squared difference between observations\n",
    "d1 = sum([(social_sum[i]-nonsocial_sum[i])**2 for i in range(n)])\n",
    "# sum difference between observations\n",
    "d2 = sum([social_sum[i]-nonsocial_sum[i] for i in range(n)])\n",
    "print(d1,d2)"
   ]
  },
  {
   "cell_type": "code",
   "execution_count": 661,
   "metadata": {},
   "outputs": [
    {
     "name": "stdout",
     "output_type": "stream",
     "text": [
      "0.5031288159529097\n"
     ]
    }
   ],
   "source": [
    "# standard deviation of the difference between means\n",
    "standev = np.sqrt((d1 - (d2**2 / n)) / (n - 1))\n",
    "print(standev)"
   ]
  },
  {
   "cell_type": "code",
   "execution_count": 662,
   "metadata": {},
   "outputs": [
    {
     "name": "stdout",
     "output_type": "stream",
     "text": [
      "0.07187554513612995\n"
     ]
    }
   ],
   "source": [
    "#calculate standard error of the difference between the means\n",
    "sed = standev / np.sqrt(n)\n",
    "print(sed)\n"
   ]
  },
  {
   "cell_type": "code",
   "execution_count": 663,
   "metadata": {},
   "outputs": [
    {
     "name": "stdout",
     "output_type": "stream",
     "text": [
      "1.2209312899764595\n"
     ]
    }
   ],
   "source": [
    "# calculate the t statistic\n",
    "t_stat = (social_sum_M - nonsocial_sum_M) / sed\n",
    "print(t_stat)"
   ]
  },
  {
   "cell_type": "code",
   "execution_count": 664,
   "metadata": {},
   "outputs": [
    {
     "name": "stdout",
     "output_type": "stream",
     "text": [
      "48\n"
     ]
    }
   ],
   "source": [
    "# degrees of freedom\n",
    "df = n - 1\n",
    "print(df)\n",
    "alpha= 0.05"
   ]
  },
  {
   "cell_type": "code",
   "execution_count": 665,
   "metadata": {},
   "outputs": [
    {
     "name": "stdout",
     "output_type": "stream",
     "text": [
      "t=1.221, df=48, cv=1.677, p=0.228\n",
      "Accept null hypothesis that the means are equal.\n",
      "Accept null hypothesis that the means are equal.\n"
     ]
    }
   ],
   "source": [
    "# calculate the critical value\n",
    "cv = t.ppf(1.0 - alpha, df)\n",
    "# calculate the p-value\n",
    "p = (1.0 - t.cdf(abs(t_stat), df)) * 2.0\n",
    "# return everything\n",
    "print('t=%.3f, df=%d, cv=%.3f, p=%.3f' % (t_stat, df, cv, p))\n",
    "# interpret via critical value\n",
    "if abs(t_stat) <= cv:\n",
    "\tprint('Accept null hypothesis that the means are equal.')\n",
    "else:\n",
    "\tprint('Reject the null hypothesis that the means are equal.')\n",
    "# interpret via p-value\n",
    "if p > alpha:\n",
    "\tprint('Accept null hypothesis that the means are equal.')\n",
    "else:\n",
    "\tprint('Reject the null hypothesis that the means are equal.')"
   ]
  },
  {
   "cell_type": "code",
   "execution_count": 666,
   "metadata": {},
   "outputs": [
    {
     "data": {
      "image/png": "[encoded data removed]",
      "text/plain": [
       "<Figure size 432x288 with 1 Axes>"
      ]
     },
     "metadata": {
      "needs_background": "light"
     },
     "output_type": "display_data"
    }
   ],
   "source": [
    "wtp_sum_means = pd.DataFrame({'experience_type': ['social','nonsocial'], 'mean_sum': [social_sum_M, nonsocial_sum_M]})\n",
    "\n",
    "wtp_plot = sns.barplot(x=wtp_sum_means.experience_type, y=wtp_sum_means.mean_sum, data=wtp_sum_means)\n"
   ]
  },
  {
   "cell_type": "code",
   "execution_count": 667,
   "metadata": {},
   "outputs": [],
   "source": [
    "#### sum // self-report ####"
   ]
  },
  {
   "cell_type": "code",
   "execution_count": 668,
   "metadata": {},
   "outputs": [
    {
     "data": {
      "image/png": "[encoded data removed]",
      "text/plain": [
       "<Figure size 432x288 with 1 Axes>"
      ]
     },
     "metadata": {
      "needs_background": "light"
     },
     "output_type": "display_data"
    },
    {
     "name": "stdout",
     "output_type": "stream",
     "text": [
      "[[0.07634668 0.06104663]\n",
      " [0.06104663 0.92708333]]\n",
      "Pearsons correlation: 0.229\n",
      "p value: 0.1127\n",
      "Accept null hypothesis that the means are equal.\n"
     ]
    }
   ],
   "source": [
    "#sum of social / mulitdimensional scale of perceived social support\n",
    "pyplot.scatter(social_sum, mspss)\n",
    "pyplot.show()\n",
    "covariance = cov(social_sum, mspss)\n",
    "print(covariance)\n",
    "corr, _ = pearsonr(social_sum, mspss)\n",
    "print('Pearsons correlation: %.3f' % corr)\n",
    "r,p = scipy.stats.pearsonr(social_sum, mspss)\n",
    "print('p value: %.4f' % p)\n",
    "alpha = 0.10\n",
    "if p > alpha:\n",
    "\tprint('Accept null hypothesis that the means are equal.')\n",
    "else:\n",
    "    print('Reject the null hypothesis that the means are equal.')"
   ]
  },
  {
   "cell_type": "code",
   "execution_count": 669,
   "metadata": {},
   "outputs": [
    {
     "data": {
      "image/png": "[encoded data removed]",
      "text/plain": [
       "<Figure size 432x288 with 1 Axes>"
      ]
     },
     "metadata": {
      "needs_background": "light"
     },
     "output_type": "display_data"
    },
    {
     "name": "stdout",
     "output_type": "stream",
     "text": [
      "[[ 0.07634668  0.13359269]\n",
      " [ 0.13359269 39.23639456]]\n",
      "Pearsons correlation: 0.077\n",
      "p value: 0.5981\n",
      "Accept null hypothesis that the means are equal.\n"
     ]
    }
   ],
   "source": [
    "#sum of social / aq\n",
    "pyplot.scatter(social_sum, aq)\n",
    "pyplot.show()\n",
    "covariance = cov(social_sum, aq)\n",
    "print(covariance)\n",
    "corr, _ = pearsonr(social_sum, aq)\n",
    "print('Pearsons correlation: %.3f' % corr)\n",
    "r,p = scipy.stats.pearsonr(social_sum, aq)\n",
    "print('p value: %.4f' % p)\n",
    "alpha = 0.10\n",
    "if p > alpha:\n",
    "\tprint('Accept null hypothesis that the means are equal.')\n",
    "else:\n",
    "    print('Reject the null hypothesis that the means are equal.')"
   ]
  },
  {
   "cell_type": "code",
   "execution_count": 670,
   "metadata": {},
   "outputs": [
    {
     "data": {
      "image/png": "[encoded data removed]",
      "text/plain": [
       "<Figure size 432x288 with 1 Axes>"
      ]
     },
     "metadata": {
      "needs_background": "light"
     },
     "output_type": "display_data"
    },
    {
     "name": "stdout",
     "output_type": "stream",
     "text": [
      "[[ 0.06788376 -0.04230159]\n",
      " [-0.04230159  0.92708333]]\n",
      "Pearsons correlation: -0.169\n",
      "p value: 0.2468\n",
      "Accept null hypothesis that the means are equal.\n"
     ]
    }
   ],
   "source": [
    "#sum of nonsocial / mulitdimensional scale of perceived social support\n",
    "pyplot.scatter(nonsocial_sum, mspss)\n",
    "pyplot.show()\n",
    "covariance = cov(nonsocial_sum, mspss)\n",
    "print(covariance)\n",
    "corr, _ = pearsonr(nonsocial_sum, mspss)\n",
    "print('Pearsons correlation: %.3f' % corr)\n",
    "r,p = scipy.stats.pearsonr(nonsocial_sum, mspss)\n",
    "print('p value: %.4f' % p)\n",
    "alpha = 0.10\n",
    "if p > alpha:\n",
    "\tprint('Accept null hypothesis that the means are equal.')\n",
    "else:\n",
    "    print('Reject the null hypothesis that the means are equal.')"
   ]
  },
  {
   "cell_type": "code",
   "execution_count": 671,
   "metadata": {},
   "outputs": [
    {
     "data": {
      "image/png": "[encoded data removed]",
      "text/plain": [
       "<Figure size 432x288 with 1 Axes>"
      ]
     },
     "metadata": {
      "needs_background": "light"
     },
     "output_type": "display_data"
    },
    {
     "name": "stdout",
     "output_type": "stream",
     "text": [
      "[[ 0.06788376 -0.1228699 ]\n",
      " [-0.1228699  39.23639456]]\n",
      "Pearsons correlation: -0.075\n",
      "p value: 0.6072\n",
      "Accept null hypothesis that the means are equal.\n"
     ]
    }
   ],
   "source": [
    "#sum of nonsocial  / aq\n",
    "pyplot.scatter(nonsocial_sum, aq)\n",
    "pyplot.show()\n",
    "covariance = cov(nonsocial_sum, aq)\n",
    "print(covariance)\n",
    "corr, _ = pearsonr(nonsocial_sum, aq)\n",
    "print('Pearsons correlation: %.3f' % corr)\n",
    "r,p = scipy.stats.pearsonr(nonsocial_sum, aq)\n",
    "print('p value: %.4f' % p)\n",
    "alpha = 0.10\n",
    "if p > alpha:\n",
    "\tprint('Accept null hypothesis that the means are equal.')\n",
    "else:\n",
    "    print('Reject the null hypothesis that the means are equal.')"
   ]
  },
  {
   "cell_type": "code",
   "execution_count": 672,
   "metadata": {},
   "outputs": [],
   "source": [
    "##############################################################################################"
   ]
  },
  {
   "cell_type": "code",
   "execution_count": 451,
   "metadata": {},
   "outputs": [
    {
     "name": "stdout",
     "output_type": "stream",
     "text": [
      "29\n"
     ]
    }
   ],
   "source": [
    "## total --  spent more on social vs non-social\n",
    "\n",
    "print(sum(wtpdata.moresocial))"
   ]
  },
  {
   "cell_type": "code",
   "execution_count": 452,
   "metadata": {},
   "outputs": [
    {
     "name": "stdout",
     "output_type": "stream",
     "text": [
      "                 participant  avg_spent_social  avg_spent_nonsocial  \\\n",
      "0   5beaed3f0af61d0001968d9a          0.033846             0.030000   \n",
      "1   5e70d4869ffb1404cb1f5070          0.024444             0.022174   \n",
      "2   5efc9ea8f8e7950584b12e87          0.032258             0.031579   \n",
      "3   5f3964ca4539e00bd5ce47fb          0.028750             0.028077   \n",
      "4   5f793609f8089e53266336f5          0.030233             0.030000   \n",
      "5   60fd9a010279e0f7e338571a          0.031154             0.026667   \n",
      "6   60fdae513bfebe2fe0122138          0.030435             0.025769   \n",
      "7   60fe2fb42ec6d443757a92fc          0.033571             0.032727   \n",
      "8   60ff2035293107014b9770e8          0.032143             0.029167   \n",
      "9   610040d9d3e1fbd63a3f41e5          0.029200             0.028000   \n",
      "10  6100b292b7fc7f30ec9132dc          0.030303             0.027059   \n",
      "11  6101667971d68405d105698a          0.025455             0.025357   \n",
      "12  61023e0830e893bec6bd8f3c          0.029032             0.028947   \n",
      "13  6103fa5faa24894dcd2cda34          0.040000             0.030000   \n",
      "14  610421096c1af729ade5aac1          0.026667             0.021176   \n",
      "15  610808ab1708833b02eb8a57          0.035294             0.033939   \n",
      "16  61088cda72a1106216fa4858          0.024815             0.022609   \n",
      "17  610934fd924a7b98497b2108          0.035312             0.033333   \n",
      "18  610999f68d373b548447abfe          0.032593             0.029130   \n",
      "19  6109c9dd829e3b0e3a87b8e8          0.031905             0.030345   \n",
      "20  610a06e4613ff666139fd6d9          0.028286             0.026000   \n",
      "21  610c59ee34cc312d7ca55e45          0.031081             0.030000   \n",
      "22  610d3d786149dbd00d635e26          0.037778             0.035217   \n",
      "23  610dd86540919edb725d1f3f          0.027097             0.025263   \n",
      "24  61110e69c5c85f3be8c8ebb4          0.023182             0.022143   \n",
      "25  61111442bb1b255927718949          0.024444             0.020870   \n",
      "26  61113effc33961d5c253618a          0.026562             0.018889   \n",
      "27  6111646d1922d97d81f4f9c1          0.034375             0.033333   \n",
      "28  611267d44fb8536ce68fe464          0.030435             0.028889   \n",
      "\n",
      "    total_spent_social  total_spent_nonsocial  prop_social  prop_nonsocial  \\\n",
      "0                 0.44                   1.08     0.265306        0.734694   \n",
      "1                 0.66                   0.51     0.540000        0.460000   \n",
      "2                 1.00                   0.60     0.620000        0.380000   \n",
      "3                 0.69                   0.73     0.480000        0.520000   \n",
      "4                 1.30                   0.21     0.860000        0.140000   \n",
      "5                 0.81                   0.64     0.520000        0.480000   \n",
      "6                 0.70                   0.67     0.469388        0.530612   \n",
      "7                 0.94                   0.72     0.560000        0.440000   \n",
      "8                 0.45                   1.05     0.280000        0.720000   \n",
      "9                 0.73                   0.70     0.500000        0.500000   \n",
      "10                1.00                   0.46     0.660000        0.340000   \n",
      "11                0.56                   0.71     0.440000        0.560000   \n",
      "12                0.90                   0.55     0.620000        0.380000   \n",
      "13                0.16                   1.35     0.081633        0.918367   \n",
      "14                0.88                   0.36     0.660000        0.340000   \n",
      "15                0.60                   1.12     0.340000        0.660000   \n",
      "16                0.67                   0.52     0.540000        0.460000   \n",
      "17                1.13                   0.60     0.640000        0.360000   \n",
      "18                0.88                   0.67     0.540000        0.460000   \n",
      "19                0.67                   0.88     0.420000        0.580000   \n",
      "20                0.99                   0.39     0.700000        0.300000   \n",
      "21                1.15                   0.39     0.740000        0.260000   \n",
      "22                1.02                   0.81     0.540000        0.460000   \n",
      "23                0.84                   0.48     0.620000        0.380000   \n",
      "24                0.51                   0.62     0.440000        0.560000   \n",
      "25                0.66                   0.48     0.540000        0.460000   \n",
      "26                0.85                   0.34     0.640000        0.360000   \n",
      "27                1.10                   0.60     0.640000        0.360000   \n",
      "28                0.70                   0.78     0.460000        0.540000   \n",
      "\n",
      "    moresocial  prop_moresocial  AQ     MSPSS  \n",
      "0            1                0  28  3.916667  \n",
      "1            1                1  19  6.000000  \n",
      "2            1                1  32  5.750000  \n",
      "3            1                0  18  5.333333  \n",
      "4            1                1  10  6.500000  \n",
      "5            1                1  13  5.916667  \n",
      "6            1                0  20  5.250000  \n",
      "7            1                1  15  7.000000  \n",
      "8            1                0  19  5.333333  \n",
      "9            1                0  25  6.166667  \n",
      "10           1                1  24  6.166667  \n",
      "11           1                0  23  4.416667  \n",
      "12           1                1  16  6.916667  \n",
      "13           1                0  13  4.750000  \n",
      "14           1                1  16  5.416667  \n",
      "15           1                0  21  6.250000  \n",
      "16           1                1  20  6.583333  \n",
      "17           1                1  23  6.166667  \n",
      "18           1                1  10  5.416667  \n",
      "19           1                0  29  6.916667  \n",
      "20           1                1  21  4.166667  \n",
      "21           1                1  44  6.166667  \n",
      "22           1                1  22  5.500000  \n",
      "23           1                1  15  4.583333  \n",
      "24           1                0  24  7.000000  \n",
      "25           1                1  21  5.166667  \n",
      "26           1                1  32  5.666667  \n",
      "27           1                1  16  7.000000  \n",
      "28           1                0  20  7.000000  \n"
     ]
    }
   ],
   "source": [
    "allmoresocials= pd.read_csv('allmoresocials.csv')\n",
    "print(allmoresocials)"
   ]
  },
  {
   "cell_type": "code",
   "execution_count": 453,
   "metadata": {},
   "outputs": [
    {
     "name": "stdout",
     "output_type": "stream",
     "text": [
      "group mean: 0.030367217793\n",
      "standard error of the mean: 0.000765467731\n"
     ]
    }
   ],
   "source": [
    "socialavg = allmoresocials.avg_spent_social\n",
    "#calculate group mean for av spent on social experiences\n",
    "social_M = mean(socialavg)\n",
    "print('group mean: %.12f'% (social_M))\n",
    "print('standard error of the mean: %.12f'% (sem(socialavg)))"
   ]
  },
  {
   "cell_type": "code",
   "execution_count": 454,
   "metadata": {},
   "outputs": [
    {
     "name": "stdout",
     "output_type": "stream",
     "text": [
      "group mean: 0.027815868793\n",
      "standard error of the mean: 0.000791041285\n"
     ]
    }
   ],
   "source": [
    "nonsocialavg = allmoresocials.avg_spent_nonsocial\n",
    "#calculate group mean for av spent on non-social experiences\n",
    "nonsocial_M = mean(nonsocialavg)\n",
    "print('group mean: %.12f'% (nonsocial_M))\n",
    "print('standard error of the mean: %.12f'% (sem(nonsocialavg)))"
   ]
  },
  {
   "cell_type": "code",
   "execution_count": 455,
   "metadata": {},
   "outputs": [
    {
     "name": "stdout",
     "output_type": "stream",
     "text": [
      "29\n"
     ]
    }
   ],
   "source": [
    "#sample size\n",
    "n = len(allmoresocials)\n",
    "print(n)"
   ]
  },
  {
   "cell_type": "code",
   "execution_count": 456,
   "metadata": {},
   "outputs": [
    {
     "name": "stdout",
     "output_type": "stream",
     "text": [
      "0.00033208139412336705 0.07398912099999999\n",
      "0.0022623417407091556\n",
      "0.0004201063146130469\n"
     ]
    }
   ],
   "source": [
    "#Calculate STD\n",
    "# sum squared difference between observations\n",
    "d1 = sum([(socialavg[i]-nonsocialavg[i])**2 for i in range(n)])\n",
    "# sum difference between observations\n",
    "d2 = sum([socialavg[i]-nonsocialavg[i] for i in range(n)])\n",
    "print(d1,d2)\n",
    "\n",
    "# standard deviation of the difference between means\n",
    "standev = np.sqrt((d1 - (d2**2 / n)) / (n - 1))\n",
    "print(standev)\n",
    "\n",
    "#calculate standard error of the difference between the means\n",
    "sed = standev / np.sqrt(n)\n",
    "print(sed)"
   ]
  },
  {
   "cell_type": "code",
   "execution_count": 457,
   "metadata": {},
   "outputs": [
    {
     "name": "stdout",
     "output_type": "stream",
     "text": [
      "6.073103191390988\n"
     ]
    }
   ],
   "source": [
    "# calculate the t statistic\n",
    "t_stat = (social_M - nonsocial_M) / sed\n",
    "print(t_stat)"
   ]
  },
  {
   "cell_type": "code",
   "execution_count": 458,
   "metadata": {},
   "outputs": [
    {
     "name": "stdout",
     "output_type": "stream",
     "text": [
      "28\n"
     ]
    }
   ],
   "source": [
    "# degrees of freedom\n",
    "df = n - 1\n",
    "print(df)\n",
    "alpha= 0.05"
   ]
  },
  {
   "cell_type": "code",
   "execution_count": 459,
   "metadata": {},
   "outputs": [
    {
     "name": "stdout",
     "output_type": "stream",
     "text": [
      "t=6.073, df=28, cv=1.701, p=0.000\n",
      "Reject the null hypothesis that the means are equal.\n",
      "Reject the null hypothesis that the means are equal.\n"
     ]
    }
   ],
   "source": [
    "# calculate the critical value\n",
    "cv = t.ppf(1.0 - alpha, df)\n",
    "# calculate the p-value\n",
    "p = (1.0 - t.cdf(abs(t_stat), df)) * 2.0\n",
    "# return everything\n",
    "print('t=%.3f, df=%d, cv=%.3f, p=%.3f' % (t_stat, df, cv, p))\n",
    "# interpret via critical value\n",
    "if abs(t_stat) <= cv:\n",
    "\tprint('Accept null hypothesis that the means are equal.')\n",
    "else:\n",
    "\tprint('Reject the null hypothesis that the means are equal.')\n",
    "# interpret via p-value\n",
    "if p > alpha:\n",
    "\tprint('Accept null hypothesis that the means are equal.')\n",
    "else:\n",
    "\tprint('Reject the null hypothesis that the means are equal.')"
   ]
  },
  {
   "cell_type": "code",
   "execution_count": 369,
   "metadata": {},
   "outputs": [
    {
     "data": {
      "image/png": "[encoded data removed]",
      "text/plain": [
       "<Figure size 432x288 with 1 Axes>"
      ]
     },
     "metadata": {
      "needs_background": "light"
     },
     "output_type": "display_data"
    }
   ],
   "source": [
    "wtp_means = pd.DataFrame({'experience_type': ['social','nonsocial'], 'average_spent': [social_M, nonsocial_M]})\n",
    "\n",
    "wtp_plot = sns.barplot(x=wtp_means.experience_type, y=wtp_means.average_spent, data=wtp_means)\n"
   ]
  },
  {
   "cell_type": "code",
   "execution_count": 460,
   "metadata": {},
   "outputs": [
    {
     "name": "stdout",
     "output_type": "stream",
     "text": [
      "0.608682219770006\n"
     ]
    }
   ],
   "source": [
    "#calculate effect size- cohens d\n",
    "\n",
    "cohens_d = (mean(socialavg) - mean(nonsocialavg)) / (sqrt((stdev(socialavg) ** 2 + stdev(nonsocialavg) ** 2) / 2))\n",
    "\n",
    "print(cohens_d)\n"
   ]
  },
  {
   "cell_type": "code",
   "execution_count": 462,
   "metadata": {},
   "outputs": [],
   "source": [
    "prop_social = allmoresocials['prop_social']\n",
    "aq = allmoresocials.AQ #autism quotient\n",
    "mspss = allmoresocials.MSPSS #perceived social support\n"
   ]
  },
  {
   "cell_type": "code",
   "execution_count": 463,
   "metadata": {},
   "outputs": [
    {
     "data": {
      "image/png": "[encoded data removed]",
      "text/plain": [
       "<Figure size 432x288 with 1 Axes>"
      ]
     },
     "metadata": {
      "needs_background": "light"
     },
     "output_type": "display_data"
    },
    {
     "name": "stdout",
     "output_type": "stream",
     "text": [
      "[[ 1.69922846e-05 -5.19022079e-05]\n",
      " [-5.19022079e-05  8.00150520e-01]]\n",
      "Pearsons correlation: -0.014\n",
      "p value: 0.9422\n",
      "Accept null hypothesis that the means are equal.\n"
     ]
    }
   ],
   "source": [
    "#amount spent on social / mulitdimensional scale of perceived social support\n",
    "pyplot.scatter(socialavg, mspss)\n",
    "pyplot.show()\n",
    "covariance = cov(socialavg, mspss)\n",
    "print(covariance)\n",
    "corr, _ = pearsonr(socialavg, mspss)\n",
    "print('Pearsons correlation: %.3f' % corr)\n",
    "r,p = scipy.stats.pearsonr(socialavg, mspss)\n",
    "print('p value: %.4f' % p)\n",
    "alpha = 0.10\n",
    "if p > alpha:\n",
    "\tprint('Accept null hypothesis that the means are equal.')\n",
    "else:\n",
    "    print('Reject the null hypothesis that the means are equal.')"
   ]
  },
  {
   "cell_type": "code",
   "execution_count": 464,
   "metadata": {},
   "outputs": [
    {
     "data": {
      "image/png": "[encoded data removed]",
      "text/plain": [
       "<Figure size 432x288 with 1 Axes>"
      ]
     },
     "metadata": {
      "needs_background": "light"
     },
     "output_type": "display_data"
    },
    {
     "name": "stdout",
     "output_type": "stream",
     "text": [
      "[[ 1.69922846e-05 -2.47059254e-03]\n",
      " [-2.47059254e-03  5.22857143e+01]]\n",
      "Pearsons correlation: -0.083\n",
      "p value: 0.6690\n",
      "Accept null hypothesis that the means are equal.\n"
     ]
    }
   ],
   "source": [
    "#amount spent on social / aq\n",
    "pyplot.scatter(socialavg, aq)\n",
    "pyplot.show()\n",
    "covariance = cov(socialavg, aq)\n",
    "print(covariance)\n",
    "corr, _ = pearsonr(socialavg, aq)\n",
    "print('Pearsons correlation: %.3f' % corr)\n",
    "r,p = scipy.stats.pearsonr(socialavg, aq)\n",
    "print('p value: %.4f' % p)\n",
    "alpha = 0.10\n",
    "if p > alpha:\n",
    "\tprint('Accept null hypothesis that the means are equal.')\n",
    "else:\n",
    "    print('Reject the null hypothesis that the means are equal.')\n"
   ]
  },
  {
   "cell_type": "code",
   "execution_count": 465,
   "metadata": {},
   "outputs": [
    {
     "data": {
      "image/png": "[encoded data removed]",
      "text/plain": [
       "<Figure size 432x288 with 1 Axes>"
      ]
     },
     "metadata": {
      "needs_background": "light"
     },
     "output_type": "display_data"
    },
    {
     "name": "stdout",
     "output_type": "stream",
     "text": [
      "[[0.02456298 0.03784755]\n",
      " [0.03784755 0.80015052]]\n",
      "Pearsons correlation: 0.270\n",
      "p value: 0.1567\n",
      "Accept null hypothesis that the means are equal.\n"
     ]
    }
   ],
   "source": [
    "##### prop of chosen social // self report #####\n",
    "#prop of chosen social // MSPSS\n",
    "pyplot.scatter(prop_social, mspss)\n",
    "pyplot.show()\n",
    "covariance = cov(prop_social, mspss)\n",
    "print(covariance)\n",
    "corr, _ = pearsonr(prop_social, mspss)\n",
    "print('Pearsons correlation: %.3f' % corr)\n",
    "r,p = scipy.stats.pearsonr(prop_social, mspss)\n",
    "print('p value: %.4f' % p)\n",
    "alpha = 0.10\n",
    "if p > alpha:\n",
    "\tprint('Accept null hypothesis that the means are equal.')\n",
    "else:\n",
    "    print('Reject the null hypothesis that the means are equal.')\n"
   ]
  },
  {
   "cell_type": "code",
   "execution_count": 466,
   "metadata": {},
   "outputs": [
    {
     "data": {
      "image/png": "[encoded data removed]",
      "text/plain": [
       "<Figure size 432x288 with 1 Axes>"
      ]
     },
     "metadata": {
      "needs_background": "light"
     },
     "output_type": "display_data"
    },
    {
     "name": "stdout",
     "output_type": "stream",
     "text": [
      "[[2.45629830e-02 9.48104955e-02]\n",
      " [9.48104955e-02 5.22857143e+01]]\n",
      "Pearsons correlation: 0.084\n",
      "p value: 0.6661\n",
      "Accept null hypothesis that the means are equal.\n"
     ]
    }
   ],
   "source": [
    "# prop social // aq\n",
    "pyplot.scatter(prop_social, aq)\n",
    "pyplot.show()\n",
    "covariance = cov(prop_social, aq)\n",
    "print(covariance)\n",
    "corr, _ = pearsonr(prop_social, aq)\n",
    "print('Pearsons correlation: %.3f' % corr)\n",
    "r,p = scipy.stats.pearsonr(prop_social, aq)\n",
    "print('p value: %.4f' % p)\n",
    "\n",
    "alpha = 0.10\n",
    "if p > alpha:\n",
    "\tprint('Accept null hypothesis that the means are equal.')\n",
    "else:\n",
    "    print('Reject the null hypothesis that the means are equal.')\n"
   ]
  },
  {
   "cell_type": "code",
   "execution_count": 467,
   "metadata": {},
   "outputs": [
    {
     "data": {
      "image/png": "[encoded data removed]",
      "text/plain": [
       "<Figure size 432x288 with 1 Axes>"
      ]
     },
     "metadata": {
      "needs_background": "light"
     },
     "output_type": "display_data"
    },
    {
     "name": "stdout",
     "output_type": "stream",
     "text": [
      "[[1.81466431e-05 7.60745099e-04]\n",
      " [7.60745099e-04 8.00150520e-01]]\n",
      "Pearsons correlation: 0.200\n",
      "p value: 0.2991\n",
      "Accept null hypothesis that the means are equal.\n"
     ]
    }
   ],
   "source": [
    "##### avg spent on nonsocial // self report #####\n",
    "# nonsocial // mspss (social support)\n",
    "pyplot.scatter(nonsocialavg, mspss)\n",
    "pyplot.show()\n",
    "covariance = cov(nonsocialavg, mspss)\n",
    "print(covariance)\n",
    "corr, _ = pearsonr(nonsocialavg, mspss)\n",
    "print('Pearsons correlation: %.3f' % corr)\n",
    "r,p = scipy.stats.pearsonr(nonsocialavg, mspss)\n",
    "print('p value: %.4f' % p)\n",
    "alpha = 0.10\n",
    "if p > alpha:\n",
    "\tprint('Accept null hypothesis that the means are equal.')\n",
    "else:\n",
    "    print('Reject the null hypothesis that the means are equal.')\n"
   ]
  },
  {
   "cell_type": "code",
   "execution_count": 468,
   "metadata": {},
   "outputs": [
    {
     "data": {
      "image/png": "[encoded data removed]",
      "text/plain": [
       "<Figure size 432x288 with 1 Axes>"
      ]
     },
     "metadata": {
      "needs_background": "light"
     },
     "output_type": "display_data"
    },
    {
     "name": "stdout",
     "output_type": "stream",
     "text": [
      "[[ 1.81466431e-05 -8.23825214e-04]\n",
      " [-8.23825214e-04  5.22857143e+01]]\n",
      "Pearsons correlation: -0.027\n",
      "p value: 0.8905\n",
      "Accept null hypothesis that the means are equal.\n"
     ]
    }
   ],
   "source": [
    "# nonsocial // aq\n",
    "pyplot.scatter(nonsocialavg, aq)\n",
    "pyplot.show()\n",
    "covariance = cov(nonsocialavg, aq)\n",
    "print(covariance)\n",
    "corr, _ = pearsonr(nonsocialavg, aq)\n",
    "print('Pearsons correlation: %.3f' % corr)\n",
    "r,p = scipy.stats.pearsonr(nonsocialavg, aq)\n",
    "print('p value: %.4f' % p)\n",
    "alpha = 0.10\n",
    "if p > alpha:\n",
    "\tprint('Accept null hypothesis that the means are equal.')\n",
    "else:\n",
    "    print('Reject the null hypothesis that the means are equal.')"
   ]
  },
  {
   "cell_type": "code",
   "execution_count": 469,
   "metadata": {},
   "outputs": [],
   "source": [
    "###################################\n",
    "#### t stat for proportions ####"
   ]
  },
  {
   "cell_type": "code",
   "execution_count": 470,
   "metadata": {},
   "outputs": [
    {
     "name": "stdout",
     "output_type": "stream",
     "text": [
      "mean: 0.529528501034\n"
     ]
    }
   ],
   "source": [
    "prop_socialavg= allmoresocials.prop_social\n",
    "#calculate group mean for prop of chosen social experiences\n",
    "prop_soc_M = mean(prop_socialavg)\n",
    "print('mean: %.12f'% (prop_soc_M))\n"
   ]
  },
  {
   "cell_type": "code",
   "execution_count": 471,
   "metadata": {},
   "outputs": [
    {
     "name": "stdout",
     "output_type": "stream",
     "text": [
      "mean: 0.470471498966\n"
     ]
    }
   ],
   "source": [
    "prop_nonsocialavg= allmoresocials.prop_nonsocial\n",
    "#calculate group mean for prop of chosen social experiences\n",
    "prop_nonsoc_M = mean(prop_nonsocialavg)\n",
    "print('mean: %.12f'% (prop_nonsoc_M))"
   ]
  },
  {
   "cell_type": "code",
   "execution_count": 472,
   "metadata": {},
   "outputs": [
    {
     "name": "stdout",
     "output_type": "stream",
     "text": [
      "2.8521982518017497 1.71265306\n"
     ]
    }
   ],
   "source": [
    "#Calculate STD\n",
    "# sum squared difference between observations\n",
    "d1 = sum([(prop_socialavg[i]-prop_nonsocialavg[i])**2 for i in range(n)])\n",
    "# sum difference between observations\n",
    "d2 = sum([prop_socialavg[i]-prop_nonsocialavg[i] for i in range(n)])\n",
    "print(d1,d2)"
   ]
  },
  {
   "cell_type": "code",
   "execution_count": 473,
   "metadata": {},
   "outputs": [
    {
     "name": "stdout",
     "output_type": "stream",
     "text": [
      "0.3134516422315245\n"
     ]
    }
   ],
   "source": [
    "# standard deviation of the difference between means\n",
    "standev = np.sqrt((d1 - (d2**2 / n)) / (n - 1))\n",
    "print(standev)\n"
   ]
  },
  {
   "cell_type": "code",
   "execution_count": 474,
   "metadata": {},
   "outputs": [
    {
     "name": "stdout",
     "output_type": "stream",
     "text": [
      "0.05820650870633522\n"
     ]
    }
   ],
   "source": [
    "#calculate standard error of the difference between the means\n",
    "sed = standev / np.sqrt(n)\n",
    "print(sed)\n"
   ]
  },
  {
   "cell_type": "code",
   "execution_count": 475,
   "metadata": {},
   "outputs": [
    {
     "name": "stdout",
     "output_type": "stream",
     "text": [
      "1.014611653946146\n"
     ]
    }
   ],
   "source": [
    "# calculate the t statistic\n",
    "t_stat = (prop_soc_M - prop_nonsoc_M) / sed\n",
    "print(t_stat)\n"
   ]
  },
  {
   "cell_type": "code",
   "execution_count": 476,
   "metadata": {},
   "outputs": [
    {
     "name": "stdout",
     "output_type": "stream",
     "text": [
      "28\n"
     ]
    }
   ],
   "source": [
    "# degrees of freedom\n",
    "df = n - 1\n",
    "print(df)\n",
    "alpha= 0.05"
   ]
  },
  {
   "cell_type": "code",
   "execution_count": 477,
   "metadata": {},
   "outputs": [
    {
     "name": "stdout",
     "output_type": "stream",
     "text": [
      "t=1.015, df=28, cv=1.701, p=0.319\n",
      "Accept null hypothesis that the means are equal.\n",
      "Accept null hypothesis that the means are equal.\n"
     ]
    }
   ],
   "source": [
    "# calculate the critical value\n",
    "cv = t.ppf(1.0 - alpha, df)\n",
    "# calculate the p-value\n",
    "p = (1.0 - t.cdf(abs(t_stat), df)) * 2.0\n",
    "# return everything\n",
    "print('t=%.3f, df=%d, cv=%.3f, p=%.3f' % (t_stat, df, cv, p))\n",
    "# interpret via critical value\n",
    "if abs(t_stat) <= cv:\n",
    "\tprint('Accept null hypothesis that the means are equal.')\n",
    "else:\n",
    "\tprint('Reject the null hypothesis that the means are equal.')\n",
    "# interpret via p-value\n",
    "if p > alpha:\n",
    "\tprint('Accept null hypothesis that the means are equal.')\n",
    "else:\n",
    "\tprint('Reject the null hypothesis that the means are equal.')\n"
   ]
  },
  {
   "cell_type": "code",
   "execution_count": 478,
   "metadata": {},
   "outputs": [
    {
     "data": {
      "image/png": "[encoded data removed]",
      "text/plain": [
       "<Figure size 432x288 with 1 Axes>"
      ]
     },
     "metadata": {
      "needs_background": "light"
     },
     "output_type": "display_data"
    }
   ],
   "source": [
    "wtp_means = pd.DataFrame({'experience_type': ['social','nonsocial'], 'prop_chosen': [prop_soc_M, prop_nonsoc_M]})\n",
    "\n",
    "wtp_plot = sns.barplot(x=wtp_means.experience_type, y=wtp_means.prop_chosen, data=wtp_means)\n"
   ]
  },
  {
   "cell_type": "code",
   "execution_count": 479,
   "metadata": {},
   "outputs": [],
   "source": [
    "###################################\n",
    "#### t stats for sums #####"
   ]
  },
  {
   "cell_type": "code",
   "execution_count": 480,
   "metadata": {},
   "outputs": [
    {
     "name": "stdout",
     "output_type": "stream",
     "text": [
      "mean: 0.792758620690\n"
     ]
    }
   ],
   "source": [
    "social_sum= allmoresocials.total_spent_social\n",
    "#calculate group mean for prop of chosen social experiences\n",
    "social_sum_M = mean(social_sum)\n",
    "print('mean: %.12f'% (social_sum_M))\n"
   ]
  },
  {
   "cell_type": "code",
   "execution_count": 481,
   "metadata": {},
   "outputs": [
    {
     "name": "stdout",
     "output_type": "stream",
     "text": [
      "mean: 0.655862068966\n"
     ]
    }
   ],
   "source": [
    "nonsocial_sum= allmoresocials.total_spent_nonsocial\n",
    "#calculate group mean for prop of chosen social experiences\n",
    "nonsocial_sum_M = mean(nonsocial_sum)\n",
    "print('mean: %.12f'% (nonsocial_sum_M))"
   ]
  },
  {
   "cell_type": "code",
   "execution_count": 482,
   "metadata": {},
   "outputs": [
    {
     "name": "stdout",
     "output_type": "stream",
     "text": [
      "6.678300000000003 3.9699999999999998\n",
      "0.46808197884158737\n"
     ]
    }
   ],
   "source": [
    "# sum squared difference between observations\n",
    "d1 = sum([(social_sum[i]-nonsocial_sum[i])**2 for i in range(n)])\n",
    "# sum difference between observations\n",
    "d2 = sum([social_sum[i]-nonsocial_sum[i] for i in range(n)])\n",
    "print(d1,d2)\n",
    "\n",
    "# standard deviation of the difference between means\n",
    "standev = np.sqrt((d1 - (d2**2 / n)) / (n - 1))\n",
    "print(standev)\n"
   ]
  },
  {
   "cell_type": "code",
   "execution_count": 483,
   "metadata": {},
   "outputs": [
    {
     "name": "stdout",
     "output_type": "stream",
     "text": [
      "0.0869206413555722\n"
     ]
    }
   ],
   "source": [
    "#calculate standard error of the difference between the means\n",
    "sed = standev / np.sqrt(n)\n",
    "print(sed)"
   ]
  },
  {
   "cell_type": "code",
   "execution_count": 484,
   "metadata": {},
   "outputs": [
    {
     "name": "stdout",
     "output_type": "stream",
     "text": [
      "1.574960211857226\n"
     ]
    }
   ],
   "source": [
    "# calculate the t statistic\n",
    "t_stat = (social_sum_M - nonsocial_sum_M) / sed\n",
    "print(t_stat)"
   ]
  },
  {
   "cell_type": "code",
   "execution_count": 485,
   "metadata": {},
   "outputs": [
    {
     "name": "stdout",
     "output_type": "stream",
     "text": [
      "28\n"
     ]
    }
   ],
   "source": [
    "# degrees of freedom\n",
    "df = n - 1\n",
    "print(df)\n",
    "alpha= 0.05"
   ]
  },
  {
   "cell_type": "code",
   "execution_count": 486,
   "metadata": {},
   "outputs": [
    {
     "name": "stdout",
     "output_type": "stream",
     "text": [
      "t=1.575, df=28, cv=1.701, p=0.126\n",
      "Accept null hypothesis that the means are equal.\n",
      "Accept null hypothesis that the means are equal.\n"
     ]
    }
   ],
   "source": [
    "# calculate the critical value\n",
    "cv = t.ppf(1.0 - alpha, df)\n",
    "# calculate the p-value\n",
    "p = (1.0 - t.cdf(abs(t_stat), df)) * 2.0\n",
    "# return everything\n",
    "print('t=%.3f, df=%d, cv=%.3f, p=%.3f' % (t_stat, df, cv, p))\n",
    "# interpret via critical value\n",
    "if abs(t_stat) <= cv:\n",
    "\tprint('Accept null hypothesis that the means are equal.')\n",
    "else:\n",
    "\tprint('Reject the null hypothesis that the means are equal.')\n",
    "# interpret via p-value\n",
    "if p > alpha:\n",
    "\tprint('Accept null hypothesis that the means are equal.')\n",
    "else:\n",
    "\tprint('Reject the null hypothesis that the means are equal.')\n"
   ]
  },
  {
   "cell_type": "code",
   "execution_count": 487,
   "metadata": {},
   "outputs": [
    {
     "data": {
      "image/png": "[encoded data removed]",
      "text/plain": [
       "<Figure size 432x288 with 1 Axes>"
      ]
     },
     "metadata": {
      "needs_background": "light"
     },
     "output_type": "display_data"
    }
   ],
   "source": [
    "wtp_sum_means = pd.DataFrame({'experience_type': ['social','nonsocial'], 'mean_sum': [social_sum_M, nonsocial_sum_M]})\n",
    "\n",
    "wtp_plot = sns.barplot(x=wtp_sum_means.experience_type, y=wtp_sum_means.mean_sum, data=wtp_sum_means)\n"
   ]
  }
 ],
 "metadata": {
  "kernelspec": {
   "display_name": "Python 3",
   "language": "python",
   "name": "python3"
  },
  "language_info": {
   "codemirror_mode": {
    "name": "ipython",
    "version": 3
   },
   "file_extension": ".py",
   "mimetype": "text/x-python",
   "name": "python",
   "nbconvert_exporter": "python",
   "pygments_lexer": "ipython3",
   "version": "3.8.5"
  }
 },
 "nbformat": 4,
 "nbformat_minor": 5
}
