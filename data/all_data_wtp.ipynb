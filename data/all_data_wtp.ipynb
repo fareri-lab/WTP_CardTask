{
 "cells": [
  {
   "cell_type": "code",
   "execution_count": 99,
   "metadata": {},
   "outputs": [],
   "source": [
    "#import packages\n",
    "from __future__ import division #Ensure division returns float\n",
    "import pandas as pd\n",
    "import numpy as np\n",
    "from math import sqrt\n",
    "from numpy.random import seed, randn\n",
    "from numpy import mean\n",
    "from scipy.stats import t\n",
    "import seaborn as sns\n",
    "import matplotlib.pyplot as plt\n",
    "from numpy import mean, std # version >= 1.7.1 && <= 1.9.1\n",
    "from math import sqrt\n",
    "import sys\n",
    "from statistics import mean, stdev\n",
    "from math import sqrt\n",
    "from numpy import mean\n",
    "from scipy.stats import t, pearsonr\n",
    "from numpy import mean\n",
    "from numpy import std\n",
    "from numpy import cov\n",
    "from scipy.stats import pearsonr\n",
    "from matplotlib import pyplot\n",
    "\n"
   ]
  },
  {
   "cell_type": "code",
   "execution_count": 100,
   "metadata": {},
   "outputs": [
    {
     "name": "stdout",
     "output_type": "stream",
     "text": [
      "                  participant  avg_spent_social  avg_spent_nonsocial  \\\n",
      "0    5ea3310bf9c4f828f0c909c5          0.030244             0.029000   \n",
      "1    5eeaff28cf5da71d691ef212          0.026000             0.028780   \n",
      "2    5ee1bc2e2be5f61f0eaf1713          0.027308             0.028000   \n",
      "3   ﻿5cfecc1e96681500168a1799          0.038333             0.037037   \n",
      "4    5ff362e8c9707d8ff6020080          0.028800             0.026800   \n",
      "5   ﻿5e76742575ad9c0506e721bb          0.031667             0.029091   \n",
      "6    ﻿5ef76ff7d195c248bfe2511          0.031795             0.030833   \n",
      "7   ﻿5f7e4fbc36d39211c80599fe          0.035263             0.027813   \n",
      "8   ﻿5f8dd51f6d2378145bf99cdc          0.035000             0.029063   \n",
      "9   ﻿5f12b3a2791d172281e7d6a9          0.028621             0.024545   \n",
      "10  ﻿5f974745d58f7f0fca155a48          0.029615             0.027200   \n",
      "11  ﻿5ff0a56b116bbf440e520992          0.037692             0.029600   \n",
      "12  ﻿566c9284d408ea000519c6d7          0.018889             0.017500   \n",
      "13  ﻿5f2dc46d6fa1250ee8a1a15d          0.035333             0.036500   \n",
      "14   5f5f09ebf7e0497dcdb37dee          0.040000             0.037826   \n",
      "15   5f50dc440305bb077d82eca4          0.040000             0.036539   \n",
      "16   5f53216409e6d06275ef0545          0.038387             0.037895   \n",
      "17   5ff37f2588f05799fa9a9873          0.028710             0.023158   \n",
      "\n",
      "    %_social      DIFF  \n",
      "0   0.803922  0.001244  \n",
      "1   0.196078 -0.002780  \n",
      "2   0.509804 -0.000692  \n",
      "3   0.470588  0.001296  \n",
      "4   0.490566  0.002000  \n",
      "5   0.352941  0.002576  \n",
      "6   0.764706  0.000962  \n",
      "7   0.372549  0.007451  \n",
      "8   0.372549  0.005938  \n",
      "9   0.568627  0.004075  \n",
      "10  0.509804  0.002415  \n",
      "11  0.509804  0.008092  \n",
      "12  0.529412  0.001389  \n",
      "13  0.600000 -0.001167  \n",
      "14  0.540000  0.002174  \n",
      "15  0.680000  0.003461  \n",
      "16  0.622642  0.000492  \n",
      "17  0.620000  0.005552  \n"
     ]
    }
   ],
   "source": [
    "#import excel file containing data summary\n",
    "wtpdata = pd.read_excel(r'wtp_task_summary.xlsx')\n",
    "print(wtpdata)\n"
   ]
  },
  {
   "cell_type": "code",
   "execution_count": 101,
   "metadata": {},
   "outputs": [
    {
     "name": "stdout",
     "output_type": "stream",
     "text": [
      "0.03231427780595933\n"
     ]
    }
   ],
   "source": [
    "socialavg= wtpdata.avg_spent_social\n",
    "#calculate group mean for av spent on social experiences\n",
    "social_M = mean(socialavg)\n",
    "print(social_M)"
   ]
  },
  {
   "cell_type": "code",
   "execution_count": 102,
   "metadata": {},
   "outputs": [
    {
     "name": "stdout",
     "output_type": "stream",
     "text": [
      "0.029843302241504492\n"
     ]
    }
   ],
   "source": [
    "nonsocialavg = wtpdata.avg_spent_nonsocial\n",
    "#calculate group mean for av spent on non-social experiences\n",
    "\n",
    "nonsocial_M = mean(nonsocialavg)\n",
    "print(nonsocial_M)\n"
   ]
  },
  {
   "cell_type": "code",
   "execution_count": 103,
   "metadata": {},
   "outputs": [
    {
     "name": "stdout",
     "output_type": "stream",
     "text": [
      "18\n"
     ]
    }
   ],
   "source": [
    "#sample size\n",
    "n = len(wtpdata)\n",
    "print(n)"
   ]
  },
  {
   "cell_type": "code",
   "execution_count": 104,
   "metadata": {},
   "outputs": [
    {
     "name": "stdout",
     "output_type": "stream",
     "text": [
      "0.00025275315626193713 0.044477560160187196\n",
      "0.0028987846534422003\n"
     ]
    }
   ],
   "source": [
    "#Calculate STD\n",
    "# sum squared difference between observations\n",
    "d1 = sum([(socialavg[i]-nonsocialavg[i])**2 for i in range(n)])\n",
    "# sum difference between observations\n",
    "d2 = sum([socialavg[i]-nonsocialavg[i] for i in range(n)])\n",
    "print(d1,d2)\n",
    "\n",
    "# standard deviation of the difference between means\n",
    "standev = np.sqrt((d1 - (d2**2 / n)) / (n - 1))\n",
    "print(standev)"
   ]
  },
  {
   "cell_type": "code",
   "execution_count": 105,
   "metadata": {},
   "outputs": [
    {
     "name": "stdout",
     "output_type": "stream",
     "text": [
      "0.0006832500952161587\n"
     ]
    }
   ],
   "source": [
    "#calculate standard error of the difference between the means\n",
    "sed = standev / np.sqrt(n)\n",
    "print(sed)"
   ]
  },
  {
   "cell_type": "code",
   "execution_count": 106,
   "metadata": {},
   "outputs": [
    {
     "name": "stdout",
     "output_type": "stream",
     "text": [
      "3.6165023345852574\n"
     ]
    }
   ],
   "source": [
    "# calculate the t statistic\n",
    "t_stat = (social_M - nonsocial_M) / sed\n",
    "print(t_stat)"
   ]
  },
  {
   "cell_type": "code",
   "execution_count": 107,
   "metadata": {},
   "outputs": [
    {
     "name": "stdout",
     "output_type": "stream",
     "text": [
      "17\n"
     ]
    }
   ],
   "source": [
    "# degrees of freedom\n",
    "df = n - 1\n",
    "print(df)\n",
    "alpha= 0.05"
   ]
  },
  {
   "cell_type": "code",
   "execution_count": 108,
   "metadata": {},
   "outputs": [
    {
     "name": "stdout",
     "output_type": "stream",
     "text": [
      "t=3.617, df=17, cv=1.740, p=0.002\n",
      "Reject the null hypothesis that the means are equal.\n",
      "Reject the null hypothesis that the means are equal.\n"
     ]
    }
   ],
   "source": [
    "# calculate the critical value\n",
    "cv = t.ppf(1.0 - alpha, df)\n",
    "# calculate the p-value\n",
    "p = (1.0 - t.cdf(abs(t_stat), df)) * 2.0\n",
    "# return everything\n",
    "print('t=%.3f, df=%d, cv=%.3f, p=%.3f' % (t_stat, df, cv, p))\n",
    "# interpret via critical value\n",
    "if abs(t_stat) <= cv:\n",
    "\tprint('Accept null hypothesis that the means are equal.')\n",
    "else:\n",
    "\tprint('Reject the null hypothesis that the means are equal.')\n",
    "# interpret via p-value\n",
    "if p > alpha:\n",
    "\tprint('Accept null hypothesis that the means are equal.')\n",
    "else:\n",
    "\tprint('Reject the null hypothesis that the means are equal.')"
   ]
  },
  {
   "cell_type": "code",
   "execution_count": 109,
   "metadata": {},
   "outputs": [
    {
     "data": {
      "image/png": "[encoded data removed]",
      "text/plain": [
       "<Figure size 432x288 with 1 Axes>"
      ]
     },
     "metadata": {
      "needs_background": "light"
     },
     "output_type": "display_data"
    }
   ],
   "source": [
    "import seaborn as sns\n",
    "#sns.set_theme(style=\"whitegrid\")\n",
    "wtp_means = pd.DataFrame({'experience_type': ['social','nonsocial'], 'average_spent': [social_M, nonsocial_M]})\n",
    "#print(wtp_means)\n",
    "ax = sns.barplot(x=wtp_means.experience_type, y=wtp_means.average_spent, data=wtp_means)"
   ]
  },
  {
   "cell_type": "code",
   "execution_count": 111,
   "metadata": {},
   "outputs": [
    {
     "name": "stdout",
     "output_type": "stream",
     "text": [
      "0.44170957319949283\n"
     ]
    }
   ],
   "source": [
    "#calculate effect size- cohens d\n",
    "\n",
    "cohens_d = (mean(socialavg) - mean(nonsocialavg)) / (sqrt((stdev(socialavg) ** 2 + stdev(nonsocialavg) ** 2) / 2))\n",
    "\n",
    "print(cohens_d)"
   ]
  },
  {
   "cell_type": "code",
   "execution_count": 114,
   "metadata": {},
   "outputs": [
    {
     "name": "stdout",
     "output_type": "stream",
     "text": [
      "                  participant  avg_spent_social  avg_spent_nonsocial  \\\n",
      "0    5ea3310bf9c4f828f0c909c5          0.030244             0.029000   \n",
      "1    5eeaff28cf5da71d691ef212          0.026000             0.028780   \n",
      "2    5ee1bc2e2be5f61f0eaf1713          0.027308             0.028000   \n",
      "3   ﻿5cfecc1e96681500168a1799          0.038333             0.037037   \n",
      "4    5ff362e8c9707d8ff6020080          0.028800             0.026800   \n",
      "5   ﻿5e76742575ad9c0506e721bb          0.031667             0.029091   \n",
      "6    ﻿5ef76ff7d195c248bfe2511          0.031795             0.030833   \n",
      "7   ﻿5f7e4fbc36d39211c80599fe          0.035263             0.027813   \n",
      "8   ﻿5f8dd51f6d2378145bf99cdc          0.035000             0.029063   \n",
      "9   ﻿5f12b3a2791d172281e7d6a9          0.028621             0.024545   \n",
      "10  ﻿5f974745d58f7f0fca155a48          0.029615             0.027200   \n",
      "11  ﻿5ff0a56b116bbf440e520992          0.037692             0.029600   \n",
      "12  ﻿566c9284d408ea000519c6d7          0.018889             0.017500   \n",
      "13  ﻿5f2dc46d6fa1250ee8a1a15d          0.035333             0.036500   \n",
      "14   5f5f09ebf7e0497dcdb37dee          0.040000             0.037826   \n",
      "15   5f50dc440305bb077d82eca4          0.040000             0.036539   \n",
      "16   5f53216409e6d06275ef0545          0.038387             0.037895   \n",
      "17   5ff37f2588f05799fa9a9873          0.028710             0.023158   \n",
      "\n",
      "    %_social      DIFF  socsupport_score  msssf_score  loneliness_score  \\\n",
      "0   0.803922  0.001244              41.5           34                42   \n",
      "1   0.196078 -0.002780              49.5           44                68   \n",
      "2   0.509804 -0.000692              54.0           49                73   \n",
      "3   0.470588  0.001296              47.5           41                73   \n",
      "4   0.490566  0.002000              51.0           46                56   \n",
      "5   0.352941  0.002576              56.5           46                52   \n",
      "6   0.764706  0.000962              44.5           33                59   \n",
      "7   0.372549  0.007451              45.0           39                49   \n",
      "8   0.372549  0.005938              48.0           32                40   \n",
      "9   0.568627  0.004075              41.5           42                51   \n",
      "10  0.509804  0.002415              22.5           28                37   \n",
      "11  0.509804  0.008092              51.0           26                20   \n",
      "12  0.529412  0.001389              51.0           35                40   \n",
      "13  0.600000 -0.001167              50.0           44                45   \n",
      "14  0.540000  0.002174              49.0           45                46   \n",
      "15  0.680000  0.003461              49.0           40                47   \n",
      "16  0.622642  0.000492              49.0           37                45   \n",
      "17  0.620000  0.005552              50.5           36                35   \n",
      "\n",
      "    mspss_score  \n",
      "0            64  \n",
      "1            39  \n",
      "2            18  \n",
      "3            16  \n",
      "4            58  \n",
      "5            68  \n",
      "6            44  \n",
      "7            66  \n",
      "8            62  \n",
      "9            65  \n",
      "10           81  \n",
      "11           84  \n",
      "12           84  \n",
      "13           78  \n",
      "14           68  \n",
      "15           71  \n",
      "16           78  \n",
      "17           79  \n"
     ]
    }
   ],
   "source": [
    "alldata = pd.read_excel (r'WTP_all_scores.xlsx')\n",
    "print(alldata)\n"
   ]
  },
  {
   "cell_type": "code",
   "execution_count": 116,
   "metadata": {},
   "outputs": [],
   "source": [
    "spent_soc = alldata['avg_spent_social']\n",
    "spent_nonsoc = alldata['avg_spent_nonsocial']\n",
    "randsoc_support = alldata['socsupport_score']\n",
    "loneliness = alldata['loneliness_score']\n",
    "solitude = alldata['msssf_score']\n",
    "per_soc_support= alldata['mspss_score']\n",
    "prop_social = alldata['%_social']"
   ]
  },
  {
   "cell_type": "code",
   "execution_count": 117,
   "metadata": {},
   "outputs": [
    {
     "name": "stdout",
     "output_type": "stream",
     "text": [
      "0.03231427780595933\n",
      "47.27777777777778\n",
      "62.388888888888886\n",
      "48.77777777777778\n",
      "38.72222222222222\n"
     ]
    }
   ],
   "source": [
    "print(mean(spent_soc))\n",
    "\n",
    "print(mean(randsoc_support)) #rand soc support asks about social support in the past month\n",
    "\n",
    "print(mean(per_soc_support)) # mspss asks about social support in general\n",
    "\n",
    "print(mean(loneliness))\n",
    "\n",
    "print(mean(solitude))"
   ]
  },
  {
   "cell_type": "code",
   "execution_count": 118,
   "metadata": {},
   "outputs": [],
   "source": [
    "# amount spent on social experiences // self report "
   ]
  },
  {
   "cell_type": "code",
   "execution_count": 119,
   "metadata": {},
   "outputs": [
    {
     "data": {
      "image/png": "[encoded data removed]",
      "text/plain": [
       "<Figure size 432x288 with 1 Axes>"
      ]
     },
     "metadata": {
      "needs_background": "light"
     },
     "output_type": "display_data"
    },
    {
     "name": "stdout",
     "output_type": "stream",
     "text": [
      "[[3.18599030e-05 2.05997747e-03]\n",
      " [2.05997747e-03 5.28006536e+01]]\n",
      "Pearsons correlation: 0.050\n"
     ]
    }
   ],
   "source": [
    "#amount spent on social / rand social support\n",
    "\n",
    "pyplot.scatter(spent_soc, randsoc_support) \n",
    "pyplot.show()\n",
    "covariance = cov(spent_soc, randsoc_support)\n",
    "print(covariance)\n",
    "corr, _ = pearsonr(spent_soc, randsoc_support)\n",
    "print('Pearsons correlation: %.3f' % corr)"
   ]
  },
  {
   "cell_type": "code",
   "execution_count": 120,
   "metadata": {},
   "outputs": [
    {
     "data": {
      "image/png": "[encoded data removed]",
      "text/plain": [
       "<Figure size 432x288 with 1 Axes>"
      ]
     },
     "metadata": {
      "needs_background": "light"
     },
     "output_type": "display_data"
    },
    {
     "name": "stdout",
     "output_type": "stream",
     "text": [
      "[[3.18599030e-05 4.46430620e-03]\n",
      " [4.46430620e-03 4.25310458e+02]]\n",
      "Pearsons correlation: 0.038\n"
     ]
    }
   ],
   "source": [
    "#amount spent on social / MSPSS\n",
    "pyplot.scatter(spent_soc, per_soc_support)\n",
    "pyplot.show()\n",
    "covariance = cov(spent_soc, per_soc_support)\n",
    "print(covariance)\n",
    "corr, _ = pearsonr(spent_soc, per_soc_support)\n",
    "print('Pearsons correlation: %.3f' % corr)"
   ]
  },
  {
   "cell_type": "code",
   "execution_count": 121,
   "metadata": {},
   "outputs": [
    {
     "data": {
      "image/png": "[encoded data removed]",
      "text/plain": [
       "<Figure size 432x288 with 1 Axes>"
      ]
     },
     "metadata": {
      "needs_background": "light"
     },
     "output_type": "display_data"
    },
    {
     "name": "stdout",
     "output_type": "stream",
     "text": [
      "[[ 3.18599030e-05 -1.00914289e-02]\n",
      " [-1.00914289e-02  1.83006536e+02]]\n",
      "Pearsons correlation: -0.132\n"
     ]
    }
   ],
   "source": [
    "#amount spent on social / loneliness scale\n",
    "pyplot.scatter(spent_soc, loneliness) \n",
    "pyplot.show()\n",
    "covariance = cov(spent_soc, loneliness)\n",
    "print(covariance)\n",
    "corr, _ = pearsonr(spent_soc, loneliness)\n",
    "print('Pearsons correlation: %.3f' % corr)"
   ]
  },
  {
   "cell_type": "code",
   "execution_count": 122,
   "metadata": {},
   "outputs": [
    {
     "data": {
      "image/png": "[encoded data removed]",
      "text/plain": [
       "<Figure size 432x288 with 1 Axes>"
      ]
     },
     "metadata": {
      "needs_background": "light"
     },
     "output_type": "display_data"
    },
    {
     "name": "stdout",
     "output_type": "stream",
     "text": [
      "[[ 3.18599030e-05 -2.00625865e-03]\n",
      " [-2.00625865e-03  4.26830065e+01]]\n"
     ]
    }
   ],
   "source": [
    "#amount spent on social / motivation for solitude\n",
    "pyplot.scatter(spent_soc, solitude) \n",
    "pyplot.show()\n",
    "covariance = cov(spent_soc, solitude)\n",
    "print(covariance)\n",
    "corr, _ = pearsonr(spent_soc, solitude)\n",
    "#print('Pearsons correlation: %.3f' % corr)"
   ]
  },
  {
   "cell_type": "code",
   "execution_count": 123,
   "metadata": {},
   "outputs": [
    {
     "data": {
      "image/png": "[encoded data removed]",
      "text/plain": [
       "<Figure size 432x288 with 1 Axes>"
      ]
     },
     "metadata": {
      "needs_background": "light"
     },
     "output_type": "display_data"
    },
    {
     "name": "stdout",
     "output_type": "stream",
     "text": [
      "[[3.07284140e-05 7.37412444e-03]\n",
      " [7.37412444e-03 4.26830065e+01]]\n",
      "Pearsons correlation: 0.204\n"
     ]
    }
   ],
   "source": [
    "#amount spent on NONsocial / motivation for solitude\n",
    "pyplot.scatter(spent_nonsoc, solitude) \n",
    "pyplot.show()\n",
    "covariance = cov(spent_nonsoc, solitude)\n",
    "print(covariance)\n",
    "corr, _ = pearsonr(spent_nonsoc, solitude)\n",
    "print('Pearsons correlation: %.3f' % corr)"
   ]
  },
  {
   "cell_type": "code",
   "execution_count": 124,
   "metadata": {},
   "outputs": [],
   "source": [
    "# prop of chosen social // self report\n",
    "\n",
    "\n"
   ]
  },
  {
   "cell_type": "code",
   "execution_count": 125,
   "metadata": {},
   "outputs": [
    {
     "data": {
      "image/png": "[encoded data removed]",
      "text/plain": [
       "<Figure size 432x288 with 1 Axes>"
      ]
     },
     "metadata": {
      "needs_background": "light"
     },
     "output_type": "display_data"
    },
    {
     "name": "stdout",
     "output_type": "stream",
     "text": [
      "[[3.18599030e-05 2.05997747e-03]\n",
      " [2.05997747e-03 5.28006536e+01]]\n",
      "Pearsons correlation: 0.050\n"
     ]
    }
   ],
   "source": [
    "#prop of chosen social // rand social support\n",
    "pyplot.scatter(prop_social, randsoc_support) \n",
    "pyplot.show()\n",
    "covariance = cov(spent_soc, randsoc_support)\n",
    "print(covariance)\n",
    "corr, _ = pearsonr(spent_soc, randsoc_support)\n",
    "print('Pearsons correlation: %.3f' % corr)"
   ]
  },
  {
   "cell_type": "code",
   "execution_count": 126,
   "metadata": {},
   "outputs": [
    {
     "data": {
      "image/png": "[encoded data removed]",
      "text/plain": [
       "<Figure size 432x288 with 1 Axes>"
      ]
     },
     "metadata": {
      "needs_background": "light"
     },
     "output_type": "display_data"
    },
    {
     "name": "stdout",
     "output_type": "stream",
     "text": [
      "[[2.20294516e-02 6.42221259e-01]\n",
      " [6.42221259e-01 4.25310458e+02]]\n",
      "Pearsons correlation: 0.210\n"
     ]
    }
   ],
   "source": [
    "#prop of chosen social // MSPSS\n",
    "pyplot.scatter(prop_social, per_soc_support)\n",
    "pyplot.show()\n",
    "covariance = cov(prop_social, per_soc_support)\n",
    "print(covariance)\n",
    "corr, _ = pearsonr(prop_social, per_soc_support)\n",
    "print('Pearsons correlation: %.3f' % corr)"
   ]
  },
  {
   "cell_type": "code",
   "execution_count": 127,
   "metadata": {},
   "outputs": [
    {
     "data": {
      "image/png": "[encoded data removed]",
      "text/plain": [
       "<Figure size 432x288 with 1 Axes>"
      ]
     },
     "metadata": {
      "needs_background": "light"
     },
     "output_type": "display_data"
    },
    {
     "name": "stdout",
     "output_type": "stream",
     "text": [
      "[[ 2.20294516e-02 -5.03023706e-01]\n",
      " [-5.03023706e-01  1.83006536e+02]]\n",
      "Pearsons correlation: -0.251\n"
     ]
    }
   ],
   "source": [
    "#prop of chosen social // loneliness scale\n",
    "pyplot.scatter(prop_social, loneliness) \n",
    "pyplot.show()\n",
    "covariance = cov(prop_social, loneliness)\n",
    "print(covariance)\n",
    "corr, _ = pearsonr(prop_social, loneliness)\n",
    "print('Pearsons correlation: %.3f' % corr)"
   ]
  },
  {
   "cell_type": "code",
   "execution_count": 128,
   "metadata": {},
   "outputs": [
    {
     "data": {
      "image/png": "[encoded data removed]",
      "text/plain": [
       "<Figure size 432x288 with 1 Axes>"
      ]
     },
     "metadata": {
      "needs_background": "light"
     },
     "output_type": "display_data"
    },
    {
     "name": "stdout",
     "output_type": "stream",
     "text": [
      "[[ 2.20294516e-02 -2.63593781e-01]\n",
      " [-2.63593781e-01  4.26830065e+01]]\n",
      "Pearsons correlation: -0.272\n"
     ]
    }
   ],
   "source": [
    "#prop of chosen social // motivation for solitude\n",
    "pyplot.scatter(prop_social, solitude) \n",
    "pyplot.show()\n",
    "covariance = cov(prop_social, solitude)\n",
    "print(covariance)\n",
    "corr, _ = pearsonr(prop_social, solitude)\n",
    "print('Pearsons correlation: %.3f' % corr)"
   ]
  },
  {
   "cell_type": "code",
   "execution_count": null,
   "metadata": {},
   "outputs": [],
   "source": []
  },
  {
   "cell_type": "code",
   "execution_count": null,
   "metadata": {},
   "outputs": [],
   "source": []
  },
  {
   "cell_type": "code",
   "execution_count": null,
   "metadata": {},
   "outputs": [],
   "source": []
  },
  {
   "cell_type": "code",
   "execution_count": null,
   "metadata": {},
   "outputs": [],
   "source": []
  },
  {
   "cell_type": "code",
   "execution_count": null,
   "metadata": {},
   "outputs": [],
   "source": []
  },
  {
   "cell_type": "code",
   "execution_count": null,
   "metadata": {},
   "outputs": [],
   "source": []
  },
  {
   "cell_type": "code",
   "execution_count": null,
   "metadata": {},
   "outputs": [],
   "source": []
  }
 ],
 "metadata": {
  "kernelspec": {
   "display_name": "Python 3",
   "language": "python",
   "name": "python3"
  },
  "language_info": {
   "codemirror_mode": {
    "name": "ipython",
    "version": 3
   },
   "file_extension": ".py",
   "mimetype": "text/x-python",
   "name": "python",
   "nbconvert_exporter": "python",
   "pygments_lexer": "ipython3",
   "version": "3.7.4"
  }
 },
 "nbformat": 4,
 "nbformat_minor": 2
}
