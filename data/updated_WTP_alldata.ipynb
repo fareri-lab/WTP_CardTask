{
 "cells": [
  {
   "cell_type": "code",
   "execution_count": 2,
   "metadata": {},
   "outputs": [],
   "source": [
    "#import packages\n",
    "from __future__ import division \n",
    "import sys\n",
    "import pandas as pd\n",
    "import numpy as np\n",
    "import scipy\n",
    "from numpy import mean, std, cov \n",
    "from numpy.random import seed, randn\n",
    "import matplotlib.pyplot as plt\n",
    "from matplotlib import pyplot\n",
    "from math import sqrt\n",
    "from scipy.stats import t, pearsonr\n",
    "import seaborn as sns\n",
    "from statistics import mean, stdev"
   ]
  },
  {
   "cell_type": "code",
   "execution_count": 140,
   "metadata": {},
   "outputs": [
    {
     "name": "stdout",
     "output_type": "stream",
     "text": [
      "                  participant  avg_spent_social  avg_spent_nonsocial  \\\n",
      "0    5ea3310bf9c4f828f0c909c5          0.030244             0.029000   \n",
      "1    5eeaff28cf5da71d691ef212          0.026000             0.028780   \n",
      "2    5ee1bc2e2be5f61f0eaf1713          0.027308             0.028000   \n",
      "3   ﻿5cfecc1e96681500168a1799          0.038333             0.037037   \n",
      "4    5ff362e8c9707d8ff6020080          0.028800             0.026800   \n",
      "5   ﻿5e76742575ad9c0506e721bb          0.031667             0.029091   \n",
      "6    ﻿5ef76ff7d195c248bfe2511          0.031795             0.030833   \n",
      "7   ﻿5f7e4fbc36d39211c80599fe          0.035263             0.027813   \n",
      "8   ﻿5f8dd51f6d2378145bf99cdc          0.035000             0.029063   \n",
      "9   ﻿5f12b3a2791d172281e7d6a9          0.028621             0.024545   \n",
      "10  ﻿5ff0a56b116bbf440e520992          0.037692             0.029600   \n",
      "11  ﻿566c9284d408ea000519c6d7          0.018889             0.017500   \n",
      "12  ﻿5f2dc46d6fa1250ee8a1a15d          0.035333             0.036500   \n",
      "13   5f5f09ebf7e0497dcdb37dee          0.040000             0.037826   \n",
      "14   5f50dc440305bb077d82eca4          0.040000             0.036539   \n",
      "15   5f53216409e6d06275ef0545          0.038387             0.037895   \n",
      "16   5ff37f2588f05799fa9a9873          0.028710             0.023158   \n",
      "17                       wtp1          0.030000             0.028000   \n",
      "18                       wtp2          0.025000             0.026522   \n",
      "19                       wtp3          0.017000             0.020370   \n",
      "20                       wtp4          0.027000             0.023333   \n",
      "21                       wtp5          0.030000             0.025000   \n",
      "22                       wtp6          0.031000             0.033333   \n",
      "23                       wtp7          0.032000             0.030625   \n",
      "24                       wtp8          0.025000             0.022500   \n",
      "25                       wtp9          0.025000             0.021739   \n",
      "26                      wtp10          0.026000             0.020000   \n",
      "27                      wtp11          0.025000             0.016250   \n",
      "28                      wtp12          0.026000             0.019091   \n",
      "29                      wtp13          0.032000             0.025185   \n",
      "30                      wtp14          0.027000             0.030000   \n",
      "31                      wtp15          0.027000             0.024783   \n",
      "32                      wtp16          0.026000             0.023438   \n",
      "33                      wtp17          0.021000             0.021304   \n",
      "34                      wtp18          0.018000             0.019200   \n",
      "35                      wtp19          0.026000             0.026154   \n",
      "36                      wtp20          0.029000             0.025882   \n",
      "37                      wtp21          0.038000             0.028684   \n",
      "38                      wtp22          0.020000             0.022609   \n",
      "39                      wtp23          0.032000             0.030000   \n",
      "40                      wtp24          0.031000             0.028462   \n",
      "41                      wtp25          0.028000             0.027778   \n",
      "42                      wtp26          0.033000             0.030500   \n",
      "43                      wtp27          0.031000             0.027857   \n",
      "44                      wtp28          0.024000             0.022069   \n",
      "45                      wtp29          0.033000             0.031176   \n",
      "46                       wp30          0.028000             0.032000   \n",
      "47                      wtp31          0.030714             0.028235   \n",
      "48                      wtp32          0.034000             0.027917   \n",
      "\n",
      "    %_social  mspss_score  iri_pt  iri_fs  iri_ec  iri_pd  iri_sum  RSE_SCORE  \\\n",
      "0   0.803922     3.250000      21      23      30      19       93         24   \n",
      "1   0.196078     1.500000      17      27      12      29       85         16   \n",
      "2   0.509804     1.333333      25      27      33      33      118         17   \n",
      "3   0.470588     4.833333      25      27      27      26      105         15   \n",
      "4   0.490566     5.666667      21      29      25      29      104         29   \n",
      "5   0.352941     3.666667      33      26      35      26      120         28   \n",
      "6   0.764706     5.500000      24      28      23      15       90         26   \n",
      "7   0.372549     5.166667      26      22      25      23       96         24   \n",
      "8   0.407407     5.416667      19      24      26      10       79         26   \n",
      "9   0.568627     6.750000      23      28      34      20      105         30   \n",
      "10  0.509804     7.000000      34      23      34      14      105         38   \n",
      "11  0.529412     7.000000      31      27      35      11      104         40   \n",
      "12  0.600000     6.500000      24      26      23      15       88         26   \n",
      "13  0.540000     5.666667      21      25      24      21       91         32   \n",
      "14  0.680000     5.916667      21      24      26      18       89         30   \n",
      "15  0.622642     6.500000      25      25      27      23      100         32   \n",
      "16  0.620000     6.583333      27      28      33      27      115         27   \n",
      "17  0.791667     6.250000      23       5      24       7       59         21   \n",
      "18  0.530612     5.916600      20      15      15      14       64         15   \n",
      "19  0.448980     6.166700      19      22      18      13       72         25   \n",
      "20  0.693878     5.666000      14      16      22      19       71         18   \n",
      "21  0.836735     7.000000      23      27      27      13       93         28   \n",
      "22  0.816327     6.750000      28      24      28      12       92         21   \n",
      "23  0.346939     3.750000      14      16      17      12       59         23   \n",
      "24  0.591837     4.916000      16       6      15       9       46         19   \n",
      "25  0.510638     2.833000      18      14      12      13       57         24   \n",
      "26  0.680851     5.833000      17      18      25      20       80         23   \n",
      "27  0.673469     6.500000      12      24      24      16       76         22   \n",
      "28  0.760870     6.083000      12      24      24      16       76         21   \n",
      "29  0.448980     5.333000      21      16      22      11       70         17   \n",
      "30  0.880000     6.916000      17      16      25      14       72         28   \n",
      "31  0.530612     5.083000      16      20      24      14       74         23   \n",
      "32  0.360000     6.333000      23      27      28      12       90         24   \n",
      "33  0.520833     4.750000      24      10      19      11       64         19   \n",
      "34  0.489796     7.000000      22      18      25       6       71         27   \n",
      "35  0.717391     5.000000      18       9      17       5       49         15   \n",
      "36  0.638298     5.000000      28      19      27      10       84         21   \n",
      "37  0.174000     4.917000      17      26      21      20       84         21   \n",
      "38  0.540000     5.083000      22      20      19      19       80         17   \n",
      "39  0.638000     5.083000      32      29      22      15       98         25   \n",
      "40  0.698000     5.000000      21      19      27      19       86         19   \n",
      "41  0.617000     3.583000      23      21      23      16       83         13   \n",
      "42  0.474000     5.917000      20      28      22      13       83         16   \n",
      "43  0.689000     4.500000       7       6      16       5       38         17   \n",
      "44  0.408000     5.167000      18      25      25      17       85         22   \n",
      "45  0.622000     6.000000      20      11      16       7       54         18   \n",
      "46  0.681000     5.417000      19      20      18      10       67         22   \n",
      "47  0.292000     1.917000      14       4       5       2       25         20   \n",
      "48  0.466700     5.417000      11      10      11       7       39         23   \n",
      "\n",
      "    AQ    SNS   UMS  \n",
      "0   19   92.0  69.0  \n",
      "1   26   79.0  46.0  \n",
      "2   31   85.0  61.0  \n",
      "3   23   86.0  31.0  \n",
      "4   24   98.0  56.0  \n",
      "5   26   79.0  76.0  \n",
      "6   14   84.0  60.0  \n",
      "7   29   98.0  69.0  \n",
      "8   17  101.0  58.0  \n",
      "9   16   94.0  61.0  \n",
      "10  15   99.0  95.0  \n",
      "11   5  114.0  89.0  \n",
      "12  11   93.0  57.0  \n",
      "13  22   93.0  74.0  \n",
      "14  21   91.0  79.0  \n",
      "15  20   94.0  75.0  \n",
      "16  12   95.0  89.0  \n",
      "17  14    NaN   NaN  \n",
      "18  11    NaN   NaN  \n",
      "19  26    NaN   NaN  \n",
      "20  23    NaN   NaN  \n",
      "21  21    NaN   NaN  \n",
      "22  20    NaN   NaN  \n",
      "23  27    NaN   NaN  \n",
      "24  17    NaN   NaN  \n",
      "25  23    NaN   NaN  \n",
      "26  15    NaN   NaN  \n",
      "27  18    NaN   NaN  \n",
      "28  19    NaN   NaN  \n",
      "29  21    NaN   NaN  \n",
      "30  18    NaN   NaN  \n",
      "31  23    NaN   NaN  \n",
      "32  27    NaN   NaN  \n",
      "33  22    NaN   NaN  \n",
      "34  16    NaN   NaN  \n",
      "35  20    NaN   NaN  \n",
      "36  21    NaN   NaN  \n",
      "37  22    NaN   NaN  \n",
      "38  22    NaN   NaN  \n",
      "39  24    NaN   NaN  \n",
      "40  14    NaN   NaN  \n",
      "41  26    NaN   NaN  \n",
      "42  25    NaN   NaN  \n",
      "43  18    NaN   NaN  \n",
      "44  27    NaN   NaN  \n",
      "45  19    NaN   NaN  \n",
      "46  12    NaN   NaN  \n",
      "47  17    NaN   NaN  \n",
      "48  21    NaN   NaN  \n"
     ]
    }
   ],
   "source": [
    "#import excel file containing data summary\n",
    "wtpdata = pd.read_excel(r'wtp_taskdata.xlsx')\n",
    "print(wtpdata)\n"
   ]
  },
  {
   "cell_type": "code",
   "execution_count": 5,
   "metadata": {},
   "outputs": [
    {
     "name": "stdout",
     "output_type": "stream",
     "text": [
      "0.029382767671262928\n"
     ]
    }
   ],
   "source": [
    "socialavg= wtpdata.avg_spent_social\n",
    "#calculate group mean for av spent on social experiences\n",
    "social_M = mean(socialavg)\n",
    "print(social_M)"
   ]
  },
  {
   "cell_type": "code",
   "execution_count": 6,
   "metadata": {},
   "outputs": [
    {
     "name": "stdout",
     "output_type": "stream",
     "text": [
      "0.02714235592545063\n"
     ]
    }
   ],
   "source": [
    "nonsocialavg = wtpdata.avg_spent_nonsocial\n",
    "#calculate group mean for av spent on non-social experiences\n",
    "\n",
    "nonsocial_M = mean(nonsocialavg)\n",
    "print(nonsocial_M)\n"
   ]
  },
  {
   "cell_type": "code",
   "execution_count": 7,
   "metadata": {},
   "outputs": [
    {
     "name": "stdout",
     "output_type": "stream",
     "text": [
      "49\n"
     ]
    }
   ],
   "source": [
    "#sample size\n",
    "n = len(wtpdata)\n",
    "print(n)"
   ]
  },
  {
   "cell_type": "code",
   "execution_count": 8,
   "metadata": {},
   "outputs": [
    {
     "name": "stdout",
     "output_type": "stream",
     "text": [
      "0.0007521729574217004 0.1097801755448026\n",
      "0.0032474995595130206\n"
     ]
    }
   ],
   "source": [
    "#Calculate STD\n",
    "# sum squared difference between observations\n",
    "d1 = sum([(socialavg[i]-nonsocialavg[i])**2 for i in range(n)])\n",
    "# sum difference between observations\n",
    "d2 = sum([socialavg[i]-nonsocialavg[i] for i in range(n)])\n",
    "print(d1,d2)\n",
    "\n",
    "# standard deviation of the difference between means\n",
    "standev = np.sqrt((d1 - (d2**2 / n)) / (n - 1))\n",
    "print(standev)\n"
   ]
  },
  {
   "cell_type": "code",
   "execution_count": 9,
   "metadata": {},
   "outputs": [
    {
     "name": "stdout",
     "output_type": "stream",
     "text": [
      "0.0004639285085018601\n"
     ]
    }
   ],
   "source": [
    "#calculate standard error of the difference between the means\n",
    "sed = standev / np.sqrt(n)\n",
    "print(sed)"
   ]
  },
  {
   "cell_type": "code",
   "execution_count": 10,
   "metadata": {},
   "outputs": [
    {
     "name": "stdout",
     "output_type": "stream",
     "text": [
      "4.829217659089635\n"
     ]
    }
   ],
   "source": [
    "# calculate the t statistic\n",
    "t_stat = (social_M - nonsocial_M) / sed\n",
    "print(t_stat)"
   ]
  },
  {
   "cell_type": "code",
   "execution_count": 11,
   "metadata": {},
   "outputs": [
    {
     "name": "stdout",
     "output_type": "stream",
     "text": [
      "48\n"
     ]
    }
   ],
   "source": [
    "# degrees of freedom\n",
    "df = n - 1\n",
    "print(df)\n",
    "alpha= 0.05"
   ]
  },
  {
   "cell_type": "code",
   "execution_count": 12,
   "metadata": {},
   "outputs": [
    {
     "name": "stdout",
     "output_type": "stream",
     "text": [
      "t=4.829, df=48, cv=1.677, p=0.000\n",
      "Reject the null hypothesis that the means are equal.\n",
      "Reject the null hypothesis that the means are equal.\n"
     ]
    }
   ],
   "source": [
    "# calculate the critical value\n",
    "cv = t.ppf(1.0 - alpha, df)\n",
    "# calculate the p-value\n",
    "p = (1.0 - t.cdf(abs(t_stat), df)) * 2.0\n",
    "# return everything\n",
    "print('t=%.3f, df=%d, cv=%.3f, p=%.3f' % (t_stat, df, cv, p))\n",
    "# interpret via critical value\n",
    "if abs(t_stat) <= cv:\n",
    "\tprint('Accept null hypothesis that the means are equal.')\n",
    "else:\n",
    "\tprint('Reject the null hypothesis that the means are equal.')\n",
    "# interpret via p-value\n",
    "if p > alpha:\n",
    "\tprint('Accept null hypothesis that the means are equal.')\n",
    "else:\n",
    "\tprint('Reject the null hypothesis that the means are equal.')"
   ]
  },
  {
   "cell_type": "code",
   "execution_count": 13,
   "metadata": {},
   "outputs": [
    {
     "data": {
      "image/png": "[encoded data removed]",
      "text/plain": [
       "<Figure size 432x288 with 1 Axes>"
      ]
     },
     "metadata": {
      "needs_background": "light"
     },
     "output_type": "display_data"
    }
   ],
   "source": [
    "wtp_means = pd.DataFrame({'experience_type': ['social','nonsocial'], 'average_spent': [social_M, nonsocial_M]})\n",
    "\n",
    "wtp_plot = sns.barplot(x=wtp_means.experience_type, y=wtp_means.average_spent, data=wtp_means)"
   ]
  },
  {
   "cell_type": "code",
   "execution_count": 14,
   "metadata": {},
   "outputs": [
    {
     "name": "stdout",
     "output_type": "stream",
     "text": [
      "0.4177163265784589\n"
     ]
    }
   ],
   "source": [
    "#calculate effect size- cohens d\n",
    "\n",
    "cohens_d = (mean(socialavg) - mean(nonsocialavg)) / (sqrt((stdev(socialavg) ** 2 + stdev(nonsocialavg) ** 2) / 2))\n",
    "\n",
    "print(cohens_d)"
   ]
  },
  {
   "cell_type": "code",
   "execution_count": 15,
   "metadata": {},
   "outputs": [],
   "source": [
    "#socialavg= wtpdata.avg_spent_social\n",
    "#nonsocialavg= wtpdata.avg_spent_nonsocial\n",
    "prop_social = wtpdata['%_social']\n",
    "mspss = wtpdata.mspss_score #perceived social support\n",
    "iri_pt = wtpdata.iri_pt #perspective taking subscale\n",
    "iri_fs = wtpdata.iri_fs #fantasy subscale\n",
    "iri_ec = wtpdata.iri_ec #emapthetic concern\n",
    "iri_pd = wtpdata.iri_pd #personal distress\n",
    "iri_sum = wtpdata.iri_sum #total iri score\n",
    "rse = wtpdata.RSE_SCORE\n",
    "aq = wtpdata.AQ\n",
    "\n"
   ]
  },
  {
   "cell_type": "code",
   "execution_count": 16,
   "metadata": {},
   "outputs": [
    {
     "name": "stdout",
     "output_type": "stream",
     "text": [
      "0.029382767671262928\n",
      "0.02714235592545063\n",
      "80.16326530612245\n",
      "23\n",
      "20\n"
     ]
    }
   ],
   "source": [
    "print(social_M)\n",
    "print(nonsocial_M)\n",
    "print(mean(iri_sum))\n",
    "print(mean(rse)) \n",
    "print(mean(aq))"
   ]
  },
  {
   "cell_type": "code",
   "execution_count": 17,
   "metadata": {},
   "outputs": [],
   "source": [
    "##### amount spent on social experiences // self report  ######"
   ]
  },
  {
   "cell_type": "code",
   "execution_count": 18,
   "metadata": {},
   "outputs": [
    {
     "data": {
      "image/png": "[encoded data removed]",
      "text/plain": [
       "<Figure size 432x288 with 1 Axes>"
      ]
     },
     "metadata": {
      "needs_background": "light"
     },
     "output_type": "display_data"
    },
    {
     "name": "stdout",
     "output_type": "stream",
     "text": [
      "[[3.04732975e-05 2.27353257e-02]\n",
      " [2.27353257e-02 4.41097789e+02]]\n",
      "Pearsons correlation: 0.196\n",
      "p value: 0.1769\n",
      "Accept null hypothesis that the means are equal.\n"
     ]
    }
   ],
   "source": [
    "#amount spent on social / interpersonal reactivity index\n",
    "\n",
    "pyplot.scatter(socialavg, iri_sum) \n",
    "pyplot.show()\n",
    "covariance = cov(socialavg, iri_sum)\n",
    "print(covariance)\n",
    "corr, _ = pearsonr(socialavg, iri_sum)\n",
    "print('Pearsons correlation: %.3f' % corr)\n",
    "r,p = scipy.stats.pearsonr(socialavg, iri_sum)\n",
    "print('p value: %.4f' % p)\n",
    "alpha = 0.10\n",
    "if p > alpha:\n",
    "\tprint('Accept null hypothesis that the means are equal.')\n",
    "else:\n",
    "    print('Reject the null hypothesis that the means are equal.')\n"
   ]
  },
  {
   "cell_type": "code",
   "execution_count": 19,
   "metadata": {},
   "outputs": [
    {
     "data": {
      "image/png": "[encoded data removed]",
      "text/plain": [
       "<Figure size 432x288 with 1 Axes>"
      ]
     },
     "metadata": {
      "needs_background": "light"
     },
     "output_type": "display_data"
    },
    {
     "name": "stdout",
     "output_type": "stream",
     "text": [
      "[[3.04732975e-05 4.29899002e-03]\n",
      " [4.29899002e-03 3.23086735e+01]]\n",
      "Pearsons correlation: 0.137\n",
      "p value: 0.3479\n",
      "Accept null hypothesis that the means are equal.\n"
     ]
    }
   ],
   "source": [
    "pyplot.scatter(socialavg, iri_pt) \n",
    "pyplot.show()\n",
    "covariance = cov(socialavg, iri_pt)\n",
    "print(covariance)\n",
    "corr, _ = pearsonr(socialavg, iri_pt)\n",
    "print('Pearsons correlation: %.3f' % corr)\n",
    "r,p = scipy.stats.pearsonr(socialavg, iri_pt)\n",
    "print('p value: %.4f' % p)\n",
    "alpha = 0.10\n",
    "if p > alpha:\n",
    "\tprint('Accept null hypothesis that the means are equal.')\n",
    "else:\n",
    "    print('Reject the null hypothesis that the means are equal.')\n"
   ]
  },
  {
   "cell_type": "code",
   "execution_count": 20,
   "metadata": {},
   "outputs": [
    {
     "data": {
      "image/png": "[encoded data removed]",
      "text/plain": [
       "<Figure size 432x288 with 1 Axes>"
      ]
     },
     "metadata": {
      "needs_background": "light"
     },
     "output_type": "display_data"
    },
    {
     "name": "stdout",
     "output_type": "stream",
     "text": [
      "[[3.04732975e-05 5.05032377e-05]\n",
      " [5.05032377e-05 1.91462246e+00]]\n",
      "Pearsons correlation: 0.007\n",
      "p value: 0.9640\n",
      "Accept null hypothesis that the means are equal.\n"
     ]
    }
   ],
   "source": [
    "#amount spent on social / mulitdimensional scale of perceived social support\n",
    "pyplot.scatter(socialavg, mspss)\n",
    "pyplot.show()\n",
    "covariance = cov(socialavg, mspss)\n",
    "print(covariance)\n",
    "corr, _ = pearsonr(socialavg, mspss)\n",
    "print('Pearsons correlation: %.3f' % corr)\n",
    "r,p = scipy.stats.pearsonr(socialavg, mspss)\n",
    "print('p value: %.4f' % p)\n",
    "alpha = 0.10\n",
    "if p > alpha:\n",
    "\tprint('Accept null hypothesis that the means are equal.')\n",
    "else:\n",
    "    print('Reject the null hypothesis that the means are equal.')"
   ]
  },
  {
   "cell_type": "code",
   "execution_count": 21,
   "metadata": {},
   "outputs": [
    {
     "data": {
      "image/png": "[encoded data removed]",
      "text/plain": [
       "<Figure size 432x288 with 1 Axes>"
      ]
     },
     "metadata": {
      "needs_background": "light"
     },
     "output_type": "display_data"
    },
    {
     "name": "stdout",
     "output_type": "stream",
     "text": [
      "[[3.04732975e-05 7.03273547e-03]\n",
      " [7.03273547e-03 5.00051020e+01]]\n",
      "Pearsons correlation: 0.180\n",
      "p value: 0.2154\n",
      "Accept null hypothesis that the means are equal.\n"
     ]
    }
   ],
   "source": [
    "pyplot.scatter(socialavg, iri_fs) \n",
    "pyplot.show()\n",
    "covariance = cov(socialavg, iri_fs)\n",
    "print(covariance)\n",
    "corr, _ = pearsonr(socialavg, iri_fs)\n",
    "print('Pearsons correlation: %.3f' % corr)\n",
    "r,p = scipy.stats.pearsonr(socialavg, iri_fs)\n",
    "print('p value: %.4f' % p)\n",
    "alpha = 0.10\n",
    "if p > alpha:\n",
    "\tprint('Accept null hypothesis that the means are equal.')\n",
    "else:\n",
    "    print('Reject the null hypothesis that the means are equal.')"
   ]
  },
  {
   "cell_type": "code",
   "execution_count": 22,
   "metadata": {},
   "outputs": [
    {
     "data": {
      "image/png": "[encoded data removed]",
      "text/plain": [
       "<Figure size 432x288 with 1 Axes>"
      ]
     },
     "metadata": {
      "needs_background": "light"
     },
     "output_type": "display_data"
    },
    {
     "name": "stdout",
     "output_type": "stream",
     "text": [
      "[[3.04732975e-05 4.35592758e-03]\n",
      " [4.35592758e-03 4.27644558e+01]]\n",
      "Pearsons correlation: 0.121\n",
      "p value: 0.4089\n",
      "Accept null hypothesis that the means are equal.\n"
     ]
    }
   ],
   "source": [
    "pyplot.scatter(socialavg, iri_ec) \n",
    "pyplot.show()\n",
    "covariance = cov(socialavg, iri_ec)\n",
    "print(covariance)\n",
    "corr, _ = pearsonr(socialavg, iri_ec)\n",
    "print('Pearsons correlation: %.3f' % corr)\n",
    "r,p = scipy.stats.pearsonr(socialavg, iri_ec)\n",
    "print('p value: %.4f' % p)\n",
    "\n",
    "\n",
    "alpha = 0.10\n",
    "if p > alpha:\n",
    "\tprint('Accept null hypothesis that the means are equal.')\n",
    "else:\n",
    "    print('Reject the null hypothesis that the means are equal.')"
   ]
  },
  {
   "cell_type": "code",
   "execution_count": 23,
   "metadata": {},
   "outputs": [
    {
     "data": {
      "image/png": "[encoded data removed]",
      "text/plain": [
       "<Figure size 432x288 with 1 Axes>"
      ]
     },
     "metadata": {
      "needs_background": "light"
     },
     "output_type": "display_data"
    },
    {
     "name": "stdout",
     "output_type": "stream",
     "text": [
      "[[3.04732975e-05 6.87432625e-03]\n",
      " [6.87432625e-03 4.70833333e+01]]\n",
      "Pearsons correlation: 0.181\n",
      "p value: 0.2120\n",
      "Accept null hypothesis that the means are equal.\n"
     ]
    }
   ],
   "source": [
    "pyplot.scatter(socialavg, iri_pd) \n",
    "pyplot.show()\n",
    "covariance = cov(socialavg, iri_pd)\n",
    "print(covariance)\n",
    "corr, _ = pearsonr(socialavg, iri_pd)\n",
    "print('Pearsons correlation: %.3f' % corr)\n",
    "r,p = scipy.stats.pearsonr(socialavg, iri_pd)\n",
    "print('p value: %.4f' % p)\n",
    "alpha = 0.10\n",
    "if p > alpha:\n",
    "\tprint('Accept null hypothesis that the means are equal.')\n",
    "else:\n",
    "    print('Reject the null hypothesis that the means are equal.')"
   ]
  },
  {
   "cell_type": "code",
   "execution_count": 24,
   "metadata": {},
   "outputs": [
    {
     "data": {
      "image/png": "[encoded data removed]",
      "text/plain": [
       "<Figure size 432x288 with 1 Axes>"
      ]
     },
     "metadata": {
      "needs_background": "light"
     },
     "output_type": "display_data"
    },
    {
     "name": "stdout",
     "output_type": "stream",
     "text": [
      "[[3.04732975e-05 2.12172558e-03]\n",
      " [2.12172558e-03 2.82083333e+01]]\n",
      "Pearsons correlation: 0.072\n",
      "p value: 0.6212\n",
      "Accept null hypothesis that the means are equal.\n"
     ]
    }
   ],
   "source": [
    "## AQ\n",
    "\n",
    "# social // aq\n",
    "pyplot.scatter(socialavg, aq)\n",
    "pyplot.show()\n",
    "covariance = cov(socialavg, aq)\n",
    "print(covariance)\n",
    "corr, _ = pearsonr(socialavg, aq)\n",
    "print('Pearsons correlation: %.3f' % corr)\n",
    "r,p = scipy.stats.pearsonr(socialavg, aq)\n",
    "print('p value: %.4f' % p)\n",
    "alpha = 0.10\n",
    "if p > alpha:\n",
    "\tprint('Accept null hypothesis that the means are equal.')\n",
    "else:\n",
    "    print('Reject the null hypothesis that the means are equal.')"
   ]
  },
  {
   "cell_type": "code",
   "execution_count": 25,
   "metadata": {},
   "outputs": [
    {
     "data": {
      "image/png": "[encoded data removed]",
      "text/plain": [
       "<Figure size 432x288 with 1 Axes>"
      ]
     },
     "metadata": {
      "needs_background": "light"
     },
     "output_type": "display_data"
    },
    {
     "name": "stdout",
     "output_type": "stream",
     "text": [
      "[[3.04732975e-05 5.03194452e-03]\n",
      " [5.03194452e-03 3.37500000e+01]]\n",
      "Pearsons correlation: 0.157\n",
      "p value: 0.2816\n",
      "Accept null hypothesis that the means are equal.\n"
     ]
    }
   ],
   "source": [
    "# social // rse\n",
    "pyplot.scatter(socialavg, rse)\n",
    "pyplot.show()\n",
    "covariance = cov(socialavg, rse)\n",
    "print(covariance)\n",
    "corr, _ = pearsonr(socialavg, rse)\n",
    "print('Pearsons correlation: %.3f' % corr)\n",
    "r,p = scipy.stats.pearsonr(socialavg, rse)\n",
    "print('p value: %.4f' % p)\n",
    "alpha = 0.10\n",
    "if p > alpha:\n",
    "\tprint('Accept null hypothesis that the means are equal.')\n",
    "else:\n",
    "    print('Reject the null hypothesis that the means are equal.')"
   ]
  },
  {
   "cell_type": "code",
   "execution_count": 26,
   "metadata": {},
   "outputs": [],
   "source": [
    "##### prop of chosen social // self report #####"
   ]
  },
  {
   "cell_type": "code",
   "execution_count": 27,
   "metadata": {},
   "outputs": [
    {
     "data": {
      "image/png": "[encoded data removed]",
      "text/plain": [
       "<Figure size 432x288 with 1 Axes>"
      ]
     },
     "metadata": {
      "needs_background": "light"
     },
     "output_type": "display_data"
    },
    {
     "name": "stdout",
     "output_type": "stream",
     "text": [
      "[[0.02579119 0.09125633]\n",
      " [0.09125633 1.91462246]]\n",
      "Pearsons correlation: 0.411\n",
      "p value: 0.0034\n",
      "Reject the null hypothesis that the means are equal.\n"
     ]
    }
   ],
   "source": [
    "#prop of chosen social // MSPSS\n",
    "pyplot.scatter(prop_social, mspss)\n",
    "pyplot.show()\n",
    "covariance = cov(prop_social, mspss)\n",
    "print(covariance)\n",
    "corr, _ = pearsonr(prop_social, mspss)\n",
    "print('Pearsons correlation: %.3f' % corr)\n",
    "r,p = scipy.stats.pearsonr(prop_social, mspss)\n",
    "print('p value: %.4f' % p)\n",
    "alpha = 0.10\n",
    "if p > alpha:\n",
    "\tprint('Accept null hypothesis that the means are equal.')\n",
    "else:\n",
    "    print('Reject the null hypothesis that the means are equal.')"
   ]
  },
  {
   "cell_type": "code",
   "execution_count": 28,
   "metadata": {},
   "outputs": [
    {
     "data": {
      "image/png": "[encoded data removed]",
      "text/plain": [
       "<Figure size 432x288 with 1 Axes>"
      ]
     },
     "metadata": {
      "needs_background": "light"
     },
     "output_type": "display_data"
    },
    {
     "name": "stdout",
     "output_type": "stream",
     "text": [
      "[[ 2.57911879e-02 -4.90294622e-02]\n",
      " [-4.90294622e-02  4.41097789e+02]]\n",
      "Pearsons correlation: -0.015\n",
      "p value: 0.9210\n",
      "Accept null hypothesis that the means are equal.\n"
     ]
    }
   ],
   "source": [
    "#prop of chosen social // IRI\n",
    "pyplot.scatter(prop_social, iri_sum)\n",
    "pyplot.show()\n",
    "covariance = cov(prop_social, iri_sum)\n",
    "print(covariance)\n",
    "corr, _ = pearsonr(prop_social, iri_sum)\n",
    "print('Pearsons correlation: %.3f' % corr)\n",
    "r,p = scipy.stats.pearsonr(prop_social, iri_sum)\n",
    "print('p value: %.4f' % p)\n",
    "alpha = 0.10\n",
    "if p > alpha:\n",
    "\tprint('Accept null hypothesis that the means are equal.')\n",
    "else:\n",
    "    print('Reject the null hypothesis that the means are equal.')"
   ]
  },
  {
   "cell_type": "code",
   "execution_count": 29,
   "metadata": {},
   "outputs": [
    {
     "data": {
      "image/png": "[encoded data removed]",
      "text/plain": [
       "<Figure size 432x288 with 1 Axes>"
      ]
     },
     "metadata": {
      "needs_background": "light"
     },
     "output_type": "display_data"
    },
    {
     "name": "stdout",
     "output_type": "stream",
     "text": [
      "[[ 2.57911879e-02 -1.96416321e-01]\n",
      " [-1.96416321e-01  4.70833333e+01]]\n",
      "Pearsons correlation: -0.178\n",
      "p value: 0.2205\n",
      "Accept null hypothesis that the means are equal.\n"
     ]
    }
   ],
   "source": [
    "#prop of chosen social // iri perspective taking\n",
    "pyplot.scatter(prop_social, iri_pd)\n",
    "pyplot.show()\n",
    "covariance = cov(prop_social, iri_pd)\n",
    "print(covariance)\n",
    "corr, _ = pearsonr(prop_social, iri_pd)\n",
    "print('Pearsons correlation: %.3f' % corr)\n",
    "r,p = scipy.stats.pearsonr(prop_social, iri_pd)\n",
    "print('p value: %.4f' % p)\n",
    "\n",
    "alpha = 0.10\n",
    "if p > alpha:\n",
    "\tprint('Accept null hypothesis that the means are equal.')\n",
    "else:\n",
    "    print('Reject the null hypothesis that the means are equal.')"
   ]
  },
  {
   "cell_type": "code",
   "execution_count": 30,
   "metadata": {},
   "outputs": [
    {
     "data": {
      "image/png": "[encoded data removed]",
      "text/plain": [
       "<Figure size 432x288 with 1 Axes>"
      ]
     },
     "metadata": {
      "needs_background": "light"
     },
     "output_type": "display_data"
    },
    {
     "name": "stdout",
     "output_type": "stream",
     "text": [
      "[[ 2.57911879e-02 -3.37629371e-01]\n",
      " [-3.37629371e-01  2.82083333e+01]]\n",
      "Pearsons correlation: -0.396\n",
      "p value: 0.0049\n",
      "Reject the null hypothesis that the means are equal.\n"
     ]
    }
   ],
   "source": [
    "# prop social // aq\n",
    "pyplot.scatter(prop_social, aq)\n",
    "pyplot.show()\n",
    "covariance = cov(prop_social, aq)\n",
    "print(covariance)\n",
    "corr, _ = pearsonr(prop_social, aq)\n",
    "print('Pearsons correlation: %.3f' % corr)\n",
    "r,p = scipy.stats.pearsonr(prop_social, aq)\n",
    "print('p value: %.4f' % p)\n",
    "\n",
    "alpha = 0.10\n",
    "if p > alpha:\n",
    "\tprint('Accept null hypothesis that the means are equal.')\n",
    "else:\n",
    "    print('Reject the null hypothesis that the means are equal.')"
   ]
  },
  {
   "cell_type": "code",
   "execution_count": 31,
   "metadata": {},
   "outputs": [
    {
     "data": {
      "image/png": "[encoded data removed]",
      "text/plain": [
       "<Figure size 432x288 with 1 Axes>"
      ]
     },
     "metadata": {
      "needs_background": "light"
     },
     "output_type": "display_data"
    },
    {
     "name": "stdout",
     "output_type": "stream",
     "text": [
      "[[2.57911879e-02 5.33489313e-02]\n",
      " [5.33489313e-02 3.37500000e+01]]\n",
      "Pearsons correlation: 0.057\n",
      "p value: 0.6963\n",
      "Accept null hypothesis that the means are equal.\n"
     ]
    }
   ],
   "source": [
    "# prop social // self esteem\n",
    "pyplot.scatter(prop_social, rse)\n",
    "pyplot.show()\n",
    "covariance = cov(prop_social, rse)\n",
    "print(covariance)\n",
    "corr, _ = pearsonr(prop_social, rse)\n",
    "print('Pearsons correlation: %.3f' % corr)\n",
    "r,p = scipy.stats.pearsonr(prop_social, rse)\n",
    "print('p value: %.4f' % p)\n",
    "\n",
    "alpha = 0.10\n",
    "if p > alpha:\n",
    "\tprint('Accept null hypothesis that the means are equal.')\n",
    "else:\n",
    "    print('Reject the null hypothesis that the means are equal.')"
   ]
  },
  {
   "cell_type": "code",
   "execution_count": 32,
   "metadata": {},
   "outputs": [],
   "source": [
    "##### avg spent on nonsocial // self report #####"
   ]
  },
  {
   "cell_type": "code",
   "execution_count": 33,
   "metadata": {},
   "outputs": [
    {
     "data": {
      "image/png": "[encoded data removed]",
      "text/plain": [
       "<Figure size 432x288 with 1 Axes>"
      ]
     },
     "metadata": {
      "needs_background": "light"
     },
     "output_type": "display_data"
    },
    {
     "name": "stdout",
     "output_type": "stream",
     "text": [
      "[[2.70604652e-05 1.84063664e-02]\n",
      " [1.84063664e-02 4.41097789e+02]]\n",
      "Pearsons correlation: 0.168\n",
      "p value: 0.2472\n",
      "Accept null hypothesis that the means are equal.\n"
     ]
    }
   ],
   "source": [
    "# nonsocial // iri \n",
    "pyplot.scatter(nonsocialavg, iri_sum)\n",
    "pyplot.show()\n",
    "covariance = cov(nonsocialavg, iri_sum)\n",
    "print(covariance)\n",
    "corr, _ = pearsonr(nonsocialavg, iri_sum)\n",
    "print('Pearsons correlation: %.3f' % corr)\n",
    "r,p = scipy.stats.pearsonr(nonsocialavg, iri_sum)\n",
    "print('p value: %.4f' % p)\n",
    "alpha = 0.10\n",
    "if p > alpha:\n",
    "\tprint('Accept null hypothesis that the means are equal.')\n",
    "else:\n",
    "    print('Reject the null hypothesis that the means are equal.')"
   ]
  },
  {
   "cell_type": "code",
   "execution_count": 34,
   "metadata": {},
   "outputs": [
    {
     "data": {
      "image/png": "[encoded data removed]",
      "text/plain": [
       "<Figure size 432x288 with 1 Axes>"
      ]
     },
     "metadata": {
      "needs_background": "light"
     },
     "output_type": "display_data"
    },
    {
     "name": "stdout",
     "output_type": "stream",
     "text": [
      "[[2.70604652e-05 1.54607311e-03]\n",
      " [1.54607311e-03 3.37500000e+01]]\n",
      "Pearsons correlation: 0.051\n",
      "p value: 0.7270\n",
      "Accept null hypothesis that the means are equal.\n"
     ]
    }
   ],
   "source": [
    "# nonsocial // self esteem\n",
    "pyplot.scatter(nonsocialavg, rse)\n",
    "pyplot.show()\n",
    "covariance = cov(nonsocialavg, rse)\n",
    "print(covariance)\n",
    "corr, _ = pearsonr(nonsocialavg, rse)\n",
    "print('Pearsons correlation: %.3f' % corr)\n",
    "r,p = scipy.stats.pearsonr(nonsocialavg, rse)\n",
    "print('p value: %.4f' % p)\n",
    "alpha = 0.10\n",
    "if p > alpha:\n",
    "\tprint('Accept null hypothesis that the means are equal.')\n",
    "else:\n",
    "    print('Reject the null hypothesis that the means are equal.')"
   ]
  },
  {
   "cell_type": "code",
   "execution_count": 35,
   "metadata": {},
   "outputs": [
    {
     "data": {
      "image/png": "[encoded data removed]",
      "text/plain": [
       "<Figure size 432x288 with 1 Axes>"
      ]
     },
     "metadata": {
      "needs_background": "light"
     },
     "output_type": "display_data"
    },
    {
     "name": "stdout",
     "output_type": "stream",
     "text": [
      "[[ 2.70604652e-05 -6.42341052e-04]\n",
      " [-6.42341052e-04  1.91462246e+00]]\n",
      "Pearsons correlation: -0.089\n",
      "p value: 0.5420\n",
      "Accept null hypothesis that the means are equal.\n"
     ]
    }
   ],
   "source": [
    "# nonsocial // mspss (social support)\n",
    "pyplot.scatter(nonsocialavg, mspss)\n",
    "pyplot.show()\n",
    "covariance = cov(nonsocialavg, mspss)\n",
    "print(covariance)\n",
    "corr, _ = pearsonr(nonsocialavg, mspss)\n",
    "print('Pearsons correlation: %.3f' % corr)\n",
    "r,p = scipy.stats.pearsonr(nonsocialavg, mspss)\n",
    "print('p value: %.4f' % p)\n",
    "alpha = 0.10\n",
    "if p > alpha:\n",
    "\tprint('Accept null hypothesis that the means are equal.')\n",
    "else:\n",
    "    print('Reject the null hypothesis that the means are equal.')\n"
   ]
  },
  {
   "cell_type": "code",
   "execution_count": 36,
   "metadata": {
    "scrolled": true
   },
   "outputs": [
    {
     "data": {
      "image/png": "[encoded data removed]",
      "text/plain": [
       "<Figure size 432x288 with 1 Axes>"
      ]
     },
     "metadata": {
      "needs_background": "light"
     },
     "output_type": "display_data"
    },
    {
     "name": "stdout",
     "output_type": "stream",
     "text": [
      "[[2.70604652e-05 2.17727480e-03]\n",
      " [2.17727480e-03 2.82083333e+01]]\n",
      "Pearsons correlation: 0.079\n",
      "p value: 0.5904\n",
      "Accept null hypothesis that the means are equal.\n"
     ]
    }
   ],
   "source": [
    "# nonsocial // aq\n",
    "pyplot.scatter(nonsocialavg, aq)\n",
    "pyplot.show()\n",
    "covariance = cov(nonsocialavg, aq)\n",
    "print(covariance)\n",
    "corr, _ = pearsonr(nonsocialavg, aq)\n",
    "print('Pearsons correlation: %.3f' % corr)\n",
    "r,p = scipy.stats.pearsonr(nonsocialavg, aq)\n",
    "print('p value: %.4f' % p)\n",
    "alpha = 0.10\n",
    "if p > alpha:\n",
    "\tprint('Accept null hypothesis that the means are equal.')\n",
    "else:\n",
    "    print('Reject the null hypothesis that the means are equal.')\n",
    "    \n"
   ]
  },
  {
   "cell_type": "code",
   "execution_count": 137,
   "metadata": {},
   "outputs": [
    {
     "name": "stdout",
     "output_type": "stream",
     "text": [
      "                     avg_spent_social  avg_spent_nonsocial  %_social  \\\n",
      "avg_spent_social             1.000000             0.818135 -0.050110   \n",
      "avg_spent_nonsocial          0.818135             1.000000  0.033160   \n",
      "%_social                    -0.050110             0.033160  1.000000   \n",
      "mspss_score                  0.006612            -0.089239  0.410663   \n",
      "iri_pt                       0.137008             0.211370  0.013229   \n",
      "iri_fs                       0.180160             0.154274 -0.113309   \n",
      "iri_ec                       0.120664             0.011445  0.225138   \n",
      "iri_pd                       0.181483             0.172757 -0.178241   \n",
      "iri_sum                      0.196098             0.168474 -0.014536   \n",
      "RSE_SCORE                    0.156906             0.051159  0.057181   \n",
      "AQ                           0.072367             0.078806 -0.395836   \n",
      "UMS                         -0.052038            -0.314139  0.276222   \n",
      "\n",
      "                     mspss_score    iri_pt    iri_fs    iri_ec    iri_pd  \\\n",
      "avg_spent_social        0.006612  0.137008  0.180160  0.120664  0.181483   \n",
      "avg_spent_nonsocial    -0.089239  0.211370  0.154274  0.011445  0.172757   \n",
      "%_social                0.410663  0.013229 -0.113309  0.225138 -0.178241   \n",
      "mspss_score             1.000000  0.185324  0.180427  0.376989 -0.218832   \n",
      "iri_pt                  0.185324  1.000000  0.480201  0.644823  0.292334   \n",
      "iri_fs                  0.180427  0.480201  1.000000  0.637066  0.667956   \n",
      "iri_ec                  0.376989  0.644823  0.637066  1.000000  0.465478   \n",
      "iri_pd                 -0.218832  0.292334  0.667956  0.465478  1.000000   \n",
      "iri_sum                 0.158193  0.719958  0.877860  0.849859  0.768581   \n",
      "RSE_SCORE               0.470834  0.424597  0.392514  0.519863  0.097208   \n",
      "AQ                     -0.469411 -0.065559  0.164748 -0.089975  0.344138   \n",
      "UMS                     0.449185  0.584648 -0.322222  0.561195 -0.319921   \n",
      "\n",
      "                      iri_sum  RSE_SCORE        AQ       UMS  \n",
      "avg_spent_social     0.196098   0.156906  0.072367 -0.052038  \n",
      "avg_spent_nonsocial  0.168474   0.051159  0.078806 -0.314139  \n",
      "%_social            -0.014536   0.057181 -0.395836  0.276222  \n",
      "mspss_score          0.158193   0.470834 -0.469411  0.449185  \n",
      "iri_pt               0.719958   0.424597 -0.065559  0.584648  \n",
      "iri_fs               0.877860   0.392514  0.164748 -0.322222  \n",
      "iri_ec               0.849859   0.519863 -0.089975  0.561195  \n",
      "iri_pd               0.768581   0.097208  0.344138 -0.319921  \n",
      "iri_sum              1.000000   0.439163  0.121212  0.278810  \n",
      "RSE_SCORE            0.439163   1.000000 -0.318020  0.790132  \n",
      "AQ                   0.121212  -0.318020  1.000000 -0.394550  \n",
      "UMS                  0.278810   0.790132 -0.394550  1.000000  \n"
     ]
    }
   ],
   "source": [
    "#hey\n",
    "\n",
    "import pandas as pd\n",
    "\n",
    "cormat = wtpdata.corr()\n",
    "print(cormat)"
   ]
  },
  {
   "cell_type": "code",
   "execution_count": 138,
   "metadata": {},
   "outputs": [
    {
     "data": {
      "text/html": [
       "<div>\n",
       "<style scoped>\n",
       "    .dataframe tbody tr th:only-of-type {\n",
       "        vertical-align: middle;\n",
       "    }\n",
       "\n",
       "    .dataframe tbody tr th {\n",
       "        vertical-align: top;\n",
       "    }\n",
       "\n",
       "    .dataframe thead th {\n",
       "        text-align: right;\n",
       "    }\n",
       "</style>\n",
       "<table border=\"1\" class=\"dataframe\">\n",
       "  <thead>\n",
       "    <tr style=\"text-align: right;\">\n",
       "      <th></th>\n",
       "      <th>avg_spent_nonsocial</th>\n",
       "      <th>%_social</th>\n",
       "      <th>mspss_score</th>\n",
       "      <th>iri_pt</th>\n",
       "      <th>iri_fs</th>\n",
       "      <th>iri_ec</th>\n",
       "      <th>iri_pd</th>\n",
       "      <th>iri_sum</th>\n",
       "      <th>RSE_SCORE</th>\n",
       "      <th>AQ</th>\n",
       "      <th>UMS</th>\n",
       "    </tr>\n",
       "  </thead>\n",
       "  <tbody>\n",
       "    <tr>\n",
       "      <td>avg_spent_social</td>\n",
       "      <td>0.818</td>\n",
       "      <td>-0.05</td>\n",
       "      <td>0.007</td>\n",
       "      <td>0.137</td>\n",
       "      <td>0.18</td>\n",
       "      <td>0.121</td>\n",
       "      <td>0.181</td>\n",
       "      <td>0.196</td>\n",
       "      <td>0.157</td>\n",
       "      <td>0.072</td>\n",
       "      <td>-0.052</td>\n",
       "    </tr>\n",
       "    <tr>\n",
       "      <td>avg_spent_nonsocial</td>\n",
       "      <td></td>\n",
       "      <td>0.033</td>\n",
       "      <td>-0.089</td>\n",
       "      <td>0.211</td>\n",
       "      <td>0.154</td>\n",
       "      <td>0.011</td>\n",
       "      <td>0.173</td>\n",
       "      <td>0.168</td>\n",
       "      <td>0.051</td>\n",
       "      <td>0.079</td>\n",
       "      <td>-0.314</td>\n",
       "    </tr>\n",
       "    <tr>\n",
       "      <td>%_social</td>\n",
       "      <td></td>\n",
       "      <td></td>\n",
       "      <td>0.411</td>\n",
       "      <td>0.013</td>\n",
       "      <td>-0.113</td>\n",
       "      <td>0.225</td>\n",
       "      <td>-0.178</td>\n",
       "      <td>-0.015</td>\n",
       "      <td>0.057</td>\n",
       "      <td>-0.396</td>\n",
       "      <td>0.276</td>\n",
       "    </tr>\n",
       "    <tr>\n",
       "      <td>mspss_score</td>\n",
       "      <td></td>\n",
       "      <td></td>\n",
       "      <td></td>\n",
       "      <td>0.185</td>\n",
       "      <td>0.18</td>\n",
       "      <td>0.377</td>\n",
       "      <td>-0.219</td>\n",
       "      <td>0.158</td>\n",
       "      <td>0.471</td>\n",
       "      <td>-0.469</td>\n",
       "      <td>0.449</td>\n",
       "    </tr>\n",
       "    <tr>\n",
       "      <td>iri_pt</td>\n",
       "      <td></td>\n",
       "      <td></td>\n",
       "      <td></td>\n",
       "      <td></td>\n",
       "      <td>0.48</td>\n",
       "      <td>0.645</td>\n",
       "      <td>0.292</td>\n",
       "      <td>0.72</td>\n",
       "      <td>0.425</td>\n",
       "      <td>-0.066</td>\n",
       "      <td>0.585</td>\n",
       "    </tr>\n",
       "    <tr>\n",
       "      <td>iri_fs</td>\n",
       "      <td></td>\n",
       "      <td></td>\n",
       "      <td></td>\n",
       "      <td></td>\n",
       "      <td></td>\n",
       "      <td>0.637</td>\n",
       "      <td>0.668</td>\n",
       "      <td>0.878</td>\n",
       "      <td>0.393</td>\n",
       "      <td>0.165</td>\n",
       "      <td>-0.322</td>\n",
       "    </tr>\n",
       "    <tr>\n",
       "      <td>iri_ec</td>\n",
       "      <td></td>\n",
       "      <td></td>\n",
       "      <td></td>\n",
       "      <td></td>\n",
       "      <td></td>\n",
       "      <td></td>\n",
       "      <td>0.465</td>\n",
       "      <td>0.85</td>\n",
       "      <td>0.52</td>\n",
       "      <td>-0.09</td>\n",
       "      <td>0.561</td>\n",
       "    </tr>\n",
       "    <tr>\n",
       "      <td>iri_pd</td>\n",
       "      <td></td>\n",
       "      <td></td>\n",
       "      <td></td>\n",
       "      <td></td>\n",
       "      <td></td>\n",
       "      <td></td>\n",
       "      <td></td>\n",
       "      <td>0.769</td>\n",
       "      <td>0.097</td>\n",
       "      <td>0.344</td>\n",
       "      <td>-0.320</td>\n",
       "    </tr>\n",
       "    <tr>\n",
       "      <td>iri_sum</td>\n",
       "      <td></td>\n",
       "      <td></td>\n",
       "      <td></td>\n",
       "      <td></td>\n",
       "      <td></td>\n",
       "      <td></td>\n",
       "      <td></td>\n",
       "      <td></td>\n",
       "      <td>0.439</td>\n",
       "      <td>0.121</td>\n",
       "      <td>0.279</td>\n",
       "    </tr>\n",
       "    <tr>\n",
       "      <td>RSE_SCORE</td>\n",
       "      <td></td>\n",
       "      <td></td>\n",
       "      <td></td>\n",
       "      <td></td>\n",
       "      <td></td>\n",
       "      <td></td>\n",
       "      <td></td>\n",
       "      <td></td>\n",
       "      <td></td>\n",
       "      <td>-0.318</td>\n",
       "      <td>0.790</td>\n",
       "    </tr>\n",
       "    <tr>\n",
       "      <td>AQ</td>\n",
       "      <td></td>\n",
       "      <td></td>\n",
       "      <td></td>\n",
       "      <td></td>\n",
       "      <td></td>\n",
       "      <td></td>\n",
       "      <td></td>\n",
       "      <td></td>\n",
       "      <td></td>\n",
       "      <td></td>\n",
       "      <td>-0.395</td>\n",
       "    </tr>\n",
       "  </tbody>\n",
       "</table>\n",
       "</div>"
      ],
      "text/plain": [
       "                    avg_spent_nonsocial %_social mspss_score iri_pt iri_fs  \\\n",
       "avg_spent_social                  0.818    -0.05       0.007  0.137   0.18   \n",
       "avg_spent_nonsocial                        0.033      -0.089  0.211  0.154   \n",
       "%_social                                               0.411  0.013 -0.113   \n",
       "mspss_score                                                   0.185   0.18   \n",
       "iri_pt                                                                0.48   \n",
       "iri_fs                                                                       \n",
       "iri_ec                                                                       \n",
       "iri_pd                                                                       \n",
       "iri_sum                                                                      \n",
       "RSE_SCORE                                                                    \n",
       "AQ                                                                           \n",
       "\n",
       "                    iri_ec iri_pd iri_sum RSE_SCORE     AQ    UMS  \n",
       "avg_spent_social     0.121  0.181   0.196     0.157  0.072 -0.052  \n",
       "avg_spent_nonsocial  0.011  0.173   0.168     0.051  0.079 -0.314  \n",
       "%_social             0.225 -0.178  -0.015     0.057 -0.396  0.276  \n",
       "mspss_score          0.377 -0.219   0.158     0.471 -0.469  0.449  \n",
       "iri_pt               0.645  0.292    0.72     0.425 -0.066  0.585  \n",
       "iri_fs               0.637  0.668   0.878     0.393  0.165 -0.322  \n",
       "iri_ec                      0.465    0.85      0.52  -0.09  0.561  \n",
       "iri_pd                              0.769     0.097  0.344 -0.320  \n",
       "iri_sum                                       0.439  0.121  0.279  \n",
       "RSE_SCORE                                           -0.318  0.790  \n",
       "AQ                                                         -0.395  "
      ]
     },
     "execution_count": 138,
     "metadata": {},
     "output_type": "execute_result"
    }
   ],
   "source": [
    "import numpy as np\n",
    "\n",
    "def triang(cormat, triang='lower'):\n",
    "    \n",
    "    if triang == 'upper':\n",
    "        rstri = pd.DataFrame(np.triu(cormat.values),\n",
    "                             index=cormat.index,\n",
    "                             columns=cormat.columns).round(3)\n",
    "        rstri = rstri.iloc[:,1:]\n",
    "        rstri.drop(rstri.tail(1).index, inplace=True)\n",
    "        \n",
    "    if triang == 'lower':\n",
    "        rstri = pd.DataFrame(np.tril(cormat.values),\n",
    "                             index=cormat.index,\n",
    "                             columns=cormat.columns).round(3)\n",
    "        rstri = rstri.iloc[:,:-1]\n",
    "        rstri.drop(rstri.head(1).index, inplace=True) \n",
    " \n",
    "    rstri.replace(to_replace=[0,1], value='', inplace=True)\n",
    "    \n",
    "    return(rstri)\n",
    "\n",
    "triang(cormat, triang='upper')"
   ]
  },
  {
   "cell_type": "code",
   "execution_count": 139,
   "metadata": {},
   "outputs": [
    {
     "data": {
      "text/plain": [
       "<matplotlib.axes._subplots.AxesSubplot at 0x7fa8629f1e90>"
      ]
     },
     "execution_count": 139,
     "metadata": {},
     "output_type": "execute_result"
    },
    {
     "data": {
      "image/png": "[encoded data removed]",
      "text/plain": [
       "<Figure size 864x576 with 2 Axes>"
      ]
     },
     "metadata": {
      "needs_background": "light"
     },
     "output_type": "display_data"
    }
   ],
   "source": [
    "import seaborn as sns\n",
    "import matplotlib.pyplot as plt\n",
    "\n",
    "mask = np.zeros_like(cormat, dtype=np.bool)\n",
    "mask[np.triu_indices_from(mask)] = True\n",
    "\n",
    "\n",
    "fig = plt.figure(figsize=(12, 8))\n",
    "sns.heatmap(cormat, mask=mask, vmax=.3, center=0,\n",
    "            square=True, linewidths=.5, cbar_kws={\"shrink\": .5})"
   ]
  },
  {
   "cell_type": "code",
   "execution_count": 40,
   "metadata": {},
   "outputs": [],
   "source": [
    "# social support // avgspent on social --> old data only"
   ]
  },
  {
   "cell_type": "code",
   "execution_count": 41,
   "metadata": {},
   "outputs": [
    {
     "name": "stdout",
     "output_type": "stream",
     "text": [
      "   participant  avg_spent_social  avg_spent_nonsocial  %_social  mspss_score  \\\n",
      "17        wtp1          0.030000             0.028000  0.791667       6.2500   \n",
      "18        wtp2          0.025000             0.026522  0.530612       5.9166   \n",
      "19        wtp3          0.017000             0.020370  0.448980       6.1667   \n",
      "20        wtp4          0.027000             0.023333  0.693878       5.6660   \n",
      "21        wtp5          0.030000             0.025000  0.836735       7.0000   \n",
      "22        wtp6          0.031000             0.033333  0.816327       6.7500   \n",
      "23        wtp7          0.032000             0.030625  0.346939       3.7500   \n",
      "24        wtp8          0.025000             0.022500  0.591837       4.9160   \n",
      "25        wtp9          0.025000             0.021739  0.510638       2.8330   \n",
      "26       wtp10          0.026000             0.020000  0.680851       5.8330   \n",
      "27       wtp11          0.025000             0.016250  0.673469       6.5000   \n",
      "28       wtp12          0.026000             0.019091  0.760870       6.0830   \n",
      "29       wtp13          0.032000             0.025185  0.448980       5.3330   \n",
      "30       wtp14          0.027000             0.030000  0.880000       6.9160   \n",
      "31       wtp15          0.027000             0.024783  0.530612       5.0830   \n",
      "32       wtp16          0.026000             0.023438  0.360000       6.3330   \n",
      "33       wtp17          0.021000             0.021304  0.520833       4.7500   \n",
      "34       wtp18          0.018000             0.019200  0.489796       7.0000   \n",
      "35       wtp19          0.026000             0.026154  0.717391       5.0000   \n",
      "36       wtp20          0.029000             0.025882  0.638298       5.0000   \n",
      "37       wtp21          0.038000             0.028684  0.174000       4.9170   \n",
      "38       wtp22          0.020000             0.022609  0.540000       5.0830   \n",
      "39       wtp23          0.032000             0.030000  0.638000       5.0830   \n",
      "40       wtp24          0.031000             0.028462  0.698000       5.0000   \n",
      "41       wtp25          0.028000             0.027778  0.617000       3.5830   \n",
      "42       wtp26          0.033000             0.030500  0.474000       5.9170   \n",
      "43       wtp27          0.031000             0.027857  0.689000       4.5000   \n",
      "44       wtp28          0.024000             0.022069  0.408000       5.1670   \n",
      "45       wtp29          0.033000             0.031176  0.622000       6.0000   \n",
      "46        wp30          0.028000             0.032000  0.681000       5.4170   \n",
      "47       wtp31          0.030714             0.028235  0.292000       1.9170   \n",
      "\n",
      "    iri_pt  iri_fs  iri_ec  iri_pd  iri_sum  RSE_SCORE  AQ  SNS  UMS  \n",
      "17      23       5      24       7       59         21  14  NaN  NaN  \n",
      "18      20      15      15      14       64         15  11  NaN  NaN  \n",
      "19      19      22      18      13       72         25  26  NaN  NaN  \n",
      "20      14      16      22      19       71         18  23  NaN  NaN  \n",
      "21      23      27      27      13       93         28  21  NaN  NaN  \n",
      "22      28      24      28      12       92         21  20  NaN  NaN  \n",
      "23      14      16      17      12       59         23  27  NaN  NaN  \n",
      "24      16       6      15       9       46         19  17  NaN  NaN  \n",
      "25      18      14      12      13       57         24  23  NaN  NaN  \n",
      "26      17      18      25      20       80         23  15  NaN  NaN  \n",
      "27      12      24      24      16       76         22  18  NaN  NaN  \n",
      "28      12      24      24      16       76         21  19  NaN  NaN  \n",
      "29      21      16      22      11       70         17  21  NaN  NaN  \n",
      "30      17      16      25      14       72         28  18  NaN  NaN  \n",
      "31      16      20      24      14       74         23  23  NaN  NaN  \n",
      "32      23      27      28      12       90         24  27  NaN  NaN  \n",
      "33      24      10      19      11       64         19  22  NaN  NaN  \n",
      "34      22      18      25       6       71         27  16  NaN  NaN  \n",
      "35      18       9      17       5       49         15  20  NaN  NaN  \n",
      "36      28      19      27      10       84         21  21  NaN  NaN  \n",
      "37      17      26      21      20       84         21  22  NaN  NaN  \n",
      "38      22      20      19      19       80         17  22  NaN  NaN  \n",
      "39      32      29      22      15       98         25  24  NaN  NaN  \n",
      "40      21      19      27      19       86         19  14  NaN  NaN  \n",
      "41      23      21      23      16       83         13  26  NaN  NaN  \n",
      "42      20      28      22      13       83         16  25  NaN  NaN  \n",
      "43       7       6      16       5       38         17  18  NaN  NaN  \n",
      "44      18      25      25      17       85         22  27  NaN  NaN  \n",
      "45      20      11      16       7       54         18  19  NaN  NaN  \n",
      "46      19      20      18      10       67         22  12  NaN  NaN  \n",
      "47      14       4       5       2       25         20  17  NaN  NaN  \n"
     ]
    }
   ],
   "source": [
    "oldwtpdata = wtpdata.iloc[17:48,:]\n",
    "print(oldwtpdata)"
   ]
  },
  {
   "cell_type": "code",
   "execution_count": 42,
   "metadata": {},
   "outputs": [],
   "source": [
    "old_avgsoc= oldwtpdata['avg_spent_social']\n",
    "old_avgnonsoc= oldwtpdata['avg_spent_nonsocial']\n",
    "old_mspss = oldwtpdata['mspss_score']\n",
    "old_aq = oldwtpdata['AQ']\n",
    "old_prop = oldwtpdata['%_social']\n"
   ]
  },
  {
   "cell_type": "code",
   "execution_count": 43,
   "metadata": {},
   "outputs": [
    {
     "data": {
      "image/png": "[encoded data removed]",
      "text/plain": [
       "<Figure size 432x288 with 1 Axes>"
      ]
     },
     "metadata": {
      "needs_background": "light"
     },
     "output_type": "display_data"
    },
    {
     "name": "stdout",
     "output_type": "stream",
     "text": [
      "[[ 2.13260751e-05 -9.95323353e-04]\n",
      " [-9.95323353e-04  1.38128413e+00]]\n",
      "Pearsons correlation: -0.183\n",
      "p value: 0.3234\n"
     ]
    }
   ],
   "source": [
    "pyplot.scatter(old_avgsoc, old_mspss) \n",
    "pyplot.show()\n",
    "covariance = cov(old_avgsoc, old_mspss)\n",
    "print(covariance)\n",
    "corr, _ = pearsonr(old_avgsoc, old_mspss)\n",
    "print('Pearsons correlation: %.3f' % corr)\n",
    "r,p = scipy.stats.pearsonr(old_avgsoc, old_mspss)\n",
    "print('p value: %.4f' % p)"
   ]
  },
  {
   "cell_type": "code",
   "execution_count": 44,
   "metadata": {},
   "outputs": [
    {
     "data": {
      "image/png": "[encoded data removed]",
      "text/plain": [
       "<Figure size 432x288 with 1 Axes>"
      ]
     },
     "metadata": {
      "needs_background": "light"
     },
     "output_type": "display_data"
    },
    {
     "name": "stdout",
     "output_type": "stream",
     "text": [
      "[[ 2.13260751e-05 -2.15176344e-04]\n",
      " [-2.15176344e-04  1.96645161e+01]]\n",
      "Pearsons correlation: -0.011\n",
      "p value: 0.9553\n"
     ]
    }
   ],
   "source": [
    "# social // aq\n",
    "pyplot.scatter(old_avgsoc, old_aq)\n",
    "pyplot.show()\n",
    "covariance = cov(old_avgsoc, old_aq)\n",
    "print(covariance)\n",
    "corr, _ = pearsonr(old_avgsoc, old_aq)\n",
    "print('Pearsons correlation: %.3f' % corr)\n",
    "r,p = scipy.stats.pearsonr(old_avgsoc, old_aq)\n",
    "print('p value: %.4f' % p)"
   ]
  },
  {
   "cell_type": "code",
   "execution_count": 45,
   "metadata": {},
   "outputs": [
    {
     "data": {
      "image/png": "[encoded data removed]",
      "text/plain": [
       "<Figure size 432x288 with 1 Axes>"
      ]
     },
     "metadata": {
      "needs_background": "light"
     },
     "output_type": "display_data"
    },
    {
     "name": "stdout",
     "output_type": "stream",
     "text": [
      "[[ 1.88699784e-05 -1.34084946e-03]\n",
      " [-1.34084946e-03  1.96645161e+01]]\n",
      "Pearsons correlation: -0.070\n",
      "p value: 0.7098\n"
     ]
    }
   ],
   "source": [
    "# nonsocial // aq\n",
    "pyplot.scatter(old_avgnonsoc, old_aq)\n",
    "pyplot.show()\n",
    "covariance = cov(old_avgnonsoc, old_aq)\n",
    "print(covariance)\n",
    "corr, _ = pearsonr(old_avgnonsoc, old_aq)\n",
    "print('Pearsons correlation: %.3f' % corr)\n",
    "r,p = scipy.stats.pearsonr(old_avgnonsoc, old_aq)\n",
    "print('p value: %.4f' % p)"
   ]
  },
  {
   "cell_type": "code",
   "execution_count": 46,
   "metadata": {},
   "outputs": [
    {
     "data": {
      "image/png": "[encoded data removed]",
      "text/plain": [
       "<Figure size 432x288 with 1 Axes>"
      ]
     },
     "metadata": {
      "needs_background": "light"
     },
     "output_type": "display_data"
    },
    {
     "name": "stdout",
     "output_type": "stream",
     "text": [
      "[[ 0.02780575 -0.2998055 ]\n",
      " [-0.2998055  19.66451613]]\n",
      "Pearsons correlation: -0.405\n",
      "p value: 0.0236\n"
     ]
    }
   ],
   "source": [
    "pyplot.scatter(old_prop, old_aq) \n",
    "pyplot.show()\n",
    "covariance = cov(old_prop, old_aq)\n",
    "print(covariance)\n",
    "corr, _ = pearsonr(old_prop, old_aq)\n",
    "print('Pearsons correlation: %.3f' % corr)\n",
    "r,p = scipy.stats.pearsonr(old_prop, old_aq)\n",
    "print('p value: %.4f' % p)"
   ]
  },
  {
   "cell_type": "code",
   "execution_count": null,
   "metadata": {},
   "outputs": [],
   "source": [
    "## new pilot data only"
   ]
  },
  {
   "cell_type": "code",
   "execution_count": null,
   "metadata": {},
   "outputs": [],
   "source": []
  },
  {
   "cell_type": "code",
   "execution_count": 141,
   "metadata": {},
   "outputs": [
    {
     "name": "stdout",
     "output_type": "stream",
     "text": [
      "                  participant  avg_spent_social  avg_spent_nonsocial  \\\n",
      "0    5ea3310bf9c4f828f0c909c5          0.030244             0.029000   \n",
      "1    5eeaff28cf5da71d691ef212          0.026000             0.028780   \n",
      "2    5ee1bc2e2be5f61f0eaf1713          0.027308             0.028000   \n",
      "3   ﻿5cfecc1e96681500168a1799          0.038333             0.037037   \n",
      "4    5ff362e8c9707d8ff6020080          0.028800             0.026800   \n",
      "5   ﻿5e76742575ad9c0506e721bb          0.031667             0.029091   \n",
      "6    ﻿5ef76ff7d195c248bfe2511          0.031795             0.030833   \n",
      "7   ﻿5f7e4fbc36d39211c80599fe          0.035263             0.027813   \n",
      "8   ﻿5f8dd51f6d2378145bf99cdc          0.035000             0.029063   \n",
      "9   ﻿5f12b3a2791d172281e7d6a9          0.028621             0.024545   \n",
      "10  ﻿5ff0a56b116bbf440e520992          0.037692             0.029600   \n",
      "11  ﻿566c9284d408ea000519c6d7          0.018889             0.017500   \n",
      "12  ﻿5f2dc46d6fa1250ee8a1a15d          0.035333             0.036500   \n",
      "13   5f5f09ebf7e0497dcdb37dee          0.040000             0.037826   \n",
      "14   5f50dc440305bb077d82eca4          0.040000             0.036539   \n",
      "15   5f53216409e6d06275ef0545          0.038387             0.037895   \n",
      "16   5ff37f2588f05799fa9a9873          0.028710             0.023158   \n",
      "\n",
      "    %_social  mspss_score  iri_pt  iri_fs  iri_ec  iri_pd  iri_sum  RSE_SCORE  \\\n",
      "0   0.803922     3.250000      21      23      30      19       93         24   \n",
      "1   0.196078     1.500000      17      27      12      29       85         16   \n",
      "2   0.509804     1.333333      25      27      33      33      118         17   \n",
      "3   0.470588     4.833333      25      27      27      26      105         15   \n",
      "4   0.490566     5.666667      21      29      25      29      104         29   \n",
      "5   0.352941     3.666667      33      26      35      26      120         28   \n",
      "6   0.764706     5.500000      24      28      23      15       90         26   \n",
      "7   0.372549     5.166667      26      22      25      23       96         24   \n",
      "8   0.407407     5.416667      19      24      26      10       79         26   \n",
      "9   0.568627     6.750000      23      28      34      20      105         30   \n",
      "10  0.509804     7.000000      34      23      34      14      105         38   \n",
      "11  0.529412     7.000000      31      27      35      11      104         40   \n",
      "12  0.600000     6.500000      24      26      23      15       88         26   \n",
      "13  0.540000     5.666667      21      25      24      21       91         32   \n",
      "14  0.680000     5.916667      21      24      26      18       89         30   \n",
      "15  0.622642     6.500000      25      25      27      23      100         32   \n",
      "16  0.620000     6.583333      27      28      33      27      115         27   \n",
      "\n",
      "    AQ    SNS   UMS  \n",
      "0   19   92.0  69.0  \n",
      "1   26   79.0  46.0  \n",
      "2   31   85.0  61.0  \n",
      "3   23   86.0  31.0  \n",
      "4   24   98.0  56.0  \n",
      "5   26   79.0  76.0  \n",
      "6   14   84.0  60.0  \n",
      "7   29   98.0  69.0  \n",
      "8   17  101.0  58.0  \n",
      "9   16   94.0  61.0  \n",
      "10  15   99.0  95.0  \n",
      "11   5  114.0  89.0  \n",
      "12  11   93.0  57.0  \n",
      "13  22   93.0  74.0  \n",
      "14  21   91.0  79.0  \n",
      "15  20   94.0  75.0  \n",
      "16  12   95.0  89.0  \n"
     ]
    }
   ],
   "source": [
    "new_wtp = wtpdata.iloc[0:17,:]\n",
    "print(new_wtp)"
   ]
  },
  {
   "cell_type": "code",
   "execution_count": 142,
   "metadata": {},
   "outputs": [
    {
     "name": "stdout",
     "output_type": "stream",
     "text": [
      "17\n"
     ]
    }
   ],
   "source": [
    "n = len(new_wtp)\n",
    "print(n)"
   ]
  },
  {
   "cell_type": "code",
   "execution_count": 143,
   "metadata": {},
   "outputs": [
    {
     "name": "stdout",
     "output_type": "stream",
     "text": [
      "0.03247303622893432\n"
     ]
    }
   ],
   "source": [
    "socialavg= new_wtp.avg_spent_social\n",
    "#calculate group mean for av spent on social experiences\n",
    "social_M = mean(socialavg)\n",
    "print(social_M)"
   ]
  },
  {
   "cell_type": "code",
   "execution_count": 144,
   "metadata": {},
   "outputs": [
    {
     "name": "stdout",
     "output_type": "stream",
     "text": [
      "0.029998790608651814\n"
     ]
    }
   ],
   "source": [
    "nonsocialavg = new_wtp.avg_spent_nonsocial\n",
    "#calculate group mean for av spent on non-social experiences\n",
    "\n",
    "nonsocial_M = mean(nonsocialavg)\n",
    "print(nonsocial_M)"
   ]
  },
  {
   "cell_type": "code",
   "execution_count": 145,
   "metadata": {},
   "outputs": [
    {
     "name": "stdout",
     "output_type": "stream",
     "text": [
      "0.0002469190734217005 0.0420621755448026\n",
      "0.002987964606136788\n"
     ]
    }
   ],
   "source": [
    "#Calculate STD\n",
    "# sum squared difference between observations\n",
    "d1 = sum([(socialavg[i]-nonsocialavg[i])**2 for i in range(n)])\n",
    "# sum difference between observations\n",
    "d2 = sum([socialavg[i]-nonsocialavg[i] for i in range(n)])\n",
    "print(d1,d2)\n",
    "\n",
    "# standard deviation of the difference between means\n",
    "standev = np.sqrt((d1 - (d2**2 / n)) / (n - 1))\n",
    "print(standev)"
   ]
  },
  {
   "cell_type": "code",
   "execution_count": 146,
   "metadata": {},
   "outputs": [
    {
     "name": "stdout",
     "output_type": "stream",
     "text": [
      "0.0007246878633358263\n"
     ]
    }
   ],
   "source": [
    "#calculate standard error of the difference between the means\n",
    "sed = standev / np.sqrt(n)\n",
    "print(sed)"
   ]
  },
  {
   "cell_type": "code",
   "execution_count": 147,
   "metadata": {},
   "outputs": [
    {
     "name": "stdout",
     "output_type": "stream",
     "text": [
      "16\n"
     ]
    }
   ],
   "source": [
    "# degrees of freedom\n",
    "df = n - 1\n",
    "print(df)\n",
    "alpha= 0.05"
   ]
  },
  {
   "cell_type": "code",
   "execution_count": 148,
   "metadata": {},
   "outputs": [
    {
     "name": "stdout",
     "output_type": "stream",
     "text": [
      "t=4.829, df=16, cv=1.746, p=0.000\n",
      "Reject the null hypothesis that the means are equal.\n",
      "Reject the null hypothesis that the means are equal.\n"
     ]
    }
   ],
   "source": [
    "# calculate the critical value\n",
    "cv = t.ppf(1.0 - alpha, df)\n",
    "# calculate the p-value\n",
    "p = (1.0 - t.cdf(abs(t_stat), df)) * 2.0\n",
    "# return everything\n",
    "print('t=%.3f, df=%d, cv=%.3f, p=%.3f' % (t_stat, df, cv, p))\n",
    "# interpret via critical value\n",
    "if abs(t_stat) <= cv:\n",
    "\tprint('Accept null hypothesis that the means are equal.')\n",
    "else:\n",
    "\tprint('Reject the null hypothesis that the means are equal.')\n",
    "# interpret via p-value\n",
    "if p > alpha:\n",
    "\tprint('Accept null hypothesis that the means are equal.')\n",
    "else:\n",
    "\tprint('Reject the null hypothesis that the means are equal.')"
   ]
  },
  {
   "cell_type": "code",
   "execution_count": 149,
   "metadata": {},
   "outputs": [
    {
     "data": {
      "image/png": "[encoded data removed]",
      "text/plain": [
       "<Figure size 432x288 with 1 Axes>"
      ]
     },
     "metadata": {
      "needs_background": "light"
     },
     "output_type": "display_data"
    }
   ],
   "source": [
    "wtp_means = pd.DataFrame({'experience_type': ['social','nonsocial'], 'average_spent': [social_M, nonsocial_M]})\n",
    "\n",
    "wtp_plot = sns.barplot(x=wtp_means.experience_type, y=wtp_means.average_spent, data=wtp_means)"
   ]
  },
  {
   "cell_type": "code",
   "execution_count": 150,
   "metadata": {},
   "outputs": [
    {
     "name": "stdout",
     "output_type": "stream",
     "text": [
      "0.4321680459622661\n"
     ]
    }
   ],
   "source": [
    "#calculate effect size- cohens d\n",
    "\n",
    "cohens_d = (mean(socialavg) - mean(nonsocialavg)) / (sqrt((stdev(socialavg) ** 2 + stdev(nonsocialavg) ** 2) / 2))\n",
    "\n",
    "print(cohens_d)"
   ]
  },
  {
   "cell_type": "code",
   "execution_count": 162,
   "metadata": {},
   "outputs": [],
   "source": [
    "new_avgsoc= new_wtp['avg_spent_social']\n",
    "new_avgnonsoc= new_wtp['avg_spent_nonsocial']\n",
    "new_mspss = new_wtp['mspss_score']\n",
    "new_aq = new_wtp['AQ']\n",
    "new_prop = new_wtp['%_social']\n",
    "new_iri_sum = new_wtp['iri_sum']\n",
    "new_sn = new_wtp['SNS']\n",
    "new_ums = new_wtp['UMS']"
   ]
  },
  {
   "cell_type": "code",
   "execution_count": 152,
   "metadata": {},
   "outputs": [
    {
     "data": {
      "image/png": "[encoded data removed]",
      "text/plain": [
       "<Figure size 432x288 with 1 Axes>"
      ]
     },
     "metadata": {
      "needs_background": "light"
     },
     "output_type": "display_data"
    },
    {
     "name": "stdout",
     "output_type": "stream",
     "text": [
      "[[3.33691159e-05 9.14013463e-03]\n",
      " [9.14013463e-03 4.72647059e+01]]\n",
      "Pearsons correlation: 0.230\n",
      "p value: 0.3742\n",
      "Accept null hypothesis that the means are equal.\n"
     ]
    }
   ],
   "source": [
    "# avg spent on social // AQ scores \n",
    "pyplot.scatter(new_avgsoc, new_aq)\n",
    "pyplot.show()\n",
    "covariance = cov(new_avgsoc, new_aq)\n",
    "print(covariance)\n",
    "corr, _ = pearsonr(new_avgsoc, new_aq)\n",
    "print('Pearsons correlation: %.3f' % corr)\n",
    "r,p = scipy.stats.pearsonr(new_avgsoc, new_aq)\n",
    "print('p value: %.4f' % p)\n",
    "alpha = 0.10\n",
    "if p > alpha:\n",
    "\tprint('Accept null hypothesis that the means are equal.')\n",
    "else:\n",
    "    print('Reject the null hypothesis that the means are equal.')"
   ]
  },
  {
   "cell_type": "code",
   "execution_count": 153,
   "metadata": {},
   "outputs": [
    {
     "data": {
      "image/png": "[encoded data removed]",
      "text/plain": [
       "<Figure size 432x288 with 1 Axes>"
      ]
     },
     "metadata": {
      "needs_background": "light"
     },
     "output_type": "display_data"
    },
    {
     "name": "stdout",
     "output_type": "stream",
     "text": [
      "[[3.33691159e-05 2.49837658e-03]\n",
      " [2.49837658e-03 3.13694853e+00]]\n",
      "Pearsons correlation: 0.244\n",
      "p value: 0.3449\n",
      "Accept null hypothesis that the means are equal.\n"
     ]
    }
   ],
   "source": [
    "pyplot.scatter(new_avgsoc, new_mspss)\n",
    "pyplot.show()\n",
    "covariance = cov(new_avgsoc, new_mspss)\n",
    "print(covariance)\n",
    "corr, _ = pearsonr(new_avgsoc, new_mspss)\n",
    "print('Pearsons correlation: %.3f' % corr)\n",
    "r,p = scipy.stats.pearsonr(new_avgsoc, new_mspss)\n",
    "print('p value: %.4f' % p)\n",
    "alpha = 0.10\n",
    "if p > alpha:\n",
    "\tprint('Accept null hypothesis that the means are equal.')\n",
    "else:\n",
    "    print('Reject the null hypothesis that the means are equal.')"
   ]
  },
  {
   "cell_type": "code",
   "execution_count": 154,
   "metadata": {},
   "outputs": [
    {
     "data": {
      "image/png": "[encoded data removed]",
      "text/plain": [
       "<Figure size 432x288 with 1 Axes>"
      ]
     },
     "metadata": {
      "needs_background": "light"
     },
     "output_type": "display_data"
    },
    {
     "name": "stdout",
     "output_type": "stream",
     "text": [
      "[[ 3.33691159e-05 -4.90262264e-03]\n",
      " [-4.90262264e-03  2.65992647e+02]]\n",
      "Pearsons correlation: -0.052\n",
      "p value: 0.8428\n",
      "Accept null hypothesis that the means are equal.\n"
     ]
    }
   ],
   "source": [
    "pyplot.scatter(new_avgsoc, new_ums)\n",
    "pyplot.show()\n",
    "covariance = cov(new_avgsoc, new_ums)\n",
    "print(covariance)\n",
    "corr, _ = pearsonr(new_avgsoc, new_ums)\n",
    "print('Pearsons correlation: %.3f' % corr)\n",
    "r,p = scipy.stats.pearsonr(new_avgsoc, new_ums)\n",
    "print('p value: %.4f' % p)\n",
    "alpha = 0.10\n",
    "if p > alpha:\n",
    "\tprint('Accept null hypothesis that the means are equal.')\n",
    "else:\n",
    "    print('Reject the null hypothesis that the means are equal.')"
   ]
  },
  {
   "cell_type": "code",
   "execution_count": 167,
   "metadata": {},
   "outputs": [
    {
     "data": {
      "image/png": "[encoded data removed]",
      "text/plain": [
       "<Figure size 432x288 with 1 Axes>"
      ]
     },
     "metadata": {
      "needs_background": "light"
     },
     "output_type": "display_data"
    },
    {
     "name": "stdout",
     "output_type": "stream",
     "text": [
      "[[ 3.33691159e-05 -9.25776715e-03]\n",
      " [-9.25776715e-03  7.41176471e+01]]\n",
      "Pearsons correlation: -0.186\n",
      "p value: 0.4744\n",
      "Accept null hypothesis that the means are equal.\n"
     ]
    }
   ],
   "source": [
    "pyplot.scatter(new_avgsoc, new_sn)\n",
    "pyplot.show()\n",
    "covariance = cov(new_avgsoc, new_sn)\n",
    "print(covariance)\n",
    "corr, _ = pearsonr(new_avgsoc, new_sn)\n",
    "print('Pearsons correlation: %.3f' % corr)\n",
    "r,p = scipy.stats.pearsonr(new_avgsoc, new_sn)\n",
    "print('p value: %.4f' % p)\n",
    "alpha = 0.10\n",
    "if p > alpha:\n",
    "\tprint('Accept null hypothesis that the means are equal.')\n",
    "else:\n",
    "    print('Reject the null hypothesis that the means are equal.')"
   ]
  },
  {
   "cell_type": "code",
   "execution_count": 155,
   "metadata": {},
   "outputs": [
    {
     "data": {
      "image/png": "[encoded data removed]",
      "text/plain": [
       "<Figure size 432x288 with 1 Axes>"
      ]
     },
     "metadata": {
      "needs_background": "light"
     },
     "output_type": "display_data"
    },
    {
     "name": "stdout",
     "output_type": "stream",
     "text": [
      "[[ 2.27699299e-02 -4.72798544e-01]\n",
      " [-4.72798544e-01  4.72647059e+01]]\n",
      "Pearsons correlation: -0.456\n",
      "p value: 0.0660\n",
      "Reject the null hypothesis that the means are equal.\n"
     ]
    }
   ],
   "source": [
    "## proportion of chosen social// AQ scores\n",
    "pyplot.scatter(new_prop, new_aq) \n",
    "pyplot.show()\n",
    "covariance = cov(new_prop, new_aq)\n",
    "print(covariance)\n",
    "corr, _ = pearsonr(new_prop, new_aq)\n",
    "print('Pearsons correlation: %.3f' % corr)\n",
    "r,p = scipy.stats.pearsonr(new_prop, new_aq)\n",
    "print('p value: %.4f' % p)\n",
    "alpha = 0.10\n",
    "if p > alpha:\n",
    "\tprint('Accept null hypothesis that the means are equal.')\n",
    "else:\n",
    "    print('Reject the null hypothesis that the means are equal.')"
   ]
  },
  {
   "cell_type": "code",
   "execution_count": 156,
   "metadata": {},
   "outputs": [
    {
     "data": {
      "image/png": "[encoded data removed]",
      "text/plain": [
       "<Figure size 432x288 with 1 Axes>"
      ]
     },
     "metadata": {
      "needs_background": "light"
     },
     "output_type": "display_data"
    },
    {
     "name": "stdout",
     "output_type": "stream",
     "text": [
      "[[0.02276993 0.09839015]\n",
      " [0.09839015 3.13694853]]\n",
      "Pearsons correlation: 0.368\n",
      "p value: 0.1460\n",
      "Accept null hypothesis that the means are equal.\n"
     ]
    }
   ],
   "source": [
    "## proportion of chosen social// MSPSS scores\n",
    "pyplot.scatter(new_prop, new_mspss) \n",
    "pyplot.show()\n",
    "covariance = cov(new_prop, new_mspss)\n",
    "print(covariance)\n",
    "corr, _ = pearsonr(new_prop, new_mspss)\n",
    "print('Pearsons correlation: %.3f' % corr)\n",
    "r,p = scipy.stats.pearsonr(new_prop, new_mspss)\n",
    "print('p value: %.4f' % p)\n",
    "alpha = 0.10\n",
    "if p > alpha:\n",
    "\tprint('Accept null hypothesis that the means are equal.')\n",
    "else:\n",
    "    print('Reject the null hypothesis that the means are equal.')"
   ]
  },
  {
   "cell_type": "code",
   "execution_count": 157,
   "metadata": {},
   "outputs": [
    {
     "data": {
      "image/png": "[encoded data removed]",
      "text/plain": [
       "<Figure size 432x288 with 1 Axes>"
      ]
     },
     "metadata": {
      "needs_background": "light"
     },
     "output_type": "display_data"
    },
    {
     "name": "stdout",
     "output_type": "stream",
     "text": [
      "[[0.02276993 0.09839015]\n",
      " [0.09839015 3.13694853]]\n",
      "Pearsons correlation: 0.368\n",
      "p value: 0.1460\n",
      "Accept null hypothesis that the means are equal.\n"
     ]
    }
   ],
   "source": [
    "pyplot.scatter(new_prop, new_mspss) \n",
    "pyplot.show()\n",
    "covariance = cov(new_prop, new_mspss)\n",
    "print(covariance)\n",
    "corr, _ = pearsonr(new_prop, new_mspss)\n",
    "print('Pearsons correlation: %.3f' % corr)\n",
    "r,p = scipy.stats.pearsonr(new_prop, new_mspss)\n",
    "print('p value: %.4f' % p)\n",
    "alpha = 0.10\n",
    "if p > alpha:\n",
    "\tprint('Accept null hypothesis that the means are equal.')\n",
    "else:\n",
    "    print('Reject the null hypothesis that the means are equal.')"
   ]
  },
  {
   "cell_type": "code",
   "execution_count": 158,
   "metadata": {},
   "outputs": [
    {
     "data": {
      "image/png": "[encoded data removed]",
      "text/plain": [
       "<Figure size 432x288 with 1 Axes>"
      ]
     },
     "metadata": {
      "needs_background": "light"
     },
     "output_type": "display_data"
    },
    {
     "name": "stdout",
     "output_type": "stream",
     "text": [
      "[[2.27699299e-02 6.79788426e-01]\n",
      " [6.79788426e-01 2.65992647e+02]]\n",
      "Pearsons correlation: 0.276\n",
      "p value: 0.2832\n",
      "Accept null hypothesis that the means are equal.\n"
     ]
    }
   ],
   "source": [
    "pyplot.scatter(new_prop, new_ums) \n",
    "pyplot.show()\n",
    "covariance = cov(new_prop, new_ums)\n",
    "print(covariance)\n",
    "corr, _ = pearsonr(new_prop, new_ums)\n",
    "print('Pearsons correlation: %.3f' % corr)\n",
    "r,p = scipy.stats.pearsonr(new_prop, new_ums)\n",
    "print('p value: %.4f' % p)\n",
    "alpha = 0.10\n",
    "if p > alpha:\n",
    "\tprint('Accept null hypothesis that the means are equal.')\n",
    "else:\n",
    "    print('Reject the null hypothesis that the means are equal.')"
   ]
  },
  {
   "cell_type": "code",
   "execution_count": 163,
   "metadata": {},
   "outputs": [
    {
     "data": {
      "image/png": "[encoded data removed]",
      "text/plain": [
       "<Figure size 432x288 with 1 Axes>"
      ]
     },
     "metadata": {
      "needs_background": "light"
     },
     "output_type": "display_data"
    },
    {
     "name": "stdout",
     "output_type": "stream",
     "text": [
      "[[2.27699299e-02 2.04232982e-01]\n",
      " [2.04232982e-01 7.41176471e+01]]\n",
      "Pearsons correlation: 0.157\n",
      "p value: 0.5468\n",
      "Accept null hypothesis that the means are equal.\n"
     ]
    }
   ],
   "source": [
    "pyplot.scatter(new_prop, new_sn) \n",
    "pyplot.show()\n",
    "covariance = cov(new_prop, new_sn)\n",
    "print(covariance)\n",
    "corr, _ = pearsonr(new_prop, new_sn)\n",
    "print('Pearsons correlation: %.3f' % corr)\n",
    "r,p = scipy.stats.pearsonr(new_prop, new_sn)\n",
    "print('p value: %.4f' % p)\n",
    "alpha = 0.10\n",
    "if p > alpha:\n",
    "\tprint('Accept null hypothesis that the means are equal.')\n",
    "else:\n",
    "    print('Reject the null hypothesis that the means are equal.')"
   ]
  },
  {
   "cell_type": "code",
   "execution_count": 164,
   "metadata": {},
   "outputs": [
    {
     "name": "stdout",
     "output_type": "stream",
     "text": [
      "                     avg_spent_social  avg_spent_nonsocial  %_social  \\\n",
      "avg_spent_social             1.000000             0.863952  0.147266   \n",
      "avg_spent_nonsocial          0.863952             1.000000  0.155657   \n",
      "%_social                     0.147266             0.155657  1.000000   \n",
      "mspss_score                  0.244192            -0.015256  0.368143   \n",
      "iri_pt                      -0.092656            -0.289866 -0.010463   \n",
      "iri_fs                      -0.526410            -0.293884 -0.017911   \n",
      "iri_ec                      -0.195824            -0.430074  0.280473   \n",
      "iri_pd                      -0.127113             0.038709 -0.331375   \n",
      "iri_sum                     -0.301120            -0.363260 -0.053724   \n",
      "RSE_SCORE                   -0.004688            -0.225774  0.281395   \n",
      "AQ                           0.230150             0.292279 -0.455750   \n",
      "SNS                         -0.186154            -0.426914  0.157211   \n",
      "UMS                         -0.052038            -0.314139  0.276222   \n",
      "\n",
      "                     mspss_score    iri_pt    iri_fs    iri_ec    iri_pd  \\\n",
      "avg_spent_social        0.244192 -0.092656 -0.526410 -0.195824 -0.127113   \n",
      "avg_spent_nonsocial    -0.015256 -0.289866 -0.293884 -0.430074  0.038709   \n",
      "%_social                0.368143 -0.010463 -0.017911  0.280473 -0.331375   \n",
      "mspss_score             1.000000  0.317353 -0.022912  0.299820 -0.595271   \n",
      "iri_pt                  0.317353  1.000000 -0.079922  0.719192 -0.127047   \n",
      "iri_fs                 -0.022912 -0.079922  1.000000 -0.008612  0.370450   \n",
      "iri_ec                  0.299820  0.719192 -0.008612  1.000000 -0.114331   \n",
      "iri_pd                 -0.595271 -0.127047  0.370450 -0.114331  1.000000   \n",
      "iri_sum                -0.064658  0.676783  0.350396  0.727339  0.526194   \n",
      "RSE_SCORE               0.753768  0.475977 -0.158195  0.455235 -0.589093   \n",
      "AQ                     -0.705061 -0.250401 -0.160791 -0.262974  0.729642   \n",
      "SNS                     0.666671  0.212247 -0.189712  0.352499 -0.569947   \n",
      "UMS                     0.449185  0.584648 -0.322222  0.561195 -0.319921   \n",
      "\n",
      "                      iri_sum  RSE_SCORE        AQ       SNS       UMS  \n",
      "avg_spent_social    -0.301120  -0.004688  0.230150 -0.186154 -0.052038  \n",
      "avg_spent_nonsocial -0.363260  -0.225774  0.292279 -0.426914 -0.314139  \n",
      "%_social            -0.053724   0.281395 -0.455750  0.157211  0.276222  \n",
      "mspss_score         -0.064658   0.753768 -0.705061  0.666671  0.449185  \n",
      "iri_pt               0.676783   0.475977 -0.250401  0.212247  0.584648  \n",
      "iri_fs               0.350396  -0.158195 -0.160791 -0.189712 -0.322222  \n",
      "iri_ec               0.727339   0.455235 -0.262974  0.352499  0.561195  \n",
      "iri_pd               0.526194  -0.589093  0.729642 -0.569947 -0.319921  \n",
      "iri_sum              1.000000   0.057168  0.154341 -0.094594  0.278810  \n",
      "RSE_SCORE            0.057168   1.000000 -0.601226  0.683721  0.790132  \n",
      "AQ                   0.154341  -0.601226  1.000000 -0.582025 -0.394550  \n",
      "SNS                 -0.094594   0.683721 -0.582025  1.000000  0.474558  \n",
      "UMS                  0.278810   0.790132 -0.394550  0.474558  1.000000  \n"
     ]
    }
   ],
   "source": [
    "import pandas as pd\n",
    "\n",
    "cormat = new_wtp.corr()\n",
    "print(cormat)"
   ]
  },
  {
   "cell_type": "code",
   "execution_count": 165,
   "metadata": {},
   "outputs": [
    {
     "data": {
      "text/html": [
       "<div>\n",
       "<style scoped>\n",
       "    .dataframe tbody tr th:only-of-type {\n",
       "        vertical-align: middle;\n",
       "    }\n",
       "\n",
       "    .dataframe tbody tr th {\n",
       "        vertical-align: top;\n",
       "    }\n",
       "\n",
       "    .dataframe thead th {\n",
       "        text-align: right;\n",
       "    }\n",
       "</style>\n",
       "<table border=\"1\" class=\"dataframe\">\n",
       "  <thead>\n",
       "    <tr style=\"text-align: right;\">\n",
       "      <th></th>\n",
       "      <th>avg_spent_nonsocial</th>\n",
       "      <th>%_social</th>\n",
       "      <th>mspss_score</th>\n",
       "      <th>iri_pt</th>\n",
       "      <th>iri_fs</th>\n",
       "      <th>iri_ec</th>\n",
       "      <th>iri_pd</th>\n",
       "      <th>iri_sum</th>\n",
       "      <th>RSE_SCORE</th>\n",
       "      <th>AQ</th>\n",
       "      <th>SNS</th>\n",
       "      <th>UMS</th>\n",
       "    </tr>\n",
       "  </thead>\n",
       "  <tbody>\n",
       "    <tr>\n",
       "      <td>avg_spent_social</td>\n",
       "      <td>0.864</td>\n",
       "      <td>0.147</td>\n",
       "      <td>0.244</td>\n",
       "      <td>-0.093</td>\n",
       "      <td>-0.526</td>\n",
       "      <td>-0.196</td>\n",
       "      <td>-0.127</td>\n",
       "      <td>-0.301</td>\n",
       "      <td>-0.005</td>\n",
       "      <td>0.23</td>\n",
       "      <td>-0.186</td>\n",
       "      <td>-0.052</td>\n",
       "    </tr>\n",
       "    <tr>\n",
       "      <td>avg_spent_nonsocial</td>\n",
       "      <td></td>\n",
       "      <td>0.156</td>\n",
       "      <td>-0.015</td>\n",
       "      <td>-0.29</td>\n",
       "      <td>-0.294</td>\n",
       "      <td>-0.43</td>\n",
       "      <td>0.039</td>\n",
       "      <td>-0.363</td>\n",
       "      <td>-0.226</td>\n",
       "      <td>0.292</td>\n",
       "      <td>-0.427</td>\n",
       "      <td>-0.314</td>\n",
       "    </tr>\n",
       "    <tr>\n",
       "      <td>%_social</td>\n",
       "      <td></td>\n",
       "      <td></td>\n",
       "      <td>0.368</td>\n",
       "      <td>-0.01</td>\n",
       "      <td>-0.018</td>\n",
       "      <td>0.28</td>\n",
       "      <td>-0.331</td>\n",
       "      <td>-0.054</td>\n",
       "      <td>0.281</td>\n",
       "      <td>-0.456</td>\n",
       "      <td>0.157</td>\n",
       "      <td>0.276</td>\n",
       "    </tr>\n",
       "    <tr>\n",
       "      <td>mspss_score</td>\n",
       "      <td></td>\n",
       "      <td></td>\n",
       "      <td></td>\n",
       "      <td>0.317</td>\n",
       "      <td>-0.023</td>\n",
       "      <td>0.3</td>\n",
       "      <td>-0.595</td>\n",
       "      <td>-0.065</td>\n",
       "      <td>0.754</td>\n",
       "      <td>-0.705</td>\n",
       "      <td>0.667</td>\n",
       "      <td>0.449</td>\n",
       "    </tr>\n",
       "    <tr>\n",
       "      <td>iri_pt</td>\n",
       "      <td></td>\n",
       "      <td></td>\n",
       "      <td></td>\n",
       "      <td></td>\n",
       "      <td>-0.08</td>\n",
       "      <td>0.719</td>\n",
       "      <td>-0.127</td>\n",
       "      <td>0.677</td>\n",
       "      <td>0.476</td>\n",
       "      <td>-0.25</td>\n",
       "      <td>0.212</td>\n",
       "      <td>0.585</td>\n",
       "    </tr>\n",
       "    <tr>\n",
       "      <td>iri_fs</td>\n",
       "      <td></td>\n",
       "      <td></td>\n",
       "      <td></td>\n",
       "      <td></td>\n",
       "      <td></td>\n",
       "      <td>-0.009</td>\n",
       "      <td>0.37</td>\n",
       "      <td>0.35</td>\n",
       "      <td>-0.158</td>\n",
       "      <td>-0.161</td>\n",
       "      <td>-0.19</td>\n",
       "      <td>-0.322</td>\n",
       "    </tr>\n",
       "    <tr>\n",
       "      <td>iri_ec</td>\n",
       "      <td></td>\n",
       "      <td></td>\n",
       "      <td></td>\n",
       "      <td></td>\n",
       "      <td></td>\n",
       "      <td></td>\n",
       "      <td>-0.114</td>\n",
       "      <td>0.727</td>\n",
       "      <td>0.455</td>\n",
       "      <td>-0.263</td>\n",
       "      <td>0.352</td>\n",
       "      <td>0.561</td>\n",
       "    </tr>\n",
       "    <tr>\n",
       "      <td>iri_pd</td>\n",
       "      <td></td>\n",
       "      <td></td>\n",
       "      <td></td>\n",
       "      <td></td>\n",
       "      <td></td>\n",
       "      <td></td>\n",
       "      <td></td>\n",
       "      <td>0.526</td>\n",
       "      <td>-0.589</td>\n",
       "      <td>0.73</td>\n",
       "      <td>-0.57</td>\n",
       "      <td>-0.320</td>\n",
       "    </tr>\n",
       "    <tr>\n",
       "      <td>iri_sum</td>\n",
       "      <td></td>\n",
       "      <td></td>\n",
       "      <td></td>\n",
       "      <td></td>\n",
       "      <td></td>\n",
       "      <td></td>\n",
       "      <td></td>\n",
       "      <td></td>\n",
       "      <td>0.057</td>\n",
       "      <td>0.154</td>\n",
       "      <td>-0.095</td>\n",
       "      <td>0.279</td>\n",
       "    </tr>\n",
       "    <tr>\n",
       "      <td>RSE_SCORE</td>\n",
       "      <td></td>\n",
       "      <td></td>\n",
       "      <td></td>\n",
       "      <td></td>\n",
       "      <td></td>\n",
       "      <td></td>\n",
       "      <td></td>\n",
       "      <td></td>\n",
       "      <td></td>\n",
       "      <td>-0.601</td>\n",
       "      <td>0.684</td>\n",
       "      <td>0.790</td>\n",
       "    </tr>\n",
       "    <tr>\n",
       "      <td>AQ</td>\n",
       "      <td></td>\n",
       "      <td></td>\n",
       "      <td></td>\n",
       "      <td></td>\n",
       "      <td></td>\n",
       "      <td></td>\n",
       "      <td></td>\n",
       "      <td></td>\n",
       "      <td></td>\n",
       "      <td></td>\n",
       "      <td>-0.582</td>\n",
       "      <td>-0.395</td>\n",
       "    </tr>\n",
       "    <tr>\n",
       "      <td>SNS</td>\n",
       "      <td></td>\n",
       "      <td></td>\n",
       "      <td></td>\n",
       "      <td></td>\n",
       "      <td></td>\n",
       "      <td></td>\n",
       "      <td></td>\n",
       "      <td></td>\n",
       "      <td></td>\n",
       "      <td></td>\n",
       "      <td></td>\n",
       "      <td>0.475</td>\n",
       "    </tr>\n",
       "  </tbody>\n",
       "</table>\n",
       "</div>"
      ],
      "text/plain": [
       "                    avg_spent_nonsocial %_social mspss_score iri_pt iri_fs  \\\n",
       "avg_spent_social                  0.864    0.147       0.244 -0.093 -0.526   \n",
       "avg_spent_nonsocial                        0.156      -0.015  -0.29 -0.294   \n",
       "%_social                                               0.368  -0.01 -0.018   \n",
       "mspss_score                                                   0.317 -0.023   \n",
       "iri_pt                                                               -0.08   \n",
       "iri_fs                                                                       \n",
       "iri_ec                                                                       \n",
       "iri_pd                                                                       \n",
       "iri_sum                                                                      \n",
       "RSE_SCORE                                                                    \n",
       "AQ                                                                           \n",
       "SNS                                                                          \n",
       "\n",
       "                    iri_ec iri_pd iri_sum RSE_SCORE     AQ    SNS    UMS  \n",
       "avg_spent_social    -0.196 -0.127  -0.301    -0.005   0.23 -0.186 -0.052  \n",
       "avg_spent_nonsocial  -0.43  0.039  -0.363    -0.226  0.292 -0.427 -0.314  \n",
       "%_social              0.28 -0.331  -0.054     0.281 -0.456  0.157  0.276  \n",
       "mspss_score            0.3 -0.595  -0.065     0.754 -0.705  0.667  0.449  \n",
       "iri_pt               0.719 -0.127   0.677     0.476  -0.25  0.212  0.585  \n",
       "iri_fs              -0.009   0.37    0.35    -0.158 -0.161  -0.19 -0.322  \n",
       "iri_ec                     -0.114   0.727     0.455 -0.263  0.352  0.561  \n",
       "iri_pd                              0.526    -0.589   0.73  -0.57 -0.320  \n",
       "iri_sum                                       0.057  0.154 -0.095  0.279  \n",
       "RSE_SCORE                                           -0.601  0.684  0.790  \n",
       "AQ                                                         -0.582 -0.395  \n",
       "SNS                                                                0.475  "
      ]
     },
     "execution_count": 165,
     "metadata": {},
     "output_type": "execute_result"
    }
   ],
   "source": [
    "import numpy as np\n",
    "\n",
    "def triang(cormat, triang='lower'):\n",
    "    \n",
    "    if triang == 'upper':\n",
    "        rstri = pd.DataFrame(np.triu(cormat.values),\n",
    "                             index=cormat.index,\n",
    "                             columns=cormat.columns).round(3)\n",
    "        rstri = rstri.iloc[:,1:]\n",
    "        rstri.drop(rstri.tail(1).index, inplace=True)\n",
    "        \n",
    "    if triang == 'lower':\n",
    "        rstri = pd.DataFrame(np.tril(cormat.values),\n",
    "                             index=cormat.index,\n",
    "                             columns=cormat.columns).round(3)\n",
    "        rstri = rstri.iloc[:,:-1]\n",
    "        rstri.drop(rstri.head(1).index, inplace=True) \n",
    " \n",
    "    rstri.replace(to_replace=[0,1], value='', inplace=True)\n",
    "    \n",
    "    return(rstri)\n",
    "\n",
    "triang(cormat, triang='upper')"
   ]
  },
  {
   "cell_type": "code",
   "execution_count": 166,
   "metadata": {},
   "outputs": [
    {
     "data": {
      "text/plain": [
       "<matplotlib.axes._subplots.AxesSubplot at 0x7fa869aa9790>"
      ]
     },
     "execution_count": 166,
     "metadata": {},
     "output_type": "execute_result"
    },
    {
     "data": {
      "image/png": "[encoded data removed]",
      "text/plain": [
       "<Figure size 864x576 with 2 Axes>"
      ]
     },
     "metadata": {
      "needs_background": "light"
     },
     "output_type": "display_data"
    }
   ],
   "source": [
    "import seaborn as sns\n",
    "import matplotlib.pyplot as plt\n",
    "\n",
    "mask = np.zeros_like(cormat, dtype=np.bool)\n",
    "mask[np.triu_indices_from(mask)] = True\n",
    "\n",
    "\n",
    "fig = plt.figure(figsize=(12, 8))\n",
    "sns.heatmap(cormat, mask=mask, vmax=.3, center=0,\n",
    "            square=True, linewidths=.5, cbar_kws={\"shrink\": .5})"
   ]
  }
 ],
 "metadata": {
  "kernelspec": {
   "display_name": "Python 3",
   "language": "python",
   "name": "python3"
  },
  "language_info": {
   "codemirror_mode": {
    "name": "ipython",
    "version": 3
   },
   "file_extension": ".py",
   "mimetype": "text/x-python",
   "name": "python",
   "nbconvert_exporter": "python",
   "pygments_lexer": "ipython3",
   "version": "3.7.4"
  }
 },
 "nbformat": 4,
 "nbformat_minor": 2
}
