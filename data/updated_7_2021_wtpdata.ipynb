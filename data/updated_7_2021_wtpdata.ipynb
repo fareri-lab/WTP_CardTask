{
 "cells": [
  {
   "cell_type": "code",
   "execution_count": 66,
   "metadata": {},
   "outputs": [],
   "source": [
    "#import packages\n",
    "from __future__ import division \n",
    "import sys\n",
    "import pandas as pd\n",
    "import numpy as np\n",
    "import scipy\n",
    "from numpy import mean, std, cov \n",
    "from numpy.random import seed, randn\n",
    "import matplotlib.pyplot as plt\n",
    "from matplotlib import pyplot\n",
    "from math import sqrt\n",
    "import scipy.stats as stats \n",
    "from scipy.stats import t, pearsonr, sem\n",
    "import seaborn as sns\n",
    "from statistics import mean, stdev"
   ]
  },
  {
   "cell_type": "code",
   "execution_count": 67,
   "metadata": {},
   "outputs": [],
   "source": [
    "### pilot data + new data"
   ]
  },
  {
   "cell_type": "code",
   "execution_count": 27,
   "metadata": {
    "scrolled": false
   },
   "outputs": [
    {
     "name": "stdout",
     "output_type": "stream",
     "text": [
      "                 prolific_id  avg_spent_social  avg_spent_nonsocial  \\\n",
      "0   549ea92efdf99b4ffa5fa208          0.032000             0.030333   \n",
      "1   55a43687fdf99b7da1908e0f          0.018846             0.018333   \n",
      "2   55ea70c37480920010aa9982          0.031000             0.029250   \n",
      "3   566c9284d408ea000519c6d7          0.018846             0.017917   \n",
      "4   56f745653bd969000d170c15          0.034000             0.028621   \n",
      "5   57e972d7c3e5930001447bb1          0.030645             0.027368   \n",
      "6   58ab75c4ef58a9000119d16c          0.024118             0.022500   \n",
      "7   5c510d1310223b00012fa23e          0.028919             0.024615   \n",
      "8   5cb33d40f173240019513957          0.022692             0.020000   \n",
      "9   5cc166b25899270017dd60e2          0.032727             0.028571   \n",
      "10  5cfecc1e96681500168a1799          0.038696             0.036667   \n",
      "11  5d305152b2cfe00019231a2a          0.029600             0.025600   \n",
      "12  5da23c68cf775d001724d361          0.016818             0.019286   \n",
      "13  5dd48444dd9a7447d224cc71          0.027317             0.014444   \n",
      "14  5e27868c5cbbcc0b3599574b          0.028846             0.027917   \n",
      "15  5e31740eb3f28315c5e0d347          0.032273             0.028519   \n",
      "16  5e3760815bfa436fd256b2e9          0.024000             0.021200   \n",
      "17  5e5e9f949ec7440200735db7          0.026923             0.024583   \n",
      "18  5e76742575ad9c0506e721bb          0.032500             0.028966   \n",
      "19  5e9a4b17666c130defb0ab72          0.028400             0.028800   \n",
      "20  5ea3310bf9c4f828f0c909c5          0.031053             0.028182   \n",
      "21  5ee1bc2e2be5f61f0eaf1713          0.027917             0.027692   \n",
      "22  5eeaff28cf5da71d691ef212          0.027500             0.028810   \n",
      "23  5ef76ff7d195c248bfe25115          0.032105             0.030833   \n",
      "24  5f12b3a2791d172281e7d6a9          0.028214             0.024545   \n",
      "25  5f18b5343b9a080d1e17db57          0.028000             0.026500   \n",
      "26  5f248a2f46a10507b20d9f17          0.033000             0.025667   \n",
      "27  5f2dc46d6fa1250ee8a1a15d          0.035333             0.036316   \n",
      "28  5f3ac1732efa0a74f975b1a8          0.023214             0.020455   \n",
      "29  5f4cc1ded01b151cbb03c0f8          0.027188             0.025556   \n",
      "30  5f4ced34dbc54406d1684da0          0.030000             0.032222   \n",
      "31  5f4ee0e82f0d6c12d692c29b          0.028125             0.028333   \n",
      "32  5f50dc440305bb077d82eca4          0.040417             0.035238   \n",
      "33  5f53216409e6d06275ef0545          0.036452             0.038235   \n",
      "34  5f5f09ebf7e0497dcdb37dee          0.040000             0.037826   \n",
      "35  5f647f4d6443f82231b6bc78          0.019500             0.019667   \n",
      "36  5f68d7190611d306d40d4b58          0.034231             0.030000   \n",
      "37  5f6ea39029ca174064215ac2          0.029630             0.025652   \n",
      "38  5f7e4fbc36d39211c80599fe          0.035263             0.028333   \n",
      "39  5f8dd51f6d2378145bf99cdc          0.034118             0.030000   \n",
      "40  5fbd2fffbbfb2d070580d353          0.028889             0.028125   \n",
      "41  5fcd31e19fd435c2162f2869          0.025938             0.021667   \n",
      "42  5ff0a56b116bbf440e520992          0.038400             0.030870   \n",
      "43  5ff37f2588f05799fa9a9873          0.028929             0.024500   \n",
      "44  600ecc3692aa597c9a274833          0.023913             0.022222   \n",
      "45  6016f95c56f32e8df6e841af          0.016364             0.019643   \n",
      "46  604557dd82b57569031a1da8          0.029375             0.026667   \n",
      "47  604a7ee304a949c38ab69799          0.032143             0.031364   \n",
      "48  60a647cf71f87619eeed97ea          0.041111             0.036522   \n",
      "49  60b0334a2e48ac0856f33161          0.020000             0.021333   \n",
      "50  60c357a0a275dce4c49ddefc          0.035000             0.031818   \n",
      "51  60c5b99d82cd6a9ad6e24f75          0.033333             0.027647   \n",
      "52  60d86d6c0f4b31dab174a376          0.028750             0.025385   \n",
      "53  60dbf15243bf8d31a96ed803          0.039286             0.038636   \n",
      "54  60dca5d351d99ef73b2f8994          0.032000             0.029500   \n",
      "55  60dd5577b29a08bcb068a5d8          0.024815             0.022174   \n",
      "56  60ddb1b050d121b8fbc0349a          0.034242             0.029412   \n",
      "57  60ddcbb80c73eaf8ceca130e          0.034091             0.029259   \n",
      "58  60e024be16fcfabbaac7d3ae          0.033077             0.034545   \n",
      "59  60e040c54dc298116f43aae7          0.038636             0.030714   \n",
      "60  60e41b5208ffba4a93ddbab3          0.026000             0.024500   \n",
      "61  60e4bcdf85f979aaddffa104          0.040667             0.031714   \n",
      "62  60e5194cff6d453e2b606c55          0.030667             0.031000   \n",
      "63  60e637111a022da8d1963a65          0.041200             0.036000   \n",
      "64  60e96125cf260de73e1b535c          0.031739             0.030000   \n",
      "65  60ea0984f30f7e0a9b839e3b          0.028929             0.027273   \n",
      "66  60ec5e30aa066198fa55ec21          0.040357             0.037273   \n",
      "67  60edd81b455433dae20025fd          0.034444             0.032174   \n",
      "68  60f42d83362792b0bc8d3d47          0.015500             0.020000   \n",
      "\n",
      "    prop_social  AQ     MSPSS  \n",
      "0         0.400  26  4.000000  \n",
      "1         0.520  16  7.000000  \n",
      "2         0.200  17  5.750000  \n",
      "3         0.520   5  7.000000  \n",
      "4         0.408  32  4.916667  \n",
      "5         0.620  23  4.250000  \n",
      "6         0.347  20  6.000000  \n",
      "7         0.740  22  1.250000  \n",
      "8         0.520  20  3.000000  \n",
      "9         0.440  19  2.500000  \n",
      "10        0.460  23  1.333333  \n",
      "11        0.500  22  2.416667  \n",
      "12        0.440  21  5.666667  \n",
      "13        0.820  10  7.000000  \n",
      "14        0.520  19  5.000000  \n",
      "15        0.449  27  4.416667  \n",
      "16        0.500  12  5.333333  \n",
      "17        0.520  25  6.083333  \n",
      "18        0.356  26  5.666667  \n",
      "19        0.500  31  2.333333  \n",
      "20        0.776  19  5.333333  \n",
      "21        0.480  31  1.500000  \n",
      "22        0.160  26  3.250000  \n",
      "23        0.760  14  3.666667  \n",
      "24        0.560  16  5.416667  \n",
      "25        0.200  33  4.416667  \n",
      "26        0.400  30  4.083333  \n",
      "27        0.612  11  6.500000  \n",
      "28        0.560   4  6.000000  \n",
      "29        0.640   9  6.416667  \n",
      "30        0.820  11  6.333333  \n",
      "31        0.640  21  4.583333  \n",
      "32        0.533  21  5.916667  \n",
      "33        0.646  20  6.500000  \n",
      "34        0.540  22  5.666667  \n",
      "35        0.400  19  5.583333  \n",
      "36        0.531  15  7.000000  \n",
      "37        0.540  25  5.416667  \n",
      "38        0.388  29  5.500000  \n",
      "39        0.362  17  5.166667  \n",
      "40        0.360  21  6.666667  \n",
      "41        0.640   7  6.333333  \n",
      "42        0.521  15  7.000000  \n",
      "43        0.583  12  6.583333  \n",
      "44        0.460  24  5.666667  \n",
      "45        0.440  13  4.416667  \n",
      "46        0.640  14  5.583333  \n",
      "47        0.560  17  3.750000  \n",
      "48        0.540  15  6.333333  \n",
      "49        0.400  18  5.750000  \n",
      "50        0.560  13  6.416667  \n",
      "51        0.306  19  5.750000  \n",
      "52        0.480  27  4.583333  \n",
      "53        0.560  16  6.333333  \n",
      "54        0.600  20  4.916667  \n",
      "55        0.540  21  5.583333  \n",
      "56        0.660  18  5.583333  \n",
      "57        0.449  22  6.000000  \n",
      "58        0.780  21  4.250000  \n",
      "59        0.440  13  6.916667  \n",
      "60        0.600  19  5.583333  \n",
      "61        0.300  27  5.666667  \n",
      "62        0.600  22  4.083333  \n",
      "63        0.500  27  5.333333  \n",
      "64        0.460  26  6.583333  \n",
      "65        0.560  16  5.000000  \n",
      "66        0.560  17  5.000000  \n",
      "67        0.540  26  3.333333  \n",
      "68        0.400  26  4.666667  \n"
     ]
    }
   ],
   "source": [
    "#import excel file containing data summary\n",
    "\n",
    "wtpdata = pd.read_csv(r'wtp_task_data_new.csv', encoding='utf-8-sig')\n",
    "#wtpdata = pd.read_excel(r'wtp_taskdata_NEW.xlsx')\n",
    "pd.set_option(\"display.max_rows\", None, \"display.max_columns\", None)\n",
    "print(wtpdata)\n",
    "\n"
   ]
  },
  {
   "cell_type": "code",
   "execution_count": 28,
   "metadata": {},
   "outputs": [],
   "source": [
    "wtpdata['avg_spent_social'] = wtpdata['avg_spent_social'].astype(float)\n",
    "wtpdata['avg_spent_nonsocial'] = wtpdata['avg_spent_nonsocial'].astype(float)\n",
    "#wtpdata.applymap(type)"
   ]
  },
  {
   "cell_type": "code",
   "execution_count": 29,
   "metadata": {},
   "outputs": [],
   "source": [
    "wtpdata['avg_spent_social'] = wtpdata['avg_spent_social'].astype(float)\n",
    "wtpdata['avg_spent_nonsocial'] = wtpdata['avg_spent_nonsocial'].astype(float)\n",
    "#wtpdata.applymap(type)"
   ]
  },
  {
   "cell_type": "code",
   "execution_count": 30,
   "metadata": {},
   "outputs": [
    {
     "name": "stdout",
     "output_type": "stream",
     "text": [
      "group mean: 0.030264072464\n",
      "standard error of the mean: 0.000749028991\n"
     ]
    }
   ],
   "source": [
    "socialavg= wtpdata.avg_spent_social\n",
    "#calculate group mean for av spent on social experiences\n",
    "social_M = mean(socialavg)\n",
    "print('group mean: %.12f'% (social_M))\n",
    "print('standard error of the mean: %.12f'% (sem(socialavg)))\n"
   ]
  },
  {
   "cell_type": "code",
   "execution_count": 31,
   "metadata": {},
   "outputs": [
    {
     "name": "stdout",
     "output_type": "stream",
     "text": [
      "group mean: 0.027760710145\n",
      "standard error of the mean: 0.000654537611\n"
     ]
    }
   ],
   "source": [
    "\n",
    "nonsocialavg = wtpdata.avg_spent_nonsocial\n",
    "#calculate group mean for av spent on non-social experiences\n",
    "\n",
    "\n",
    "nonsocial_M = mean(nonsocialavg)\n",
    "print('group mean: %.12f'% (nonsocial_M))\n",
    "print('standard error of the mean: %.12f'% (sem(nonsocialavg)))\n",
    "\n",
    "\n"
   ]
  },
  {
   "cell_type": "code",
   "execution_count": 32,
   "metadata": {},
   "outputs": [
    {
     "name": "stdout",
     "output_type": "stream",
     "text": [
      "69\n"
     ]
    }
   ],
   "source": [
    "#sample size\n",
    "n = len(wtpdata)\n",
    "print(n)"
   ]
  },
  {
   "cell_type": "code",
   "execution_count": 33,
   "metadata": {},
   "outputs": [
    {
     "name": "stdout",
     "output_type": "stream",
     "text": [
      "0.0010247253060000007 0.17273200000000002\n",
      "0.002951356931047414\n"
     ]
    }
   ],
   "source": [
    "#Calculate STD\n",
    "# sum squared difference between observations\n",
    "d1 = sum([(socialavg[i]-nonsocialavg[i])**2 for i in range(n)])\n",
    "# sum difference between observations\n",
    "d2 = sum([socialavg[i]-nonsocialavg[i] for i in range(n)])\n",
    "print(d1,d2)\n",
    "\n",
    "# standard deviation of the difference between means\n",
    "standev = np.sqrt((d1 - (d2**2 / n)) / (n - 1))\n",
    "print(standev)"
   ]
  },
  {
   "cell_type": "code",
   "execution_count": 34,
   "metadata": {},
   "outputs": [
    {
     "name": "stdout",
     "output_type": "stream",
     "text": [
      "0.0003553016219047407\n"
     ]
    }
   ],
   "source": [
    "#calculate standard error of the difference between the means\n",
    "sed = standev / np.sqrt(n)\n",
    "print(sed)"
   ]
  },
  {
   "cell_type": "code",
   "execution_count": 35,
   "metadata": {},
   "outputs": [
    {
     "name": "stdout",
     "output_type": "stream",
     "text": [
      "7.045738506399932\n"
     ]
    }
   ],
   "source": [
    "# calculate the t statistic\n",
    "t_stat = (social_M - nonsocial_M) / sed\n",
    "print(t_stat)"
   ]
  },
  {
   "cell_type": "code",
   "execution_count": 36,
   "metadata": {},
   "outputs": [
    {
     "name": "stdout",
     "output_type": "stream",
     "text": [
      "68\n"
     ]
    }
   ],
   "source": [
    "# degrees of freedom\n",
    "df = n - 1\n",
    "print(df)\n",
    "alpha= 0.05"
   ]
  },
  {
   "cell_type": "code",
   "execution_count": 37,
   "metadata": {},
   "outputs": [
    {
     "name": "stdout",
     "output_type": "stream",
     "text": [
      "t=7.046, df=68, cv=1.668, p=0.000\n",
      "Reject the null hypothesis that the means are equal.\n",
      "Reject the null hypothesis that the means are equal.\n"
     ]
    }
   ],
   "source": [
    "# calculate the critical value\n",
    "cv = t.ppf(1.0 - alpha, df)\n",
    "# calculate the p-value\n",
    "p = (1.0 - t.cdf(abs(t_stat), df)) * 2.0\n",
    "# return everything\n",
    "print('t=%.3f, df=%d, cv=%.3f, p=%.3f' % (t_stat, df, cv, p))\n",
    "# interpret via critical value\n",
    "if abs(t_stat) <= cv:\n",
    "\tprint('Accept null hypothesis that the means are equal.')\n",
    "else:\n",
    "\tprint('Reject the null hypothesis that the means are equal.')\n",
    "# interpret via p-value\n",
    "if p > alpha:\n",
    "\tprint('Accept null hypothesis that the means are equal.')\n",
    "else:\n",
    "\tprint('Reject the null hypothesis that the means are equal.')\n"
   ]
  },
  {
   "cell_type": "code",
   "execution_count": 38,
   "metadata": {},
   "outputs": [
    {
     "data": {
      "image/png": "[encoded data removed]",
      "text/plain": [
       "<Figure size 432x288 with 1 Axes>"
      ]
     },
     "metadata": {
      "needs_background": "light"
     },
     "output_type": "display_data"
    }
   ],
   "source": [
    "wtp_means = pd.DataFrame({'experience_type': ['social','nonsocial'], 'average_spent': [social_M, nonsocial_M]})\n",
    "\n",
    "wtp_plot = sns.barplot(x=wtp_means.experience_type, y=wtp_means.average_spent, data=wtp_means)"
   ]
  },
  {
   "cell_type": "code",
   "execution_count": 39,
   "metadata": {},
   "outputs": [
    {
     "name": "stdout",
     "output_type": "stream",
     "text": [
      "0.42846384755439415\n"
     ]
    }
   ],
   "source": [
    "#calculate effect size- cohens d\n",
    "\n",
    "cohens_d = (mean(socialavg) - mean(nonsocialavg)) / (sqrt((stdev(socialavg) ** 2 + stdev(nonsocialavg) ** 2) / 2))\n",
    "\n",
    "print(cohens_d)"
   ]
  },
  {
   "cell_type": "code",
   "execution_count": 40,
   "metadata": {},
   "outputs": [],
   "source": [
    "prop_social = wtpdata['prop_social']\n",
    "aq = wtpdata.AQ #autism quotient\n",
    "mspss = wtpdata.MSPSS #perceived social support"
   ]
  },
  {
   "cell_type": "code",
   "execution_count": 41,
   "metadata": {},
   "outputs": [
    {
     "data": {
      "image/png": "[encoded data removed]",
      "text/plain": [
       "<Figure size 432x288 with 1 Axes>"
      ]
     },
     "metadata": {
      "needs_background": "light"
     },
     "output_type": "display_data"
    },
    {
     "name": "stdout",
     "output_type": "stream",
     "text": [
      "[[3.87120657e-05 1.68153737e-04]\n",
      " [1.68153737e-04 1.99328052e+00]]\n",
      "Pearsons correlation: 0.019\n",
      "p value: 0.8759\n",
      "Accept null hypothesis that the means are equal.\n"
     ]
    }
   ],
   "source": [
    "#amount spent on social / mulitdimensional scale of perceived social support\n",
    "pyplot.scatter(socialavg, mspss)\n",
    "pyplot.show()\n",
    "covariance = cov(socialavg, mspss)\n",
    "print(covariance)\n",
    "corr, _ = pearsonr(socialavg, mspss)\n",
    "print('Pearsons correlation: %.3f' % corr)\n",
    "r,p = scipy.stats.pearsonr(socialavg, mspss)\n",
    "print('p value: %.4f' % p)\n",
    "alpha = 0.10\n",
    "if p > alpha:\n",
    "\tprint('Accept null hypothesis that the means are equal.')\n",
    "else:\n",
    "    print('Reject the null hypothesis that the means are equal.')"
   ]
  },
  {
   "cell_type": "code",
   "execution_count": 42,
   "metadata": {},
   "outputs": [
    {
     "data": {
      "image/png": "[encoded data removed]",
      "text/plain": [
       "<Figure size 432x288 with 1 Axes>"
      ]
     },
     "metadata": {
      "needs_background": "light"
     },
     "output_type": "display_data"
    },
    {
     "name": "stdout",
     "output_type": "stream",
     "text": [
      "[[3.87120657e-05 6.54224084e-03]\n",
      " [6.54224084e-03 4.14965899e+01]]\n",
      "Pearsons correlation: 0.163\n",
      "p value: 0.1802\n",
      "Accept null hypothesis that the means are equal.\n"
     ]
    }
   ],
   "source": [
    "#amount spent on social / aq\n",
    "pyplot.scatter(socialavg, aq)\n",
    "pyplot.show()\n",
    "covariance = cov(socialavg, aq)\n",
    "print(covariance)\n",
    "corr, _ = pearsonr(socialavg, aq)\n",
    "print('Pearsons correlation: %.3f' % corr)\n",
    "r,p = scipy.stats.pearsonr(socialavg, aq)\n",
    "print('p value: %.4f' % p)\n",
    "alpha = 0.10\n",
    "if p > alpha:\n",
    "\tprint('Accept null hypothesis that the means are equal.')\n",
    "else:\n",
    "    print('Reject the null hypothesis that the means are equal.')"
   ]
  },
  {
   "cell_type": "code",
   "execution_count": 43,
   "metadata": {},
   "outputs": [],
   "source": [
    "##### prop of chosen social // self report #####"
   ]
  },
  {
   "cell_type": "code",
   "execution_count": 44,
   "metadata": {},
   "outputs": [
    {
     "data": {
      "image/png": "[encoded data removed]",
      "text/plain": [
       "<Figure size 432x288 with 1 Axes>"
      ]
     },
     "metadata": {
      "needs_background": "light"
     },
     "output_type": "display_data"
    },
    {
     "name": "stdout",
     "output_type": "stream",
     "text": [
      "[[0.0184229  0.01233861]\n",
      " [0.01233861 1.99328052]]\n",
      "Pearsons correlation: 0.064\n",
      "p value: 0.5992\n",
      "Accept null hypothesis that the means are equal.\n"
     ]
    }
   ],
   "source": [
    "#prop of chosen social // MSPSS\n",
    "pyplot.scatter(prop_social, mspss)\n",
    "pyplot.show()\n",
    "covariance = cov(prop_social, mspss)\n",
    "print(covariance)\n",
    "corr, _ = pearsonr(prop_social, mspss)\n",
    "print('Pearsons correlation: %.3f' % corr)\n",
    "r,p = scipy.stats.pearsonr(prop_social, mspss)\n",
    "print('p value: %.4f' % p)\n",
    "alpha = 0.10\n",
    "if p > alpha:\n",
    "\tprint('Accept null hypothesis that the means are equal.')\n",
    "else:\n",
    "    print('Reject the null hypothesis that the means are equal.')"
   ]
  },
  {
   "cell_type": "code",
   "execution_count": 45,
   "metadata": {},
   "outputs": [
    {
     "data": {
      "image/png": "[encoded data removed]",
      "text/plain": [
       "<Figure size 432x288 with 1 Axes>"
      ]
     },
     "metadata": {
      "needs_background": "light"
     },
     "output_type": "display_data"
    },
    {
     "name": "stdout",
     "output_type": "stream",
     "text": [
      "[[ 1.84228964e-02 -3.89459719e-01]\n",
      " [-3.89459719e-01  4.14965899e+01]]\n",
      "Pearsons correlation: -0.445\n",
      "p value: 0.0001\n",
      "Reject the null hypothesis that the means are equal.\n"
     ]
    }
   ],
   "source": [
    "# prop social // aq\n",
    "pyplot.scatter(prop_social, aq)\n",
    "pyplot.show()\n",
    "covariance = cov(prop_social, aq)\n",
    "print(covariance)\n",
    "corr, _ = pearsonr(prop_social, aq)\n",
    "print('Pearsons correlation: %.3f' % corr)\n",
    "r,p = scipy.stats.pearsonr(prop_social, aq)\n",
    "print('p value: %.4f' % p)\n",
    "\n",
    "alpha = 0.10\n",
    "if p > alpha:\n",
    "\tprint('Accept null hypothesis that the means are equal.')\n",
    "else:\n",
    "    print('Reject the null hypothesis that the means are equal.')"
   ]
  },
  {
   "cell_type": "code",
   "execution_count": 46,
   "metadata": {},
   "outputs": [],
   "source": [
    "##### avg spent on nonsocial // self report #####"
   ]
  },
  {
   "cell_type": "code",
   "execution_count": 47,
   "metadata": {},
   "outputs": [
    {
     "data": {
      "image/png": "[encoded data removed]",
      "text/plain": [
       "<Figure size 432x288 with 1 Axes>"
      ]
     },
     "metadata": {
      "needs_background": "light"
     },
     "output_type": "display_data"
    },
    {
     "name": "stdout",
     "output_type": "stream",
     "text": [
      "[[ 2.95609444e-05 -5.60012006e-04]\n",
      " [-5.60012006e-04  1.99328052e+00]]\n",
      "Pearsons correlation: -0.073\n",
      "p value: 0.5514\n",
      "Accept null hypothesis that the means are equal.\n"
     ]
    }
   ],
   "source": [
    "# nonsocial // mspss (social support)\n",
    "pyplot.scatter(nonsocialavg, mspss)\n",
    "pyplot.show()\n",
    "covariance = cov(nonsocialavg, mspss)\n",
    "print(covariance)\n",
    "corr, _ = pearsonr(nonsocialavg, mspss)\n",
    "print('Pearsons correlation: %.3f' % corr)\n",
    "r,p = scipy.stats.pearsonr(nonsocialavg, mspss)\n",
    "print('p value: %.4f' % p)\n",
    "alpha = 0.10\n",
    "if p > alpha:\n",
    "\tprint('Accept null hypothesis that the means are equal.')\n",
    "else:\n",
    "    print('Reject the null hypothesis that the means are equal.')"
   ]
  },
  {
   "cell_type": "code",
   "execution_count": 48,
   "metadata": {},
   "outputs": [
    {
     "data": {
      "image/png": "[encoded data removed]",
      "text/plain": [
       "<Figure size 432x288 with 1 Axes>"
      ]
     },
     "metadata": {
      "needs_background": "light"
     },
     "output_type": "display_data"
    },
    {
     "name": "stdout",
     "output_type": "stream",
     "text": [
      "[[2.95609444e-05 6.59272783e-03]\n",
      " [6.59272783e-03 4.14965899e+01]]\n",
      "Pearsons correlation: 0.188\n",
      "p value: 0.1214\n",
      "Accept null hypothesis that the means are equal.\n"
     ]
    }
   ],
   "source": [
    "# nonsocial // aq\n",
    "pyplot.scatter(nonsocialavg, aq)\n",
    "pyplot.show()\n",
    "covariance = cov(nonsocialavg, aq)\n",
    "print(covariance)\n",
    "corr, _ = pearsonr(nonsocialavg, aq)\n",
    "print('Pearsons correlation: %.3f' % corr)\n",
    "r,p = scipy.stats.pearsonr(nonsocialavg, aq)\n",
    "print('p value: %.4f' % p)\n",
    "alpha = 0.10\n",
    "if p > alpha:\n",
    "\tprint('Accept null hypothesis that the means are equal.')\n",
    "else:\n",
    "    print('Reject the null hypothesis that the means are equal.')"
   ]
  },
  {
   "cell_type": "code",
   "execution_count": 49,
   "metadata": {},
   "outputs": [],
   "source": [
    "######################################################################################################################"
   ]
  },
  {
   "cell_type": "code",
   "execution_count": 50,
   "metadata": {},
   "outputs": [],
   "source": [
    "######################################################################################################################"
   ]
  },
  {
   "cell_type": "code",
   "execution_count": 51,
   "metadata": {},
   "outputs": [],
   "source": [
    "## now including joanne's old data"
   ]
  },
  {
   "cell_type": "code",
   "execution_count": 76,
   "metadata": {},
   "outputs": [
    {
     "name": "stdout",
     "output_type": "stream",
     "text": [
      "                  prolific_id  avg_spent_social  avg_spent_nonsocial  \\\n",
      "0    549ea92efdf99b4ffa5fa208          0.032000             0.030333   \n",
      "1    55a43687fdf99b7da1908e0f          0.018846             0.018333   \n",
      "2    55ea70c37480920010aa9982          0.031000             0.029250   \n",
      "3    566c9284d408ea000519c6d7          0.018846             0.017917   \n",
      "4    56f745653bd969000d170c15          0.034000             0.028621   \n",
      "5    57e972d7c3e5930001447bb1          0.030645             0.027368   \n",
      "6    58ab75c4ef58a9000119d16c          0.024118             0.022500   \n",
      "7    5c510d1310223b00012fa23e          0.028919             0.024615   \n",
      "8    5cb33d40f173240019513957          0.022692             0.020000   \n",
      "9    5cc166b25899270017dd60e2          0.032727             0.028571   \n",
      "10   5cfecc1e96681500168a1799          0.038696             0.036667   \n",
      "11   5d305152b2cfe00019231a2a          0.029600             0.025600   \n",
      "12   5da23c68cf775d001724d361          0.016818             0.019286   \n",
      "13   5dd48444dd9a7447d224cc71          0.027317             0.014444   \n",
      "14   5e27868c5cbbcc0b3599574b          0.028846             0.027917   \n",
      "15   5e31740eb3f28315c5e0d347          0.032273             0.028519   \n",
      "16   5e3760815bfa436fd256b2e9          0.024000             0.021200   \n",
      "17   5e5e9f949ec7440200735db7          0.026923             0.024583   \n",
      "18   5e76742575ad9c0506e721bb          0.032500             0.028966   \n",
      "19   5e9a4b17666c130defb0ab72          0.028400             0.028800   \n",
      "20   5ea3310bf9c4f828f0c909c5          0.031053             0.028182   \n",
      "21   5ee1bc2e2be5f61f0eaf1713          0.027917             0.027692   \n",
      "22   5eeaff28cf5da71d691ef212          0.027500             0.028810   \n",
      "23   5ef76ff7d195c248bfe25115          0.032105             0.030833   \n",
      "24   5f12b3a2791d172281e7d6a9          0.028214             0.024545   \n",
      "25   5f18b5343b9a080d1e17db57          0.028000             0.026500   \n",
      "26   5f248a2f46a10507b20d9f17          0.033000             0.025667   \n",
      "27   5f2dc46d6fa1250ee8a1a15d          0.035333             0.036316   \n",
      "28   5f3ac1732efa0a74f975b1a8          0.023214             0.020455   \n",
      "29   5f4cc1ded01b151cbb03c0f8          0.027188             0.025556   \n",
      "30   5f4ced34dbc54406d1684da0          0.030000             0.032222   \n",
      "31   5f4ee0e82f0d6c12d692c29b          0.028125             0.028333   \n",
      "32   5f50dc440305bb077d82eca4          0.040417             0.035238   \n",
      "33   5f53216409e6d06275ef0545          0.036452             0.038235   \n",
      "34   5f5f09ebf7e0497dcdb37dee          0.040000             0.037826   \n",
      "35   5f647f4d6443f82231b6bc78          0.019500             0.019667   \n",
      "36   5f68d7190611d306d40d4b58          0.034231             0.030000   \n",
      "37   5f6ea39029ca174064215ac2          0.029630             0.025652   \n",
      "38   5f7e4fbc36d39211c80599fe          0.035263             0.028333   \n",
      "39   5f8dd51f6d2378145bf99cdc          0.034118             0.030000   \n",
      "40   5fbd2fffbbfb2d070580d353          0.028889             0.028125   \n",
      "41   5fcd31e19fd435c2162f2869          0.025938             0.021667   \n",
      "42   5ff0a56b116bbf440e520992          0.038400             0.030870   \n",
      "43   5ff37f2588f05799fa9a9873          0.028929             0.024500   \n",
      "44   600ecc3692aa597c9a274833          0.023913             0.022222   \n",
      "45   6016f95c56f32e8df6e841af          0.016364             0.019643   \n",
      "46   604557dd82b57569031a1da8          0.029375             0.026667   \n",
      "47   604a7ee304a949c38ab69799          0.032143             0.031364   \n",
      "48   60a647cf71f87619eeed97ea          0.041111             0.036522   \n",
      "49   60b0334a2e48ac0856f33161          0.020000             0.021333   \n",
      "50   60c357a0a275dce4c49ddefc          0.035000             0.031818   \n",
      "51   60c5b99d82cd6a9ad6e24f75          0.033333             0.027647   \n",
      "52   60d86d6c0f4b31dab174a376          0.028750             0.025385   \n",
      "53   60dbf15243bf8d31a96ed803          0.039286             0.038636   \n",
      "54   60dca5d351d99ef73b2f8994          0.032000             0.029500   \n",
      "55   60dd5577b29a08bcb068a5d8          0.024815             0.022174   \n",
      "56   60ddb1b050d121b8fbc0349a          0.034242             0.029412   \n",
      "57   60ddcbb80c73eaf8ceca130e          0.034091             0.029259   \n",
      "58   60e024be16fcfabbaac7d3ae          0.033077             0.034545   \n",
      "59   60e040c54dc298116f43aae7          0.038636             0.030714   \n",
      "60   60e41b5208ffba4a93ddbab3          0.026000             0.024500   \n",
      "61   60e4bcdf85f979aaddffa104          0.040667             0.031714   \n",
      "62   60e5194cff6d453e2b606c55          0.030667             0.031000   \n",
      "63   60e637111a022da8d1963a65          0.041200             0.036000   \n",
      "64   60e96125cf260de73e1b535c          0.031739             0.030000   \n",
      "65   60ea0984f30f7e0a9b839e3b          0.028929             0.027273   \n",
      "66   60ec5e30aa066198fa55ec21          0.040357             0.037273   \n",
      "67   60edd81b455433dae20025fd          0.034444             0.032174   \n",
      "68   60f42d83362792b0bc8d3d47          0.015500             0.020000   \n",
      "69                       wtp1          0.030000             0.028000   \n",
      "70                       wtp2          0.025000             0.026522   \n",
      "71                       wtp3          0.017000             0.020370   \n",
      "72                       wtp4          0.027000             0.023333   \n",
      "73                       wtp5          0.030000             0.025000   \n",
      "74                       wtp6          0.031000             0.033333   \n",
      "75                       wtp7          0.032000             0.030625   \n",
      "76                       wtp8          0.025000             0.022500   \n",
      "77                       wtp9          0.025000             0.021739   \n",
      "78                      wtp10          0.026000             0.020000   \n",
      "79                      wtp11          0.025000             0.016250   \n",
      "80                      wtp12          0.026000             0.019091   \n",
      "81                      wtp13          0.032000             0.025185   \n",
      "82                      wtp14          0.027000             0.030000   \n",
      "83                      wtp15          0.027000             0.024783   \n",
      "84                      wtp16          0.026000             0.023438   \n",
      "85                      wtp17          0.021000             0.021304   \n",
      "86                      wtp18          0.018000             0.019200   \n",
      "87                      wtp19          0.026000             0.026154   \n",
      "88                      wtp20          0.029000             0.025882   \n",
      "89                      wtp21          0.038000             0.028684   \n",
      "90                      wtp22          0.020000             0.022609   \n",
      "91                      wtp23          0.032000             0.030000   \n",
      "92                      wtp24          0.031000             0.028462   \n",
      "93                      wtp25          0.028000             0.027778   \n",
      "94                      wtp26          0.033000             0.030500   \n",
      "95                      wtp27          0.031000             0.027857   \n",
      "96                      wtp28          0.024000             0.022069   \n",
      "97                      wtp29          0.033000             0.031176   \n",
      "98                       wp30          0.028000             0.032000   \n",
      "99                      wtp31          0.030714             0.028235   \n",
      "100                     wtp32          0.034000             0.027917   \n",
      "\n",
      "     prop_social  prop_nonsoc  AQ     MSPSS  \n",
      "0       0.400000     0.600000  26  4.000000  \n",
      "1       0.520000     0.480000  16  7.000000  \n",
      "2       0.200000     0.800000  17  5.750000  \n",
      "3       0.520000     0.480000   5  7.000000  \n",
      "4       0.408000     0.592000  32  4.916667  \n",
      "5       0.620000     0.380000  23  4.250000  \n",
      "6       0.347000     0.653000  20  6.000000  \n",
      "7       0.740000     0.260000  22  1.250000  \n",
      "8       0.520000     0.480000  20  3.000000  \n",
      "9       0.440000     0.560000  19  2.500000  \n",
      "10      0.460000     0.540000  23  1.333333  \n",
      "11      0.500000     0.500000  22  2.416667  \n",
      "12      0.440000     0.560000  21  5.666667  \n",
      "13      0.820000     0.180000  10  7.000000  \n",
      "14      0.520000     0.480000  19  5.000000  \n",
      "15      0.449000     0.551000  27  4.416667  \n",
      "16      0.500000     0.500000  12  5.333333  \n",
      "17      0.520000     0.480000  25  6.083333  \n",
      "18      0.356000     0.644000  26  5.666667  \n",
      "19      0.500000     0.500000  31  2.333333  \n",
      "20      0.776000     0.224000  19  5.333333  \n",
      "21      0.480000     0.520000  31  1.500000  \n",
      "22      0.160000     0.840000  26  3.250000  \n",
      "23      0.760000     0.240000  14  3.666667  \n",
      "24      0.560000     0.440000  16  5.416667  \n",
      "25      0.200000     0.800000  33  4.416667  \n",
      "26      0.400000     0.600000  30  4.083333  \n",
      "27      0.612000     0.388000  11  6.500000  \n",
      "28      0.560000     0.440000   4  6.000000  \n",
      "29      0.640000     0.360000   9  6.416667  \n",
      "30      0.820000     0.180000  11  6.333333  \n",
      "31      0.640000     0.360000  21  4.583333  \n",
      "32      0.533000     0.467000  21  5.916667  \n",
      "33      0.646000     0.354000  20  6.500000  \n",
      "34      0.540000     0.460000  22  5.666667  \n",
      "35      0.400000     0.600000  19  5.583333  \n",
      "36      0.531000     0.469000  15  7.000000  \n",
      "37      0.540000     0.460000  25  5.416667  \n",
      "38      0.388000     0.612000  29  5.500000  \n",
      "39      0.362000     0.638000  17  5.166667  \n",
      "40      0.360000     0.640000  21  6.666667  \n",
      "41      0.640000     0.360000   7  6.333333  \n",
      "42      0.521000     0.479000  15  7.000000  \n",
      "43      0.583000     0.417000  12  6.583333  \n",
      "44      0.460000     0.540000  24  5.666667  \n",
      "45      0.440000     0.560000  13  4.416667  \n",
      "46      0.640000     0.360000  14  5.583333  \n",
      "47      0.560000     0.440000  17  3.750000  \n",
      "48      0.540000     0.460000  15  6.333333  \n",
      "49      0.400000     0.600000  18  5.750000  \n",
      "50      0.560000     0.440000  13  6.416667  \n",
      "51      0.306000     0.694000  19  5.750000  \n",
      "52      0.480000     0.520000  27  4.583333  \n",
      "53      0.560000     0.440000  16  6.333333  \n",
      "54      0.600000     0.400000  20  4.916667  \n",
      "55      0.540000     0.460000  21  5.583333  \n",
      "56      0.660000     0.340000  18  5.583333  \n",
      "57      0.449000     0.551000  22  6.000000  \n",
      "58      0.780000     0.220000  21  4.250000  \n",
      "59      0.440000     0.560000  13  6.916667  \n",
      "60      0.600000     0.400000  19  5.583333  \n",
      "61      0.300000     0.700000  27  5.666667  \n",
      "62      0.600000     0.400000  22  4.083333  \n",
      "63      0.500000     0.500000  27  5.333333  \n",
      "64      0.460000     0.540000  26  6.583333  \n",
      "65      0.560000     0.440000  16  5.000000  \n",
      "66      0.560000     0.440000  17  5.000000  \n",
      "67      0.540000     0.460000  26  3.333333  \n",
      "68      0.400000     0.600000  26  4.666667  \n",
      "69      0.791667     0.208333  14  6.250000  \n",
      "70      0.530612     0.469388  11  5.916600  \n",
      "71      0.448980     0.551020  26  6.166700  \n",
      "72      0.693878     0.306122  23  5.666000  \n",
      "73      0.836735     0.163265  21  7.000000  \n",
      "74      0.816327     0.183673  20  6.750000  \n",
      "75      0.346939     0.653061  27  3.750000  \n",
      "76      0.591837     0.408163  17  4.916000  \n",
      "77      0.510638     0.489362  23  2.833000  \n",
      "78      0.680851     0.319149  15  5.833000  \n",
      "79      0.673469     0.326531  18  6.500000  \n",
      "80      0.760870     0.239130  19  6.083000  \n",
      "81      0.448980     0.551020  21  5.333000  \n",
      "82      0.880000     0.120000  18  6.916000  \n",
      "83      0.530612     0.469388  23  5.083000  \n",
      "84      0.360000     0.640000  27  6.333000  \n",
      "85      0.520833     0.479167  22  4.750000  \n",
      "86      0.489796     0.510204  16  7.000000  \n",
      "87      0.717391     0.282609  20  5.000000  \n",
      "88      0.638298     0.361702  21  5.000000  \n",
      "89      0.174000     0.826000  22  4.917000  \n",
      "90      0.540000     0.460000  22  5.083000  \n",
      "91      0.638000     0.362000  24  5.083000  \n",
      "92      0.698000     0.302000  14  5.000000  \n",
      "93      0.617000     0.383000  26  3.583000  \n",
      "94      0.474000     0.526000  25  5.917000  \n",
      "95      0.689000     0.311000  18  4.500000  \n",
      "96      0.408000     0.592000  27  5.167000  \n",
      "97      0.622000     0.378000  19  6.000000  \n",
      "98      0.681000     0.319000  12  5.417000  \n",
      "99      0.292000     0.708000  17  1.917000  \n",
      "100     0.466700     0.533300  21  5.417000  \n"
     ]
    }
   ],
   "source": [
    "wtpdata = pd.read_csv(r'wtp_subs_list_all.csv', encoding='utf-8-sig')\n",
    "pd.set_option(\"display.max_rows\", None, \"display.max_columns\", None)\n",
    "print(wtpdata)\n",
    "\n"
   ]
  },
  {
   "cell_type": "code",
   "execution_count": 77,
   "metadata": {},
   "outputs": [],
   "source": [
    "wtpdata['avg_spent_social'] = wtpdata['avg_spent_social'].astype(float)\n",
    "wtpdata['avg_spent_nonsocial'] = wtpdata['avg_spent_nonsocial'].astype(float)\n",
    "#wtpdata.applymap(type)"
   ]
  },
  {
   "cell_type": "code",
   "execution_count": 78,
   "metadata": {},
   "outputs": [
    {
     "name": "stdout",
     "output_type": "stream",
     "text": [
      "group mean: 0.029464702970\n",
      "standard error of the mean: 0.000584604554\n"
     ]
    }
   ],
   "source": [
    "socialavg= wtpdata.avg_spent_social\n",
    "#calculate group mean for av spent on social experiences\n",
    "social_M = mean(socialavg)\n",
    "print('group mean: %.12f'% (social_M))\n",
    "print('standard error of the mean: %.12f'% (sem(socialavg)))\n"
   ]
  },
  {
   "cell_type": "code",
   "execution_count": 79,
   "metadata": {},
   "outputs": [
    {
     "name": "stdout",
     "output_type": "stream",
     "text": [
      "group mean: 0.027084009901\n",
      "standard error of the mean: 0.000515251931\n"
     ]
    }
   ],
   "source": [
    "nonsocialavg = wtpdata.avg_spent_nonsocial\n",
    "#calculate group mean for av spent on non-social experiences\n",
    "\n",
    "\n",
    "nonsocial_M = mean(nonsocialavg)\n",
    "print('group mean: %.12f'% (nonsocial_M))\n",
    "print('standard error of the mean: %.12f'% (sem(nonsocialavg)))\n",
    "\n",
    "\n"
   ]
  },
  {
   "cell_type": "code",
   "execution_count": 80,
   "metadata": {},
   "outputs": [
    {
     "name": "stdout",
     "output_type": "stream",
     "text": [
      "101\n"
     ]
    }
   ],
   "source": [
    "#sample size\n",
    "n = len(wtpdata)\n",
    "print(n)"
   ]
  },
  {
   "cell_type": "code",
   "execution_count": 81,
   "metadata": {},
   "outputs": [
    {
     "name": "stdout",
     "output_type": "stream",
     "text": [
      "0.0015299791900000009 0.2404500000000001\n",
      "0.0030944168133675023\n"
     ]
    }
   ],
   "source": [
    "#Calculate STD\n",
    "# sum squared difference between observations\n",
    "d1 = sum([(socialavg[i]-nonsocialavg[i])**2 for i in range(n)])\n",
    "# sum difference between observations\n",
    "d2 = sum([socialavg[i]-nonsocialavg[i] for i in range(n)])\n",
    "print(d1,d2)\n",
    "\n",
    "# standard deviation of the difference between means\n",
    "standev = np.sqrt((d1 - (d2**2 / n)) / (n - 1))\n",
    "print(standev)"
   ]
  },
  {
   "cell_type": "code",
   "execution_count": 82,
   "metadata": {},
   "outputs": [
    {
     "name": "stdout",
     "output_type": "stream",
     "text": [
      "0.0003079059811311748\n"
     ]
    }
   ],
   "source": [
    "#calculate standard error of the difference between the means\n",
    "sed = standev / np.sqrt(n)\n",
    "print(sed)"
   ]
  },
  {
   "cell_type": "code",
   "execution_count": 83,
   "metadata": {},
   "outputs": [
    {
     "name": "stdout",
     "output_type": "stream",
     "text": [
      "7.7318831565428505\n"
     ]
    }
   ],
   "source": [
    "# calculate the t statistic\n",
    "t_stat = (social_M - nonsocial_M) / sed\n",
    "print(t_stat)"
   ]
  },
  {
   "cell_type": "code",
   "execution_count": 84,
   "metadata": {},
   "outputs": [
    {
     "name": "stdout",
     "output_type": "stream",
     "text": [
      "100\n"
     ]
    }
   ],
   "source": [
    "# degrees of freedom\n",
    "df = n - 1\n",
    "print(df)\n",
    "alpha= 0.05"
   ]
  },
  {
   "cell_type": "code",
   "execution_count": 85,
   "metadata": {},
   "outputs": [
    {
     "name": "stdout",
     "output_type": "stream",
     "text": [
      "t=7.732, df=100, cv=1.660, p=0.000\n",
      "Reject the null hypothesis that the means are equal.\n",
      "Reject the null hypothesis that the means are equal.\n"
     ]
    }
   ],
   "source": [
    "# calculate the critical value\n",
    "cv = t.ppf(1.0 - alpha, df)\n",
    "# calculate the p-value\n",
    "p = (1.0 - t.cdf(abs(t_stat), df)) * 2.0\n",
    "# return everything\n",
    "print('t=%.3f, df=%d, cv=%.3f, p=%.3f' % (t_stat, df, cv, p))\n",
    "# interpret via critical value\n",
    "if abs(t_stat) <= cv:\n",
    "\tprint('Accept null hypothesis that the means are equal.')\n",
    "else:\n",
    "\tprint('Reject the null hypothesis that the means are equal.')\n",
    "# interpret via p-value\n",
    "if p > alpha:\n",
    "\tprint('Accept null hypothesis that the means are equal.')\n",
    "else:\n",
    "\tprint('Reject the null hypothesis that the means are equal.')\n"
   ]
  },
  {
   "cell_type": "code",
   "execution_count": 86,
   "metadata": {},
   "outputs": [
    {
     "data": {
      "image/png": "[encoded data removed]",
      "text/plain": [
       "<Figure size 432x288 with 1 Axes>"
      ]
     },
     "metadata": {
      "needs_background": "light"
     },
     "output_type": "display_data"
    }
   ],
   "source": [
    "wtp_means = pd.DataFrame({'experience_type': ['social','nonsocial'], 'average_spent': [social_M, nonsocial_M]})\n",
    "\n",
    "wtp_plot = sns.barplot(x=wtp_means.experience_type, y=wtp_means.average_spent, data=wtp_means)"
   ]
  },
  {
   "cell_type": "code",
   "execution_count": 87,
   "metadata": {},
   "outputs": [
    {
     "name": "stdout",
     "output_type": "stream",
     "text": [
      "0.4299074949087776\n"
     ]
    }
   ],
   "source": [
    "#calculate effect size- cohens d\n",
    "\n",
    "cohens_d = (mean(socialavg) - mean(nonsocialavg)) / (sqrt((stdev(socialavg) ** 2 + stdev(nonsocialavg) ** 2) / 2))\n",
    "\n",
    "print(cohens_d)"
   ]
  },
  {
   "cell_type": "code",
   "execution_count": 88,
   "metadata": {},
   "outputs": [],
   "source": [
    "prop_social = wtpdata['prop_social']\n",
    "prop_nonsocial = wtpdata['prop_nonsoc']\n",
    "aq = wtpdata.AQ #autism quotient\n",
    "mspss = wtpdata.MSPSS #perceived social support"
   ]
  },
  {
   "cell_type": "code",
   "execution_count": 89,
   "metadata": {},
   "outputs": [
    {
     "name": "stdout",
     "output_type": "stream",
     "text": [
      "mean: 0.534013973960\n"
     ]
    }
   ],
   "source": [
    "prop_socialavg= wtpdata.prop_social\n",
    "#calculate group mean for prop of chosen social experiences\n",
    "prop_soc_M = mean(prop_socialavg)\n",
    "print('mean: %.12f'% (prop_soc_M))\n"
   ]
  },
  {
   "cell_type": "code",
   "execution_count": 90,
   "metadata": {},
   "outputs": [
    {
     "name": "stdout",
     "output_type": "stream",
     "text": [
      "mean: 0.465986026040\n"
     ]
    }
   ],
   "source": [
    "prop_nonsocialavg= wtpdata.prop_nonsoc\n",
    "#calculate group mean for prop of chosen social experiences\n",
    "prop_nonsoc_M = mean(prop_nonsocialavg)\n",
    "print('mean: %.12f'% (prop_nonsoc_M))\n"
   ]
  },
  {
   "cell_type": "code",
   "execution_count": 91,
   "metadata": {},
   "outputs": [
    {
     "name": "stdout",
     "output_type": "stream",
     "text": [
      "9.269135783510634 6.870822739999998\n",
      "0.2966770603194814\n"
     ]
    }
   ],
   "source": [
    "#Calculate STD\n",
    "# sum squared difference between observations\n",
    "d1 = sum([(prop_socialavg[i]-prop_nonsocialavg[i])**2 for i in range(n)])\n",
    "# sum difference between observations\n",
    "d2 = sum([prop_socialavg[i]-prop_nonsocialavg[i] for i in range(n)])\n",
    "print(d1,d2)\n",
    "\n",
    "# standard deviation of the difference between means\n",
    "standev = np.sqrt((d1 - (d2**2 / n)) / (n - 1))\n",
    "print(standev)"
   ]
  },
  {
   "cell_type": "code",
   "execution_count": 92,
   "metadata": {},
   "outputs": [
    {
     "name": "stdout",
     "output_type": "stream",
     "text": [
      "0.02952047085000562\n"
     ]
    }
   ],
   "source": [
    "#calculate standard error of the difference between the means\n",
    "sed = standev / np.sqrt(n)\n",
    "print(sed)"
   ]
  },
  {
   "cell_type": "code",
   "execution_count": 93,
   "metadata": {},
   "outputs": [
    {
     "name": "stdout",
     "output_type": "stream",
     "text": [
      "2.304433024339079\n",
      "100\n"
     ]
    }
   ],
   "source": [
    "# calculate the t statistic\n",
    "t_stat = (prop_soc_M - prop_nonsoc_M) / sed\n",
    "print(t_stat)\n",
    "\n",
    "# degrees of freedom\n",
    "df = n - 1\n",
    "print(df)\n",
    "alpha= 0.05"
   ]
  },
  {
   "cell_type": "code",
   "execution_count": 94,
   "metadata": {},
   "outputs": [
    {
     "name": "stdout",
     "output_type": "stream",
     "text": [
      "t=2.304, df=100, cv=1.660, p=0.023\n",
      "Reject the null hypothesis that the means are equal.\n",
      "Reject the null hypothesis that the means are equal.\n"
     ]
    }
   ],
   "source": [
    "# calculate the critical value\n",
    "cv = t.ppf(1.0 - alpha, df)\n",
    "# calculate the p-value\n",
    "p = (1.0 - t.cdf(abs(t_stat), df)) * 2.0\n",
    "# return everything\n",
    "print('t=%.3f, df=%d, cv=%.3f, p=%.3f' % (t_stat, df, cv, p))\n",
    "# interpret via critical value\n",
    "if abs(t_stat) <= cv:\n",
    "\tprint('Accept null hypothesis that the means are equal.')\n",
    "else:\n",
    "\tprint('Reject the null hypothesis that the means are equal.')\n",
    "# interpret via p-value\n",
    "if p > alpha:\n",
    "\tprint('Accept null hypothesis that the means are equal.')\n",
    "else:\n",
    "\tprint('Reject the null hypothesis that the means are equal.')\n"
   ]
  },
  {
   "cell_type": "code",
   "execution_count": 95,
   "metadata": {},
   "outputs": [
    {
     "data": {
      "image/png": "[encoded data removed]",
      "text/plain": [
       "<Figure size 432x288 with 1 Axes>"
      ]
     },
     "metadata": {
      "needs_background": "light"
     },
     "output_type": "display_data"
    }
   ],
   "source": [
    "wtp_means = pd.DataFrame({'experience_type': ['social','nonsocial'], 'prop_chosen': [prop_soc_M, prop_nonsoc_M]})\n",
    "\n",
    "wtp_plot = sns.barplot(x=wtp_means.experience_type, y=wtp_means.prop_chosen, data=wtp_means)"
   ]
  },
  {
   "cell_type": "code",
   "execution_count": 96,
   "metadata": {},
   "outputs": [],
   "source": [
    "### t-test -- on average did they choose social more than 50% of the time?"
   ]
  },
  {
   "cell_type": "code",
   "execution_count": 97,
   "metadata": {},
   "outputs": [
    {
     "data": {
      "text/plain": [
       "Ttest_1sampResult(statistic=2.304433024339081, pvalue=0.023266251027563575)"
      ]
     },
     "execution_count": 97,
     "metadata": {},
     "output_type": "execute_result"
    }
   ],
   "source": [
    "#perform one sample t-test\n",
    "stats.ttest_1samp(a=prop_social, popmean=0.5)"
   ]
  },
  {
   "cell_type": "code",
   "execution_count": 98,
   "metadata": {},
   "outputs": [],
   "source": [
    "##### amount spent on social experiences // self report  ######"
   ]
  },
  {
   "cell_type": "code",
   "execution_count": 99,
   "metadata": {},
   "outputs": [
    {
     "data": {
      "image/png": "[encoded data removed]",
      "text/plain": [
       "<Figure size 432x288 with 1 Axes>"
      ]
     },
     "metadata": {
      "needs_background": "light"
     },
     "output_type": "display_data"
    },
    {
     "name": "stdout",
     "output_type": "stream",
     "text": [
      "[[ 3.45180109e-05 -2.92061895e-04]\n",
      " [-2.92061895e-04  1.77894296e+00]]\n",
      "Pearsons correlation: -0.037\n",
      "p value: 0.7114\n",
      "Accept null hypothesis that the means are equal.\n"
     ]
    }
   ],
   "source": [
    "#amount spent on social / mulitdimensional scale of perceived social support\n",
    "pyplot.scatter(socialavg, mspss)\n",
    "pyplot.show()\n",
    "covariance = cov(socialavg, mspss)\n",
    "print(covariance)\n",
    "corr, _ = pearsonr(socialavg, mspss)\n",
    "print('Pearsons correlation: %.3f' % corr)\n",
    "r,p = scipy.stats.pearsonr(socialavg, mspss)\n",
    "print('p value: %.4f' % p)\n",
    "alpha = 0.10\n",
    "if p > alpha:\n",
    "\tprint('Accept null hypothesis that the means are equal.')\n",
    "else:\n",
    "    print('Reject the null hypothesis that the means are equal.')"
   ]
  },
  {
   "cell_type": "code",
   "execution_count": 367,
   "metadata": {},
   "outputs": [
    {
     "data": {
      "image/png": "[encoded data removed]",
      "text/plain": [
       "<Figure size 432x288 with 1 Axes>"
      ]
     },
     "metadata": {
      "needs_background": "light"
     },
     "output_type": "display_data"
    },
    {
     "name": "stdout",
     "output_type": "stream",
     "text": [
      "[[3.45180109e-05 4.12360030e-03]\n",
      " [4.12360030e-03 3.41900990e+01]]\n",
      "Pearsons correlation: 0.120\n",
      "p value: 0.2318\n",
      "Accept null hypothesis that the means are equal.\n"
     ]
    }
   ],
   "source": [
    "## AQ\n",
    "\n",
    "# social // aq\n",
    "pyplot.scatter(socialavg, aq)\n",
    "pyplot.show()\n",
    "covariance = cov(socialavg, aq)\n",
    "print(covariance)\n",
    "corr, _ = pearsonr(socialavg, aq)\n",
    "print('Pearsons correlation: %.3f' % corr)\n",
    "r,p = scipy.stats.pearsonr(socialavg, aq)\n",
    "print('p value: %.4f' % p)\n",
    "alpha = 0.10\n",
    "if p > alpha:\n",
    "\tprint('Accept null hypothesis that the means are equal.')\n",
    "else:\n",
    "    print('Reject the null hypothesis that the means are equal.')"
   ]
  },
  {
   "cell_type": "code",
   "execution_count": 368,
   "metadata": {},
   "outputs": [],
   "source": [
    "##### prop of chosen social // self report #####"
   ]
  },
  {
   "cell_type": "code",
   "execution_count": 100,
   "metadata": {},
   "outputs": [
    {
     "data": {
      "image/png": "[encoded data removed]",
      "text/plain": [
       "<Figure size 432x288 with 1 Axes>"
      ]
     },
     "metadata": {
      "needs_background": "light"
     },
     "output_type": "display_data"
    },
    {
     "name": "stdout",
     "output_type": "stream",
     "text": [
      "[[0.02200432 0.03863028]\n",
      " [0.03863028 1.77894296]]\n",
      "Pearsons correlation: 0.195\n",
      "p value: 0.0504\n",
      "Reject the null hypothesis that the means are equal.\n"
     ]
    }
   ],
   "source": [
    "#prop of chosen social // MSPSS\n",
    "pyplot.scatter(prop_social, mspss)\n",
    "pyplot.show()\n",
    "covariance = cov(prop_social, mspss)\n",
    "print(covariance)\n",
    "corr, _ = pearsonr(prop_social, mspss)\n",
    "print('Pearsons correlation: %.3f' % corr)\n",
    "r,p = scipy.stats.pearsonr(prop_social, mspss)\n",
    "print('p value: %.4f' % p)\n",
    "alpha = 0.10\n",
    "if p > alpha:\n",
    "\tprint('Accept null hypothesis that the means are equal.')\n",
    "else:\n",
    "    print('Reject the null hypothesis that the means are equal.')"
   ]
  },
  {
   "cell_type": "code",
   "execution_count": 101,
   "metadata": {},
   "outputs": [
    {
     "data": {
      "image/png": "[encoded data removed]",
      "text/plain": [
       "<Figure size 432x288 with 1 Axes>"
      ]
     },
     "metadata": {
      "needs_background": "light"
     },
     "output_type": "display_data"
    },
    {
     "name": "stdout",
     "output_type": "stream",
     "text": [
      "[[ 2.20043195e-02 -3.47379159e-01]\n",
      " [-3.47379159e-01  3.41900990e+01]]\n",
      "Pearsons correlation: -0.400\n",
      "p value: 0.0000\n",
      "Reject the null hypothesis that the means are equal.\n"
     ]
    }
   ],
   "source": [
    " # prop social // aq\n",
    "pyplot.scatter(prop_social, aq)\n",
    "pyplot.show()\n",
    "covariance = cov(prop_social, aq)\n",
    "print(covariance)\n",
    "corr, _ = pearsonr(prop_social, aq)\n",
    "print('Pearsons correlation: %.3f' % corr)\n",
    "r,p = scipy.stats.pearsonr(prop_social, aq)\n",
    "print('p value: %.4f' % p)\n",
    "\n",
    "alpha = 0.10\n",
    "if p > alpha:\n",
    "\tprint('Accept null hypothesis that the means are equal.')\n",
    "else:\n",
    "    print('Reject the null hypothesis that the means are equal.')"
   ]
  },
  {
   "cell_type": "code",
   "execution_count": 324,
   "metadata": {},
   "outputs": [
    {
     "data": {
      "image/png": "[encoded data removed]",
      "text/plain": [
       "<Figure size 432x288 with 1 Axes>"
      ]
     },
     "metadata": {
      "needs_background": "light"
     },
     "output_type": "display_data"
    },
    {
     "name": "stdout",
     "output_type": "stream",
     "text": [
      "[[ 2.71980334e-05 -3.35552643e-04]\n",
      " [-3.35552643e-04  1.69141066e+00]]\n",
      "Pearsons correlation: -0.049\n",
      "p value: 0.7250\n",
      "Accept null hypothesis that the means are equal.\n"
     ]
    }
   ],
   "source": [
    "##### avg spent on nonsocial // self report #####\n",
    "# nonsocial // mspss (social support)\n",
    "pyplot.scatter(nonsocialavg, mspss)\n",
    "pyplot.show()\n",
    "covariance = cov(nonsocialavg, mspss)\n",
    "print(covariance)\n",
    "corr, _ = pearsonr(nonsocialavg, mspss)\n",
    "print('Pearsons correlation: %.3f' % corr)\n",
    "r,p = scipy.stats.pearsonr(nonsocialavg, mspss)\n",
    "print('p value: %.4f' % p)\n",
    "alpha = 0.10\n",
    "if p > alpha:\n",
    "\tprint('Accept null hypothesis that the means are equal.')\n",
    "else:\n",
    "    print('Reject the null hypothesis that the means are equal.')\n",
    "    "
   ]
  },
  {
   "cell_type": "code",
   "execution_count": 371,
   "metadata": {},
   "outputs": [
    {
     "data": {
      "image/png": "[encoded data removed]",
      "text/plain": [
       "<Figure size 432x288 with 1 Axes>"
      ]
     },
     "metadata": {
      "needs_background": "light"
     },
     "output_type": "display_data"
    },
    {
     "name": "stdout",
     "output_type": "stream",
     "text": [
      "[[2.68139398e-05 3.83791099e-03]\n",
      " [3.83791099e-03 3.41900990e+01]]\n",
      "Pearsons correlation: 0.127\n",
      "p value: 0.2065\n",
      "Accept null hypothesis that the means are equal.\n"
     ]
    }
   ],
   "source": [
    "# nonsocial // aq\n",
    "pyplot.scatter(nonsocialavg, aq)\n",
    "pyplot.show()\n",
    "covariance = cov(nonsocialavg, aq)\n",
    "print(covariance)\n",
    "corr, _ = pearsonr(nonsocialavg, aq)\n",
    "print('Pearsons correlation: %.3f' % corr)\n",
    "r,p = scipy.stats.pearsonr(nonsocialavg, aq)\n",
    "print('p value: %.4f' % p)\n",
    "alpha = 0.10\n",
    "if p > alpha:\n",
    "\tprint('Accept null hypothesis that the means are equal.')\n",
    "else:\n",
    "    print('Reject the null hypothesis that the means are equal.')"
   ]
  },
  {
   "cell_type": "code",
   "execution_count": 372,
   "metadata": {},
   "outputs": [],
   "source": [
    "######################################################################################################################"
   ]
  },
  {
   "cell_type": "code",
   "execution_count": 373,
   "metadata": {},
   "outputs": [],
   "source": [
    "######################################################################################################################"
   ]
  },
  {
   "cell_type": "code",
   "execution_count": 374,
   "metadata": {},
   "outputs": [],
   "source": [
    "## now just the last 52 subjects (excluding pilot data)"
   ]
  },
  {
   "cell_type": "code",
   "execution_count": 375,
   "metadata": {},
   "outputs": [
    {
     "name": "stdout",
     "output_type": "stream",
     "text": [
      "                 prolific_id  avg_spent_social  avg_spent_nonsocial  \\\n",
      "0   60a647cf71f87619eeed97ea          0.041111             0.036522   \n",
      "1   5f248a2f46a10507b20d9f17          0.033000             0.025667   \n",
      "2   5fbd2fffbbfb2d070580d353          0.028889             0.028125   \n",
      "3   5d305152b2cfe00019231a2a          0.029600             0.025600   \n",
      "4   57e972d7c3e5930001447bb1          0.030645             0.027368   \n",
      "5   5f6ea39029ca174064215ac2          0.029630             0.025652   \n",
      "6   60d86d6c0f4b31dab174a376          0.028750             0.025385   \n",
      "7   60b0334a2e48ac0856f33161          0.020000             0.021333   \n",
      "8   5e9a4b17666c130defb0ab72          0.028400             0.028800   \n",
      "9   5f4ee0e82f0d6c12d692c29b          0.028125             0.028333   \n",
      "10  604557dd82b57569031a1da8          0.029375             0.026667   \n",
      "11  5cc166b25899270017dd60e2          0.032727             0.028571   \n",
      "12  60dbf15243bf8d31a96ed803          0.039286             0.038636   \n",
      "13  55ea70c37480920010aa9982          0.031000             0.029250   \n",
      "14  60e024be16fcfabbaac7d3ae          0.033077             0.034545   \n",
      "15  5e31740eb3f28315c5e0d347          0.032273             0.028519   \n",
      "16  5da23c68cf775d001724d361          0.016818             0.019286   \n",
      "17  604a7ee304a949c38ab69799          0.032143             0.031364   \n",
      "18  58ab75c4ef58a9000119d16c          0.024118             0.022500   \n",
      "19  60e5194cff6d453e2b606c55          0.030667             0.031000   \n",
      "20  5f647f4d6443f82231b6bc78          0.019500             0.019667   \n",
      "21  5e5e9f949ec7440200735db7          0.026923             0.024583   \n",
      "22  5e27868c5cbbcc0b3599574b          0.028846             0.027917   \n",
      "23  60ea0984f30f7e0a9b839e3b          0.028929             0.027273   \n",
      "24  60c357a0a275dce4c49ddefc          0.035000             0.031818   \n",
      "25  6016f95c56f32e8df6e841af          0.016364             0.019643   \n",
      "26  5f3ac1732efa0a74f975b1a8          0.023214             0.020455   \n",
      "27  549ea92efdf99b4ffa5fa208          0.032000             0.030333   \n",
      "28  600ecc3692aa597c9a274833          0.023913             0.022222   \n",
      "29  5fcd31e19fd435c2162f2869          0.025938             0.021667   \n",
      "30  60dca5d351d99ef73b2f8994          0.032000             0.029500   \n",
      "31  5e3760815bfa436fd256b2e9          0.024000             0.021200   \n",
      "32  60dd5577b29a08bcb068a5d8          0.024815             0.022174   \n",
      "33  60e41b5208ffba4a93ddbab3          0.026000             0.024500   \n",
      "34  60e637111a022da8d1963a65          0.041200             0.036000   \n",
      "35  60ec5e30aa066198fa55ec21          0.040357             0.037273   \n",
      "36  5f68d7190611d306d40d4b58          0.034231             0.030000   \n",
      "37  55a43687fdf99b7da1908e0f          0.018846             0.018333   \n",
      "38  60f42d83362792b0bc8d3d47          0.015500             0.020000   \n",
      "39  5c510d1310223b00012fa23e          0.028919             0.024615   \n",
      "40  60edd81b455433dae20025fd          0.034444             0.032174   \n",
      "41  5f4cc1ded01b151cbb03c0f8          0.027188             0.025556   \n",
      "42  60c5b99d82cd6a9ad6e24f75          0.033333             0.027647   \n",
      "43  5cb33d40f173240019513957          0.022692             0.020000   \n",
      "44  60e96125cf260de73e1b535c          0.031739             0.030000   \n",
      "45  5dd48444dd9a7447d224cc71          0.027317             0.014444   \n",
      "46  56f745653bd969000d170c15          0.034000             0.028621   \n",
      "47  60e4bcdf85f979aaddffa104          0.040667             0.031714   \n",
      "48  5f18b5343b9a080d1e17db57          0.028000             0.026500   \n",
      "49  5f4ced34dbc54406d1684da0          0.030000             0.032222   \n",
      "50  60e040c54dc298116f43aae7          0.038636             0.030714   \n",
      "51  60ddb1b050d121b8fbc0349a          0.034242             0.029412   \n",
      "52  60ddcbb80c73eaf8ceca130e          0.034091             0.029259   \n",
      "\n",
      "    prop_social  AQ     MSPSS  \n",
      "0         0.540  15  6.333333  \n",
      "1         0.400  30  4.083333  \n",
      "2         0.360  21  6.666667  \n",
      "3         0.500  22  2.416667  \n",
      "4         0.620  23  4.250000  \n",
      "5         0.540  25  5.416667  \n",
      "6         0.480  27  4.583333  \n",
      "7         0.400  18  5.750000  \n",
      "8         0.500  31  2.333333  \n",
      "9         0.640  21  4.583333  \n",
      "10        0.640  14  5.583333  \n",
      "11        0.440  19  2.500000  \n",
      "12        0.560  16  6.333333  \n",
      "13        0.200  17  5.750000  \n",
      "14        0.780  21  4.250000  \n",
      "15        0.449  27  4.416667  \n",
      "16        0.440  21  5.666667  \n",
      "17        0.560  17  3.750000  \n",
      "18        0.347  20  6.000000  \n",
      "19        0.600  22  4.083333  \n",
      "20        0.400  19  5.583333  \n",
      "21        0.520  25  6.083333  \n",
      "22        0.520  19  5.000000  \n",
      "23        0.560  16  5.000000  \n",
      "24        0.560  13  6.416667  \n",
      "25        0.440  13  4.416667  \n",
      "26        0.560   4  6.000000  \n",
      "27        0.400  26  4.000000  \n",
      "28        0.460  24  5.666667  \n",
      "29        0.640   7  6.333333  \n",
      "30        0.600  20  4.916667  \n",
      "31        0.500  12  5.333333  \n",
      "32        0.540  21  5.583333  \n",
      "33        0.600  19  5.583333  \n",
      "34        0.500  27  5.333333  \n",
      "35        0.560  17  5.000000  \n",
      "36        0.531  15  7.000000  \n",
      "37        0.520  16  7.000000  \n",
      "38        0.400  26  4.666667  \n",
      "39        0.740  22  1.250000  \n",
      "40        0.540  26  3.333333  \n",
      "41        0.640   9  6.416667  \n",
      "42        0.306  19  5.750000  \n",
      "43        0.520  20  3.000000  \n",
      "44        0.460  26  6.583333  \n",
      "45        0.820  10  7.000000  \n",
      "46        0.408  32  4.916667  \n",
      "47        0.300  27  5.666667  \n",
      "48        0.200  33  4.416667  \n",
      "49        0.820  11  6.333333  \n",
      "50        0.440  13  6.916667  \n",
      "51        0.660  18  5.583333  \n",
      "52        0.449  22  6.000000  \n"
     ]
    }
   ],
   "source": [
    "#import excel file containing data summary\n",
    "wtpdata = pd.read_csv(r'wtp_subs_last53.csv',encoding='utf-8-sig')\n",
    "pd.set_option(\"display.max_rows\", None, \"display.max_columns\", None)\n",
    "print(wtpdata)\n",
    "\n"
   ]
  },
  {
   "cell_type": "code",
   "execution_count": 114,
   "metadata": {},
   "outputs": [],
   "source": [
    "wtpdata['avg_spent_social'] = wtpdata['avg_spent_social'].astype(float)\n",
    "wtpdata['avg_spent_nonsocial'] = wtpdata['avg_spent_nonsocial'].astype(float)\n",
    "#wtpdata.applymap(type)"
   ]
  },
  {
   "cell_type": "code",
   "execution_count": 377,
   "metadata": {
    "scrolled": true
   },
   "outputs": [
    {
     "name": "stdout",
     "output_type": "stream",
     "text": [
      "group mean: 0.029480716981\n",
      "standard error of the mean: 0.000852383441\n"
     ]
    }
   ],
   "source": [
    "socialavg= wtpdata.avg_spent_social\n",
    "#calculate group mean for av spent on social experiences\n",
    "social_M = mean(socialavg)\n",
    "print('group mean: %.12f'% (social_M))\n",
    "print('standard error of the mean: %.12f'% (sem(socialavg)))"
   ]
  },
  {
   "cell_type": "code",
   "execution_count": 378,
   "metadata": {},
   "outputs": [
    {
     "name": "stdout",
     "output_type": "stream",
     "text": [
      "group mean: 0.026991679245\n",
      "standard error of the mean: 0.000716359157\n"
     ]
    }
   ],
   "source": [
    "nonsocialavg = wtpdata.avg_spent_nonsocial\n",
    "#calculate group mean for av spent on non-social experiences\n",
    "\n",
    "\n",
    "nonsocial_M = mean(nonsocialavg)\n",
    "print('group mean: %.12f'% (nonsocial_M))\n",
    "print('standard error of the mean: %.12f'% (sem(nonsocialavg)))\n",
    "\n",
    "\n"
   ]
  },
  {
   "cell_type": "code",
   "execution_count": 379,
   "metadata": {},
   "outputs": [
    {
     "name": "stdout",
     "output_type": "stream",
     "text": [
      "53\n"
     ]
    }
   ],
   "source": [
    "#sample size\n",
    "n = len(wtpdata)\n",
    "print(n)"
   ]
  },
  {
   "cell_type": "code",
   "execution_count": 380,
   "metadata": {},
   "outputs": [
    {
     "name": "stdout",
     "output_type": "stream",
     "text": [
      "0.0008051738970000002 0.131919\n",
      "0.003028145306709806\n"
     ]
    }
   ],
   "source": [
    "#Calculate STD\n",
    "# sum squared difference between observations\n",
    "d1 = sum([(socialavg[i]-nonsocialavg[i])**2 for i in range(n)])\n",
    "# sum difference between observations\n",
    "d2 = sum([socialavg[i]-nonsocialavg[i] for i in range(n)])\n",
    "print(d1,d2)\n",
    "\n",
    "# standard deviation of the difference between means\n",
    "standev = np.sqrt((d1 - (d2**2 / n)) / (n - 1))\n",
    "print(standev)"
   ]
  },
  {
   "cell_type": "code",
   "execution_count": 381,
   "metadata": {},
   "outputs": [
    {
     "name": "stdout",
     "output_type": "stream",
     "text": [
      "0.00041594774704823486\n"
     ]
    }
   ],
   "source": [
    "#calculate standard error of the difference between the means\n",
    "sed = standev / np.sqrt(n)\n",
    "print(sed)"
   ]
  },
  {
   "cell_type": "code",
   "execution_count": 382,
   "metadata": {},
   "outputs": [
    {
     "name": "stdout",
     "output_type": "stream",
     "text": [
      "5.984015428650513\n"
     ]
    }
   ],
   "source": [
    "# calculate the t statistic\n",
    "t_stat = (social_M - nonsocial_M) / sed\n",
    "print(t_stat)"
   ]
  },
  {
   "cell_type": "code",
   "execution_count": 383,
   "metadata": {},
   "outputs": [
    {
     "name": "stdout",
     "output_type": "stream",
     "text": [
      "52\n"
     ]
    }
   ],
   "source": [
    "# degrees of freedom\n",
    "df = n - 1\n",
    "print(df)\n",
    "alpha= 0.05"
   ]
  },
  {
   "cell_type": "code",
   "execution_count": 384,
   "metadata": {},
   "outputs": [
    {
     "name": "stdout",
     "output_type": "stream",
     "text": [
      "t=5.984, df=52, cv=1.675, p=0.000\n",
      "Reject the null hypothesis that the means are equal.\n",
      "Reject the null hypothesis that the means are equal.\n"
     ]
    }
   ],
   "source": [
    "# calculate the critical value\n",
    "cv = t.ppf(1.0 - alpha, df)\n",
    "# calculate the p-value\n",
    "p = (1.0 - t.cdf(abs(t_stat), df)) * 2.0\n",
    "# return everything\n",
    "print('t=%.3f, df=%d, cv=%.3f, p=%.3f' % (t_stat, df, cv, p))\n",
    "# interpret via critical value\n",
    "if abs(t_stat) <= cv:\n",
    "\tprint('Accept null hypothesis that the means are equal.')\n",
    "else:\n",
    "\tprint('Reject the null hypothesis that the means are equal.')\n",
    "# interpret via p-value\n",
    "if p > alpha:\n",
    "\tprint('Accept null hypothesis that the means are equal.')\n",
    "else:\n",
    "\tprint('Reject the null hypothesis that the means are equal.')\n"
   ]
  },
  {
   "cell_type": "code",
   "execution_count": 385,
   "metadata": {},
   "outputs": [
    {
     "data": {
      "image/png": "[encoded data removed]",
      "text/plain": [
       "<Figure size 432x288 with 1 Axes>"
      ]
     },
     "metadata": {
      "needs_background": "light"
     },
     "output_type": "display_data"
    }
   ],
   "source": [
    "wtp_means = pd.DataFrame({'experience_type': ['social','nonsocial'], 'average_spent': [social_M, nonsocial_M]})\n",
    "\n",
    "wtp_plot = sns.barplot(x=wtp_means.experience_type, y=wtp_means.average_spent, data=wtp_means)"
   ]
  },
  {
   "cell_type": "code",
   "execution_count": 386,
   "metadata": {},
   "outputs": [
    {
     "name": "stdout",
     "output_type": "stream",
     "text": [
      "0.43425551605356716\n"
     ]
    }
   ],
   "source": [
    "#calculate effect size- cohens d\n",
    "\n",
    "cohens_d = (mean(socialavg) - mean(nonsocialavg)) / (sqrt((stdev(socialavg) ** 2 + stdev(nonsocialavg) ** 2) / 2))\n",
    "\n",
    "print(cohens_d)"
   ]
  },
  {
   "cell_type": "code",
   "execution_count": 387,
   "metadata": {},
   "outputs": [
    {
     "name": "stdout",
     "output_type": "stream",
     "text": [
      "0.029480716981132075\n",
      "0.026991679245283017\n",
      "19.88679245283019\n",
      "5.147798742113207\n"
     ]
    }
   ],
   "source": [
    "prop_social = wtpdata['prop_social']\n",
    "aq = wtpdata.AQ #autism quotient\n",
    "mspss = wtpdata.MSPSS #perceived social support\n",
    "\n",
    "\n",
    "print(social_M)\n",
    "print(nonsocial_M)\n",
    "print(mean(aq))\n",
    "print(mean(mspss))"
   ]
  },
  {
   "cell_type": "code",
   "execution_count": 388,
   "metadata": {},
   "outputs": [],
   "source": [
    "##### amount spent on social experiences // self report  ######"
   ]
  },
  {
   "cell_type": "code",
   "execution_count": 389,
   "metadata": {},
   "outputs": [
    {
     "data": {
      "image/png": "[encoded data removed]",
      "text/plain": [
       "<Figure size 432x288 with 1 Axes>"
      ]
     },
     "metadata": {
      "needs_background": "light"
     },
     "output_type": "display_data"
    },
    {
     "name": "stdout",
     "output_type": "stream",
     "text": [
      "[[3.85075491e-05 1.89321480e-04]\n",
      " [1.89321480e-04 1.69141066e+00]]\n",
      "Pearsons correlation: 0.023\n",
      "p value: 0.8676\n",
      "Accept null hypothesis that the means are equal.\n"
     ]
    }
   ],
   "source": [
    "#amount spent on social / mulitdimensional scale of perceived social support\n",
    "pyplot.scatter(socialavg, mspss)\n",
    "pyplot.show()\n",
    "covariance = cov(socialavg, mspss)\n",
    "print(covariance)\n",
    "corr, _ = pearsonr(socialavg, mspss)\n",
    "print('Pearsons correlation: %.3f' % corr)\n",
    "r,p = scipy.stats.pearsonr(socialavg, mspss)\n",
    "print('p value: %.4f' % p)\n",
    "alpha = 0.10\n",
    "if p > alpha:\n",
    "\tprint('Accept null hypothesis that the means are equal.')\n",
    "else:\n",
    "    print('Reject the null hypothesis that the means are equal.')"
   ]
  },
  {
   "cell_type": "code",
   "execution_count": 390,
   "metadata": {},
   "outputs": [
    {
     "data": {
      "image/png": "[encoded data removed]",
      "text/plain": [
       "<Figure size 432x288 with 1 Axes>"
      ]
     },
     "metadata": {
      "needs_background": "light"
     },
     "output_type": "display_data"
    },
    {
     "name": "stdout",
     "output_type": "stream",
     "text": [
      "[[3.85075491e-05 5.55369811e-03]\n",
      " [5.55369811e-03 4.00253991e+01]]\n",
      "Pearsons correlation: 0.141\n",
      "p value: 0.3123\n",
      "Accept null hypothesis that the means are equal.\n"
     ]
    }
   ],
   "source": [
    "## AQ\n",
    "\n",
    "# social // aq\n",
    "pyplot.scatter(socialavg, aq)\n",
    "pyplot.show()\n",
    "covariance = cov(socialavg, aq)\n",
    "print(covariance)\n",
    "corr, _ = pearsonr(socialavg, aq)\n",
    "print('Pearsons correlation: %.3f' % corr)\n",
    "r,p = scipy.stats.pearsonr(socialavg, aq)\n",
    "print('p value: %.4f' % p)\n",
    "alpha = 0.10\n",
    "if p > alpha:\n",
    "\tprint('Accept null hypothesis that the means are equal.')\n",
    "else:\n",
    "    print('Reject the null hypothesis that the means are equal.')"
   ]
  },
  {
   "cell_type": "code",
   "execution_count": 391,
   "metadata": {},
   "outputs": [],
   "source": [
    "##### prop of chosen social // self report #####"
   ]
  },
  {
   "cell_type": "code",
   "execution_count": 392,
   "metadata": {},
   "outputs": [
    {
     "data": {
      "image/png": "[encoded data removed]",
      "text/plain": [
       "<Figure size 432x288 with 1 Axes>"
      ]
     },
     "metadata": {
      "needs_background": "light"
     },
     "output_type": "display_data"
    },
    {
     "name": "stdout",
     "output_type": "stream",
     "text": [
      "[[ 0.01721252 -0.00369052]\n",
      " [-0.00369052  1.69141066]]\n",
      "Pearsons correlation: -0.022\n",
      "p value: 0.8778\n",
      "Accept null hypothesis that the means are equal.\n"
     ]
    }
   ],
   "source": [
    "#prop of chosen social // MSPSS\n",
    "pyplot.scatter(prop_social, mspss)\n",
    "pyplot.show()\n",
    "covariance = cov(prop_social, mspss)\n",
    "print(covariance)\n",
    "corr, _ = pearsonr(prop_social, mspss)\n",
    "print('Pearsons correlation: %.3f' % corr)\n",
    "r,p = scipy.stats.pearsonr(prop_social, mspss)\n",
    "print('p value: %.4f' % p)\n",
    "alpha = 0.10\n",
    "if p > alpha:\n",
    "\tprint('Accept null hypothesis that the means are equal.')\n",
    "else:\n",
    "    print('Reject the null hypothesis that the means are equal.')"
   ]
  },
  {
   "cell_type": "code",
   "execution_count": 393,
   "metadata": {},
   "outputs": [
    {
     "data": {
      "image/png": "[encoded data removed]",
      "text/plain": [
       "<Figure size 432x288 with 1 Axes>"
      ]
     },
     "metadata": {
      "needs_background": "light"
     },
     "output_type": "display_data"
    },
    {
     "name": "stdout",
     "output_type": "stream",
     "text": [
      "[[ 1.72125239e-02 -3.61056604e-01]\n",
      " [-3.61056604e-01  4.00253991e+01]]\n",
      "Pearsons correlation: -0.435\n",
      "p value: 0.0011\n",
      "Reject the null hypothesis that the means are equal.\n"
     ]
    }
   ],
   "source": [
    "  # prop social // aq\n",
    "pyplot.scatter(prop_social, aq)\n",
    "pyplot.show()\n",
    "covariance = cov(prop_social, aq)\n",
    "print(covariance)\n",
    "corr, _ = pearsonr(prop_social, aq)\n",
    "print('Pearsons correlation: %.3f' % corr)\n",
    "r,p = scipy.stats.pearsonr(prop_social, aq)\n",
    "print('p value: %.4f' % p)\n",
    "\n",
    "alpha = 0.10\n",
    "if p > alpha:\n",
    "\tprint('Accept null hypothesis that the means are equal.')\n",
    "else:\n",
    "    print('Reject the null hypothesis that the means are equal.')"
   ]
  },
  {
   "cell_type": "code",
   "execution_count": 394,
   "metadata": {},
   "outputs": [],
   "source": [
    "##### avg spent on nonsocial // self report #####"
   ]
  },
  {
   "cell_type": "code",
   "execution_count": 395,
   "metadata": {},
   "outputs": [
    {
     "data": {
      "image/png": "[encoded data removed]",
      "text/plain": [
       "<Figure size 432x288 with 1 Axes>"
      ]
     },
     "metadata": {
      "needs_background": "light"
     },
     "output_type": "display_data"
    },
    {
     "name": "stdout",
     "output_type": "stream",
     "text": [
      "[[ 2.71980334e-05 -3.35552643e-04]\n",
      " [-3.35552643e-04  1.69141066e+00]]\n",
      "Pearsons correlation: -0.049\n",
      "p value: 0.7250\n",
      "Accept null hypothesis that the means are equal.\n"
     ]
    }
   ],
   "source": [
    "# nonsocial // mspss (social support)\n",
    "pyplot.scatter(nonsocialavg, mspss)\n",
    "pyplot.show()\n",
    "covariance = cov(nonsocialavg, mspss)\n",
    "print(covariance)\n",
    "corr, _ = pearsonr(nonsocialavg, mspss)\n",
    "print('Pearsons correlation: %.3f' % corr)\n",
    "r,p = scipy.stats.pearsonr(nonsocialavg, mspss)\n",
    "print('p value: %.4f' % p)\n",
    "alpha = 0.10\n",
    "if p > alpha:\n",
    "\tprint('Accept null hypothesis that the means are equal.')\n",
    "else:\n",
    "    print('Reject the null hypothesis that the means are equal.')"
   ]
  },
  {
   "cell_type": "code",
   "execution_count": 396,
   "metadata": {},
   "outputs": [
    {
     "data": {
      "image/png": "[encoded data removed]",
      "text/plain": [
       "<Figure size 432x288 with 1 Axes>"
      ]
     },
     "metadata": {
      "needs_background": "light"
     },
     "output_type": "display_data"
    },
    {
     "name": "stdout",
     "output_type": "stream",
     "text": [
      "[[2.71980334e-05 5.82605914e-03]\n",
      " [5.82605914e-03 4.00253991e+01]]\n",
      "Pearsons correlation: 0.177\n",
      "p value: 0.2059\n",
      "Accept null hypothesis that the means are equal.\n"
     ]
    }
   ],
   "source": [
    "# nonsocial // aq\n",
    "pyplot.scatter(nonsocialavg, aq)\n",
    "pyplot.show()\n",
    "covariance = cov(nonsocialavg, aq)\n",
    "print(covariance)\n",
    "corr, _ = pearsonr(nonsocialavg, aq)\n",
    "print('Pearsons correlation: %.3f' % corr)\n",
    "r,p = scipy.stats.pearsonr(nonsocialavg, aq)\n",
    "print('p value: %.4f' % p)\n",
    "alpha = 0.10\n",
    "if p > alpha:\n",
    "\tprint('Accept null hypothesis that the means are equal.')\n",
    "else:\n",
    "    print('Reject the null hypothesis that the means are equal.')"
   ]
  },
  {
   "cell_type": "code",
   "execution_count": null,
   "metadata": {},
   "outputs": [],
   "source": []
  }
 ],
 "metadata": {
  "kernelspec": {
   "display_name": "Python 3",
   "language": "python",
   "name": "python3"
  },
  "language_info": {
   "codemirror_mode": {
    "name": "ipython",
    "version": 3
   },
   "file_extension": ".py",
   "mimetype": "text/x-python",
   "name": "python",
   "nbconvert_exporter": "python",
   "pygments_lexer": "ipython3",
   "version": "3.7.4"
  }
 },
 "nbformat": 4,
 "nbformat_minor": 5
}
