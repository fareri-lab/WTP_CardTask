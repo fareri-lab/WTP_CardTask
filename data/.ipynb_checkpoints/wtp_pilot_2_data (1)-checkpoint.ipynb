{
 "cells": [
  {
   "cell_type": "code",
   "execution_count": 8,
   "metadata": {},
   "outputs": [],
   "source": [
    "#### NEW PILOT DATA WITH BALANCED TRIAL SPREADSHEET ####\n"
   ]
  },
  {
   "cell_type": "code",
   "execution_count": 43,
   "metadata": {},
   "outputs": [],
   "source": [
    "#import packages\n",
    "from __future__ import division \n",
    "import sys\n",
    "import pandas as pd\n",
    "import numpy as np\n",
    "import scipy\n",
    "from numpy import mean, std, cov \n",
    "from numpy.random import seed, randn\n",
    "import matplotlib.pyplot as plt\n",
    "from matplotlib import pyplot\n",
    "from math import sqrt\n",
    "import scipy.stats as stats \n",
    "from scipy.stats import t, pearsonr, sem\n",
    "import seaborn as sns\n",
    "from statistics import mean, stdev"
   ]
  },
  {
   "cell_type": "code",
   "execution_count": 44,
   "metadata": {},
   "outputs": [
    {
     "name": "stdout",
     "output_type": "stream",
     "text": [
      "    Unnamed: 0  Unnamed: 0.1               participant  avg_spent_social  \\\n",
      "0            0            15  5914b7b50a4b9d0001add64f          0.020870   \n",
      "1            1            43  5beaed3f0af61d0001968d9a          0.033846   \n",
      "2            2            10  5c523d16102de10001022098          0.029211   \n",
      "3            3            37  5dc368ce880a2927e264dbec          0.029474   \n",
      "4            4            46  5e70d4869ffb1404cb1f5070          0.024444   \n",
      "5            5            24  5efc9ea8f8e7950584b12e87          0.032258   \n",
      "6            6            39  5f2f566ddaea2a3417b75920          0.021304   \n",
      "7            7            23  5f3964ca4539e00bd5ce47fb          0.028750   \n",
      "8            8             4  5f793609f8089e53266336f5          0.030233   \n",
      "9            9            28  5f8c70c9c8e71c0b49e49797          0.028000   \n",
      "10          10            48  5f94977cf830e82e361b9de1          0.030000   \n",
      "11          11            41  60fc6bdffe3e6e8caf924670          0.022273   \n",
      "12          12            20  60fd7f782b0c5f0b6503302a          0.030476   \n",
      "13          13             5  60fd9a010279e0f7e338571a          0.031154   \n",
      "14          14            12  60fdae513bfebe2fe0122138          0.030435   \n",
      "15          15            30  60fdce10226d20ddc8990f04          0.022381   \n",
      "16          16            35  60fe2fb42ec6d443757a92fc          0.033571   \n",
      "17          17            44  60fed38a8adb46e44e0869a5          0.024074   \n",
      "18          18             3  60ff2035293107014b9770e8          0.032143   \n",
      "19          19            21  610040d9d3e1fbd63a3f41e5          0.029200   \n",
      "20          20             8  61009741973fdb40344de5e7          0.026316   \n",
      "21          21            45  6100b292b7fc7f30ec9132dc          0.030303   \n",
      "22          22             1  6101667971d68405d105698a          0.025455   \n",
      "23          23            25  61023e0830e893bec6bd8f3c          0.029032   \n",
      "24          24            31  6102c8ad26a015adcd8aaac4          0.020000   \n",
      "25          25            17  610321b49114d026a41efd28          0.032000   \n",
      "26          26             6  6103fa5faa24894dcd2cda34          0.040000   \n",
      "27          27            26  610421096c1af729ade5aac1          0.026667   \n",
      "28          28            36  610808ab1708833b02eb8a57          0.035294   \n",
      "29          29            14  61083f623522116ea15fdc05          0.030323   \n",
      "30          30            13  610854af9b70aacc11550cde          0.028889   \n",
      "31          31             0  61088cda72a1106216fa4858          0.024815   \n",
      "32          32            42  610934fd924a7b98497b2108          0.035313   \n",
      "33          33             7  610999f68d373b548447abfe          0.032593   \n",
      "34          34            11  6109c9dd829e3b0e3a87b8e8          0.031905   \n",
      "35          35            38  6109d72bcd6919f7b64afbe3          0.028333   \n",
      "36          36            19  610a06e4613ff666139fd6d9          0.028286   \n",
      "37          37            16  610c59ee34cc312d7ca55e45          0.031081   \n",
      "38          38            18  610d3d786149dbd00d635e26          0.037778   \n",
      "39          39            32  610dd86540919edb725d1f3f          0.027097   \n",
      "40          40            47  61110e69c5c85f3be8c8ebb4          0.023182   \n",
      "41          41             2  61111442bb1b255927718949          0.024444   \n",
      "42          42            29  61113effc33961d5c253618a          0.026563   \n",
      "43          43            40  6111646d1922d97d81f4f9c1          0.034375   \n",
      "44          44            34  611188e5b3c601c90fc9a4f6          0.031282   \n",
      "45          45            22  611267d44fb8536ce68fe464          0.030435   \n",
      "46          46            33  611292e82906a9ff09cdf126          0.028947   \n",
      "47          47             9  6113ef42af7454532d9efcce          0.023043   \n",
      "48          48            27  6114f601f6b1fb77d261f013          0.022500   \n",
      "\n",
      "    avg_spent_nonsocial  total_spent_social  total_spent_nonsocial  \\\n",
      "0              0.022963                0.48                   0.62   \n",
      "1              0.030000                0.44                   1.08   \n",
      "2              0.031667                1.11                   0.38   \n",
      "3              0.032258                0.56                   1.00   \n",
      "4              0.022174                0.66                   0.51   \n",
      "5              0.031579                1.00                   0.60   \n",
      "6              0.022593                0.49                   0.61   \n",
      "7              0.028077                0.69                   0.73   \n",
      "8              0.030000                1.30                   0.21   \n",
      "9              0.029143                0.42                   1.02   \n",
      "10             0.030882                0.48                   1.05   \n",
      "11             0.023571                0.49                   0.66   \n",
      "12             0.031250                1.28                   0.25   \n",
      "13             0.026667                0.81                   0.64   \n",
      "14             0.025769                0.70                   0.67   \n",
      "15             0.024483                0.47                   0.71   \n",
      "16             0.032727                0.94                   0.72   \n",
      "17             0.026957                0.65                   0.62   \n",
      "18             0.029167                0.45                   1.05   \n",
      "19             0.028000                0.73                   0.70   \n",
      "20             0.030833                1.00                   0.37   \n",
      "21             0.027059                1.00                   0.46   \n",
      "22             0.025357                0.56                   0.71   \n",
      "23             0.028947                0.90                   0.55   \n",
      "24             0.024000                0.50                   0.60   \n",
      "25             0.033667                0.64                   1.01   \n",
      "26             0.030000                0.16                   1.35   \n",
      "27             0.021176                0.88                   0.36   \n",
      "28             0.033939                0.60                   1.12   \n",
      "29             0.030526                0.94                   0.58   \n",
      "30             0.031563                0.52                   1.01   \n",
      "31             0.022609                0.67                   0.52   \n",
      "32             0.033333                1.13                   0.60   \n",
      "33             0.029130                0.88                   0.67   \n",
      "34             0.030345                0.67                   0.88   \n",
      "35             0.029500                0.85                   0.59   \n",
      "36             0.026000                0.99                   0.39   \n",
      "37             0.030000                1.15                   0.39   \n",
      "38             0.035217                1.02                   0.81   \n",
      "39             0.025263                0.84                   0.48   \n",
      "40             0.022143                0.51                   0.62   \n",
      "41             0.020870                0.66                   0.48   \n",
      "42             0.018889                0.85                   0.34   \n",
      "43             0.033333                1.10                   0.60   \n",
      "44             0.031818                1.22                   0.35   \n",
      "45             0.028889                0.70                   0.78   \n",
      "46             0.030000                1.10                   0.36   \n",
      "47             0.023333                0.53                   0.63   \n",
      "48             0.028293                0.18                   1.16   \n",
      "\n",
      "    prop_social  prop_nonsocial  moresocial  prop_moresocial    AQ     MSPSS  \n",
      "0      0.460000        0.540000           0                0  30.0  3.333333  \n",
      "1      0.265306        0.734694           1                0  28.0  3.916667  \n",
      "2      0.760000        0.240000           0                1  22.0  6.333333  \n",
      "3      0.380000        0.620000           0                0  26.0  4.416667  \n",
      "4      0.540000        0.460000           1                1  19.0  6.000000  \n",
      "5      0.620000        0.380000           1                1  32.0  5.750000  \n",
      "6      0.460000        0.540000           0                0  19.0  5.250000  \n",
      "7      0.480000        0.520000           1                0  18.0  5.333333  \n",
      "8      0.860000        0.140000           1                1  10.0  6.500000  \n",
      "9      0.300000        0.700000           0                0  20.0  5.750000  \n",
      "10     0.320000        0.680000           0                0  12.0  4.333333  \n",
      "11     0.440000        0.560000           0                0  15.0  7.000000  \n",
      "12     0.840000        0.160000           0                1  22.0  3.166667  \n",
      "13     0.520000        0.480000           1                1  13.0  5.916667  \n",
      "14     0.469388        0.530612           1                0  20.0  5.250000  \n",
      "15     0.420000        0.580000           0                0  24.0  5.333333  \n",
      "16     0.560000        0.440000           1                1  15.0  7.000000  \n",
      "17     0.540000        0.460000           0                1  20.0  5.000000  \n",
      "18     0.280000        0.720000           1                0  19.0  5.333333  \n",
      "19     0.500000        0.500000           1                0  25.0  6.166667  \n",
      "20     0.760000        0.240000           0                1  25.0  6.000000  \n",
      "21     0.660000        0.340000           1                1  24.0  6.166667  \n",
      "22     0.440000        0.560000           1                0  23.0  4.416667  \n",
      "23     0.620000        0.380000           1                1  16.0  6.916667  \n",
      "24     0.500000        0.500000           0                0  21.0  5.583333  \n",
      "25     0.400000        0.600000           0                0  24.0  5.000000  \n",
      "26     0.081633        0.918367           1                0  13.0  4.750000  \n",
      "27     0.660000        0.340000           1                1  16.0  5.416667  \n",
      "28     0.340000        0.660000           1                0  21.0  6.250000  \n",
      "29     0.620000        0.380000           0                1  15.0  5.750000  \n",
      "30     0.360000        0.640000           0                0  26.0  5.083333  \n",
      "31     0.540000        0.460000           1                1  20.0  6.583333  \n",
      "32     0.640000        0.360000           1                1  23.0  6.166667  \n",
      "33     0.540000        0.460000           1                1  10.0  5.416667  \n",
      "34     0.420000        0.580000           1                0  29.0  6.916667  \n",
      "35     0.600000        0.400000           0                1  16.0  5.166667  \n",
      "36     0.700000        0.300000           1                1  21.0  4.166667  \n",
      "37     0.740000        0.260000           1                1  44.0  6.166667  \n",
      "38     0.540000        0.460000           1                1  22.0  5.500000  \n",
      "39     0.620000        0.380000           1                1  15.0  4.583333  \n",
      "40     0.440000        0.560000           1                0  24.0  7.000000  \n",
      "41     0.540000        0.460000           1                1  21.0  5.166667  \n",
      "42     0.640000        0.360000           1                1  32.0  5.666667  \n",
      "43     0.640000        0.360000           1                1  16.0  7.000000  \n",
      "44     0.780000        0.220000           0                1  27.0  6.583333  \n",
      "45     0.460000        0.540000           1                0  20.0  7.000000  \n",
      "46     0.760000        0.240000           0                1  24.0  6.666667  \n",
      "47     0.460000        0.540000           0                0  17.0  6.333333  \n",
      "48     0.163265        0.836735           0                0  24.0  6.000000  \n"
     ]
    }
   ],
   "source": [
    "#import excel file containing data summary\n",
    "\n",
    "#wtpdata = pd.read_csv(r'new_pilot_wtp.csv', encoding='utf-8-sig')\n",
    "wtpdata = pd.read_csv(r'updated_allwtp.csv', encoding='utf-8-sig')\n",
    "#wtpdata = pd.read_excel(r'wtp_taskdata_NEW.xlsx')\n",
    "pd.set_option(\"display.max_rows\", None, \"display.max_columns\", None)\n",
    "print(wtpdata)"
   ]
  },
  {
   "cell_type": "code",
   "execution_count": 45,
   "metadata": {},
   "outputs": [
    {
     "name": "stdout",
     "output_type": "stream",
     "text": [
      "group mean: 0.028782548439\n",
      "standard error of the mean: 0.000636588315\n"
     ]
    }
   ],
   "source": [
    "socialavg= wtpdata.avg_spent_social\n",
    "#calculate group mean for av spent on social experiences\n",
    "social_M = mean(socialavg)\n",
    "print('group mean: %.12f'% (social_M))\n",
    "print('standard error of the mean: %.12f'% (sem(socialavg)))"
   ]
  },
  {
   "cell_type": "code",
   "execution_count": 46,
   "metadata": {},
   "outputs": [
    {
     "name": "stdout",
     "output_type": "stream",
     "text": [
      "group mean: 0.028080804353\n",
      "standard error of the mean: 0.000570724956\n"
     ]
    }
   ],
   "source": [
    "nonsocialavg = wtpdata.avg_spent_nonsocial\n",
    "#calculate group mean for av spent on non-social experiences\n",
    "\n",
    "\n",
    "nonsocial_M = mean(nonsocialavg)\n",
    "print('group mean: %.12f'% (nonsocial_M))\n",
    "print('standard error of the mean: %.12f'% (sem(nonsocialavg)))"
   ]
  },
  {
   "cell_type": "code",
   "execution_count": 47,
   "metadata": {},
   "outputs": [
    {
     "name": "stdout",
     "output_type": "stream",
     "text": [
      "49\n"
     ]
    }
   ],
   "source": [
    "#sample size\n",
    "n = len(wtpdata)\n",
    "print(n)"
   ]
  },
  {
   "cell_type": "code",
   "execution_count": 48,
   "metadata": {},
   "outputs": [
    {
     "name": "stdout",
     "output_type": "stream",
     "text": [
      "0.0004517763186266456 0.03438546022282137\n",
      "0.0029848454917602175\n"
     ]
    }
   ],
   "source": [
    "\n",
    "#Calculate STD\n",
    "# sum squared difference between observations\n",
    "d1 = sum([(socialavg[i]-nonsocialavg[i])**2 for i in range(n)])\n",
    "# sum difference between observations\n",
    "d2 = sum([socialavg[i]-nonsocialavg[i] for i in range(n)])\n",
    "print(d1,d2)\n",
    "\n",
    "# standard deviation of the difference between means\n",
    "standev = np.sqrt((d1 - (d2**2 / n)) / (n - 1))\n",
    "print(standev)"
   ]
  },
  {
   "cell_type": "code",
   "execution_count": 49,
   "metadata": {},
   "outputs": [
    {
     "name": "stdout",
     "output_type": "stream",
     "text": [
      "0.0004264064988228882\n"
     ]
    }
   ],
   "source": [
    "#calculate standard error of the difference between the means\n",
    "sed = standev / np.sqrt(n)\n",
    "print(sed)"
   ]
  },
  {
   "cell_type": "code",
   "execution_count": 50,
   "metadata": {},
   "outputs": [
    {
     "name": "stdout",
     "output_type": "stream",
     "text": [
      "1.6457162076966956\n"
     ]
    }
   ],
   "source": [
    "# calculate the t statistic\n",
    "t_stat = (social_M - nonsocial_M) / sed\n",
    "print(t_stat)"
   ]
  },
  {
   "cell_type": "code",
   "execution_count": 51,
   "metadata": {},
   "outputs": [
    {
     "name": "stdout",
     "output_type": "stream",
     "text": [
      "48\n"
     ]
    }
   ],
   "source": [
    "# degrees of freedom\n",
    "df = n - 1\n",
    "print(df)\n",
    "alpha= 0.05"
   ]
  },
  {
   "cell_type": "code",
   "execution_count": 71,
   "metadata": {},
   "outputs": [
    {
     "name": "stdout",
     "output_type": "stream",
     "text": [
      "t=1.004, df=48, cv=1.677, p=0.320\n",
      "Accept null hypothesis that the means are equal.\n",
      "Accept null hypothesis that the means are equal.\n"
     ]
    }
   ],
   "source": [
    "# calculate the critical value\n",
    "cv = t.ppf(1.0 - alpha, df)\n",
    "# calculate the p-value\n",
    "p = (1.0 - t.cdf(abs(t_stat), df)) * 2.0\n",
    "# return everything\n",
    "print('t=%.3f, df=%d, cv=%.3f, p=%.3f' % (t_stat, df, cv, p))\n",
    "# interpret via critical value\n",
    "if abs(t_stat) <= cv:\n",
    "\tprint('Accept null hypothesis that the means are equal.')\n",
    "else:\n",
    "\tprint('Reject the null hypothesis that the means are equal.')\n",
    "# interpret via p-value\n",
    "if p > alpha:\n",
    "\tprint('Accept null hypothesis that the means are equal.')\n",
    "else:\n",
    "\tprint('Reject the null hypothesis that the means are equal.')"
   ]
  },
  {
   "cell_type": "code",
   "execution_count": 72,
   "metadata": {},
   "outputs": [
    {
     "data": {
      "image/png": "[encoded data removed]",
      "text/plain": [
       "<Figure size 432x288 with 1 Axes>"
      ]
     },
     "metadata": {
      "needs_background": "light"
     },
     "output_type": "display_data"
    }
   ],
   "source": [
    "wtp_means = pd.DataFrame({'experience_type': ['social','nonsocial'], 'average_spent': [social_M, nonsocial_M]})\n",
    "\n",
    "wtp_plot = sns.barplot(x=wtp_means.experience_type, y=wtp_means.average_spent, data=wtp_means)"
   ]
  },
  {
   "cell_type": "code",
   "execution_count": 73,
   "metadata": {},
   "outputs": [
    {
     "name": "stdout",
     "output_type": "stream",
     "text": [
      "0.16582326041418152\n"
     ]
    }
   ],
   "source": [
    "#calculate effect size- cohens d\n",
    "\n",
    "cohens_d = (mean(socialavg) - mean(nonsocialavg)) / (sqrt((stdev(socialavg) ** 2 + stdev(nonsocialavg) ** 2) / 2))\n",
    "\n",
    "print(cohens_d)"
   ]
  },
  {
   "cell_type": "code",
   "execution_count": 74,
   "metadata": {},
   "outputs": [],
   "source": [
    "prop_social = wtpdata['prop_social']\n",
    "aq = wtpdata.AQ #autism quotient\n",
    "mspss = wtpdata.MSPSS #perceived social support"
   ]
  },
  {
   "cell_type": "code",
   "execution_count": 75,
   "metadata": {},
   "outputs": [
    {
     "data": {
      "image/png": "[encoded data removed]",
      "text/plain": [
       "<Figure size 432x288 with 1 Axes>"
      ]
     },
     "metadata": {
      "needs_background": "light"
     },
     "output_type": "display_data"
    },
    {
     "name": "stdout",
     "output_type": "stream",
     "text": [
      "[[1.98569894e-05 2.35005934e-04]\n",
      " [2.35005934e-04 9.27083333e-01]]\n",
      "Pearsons correlation: 0.055\n",
      "p value: 0.7086\n",
      "Accept null hypothesis that the means are equal.\n"
     ]
    }
   ],
   "source": [
    "#amount spent on social / mulitdimensional scale of perceived social support\n",
    "pyplot.scatter(socialavg, mspss)\n",
    "pyplot.show()\n",
    "covariance = cov(socialavg, mspss)\n",
    "print(covariance)\n",
    "corr, _ = pearsonr(socialavg, mspss)\n",
    "print('Pearsons correlation: %.3f' % corr)\n",
    "r,p = scipy.stats.pearsonr(socialavg, mspss)\n",
    "print('p value: %.4f' % p)\n",
    "alpha = 0.10\n",
    "if p > alpha:\n",
    "\tprint('Accept null hypothesis that the means are equal.')\n",
    "else:\n",
    "    print('Reject the null hypothesis that the means are equal.')"
   ]
  },
  {
   "cell_type": "code",
   "execution_count": 76,
   "metadata": {},
   "outputs": [
    {
     "data": {
      "image/png": "[encoded data removed]",
      "text/plain": [
       "<Figure size 432x288 with 1 Axes>"
      ]
     },
     "metadata": {
      "needs_background": "light"
     },
     "output_type": "display_data"
    },
    {
     "name": "stdout",
     "output_type": "stream",
     "text": [
      "[[ 1.98569894e-05 -1.92809637e-03]\n",
      " [-1.92809637e-03  3.92363946e+01]]\n",
      "Pearsons correlation: -0.069\n",
      "p value: 0.6372\n",
      "Accept null hypothesis that the means are equal.\n"
     ]
    }
   ],
   "source": [
    "#amount spent on social / aq\n",
    "pyplot.scatter(socialavg, aq)\n",
    "pyplot.show()\n",
    "covariance = cov(socialavg, aq)\n",
    "print(covariance)\n",
    "corr, _ = pearsonr(socialavg, aq)\n",
    "print('Pearsons correlation: %.3f' % corr)\n",
    "r,p = scipy.stats.pearsonr(socialavg, aq)\n",
    "print('p value: %.4f' % p)\n",
    "alpha = 0.10\n",
    "if p > alpha:\n",
    "\tprint('Accept null hypothesis that the means are equal.')\n",
    "else:\n",
    "    print('Reject the null hypothesis that the means are equal.')"
   ]
  },
  {
   "cell_type": "code",
   "execution_count": 77,
   "metadata": {},
   "outputs": [],
   "source": [
    "##### prop of chosen social // self report #####"
   ]
  },
  {
   "cell_type": "code",
   "execution_count": 78,
   "metadata": {},
   "outputs": [
    {
     "data": {
      "image/png": "[encoded data removed]",
      "text/plain": [
       "<Figure size 432x288 with 1 Axes>"
      ]
     },
     "metadata": {
      "needs_background": "light"
     },
     "output_type": "display_data"
    },
    {
     "name": "stdout",
     "output_type": "stream",
     "text": [
      "[[0.02816757 0.03141278]\n",
      " [0.03141278 0.92708333]]\n",
      "Pearsons correlation: 0.194\n",
      "p value: 0.1808\n",
      "Accept null hypothesis that the means are equal.\n"
     ]
    }
   ],
   "source": [
    "#prop of chosen social // MSPSS\n",
    "pyplot.scatter(prop_social, mspss)\n",
    "pyplot.show()\n",
    "covariance = cov(prop_social, mspss)\n",
    "print(covariance)\n",
    "corr, _ = pearsonr(prop_social, mspss)\n",
    "print('Pearsons correlation: %.3f' % corr)\n",
    "r,p = scipy.stats.pearsonr(prop_social, mspss)\n",
    "print('p value: %.4f' % p)\n",
    "alpha = 0.10\n",
    "if p > alpha:\n",
    "\tprint('Accept null hypothesis that the means are equal.')\n",
    "else:\n",
    "    print('Reject the null hypothesis that the means are equal.')"
   ]
  },
  {
   "cell_type": "code",
   "execution_count": 79,
   "metadata": {},
   "outputs": [
    {
     "data": {
      "image/png": "[encoded data removed]",
      "text/plain": [
       "<Figure size 432x288 with 1 Axes>"
      ]
     },
     "metadata": {
      "needs_background": "light"
     },
     "output_type": "display_data"
    },
    {
     "name": "stdout",
     "output_type": "stream",
     "text": [
      "[[2.81675655e-02 9.34964598e-02]\n",
      " [9.34964598e-02 3.92363946e+01]]\n",
      "Pearsons correlation: 0.089\n",
      "p value: 0.5434\n",
      "Accept null hypothesis that the means are equal.\n"
     ]
    }
   ],
   "source": [
    "# prop social // aq\n",
    "pyplot.scatter(prop_social, aq)\n",
    "pyplot.show()\n",
    "covariance = cov(prop_social, aq)\n",
    "print(covariance)\n",
    "corr, _ = pearsonr(prop_social, aq)\n",
    "print('Pearsons correlation: %.3f' % corr)\n",
    "r,p = scipy.stats.pearsonr(prop_social, aq)\n",
    "print('p value: %.4f' % p)\n",
    "\n",
    "alpha = 0.10\n",
    "if p > alpha:\n",
    "\tprint('Accept null hypothesis that the means are equal.')\n",
    "else:\n",
    "    print('Reject the null hypothesis that the means are equal.')"
   ]
  },
  {
   "cell_type": "code",
   "execution_count": 80,
   "metadata": {},
   "outputs": [],
   "source": [
    "##### avg spent on nonsocial // self report #####"
   ]
  },
  {
   "cell_type": "code",
   "execution_count": 81,
   "metadata": {},
   "outputs": [
    {
     "data": {
      "image/png": "[encoded data removed]",
      "text/plain": [
       "<Figure size 432x288 with 1 Axes>"
      ]
     },
     "metadata": {
      "needs_background": "light"
     },
     "output_type": "display_data"
    },
    {
     "name": "stdout",
     "output_type": "stream",
     "text": [
      "[[1.59606218e-05 2.75636631e-04]\n",
      " [2.75636631e-04 9.27083333e-01]]\n",
      "Pearsons correlation: 0.072\n",
      "p value: 0.6246\n",
      "Accept null hypothesis that the means are equal.\n"
     ]
    }
   ],
   "source": [
    "# nonsocial // mspss (social support)\n",
    "pyplot.scatter(nonsocialavg, mspss)\n",
    "pyplot.show()\n",
    "covariance = cov(nonsocialavg, mspss)\n",
    "print(covariance)\n",
    "corr, _ = pearsonr(nonsocialavg, mspss)\n",
    "print('Pearsons correlation: %.3f' % corr)\n",
    "r,p = scipy.stats.pearsonr(nonsocialavg, mspss)\n",
    "print('p value: %.4f' % p)\n",
    "alpha = 0.10\n",
    "if p > alpha:\n",
    "\tprint('Accept null hypothesis that the means are equal.')\n",
    "else:\n",
    "    print('Reject the null hypothesis that the means are equal.')"
   ]
  },
  {
   "cell_type": "code",
   "execution_count": 82,
   "metadata": {},
   "outputs": [
    {
     "data": {
      "image/png": "[encoded data removed]",
      "text/plain": [
       "<Figure size 432x288 with 1 Axes>"
      ]
     },
     "metadata": {
      "needs_background": "light"
     },
     "output_type": "display_data"
    },
    {
     "name": "stdout",
     "output_type": "stream",
     "text": [
      "[[1.59606218e-05 6.62813030e-04]\n",
      " [6.62813030e-04 3.92363946e+01]]\n",
      "Pearsons correlation: 0.026\n",
      "p value: 0.8566\n",
      "Accept null hypothesis that the means are equal.\n"
     ]
    }
   ],
   "source": [
    "# nonsocial // aq\n",
    "pyplot.scatter(nonsocialavg, aq)\n",
    "pyplot.show()\n",
    "covariance = cov(nonsocialavg, aq)\n",
    "print(covariance)\n",
    "corr, _ = pearsonr(nonsocialavg, aq)\n",
    "print('Pearsons correlation: %.3f' % corr)\n",
    "r,p = scipy.stats.pearsonr(nonsocialavg, aq)\n",
    "print('p value: %.4f' % p)\n",
    "alpha = 0.10\n",
    "if p > alpha:\n",
    "\tprint('Accept null hypothesis that the means are equal.')\n",
    "else:\n",
    "    print('Reject the null hypothesis that the means are equal.')"
   ]
  },
  {
   "cell_type": "code",
   "execution_count": 83,
   "metadata": {},
   "outputs": [
    {
     "name": "stdout",
     "output_type": "stream",
     "text": [
      "mean: 0.524073302791\n",
      "mean: 0.475926697209\n"
     ]
    }
   ],
   "source": [
    "prop_socialavg= wtpdata.prop_social\n",
    "#calculate group mean for prop of chosen social experiences\n",
    "prop_soc_M = mean(prop_socialavg)\n",
    "print('mean: %.12f'% (prop_soc_M))\n",
    "\n",
    "\n",
    "prop_nonsocialavg= wtpdata.prop_nonsocial\n",
    "#calculate group mean for prop of chosen social experiences\n",
    "prop_nonsoc_M = mean(prop_nonsocialavg)\n",
    "print('mean: %.12f'% (prop_nonsoc_M))"
   ]
  },
  {
   "cell_type": "code",
   "execution_count": 84,
   "metadata": {},
   "outputs": [
    {
     "name": "stdout",
     "output_type": "stream",
     "text": [
      "5.521759266972096 2.359183673469387\n",
      "0.3356639124292957\n"
     ]
    }
   ],
   "source": [
    "#Calculate STD\n",
    "# sum squared difference between observations\n",
    "d1 = sum([(prop_socialavg[i]-prop_nonsocialavg[i])**2 for i in range(n)])\n",
    "# sum difference between observations\n",
    "d2 = sum([prop_socialavg[i]-prop_nonsocialavg[i] for i in range(n)])\n",
    "print(d1,d2)\n",
    "\n",
    "# standard deviation of the difference between means\n",
    "standev = np.sqrt((d1 - (d2**2 / n)) / (n - 1))\n",
    "print(standev)"
   ]
  },
  {
   "cell_type": "code",
   "execution_count": 85,
   "metadata": {},
   "outputs": [
    {
     "name": "stdout",
     "output_type": "stream",
     "text": [
      "0.047951987489899386\n"
     ]
    }
   ],
   "source": [
    "#calculate standard error of the difference between the means\n",
    "sed = standev / np.sqrt(n)\n",
    "print(sed)"
   ]
  },
  {
   "cell_type": "code",
   "execution_count": 86,
   "metadata": {},
   "outputs": [
    {
     "name": "stdout",
     "output_type": "stream",
     "text": [
      "1.00405860322577\n"
     ]
    }
   ],
   "source": [
    "# calculate the t statistic\n",
    "t_stat = (prop_soc_M - prop_nonsoc_M) / sed\n",
    "print(t_stat)"
   ]
  },
  {
   "cell_type": "code",
   "execution_count": 87,
   "metadata": {},
   "outputs": [
    {
     "name": "stdout",
     "output_type": "stream",
     "text": [
      "48\n",
      "t=1.004, df=48, cv=1.677, p=0.320\n",
      "Accept null hypothesis that the means are equal.\n",
      "Accept null hypothesis that the means are equal.\n"
     ]
    }
   ],
   "source": [
    "# degrees of freedom\n",
    "df = n - 1\n",
    "print(df)\n",
    "alpha= 0.05\n",
    "\n",
    "\n",
    "# calculate the critical value\n",
    "cv = t.ppf(1.0 - alpha, df)\n",
    "# calculate the p-value\n",
    "p = (1.0 - t.cdf(abs(t_stat), df)) * 2.0\n",
    "# return everything\n",
    "print('t=%.3f, df=%d, cv=%.3f, p=%.3f' % (t_stat, df, cv, p))\n",
    "# interpret via critical value\n",
    "if abs(t_stat) <= cv:\n",
    "\tprint('Accept null hypothesis that the means are equal.')\n",
    "else:\n",
    "\tprint('Reject the null hypothesis that the means are equal.')\n",
    "# interpret via p-value\n",
    "if p > alpha:\n",
    "\tprint('Accept null hypothesis that the means are equal.')\n",
    "else:\n",
    "\tprint('Reject the null hypothesis that the means are equal.')\n",
    "\n"
   ]
  },
  {
   "cell_type": "code",
   "execution_count": 88,
   "metadata": {},
   "outputs": [
    {
     "data": {
      "image/png": "[encoded data removed]",
      "text/plain": [
       "<Figure size 432x288 with 1 Axes>"
      ]
     },
     "metadata": {
      "needs_background": "light"
     },
     "output_type": "display_data"
    }
   ],
   "source": [
    "wtp_means = pd.DataFrame({'experience_type': ['social','nonsocial'], 'prop_chosen': [prop_soc_M, prop_nonsoc_M]})\n",
    "\n",
    "wtp_plot = sns.barplot(x=wtp_means.experience_type, y=wtp_means.prop_chosen, data=wtp_means)\n"
   ]
  },
  {
   "cell_type": "code",
   "execution_count": 89,
   "metadata": {},
   "outputs": [
    {
     "name": "stdout",
     "output_type": "stream",
     "text": [
      "29\n"
     ]
    }
   ],
   "source": [
    "## total --  spent more on social vs non-social\n",
    "\n",
    "print(sum(wtpdata.moresocial))"
   ]
  },
  {
   "cell_type": "code",
   "execution_count": 162,
   "metadata": {},
   "outputs": [
    {
     "name": "stdout",
     "output_type": "stream",
     "text": [
      "                 participant  avg_spent_social  avg_spent_nonsocial  \\\n",
      "0   5beaed3f0af61d0001968d9a          0.033846             0.030000   \n",
      "1   5e70d4869ffb1404cb1f5070          0.023846             0.022917   \n",
      "2   60fd9a010279e0f7e338571a          0.030800             0.027200   \n",
      "3   60fdae513bfebe2fe0122138          0.030000             0.026296   \n",
      "4   60fe2fb42ec6d443757a92fc          0.033333             0.033043   \n",
      "5   60ff2035293107014b9770e8          0.031538             0.029459   \n",
      "6   610040d9d3e1fbd63a3f41e5          0.028750             0.028462   \n",
      "7   6100b292b7fc7f30ec9132dc          0.030000             0.027778   \n",
      "8   6103fa5faa24894dcd2cda34          0.040000             0.030000   \n",
      "9   610421096c1af729ade5aac1          0.026250             0.022222   \n",
      "10  610808ab1708833b02eb8a57          0.035294             0.033939   \n",
      "11  61088cda72a1106216fa4858          0.024231             0.023333   \n",
      "12  610934fd924a7b98497b2108          0.035312             0.033333   \n",
      "13  610999f68d373b548447abfe          0.032308             0.029583   \n",
      "14  6109c9dd829e3b0e3a87b8e8          0.031500             0.030667   \n",
      "15  610a06e4613ff666139fd6d9          0.027941             0.026875   \n",
      "16  610c59ee34cc312d7ca55e45          0.030833             0.030714   \n",
      "17  610d3d786149dbd00d635e26          0.037692             0.035417   \n",
      "18  610dd86540919edb725d1f3f          0.026667             0.026000   \n",
      "19  61111442bb1b255927718949          0.023846             0.021667   \n",
      "20  61113effc33961d5c253618a          0.026129             0.020000   \n",
      "21  6111646d1922d97d81f4f9c1          0.034194             0.033684   \n",
      "22  611267d44fb8536ce68fe464          0.030435             0.028889   \n",
      "\n",
      "    prop_social  prop_nonsocial  moresocial  AQ     MSPSS  \n",
      "0      0.265306        0.734694           1  28  3.916667  \n",
      "1      0.520000        0.480000           1  19  6.000000  \n",
      "2      0.500000        0.500000           1  13  5.916667  \n",
      "3      0.448980        0.551020           1  20  5.250000  \n",
      "4      0.540000        0.460000           1  15  7.000000  \n",
      "5      0.260000        0.740000           1  19  5.333333  \n",
      "6      0.480000        0.520000           1  25  6.166667  \n",
      "7      0.640000        0.360000           1  24  6.166667  \n",
      "8      0.081633        0.918367           1  13  4.750000  \n",
      "9      0.640000        0.360000           1  16  5.416667  \n",
      "10     0.340000        0.660000           1  21  6.250000  \n",
      "11     0.520000        0.480000           1  20  6.583333  \n",
      "12     0.640000        0.360000           1  23  6.166667  \n",
      "13     0.520000        0.480000           1  10  5.416667  \n",
      "14     0.400000        0.600000           1  29  6.916667  \n",
      "15     0.680000        0.320000           1  21  4.166667  \n",
      "16     0.720000        0.280000           1  44  6.166667  \n",
      "17     0.520000        0.480000           1  22  5.500000  \n",
      "18     0.600000        0.400000           1  15  4.583333  \n",
      "19     0.520000        0.480000           1  21  5.166667  \n",
      "20     0.620000        0.380000           1  32  5.666667  \n",
      "21     0.620000        0.380000           1  16  7.000000  \n",
      "22     0.460000        0.540000           1  20  7.000000  \n"
     ]
    }
   ],
   "source": [
    "allmoresocials= pd.read_csv('allmoresocials.csv')\n",
    "print(allmoresocials)"
   ]
  },
  {
   "cell_type": "code",
   "execution_count": 163,
   "metadata": {},
   "outputs": [
    {
     "name": "stdout",
     "output_type": "stream",
     "text": [
      "group mean: 0.030641138391\n",
      "standard error of the mean: 0.000906614002\n",
      "group mean: 0.028325183391\n",
      "standard error of the mean: 0.000884797671\n"
     ]
    }
   ],
   "source": [
    "#calculate group mean for av spent on social experiences\n",
    "social_M = mean(socialavg)\n",
    "print('group mean: %.12f'% (social_M))\n",
    "print('standard error of the mean: %.12f'% (sem(socialavg)))\n",
    "\n",
    "\n",
    "nonsocialavg = allmoresocials.avg_spent_nonsocial\n",
    "#calculate group mean for av spent on non-social experiences\n",
    "nonsocial_M = mean(nonsocialavg)\n",
    "print('group mean: %.12f'% (nonsocial_M))\n",
    "print('standard error of the mean: %.12f'% (sem(nonsocialavg)))"
   ]
  },
  {
   "cell_type": "code",
   "execution_count": 164,
   "metadata": {},
   "outputs": [
    {
     "name": "stdout",
     "output_type": "stream",
     "text": [
      "23\n"
     ]
    }
   ],
   "source": [
    "#sample size\n",
    "n = len(allmoresocials)\n",
    "print(n)\n"
   ]
  },
  {
   "cell_type": "code",
   "execution_count": 165,
   "metadata": {},
   "outputs": [
    {
     "name": "stdout",
     "output_type": "stream",
     "text": [
      "0.00023439766188343108 0.05326696499999999\n",
      "0.0022465505675555953\n"
     ]
    }
   ],
   "source": [
    "#Calculate STD\n",
    "# sum squared difference between observations\n",
    "d1 = sum([(socialavg[i]-nonsocialavg[i])**2 for i in range(n)])\n",
    "# sum difference between observations\n",
    "d2 = sum([socialavg[i]-nonsocialavg[i] for i in range(n)])\n",
    "print(d1,d2)\n",
    "\n",
    "# standard deviation of the difference between means\n",
    "standev = np.sqrt((d1 - (d2**2 / n)) / (n - 1))\n",
    "print(standev)"
   ]
  },
  {
   "cell_type": "code",
   "execution_count": 166,
   "metadata": {},
   "outputs": [
    {
     "name": "stdout",
     "output_type": "stream",
     "text": [
      "0.03647960656824886\n"
     ]
    }
   ],
   "source": [
    "# calculate the t statistic\n",
    "t_stat = (social_M - nonsocial_M) / sed\n",
    "print(t_stat)\n",
    "\n"
   ]
  },
  {
   "cell_type": "code",
   "execution_count": 167,
   "metadata": {},
   "outputs": [
    {
     "name": "stdout",
     "output_type": "stream",
     "text": [
      "22\n"
     ]
    }
   ],
   "source": [
    "# degrees of freedom\n",
    "df = n - 1\n",
    "print(df)\n",
    "alpha= 0.05"
   ]
  },
  {
   "cell_type": "code",
   "execution_count": 168,
   "metadata": {},
   "outputs": [
    {
     "name": "stdout",
     "output_type": "stream",
     "text": [
      "t=0.036, df=22, cv=1.717, p=0.971\n",
      "Accept null hypothesis that the means are equal.\n",
      "Accept null hypothesis that the means are equal.\n"
     ]
    }
   ],
   "source": [
    "# calculate the critical value\n",
    "cv = t.ppf(1.0 - alpha, df)\n",
    "# calculate the p-value\n",
    "p = (1.0 - t.cdf(abs(t_stat), df)) * 2.0\n",
    "# return everything\n",
    "print('t=%.3f, df=%d, cv=%.3f, p=%.3f' % (t_stat, df, cv, p))\n",
    "# interpret via critical value\n",
    "if abs(t_stat) <= cv:\n",
    "\tprint('Accept null hypothesis that the means are equal.')\n",
    "else:\n",
    "\tprint('Reject the null hypothesis that the means are equal.')\n",
    "# interpret via p-value\n",
    "if p > alpha:\n",
    "\tprint('Accept null hypothesis that the means are equal.')\n",
    "else:\n",
    "\tprint('Reject the null hypothesis that the means are equal.')"
   ]
  },
  {
   "cell_type": "code",
   "execution_count": 169,
   "metadata": {},
   "outputs": [
    {
     "data": {
      "image/png": "[encoded data removed]",
      "text/plain": [
       "<Figure size 432x288 with 1 Axes>"
      ]
     },
     "metadata": {
      "needs_background": "light"
     },
     "output_type": "display_data"
    }
   ],
   "source": [
    "wtp_means = pd.DataFrame({'experience_type': ['social','nonsocial'], 'average_spent': [social_M, nonsocial_M]})\n",
    "\n",
    "wtp_plot = sns.barplot(x=wtp_means.experience_type, y=wtp_means.average_spent, data=wtp_means)\n"
   ]
  },
  {
   "cell_type": "code",
   "execution_count": 170,
   "metadata": {},
   "outputs": [
    {
     "name": "stdout",
     "output_type": "stream",
     "text": [
      "0.5390990810677809\n"
     ]
    }
   ],
   "source": [
    "#calculate effect size- cohens d\n",
    "\n",
    "cohens_d = (mean(socialavg) - mean(nonsocialavg)) / (sqrt((stdev(socialavg) ** 2 + stdev(nonsocialavg) ** 2) / 2))\n",
    "\n",
    "print(cohens_d)\n"
   ]
  },
  {
   "cell_type": "code",
   "execution_count": 171,
   "metadata": {},
   "outputs": [],
   "source": [
    "prop_social = allmoresocials['prop_social']\n",
    "aq = allmoresocials.AQ #autism quotient\n",
    "mspss = allmoresocials.MSPSS #perceived social support\n"
   ]
  },
  {
   "cell_type": "code",
   "execution_count": 172,
   "metadata": {},
   "outputs": [
    {
     "data": {
      "image/png": "[encoded data removed]",
      "text/plain": [
       "<Figure size 432x288 with 1 Axes>"
      ]
     },
     "metadata": {
      "needs_background": "light"
     },
     "output_type": "display_data"
    },
    {
     "name": "stdout",
     "output_type": "stream",
     "text": [
      "[[1.89048258e-05 8.82893478e-05]\n",
      " [8.82893478e-05 7.75444664e-01]]\n",
      "Pearsons correlation: 0.023\n",
      "p value: 0.9168\n",
      "Accept null hypothesis that the means are equal.\n"
     ]
    }
   ],
   "source": [
    "#amount spent on social / mulitdimensional scale of perceived social support\n",
    "pyplot.scatter(socialavg, mspss)\n",
    "pyplot.show()\n",
    "covariance = cov(socialavg, mspss)\n",
    "print(covariance)\n",
    "corr, _ = pearsonr(socialavg, mspss)\n",
    "print('Pearsons correlation: %.3f' % corr)\n",
    "r,p = scipy.stats.pearsonr(socialavg, mspss)\n",
    "print('p value: %.4f' % p)\n",
    "alpha = 0.10\n",
    "if p > alpha:\n",
    "\tprint('Accept null hypothesis that the means are equal.')\n",
    "else:\n",
    "    print('Reject the null hypothesis that the means are equal.')"
   ]
  },
  {
   "cell_type": "code",
   "execution_count": 173,
   "metadata": {},
   "outputs": [
    {
     "data": {
      "image/png": "[encoded data removed]",
      "text/plain": [
       "<Figure size 432x288 with 1 Axes>"
      ]
     },
     "metadata": {
      "needs_background": "light"
     },
     "output_type": "display_data"
    },
    {
     "name": "stdout",
     "output_type": "stream",
     "text": [
      "[[ 1.89048258e-05 -3.29700701e-03]\n",
      " [-3.29700701e-03  5.33913043e+01]]\n",
      "Pearsons correlation: -0.104\n",
      "p value: 0.6375\n",
      "Accept null hypothesis that the means are equal.\n"
     ]
    }
   ],
   "source": [
    "#amount spent on social / aq\n",
    "pyplot.scatter(socialavg, aq)\n",
    "pyplot.show()\n",
    "covariance = cov(socialavg, aq)\n",
    "print(covariance)\n",
    "corr, _ = pearsonr(socialavg, aq)\n",
    "print('Pearsons correlation: %.3f' % corr)\n",
    "r,p = scipy.stats.pearsonr(socialavg, aq)\n",
    "print('p value: %.4f' % p)\n",
    "alpha = 0.10\n",
    "if p > alpha:\n",
    "\tprint('Accept null hypothesis that the means are equal.')\n",
    "else:\n",
    "    print('Reject the null hypothesis that the means are equal.')\n"
   ]
  },
  {
   "cell_type": "code",
   "execution_count": 174,
   "metadata": {},
   "outputs": [
    {
     "data": {
      "image/png": "[encoded data removed]",
      "text/plain": [
       "<Figure size 432x288 with 1 Axes>"
      ]
     },
     "metadata": {
      "needs_background": "light"
     },
     "output_type": "display_data"
    },
    {
     "name": "stdout",
     "output_type": "stream",
     "text": [
      "[[0.02317543 0.03032239]\n",
      " [0.03032239 0.77544466]]\n",
      "Pearsons correlation: 0.226\n",
      "p value: 0.2994\n",
      "Accept null hypothesis that the means are equal.\n"
     ]
    }
   ],
   "source": [
    "##### prop of chosen social // self report #####\n",
    "#prop of chosen social // MSPSS\n",
    "pyplot.scatter(prop_social, mspss)\n",
    "pyplot.show()\n",
    "covariance = cov(prop_social, mspss)\n",
    "print(covariance)\n",
    "corr, _ = pearsonr(prop_social, mspss)\n",
    "print('Pearsons correlation: %.3f' % corr)\n",
    "r,p = scipy.stats.pearsonr(prop_social, mspss)\n",
    "print('p value: %.4f' % p)\n",
    "alpha = 0.10\n",
    "if p > alpha:\n",
    "\tprint('Accept null hypothesis that the means are equal.')\n",
    "else:\n",
    "    print('Reject the null hypothesis that the means are equal.')\n"
   ]
  },
  {
   "cell_type": "code",
   "execution_count": 175,
   "metadata": {},
   "outputs": [
    {
     "data": {
      "image/png": "[encoded data removed]",
      "text/plain": [
       "<Figure size 432x288 with 1 Axes>"
      ]
     },
     "metadata": {
      "needs_background": "light"
     },
     "output_type": "display_data"
    },
    {
     "name": "stdout",
     "output_type": "stream",
     "text": [
      "[[2.31754292e-02 2.75928047e-01]\n",
      " [2.75928047e-01 5.33913043e+01]]\n",
      "Pearsons correlation: 0.248\n",
      "p value: 0.2538\n",
      "Accept null hypothesis that the means are equal.\n"
     ]
    }
   ],
   "source": [
    "# prop social // aq\n",
    "pyplot.scatter(prop_social, aq)\n",
    "pyplot.show()\n",
    "covariance = cov(prop_social, aq)\n",
    "print(covariance)\n",
    "corr, _ = pearsonr(prop_social, aq)\n",
    "print('Pearsons correlation: %.3f' % corr)\n",
    "r,p = scipy.stats.pearsonr(prop_social, aq)\n",
    "print('p value: %.4f' % p)\n",
    "\n",
    "alpha = 0.10\n",
    "if p > alpha:\n",
    "\tprint('Accept null hypothesis that the means are equal.')\n",
    "else:\n",
    "    print('Reject the null hypothesis that the means are equal.')\n"
   ]
  },
  {
   "cell_type": "code",
   "execution_count": 176,
   "metadata": {},
   "outputs": [
    {
     "data": {
      "image/png": "[encoded data removed]",
      "text/plain": [
       "<Figure size 432x288 with 1 Axes>"
      ]
     },
     "metadata": {
      "needs_background": "light"
     },
     "output_type": "display_data"
    },
    {
     "name": "stdout",
     "output_type": "stream",
     "text": [
      "[[1.80059391e-05 9.67128283e-04]\n",
      " [9.67128283e-04 7.75444664e-01]]\n",
      "Pearsons correlation: 0.259\n",
      "p value: 0.2331\n",
      "Accept null hypothesis that the means are equal.\n"
     ]
    }
   ],
   "source": [
    "##### avg spent on nonsocial // self report #####\n",
    "# nonsocial // mspss (social support)\n",
    "pyplot.scatter(nonsocialavg, mspss)\n",
    "pyplot.show()\n",
    "covariance = cov(nonsocialavg, mspss)\n",
    "print(covariance)\n",
    "corr, _ = pearsonr(nonsocialavg, mspss)\n",
    "print('Pearsons correlation: %.3f' % corr)\n",
    "r,p = scipy.stats.pearsonr(nonsocialavg, mspss)\n",
    "print('p value: %.4f' % p)\n",
    "alpha = 0.10\n",
    "if p > alpha:\n",
    "\tprint('Accept null hypothesis that the means are equal.')\n",
    "else:\n",
    "    print('Reject the null hypothesis that the means are equal.')\n"
   ]
  },
  {
   "cell_type": "code",
   "execution_count": 177,
   "metadata": {},
   "outputs": [
    {
     "data": {
      "image/png": "[encoded data removed]",
      "text/plain": [
       "<Figure size 432x288 with 1 Axes>"
      ]
     },
     "metadata": {
      "needs_background": "light"
     },
     "output_type": "display_data"
    },
    {
     "name": "stdout",
     "output_type": "stream",
     "text": [
      "[[ 1.80059391e-05 -1.83240144e-04]\n",
      " [-1.83240144e-04  5.33913043e+01]]\n",
      "Pearsons correlation: -0.006\n",
      "p value: 0.9786\n",
      "Accept null hypothesis that the means are equal.\n"
     ]
    }
   ],
   "source": [
    "# nonsocial // aq\n",
    "pyplot.scatter(nonsocialavg, aq)\n",
    "pyplot.show()\n",
    "covariance = cov(nonsocialavg, aq)\n",
    "print(covariance)\n",
    "corr, _ = pearsonr(nonsocialavg, aq)\n",
    "print('Pearsons correlation: %.3f' % corr)\n",
    "r,p = scipy.stats.pearsonr(nonsocialavg, aq)\n",
    "print('p value: %.4f' % p)\n",
    "alpha = 0.10\n",
    "if p > alpha:\n",
    "\tprint('Accept null hypothesis that the means are equal.')\n",
    "else:\n",
    "    print('Reject the null hypothesis that the means are equal.')"
   ]
  },
  {
   "cell_type": "code",
   "execution_count": 178,
   "metadata": {},
   "outputs": [
    {
     "name": "stdout",
     "output_type": "stream",
     "text": [
      "mean: 0.501561668130\n"
     ]
    }
   ],
   "source": [
    "prop_socialavg= allmoresocials.prop_social\n",
    "#calculate group mean for prop of chosen social experiences\n",
    "prop_soc_M = mean(prop_socialavg)\n",
    "print('mean: %.12f'% (prop_soc_M))\n"
   ]
  },
  {
   "cell_type": "code",
   "execution_count": 179,
   "metadata": {},
   "outputs": [
    {
     "name": "stdout",
     "output_type": "stream",
     "text": [
      "mean: 0.498438331870\n"
     ]
    }
   ],
   "source": [
    "prop_nonsocialavg= allmoresocials.prop_nonsocial\n",
    "#calculate group mean for prop of chosen social experiences\n",
    "prop_nonsoc_M = mean(prop_nonsocialavg)\n",
    "print('mean: %.12f'% (prop_nonsoc_M))"
   ]
  },
  {
   "cell_type": "code",
   "execution_count": 180,
   "metadata": {},
   "outputs": [
    {
     "name": "stdout",
     "output_type": "stream",
     "text": [
      "2.0396621417559353 0.0718367340000004\n"
     ]
    }
   ],
   "source": [
    "#Calculate STD\n",
    "# sum squared difference between observations\n",
    "d1 = sum([(prop_socialavg[i]-prop_nonsocialavg[i])**2 for i in range(n)])\n",
    "# sum difference between observations\n",
    "d2 = sum([prop_socialavg[i]-prop_nonsocialavg[i] for i in range(n)])\n",
    "print(d1,d2)"
   ]
  },
  {
   "cell_type": "code",
   "execution_count": 181,
   "metadata": {},
   "outputs": [
    {
     "name": "stdout",
     "output_type": "stream",
     "text": [
      "0.3044695664355374\n"
     ]
    }
   ],
   "source": [
    "# standard deviation of the difference between means\n",
    "standev = np.sqrt((d1 - (d2**2 / n)) / (n - 1))\n",
    "print(standev)\n"
   ]
  },
  {
   "cell_type": "code",
   "execution_count": 182,
   "metadata": {},
   "outputs": [
    {
     "name": "stdout",
     "output_type": "stream",
     "text": [
      "0.06348629324351769\n"
     ]
    }
   ],
   "source": [
    "#calculate standard error of the difference between the means\n",
    "sed = standev / np.sqrt(n)\n",
    "print(sed)\n"
   ]
  },
  {
   "cell_type": "code",
   "execution_count": 183,
   "metadata": {},
   "outputs": [
    {
     "name": "stdout",
     "output_type": "stream",
     "text": [
      "0.04919701720321324\n"
     ]
    }
   ],
   "source": [
    "# calculate the t statistic\n",
    "t_stat = (prop_soc_M - prop_nonsoc_M) / sed\n",
    "print(t_stat)\n"
   ]
  },
  {
   "cell_type": "code",
   "execution_count": 184,
   "metadata": {},
   "outputs": [
    {
     "name": "stdout",
     "output_type": "stream",
     "text": [
      "22\n"
     ]
    }
   ],
   "source": [
    "# degrees of freedom\n",
    "df = n - 1\n",
    "print(df)\n",
    "alpha= 0.05"
   ]
  },
  {
   "cell_type": "code",
   "execution_count": 185,
   "metadata": {},
   "outputs": [
    {
     "name": "stdout",
     "output_type": "stream",
     "text": [
      "t=0.049, df=22, cv=1.717, p=0.961\n",
      "Accept null hypothesis that the means are equal.\n",
      "Accept null hypothesis that the means are equal.\n"
     ]
    }
   ],
   "source": [
    "# calculate the critical value\n",
    "cv = t.ppf(1.0 - alpha, df)\n",
    "# calculate the p-value\n",
    "p = (1.0 - t.cdf(abs(t_stat), df)) * 2.0\n",
    "# return everything\n",
    "print('t=%.3f, df=%d, cv=%.3f, p=%.3f' % (t_stat, df, cv, p))\n",
    "# interpret via critical value\n",
    "if abs(t_stat) <= cv:\n",
    "\tprint('Accept null hypothesis that the means are equal.')\n",
    "else:\n",
    "\tprint('Reject the null hypothesis that the means are equal.')\n",
    "# interpret via p-value\n",
    "if p > alpha:\n",
    "\tprint('Accept null hypothesis that the means are equal.')\n",
    "else:\n",
    "\tprint('Reject the null hypothesis that the means are equal.')\n"
   ]
  },
  {
   "cell_type": "code",
   "execution_count": 186,
   "metadata": {},
   "outputs": [
    {
     "data": {
      "image/png": "[encoded data removed]",
      "text/plain": [
       "<Figure size 432x288 with 1 Axes>"
      ]
     },
     "metadata": {
      "needs_background": "light"
     },
     "output_type": "display_data"
    }
   ],
   "source": [
    "wtp_means = pd.DataFrame({'experience_type': ['social','nonsocial'], 'prop_chosen': [prop_soc_M, prop_nonsoc_M]})\n",
    "\n",
    "wtp_plot = sns.barplot(x=wtp_means.experience_type, y=wtp_means.prop_chosen, data=wtp_means)\n"
   ]
  },
  {
   "cell_type": "code",
   "execution_count": null,
   "metadata": {},
   "outputs": [],
   "source": [
    "## total -- prop of social > prop of non-social"
   ]
  },
  {
   "cell_type": "code",
   "execution_count": 190,
   "metadata": {},
   "outputs": [
    {
     "name": "stdout",
     "output_type": "stream",
     "text": [
      "                 participant  avg_spent_social  avg_spent_nonsocial  \\\n",
      "0   5c523d16102de10001022098          0.028919             0.032308   \n",
      "1   5e70d4869ffb1404cb1f5070          0.023846             0.022917   \n",
      "2   5efc9ea8f8e7950584b12e87          0.032000             0.032000   \n",
      "3   5f793609f8089e53266336f5          0.030000             0.031250   \n",
      "4   60fd7f782b0c5f0b6503302a          0.030244             0.032222   \n",
      "5   60fe2fb42ec6d443757a92fc          0.033333             0.033043   \n",
      "6   60fed38a8adb46e44e0869a5          0.023462             0.027500   \n",
      "7   61009741973fdb40344de5e7          0.025946             0.031538   \n",
      "8   6100b292b7fc7f30ec9132dc          0.030000             0.027778   \n",
      "9   61023e0830e893bec6bd8f3c          0.028667             0.029500   \n",
      "10  610421096c1af729ade5aac1          0.026250             0.022222   \n",
      "11  61083f623522116ea15fdc05          0.030000             0.031000   \n",
      "12  61088cda72a1106216fa4858          0.024231             0.023333   \n",
      "13  610934fd924a7b98497b2108          0.035312             0.033333   \n",
      "14  610999f68d373b548447abfe          0.032308             0.029583   \n",
      "15  6109d72bcd6919f7b64afbe3          0.027931             0.030000   \n",
      "16  610a06e4613ff666139fd6d9          0.027941             0.026875   \n",
      "17  610c59ee34cc312d7ca55e45          0.030833             0.030714   \n",
      "18  610d3d786149dbd00d635e26          0.037692             0.035417   \n",
      "19  610dd86540919edb725d1f3f          0.026667             0.026000   \n",
      "20  61111442bb1b255927718949          0.023846             0.021667   \n",
      "21  61113effc33961d5c253618a          0.026129             0.020000   \n",
      "22  6111646d1922d97d81f4f9c1          0.034194             0.033684   \n",
      "23  611188e5b3c601c90fc9a4f6          0.031053             0.032500   \n",
      "24  611292e82906a9ff09cdf126          0.028649             0.030769   \n",
      "\n",
      "    prop_social  prop_nonsocial  moresocial  prop_moresocial  AQ     MSPSS  \n",
      "0          0.74            0.26           0                1  22  6.333333  \n",
      "1          0.52            0.48           1                1  19  6.000000  \n",
      "2          0.60            0.40           0                1  32  5.750000  \n",
      "3          0.84            0.16           0                1  10  6.500000  \n",
      "4          0.82            0.18           0                1  22  3.166667  \n",
      "5          0.54            0.46           1                1  15  7.000000  \n",
      "6          0.52            0.48           0                1  20  5.000000  \n",
      "7          0.74            0.26           0                1  25  6.000000  \n",
      "8          0.64            0.36           1                1  24  6.166667  \n",
      "9          0.60            0.40           0                1  16  6.916667  \n",
      "10         0.64            0.36           1                1  16  5.416667  \n",
      "11         0.60            0.40           0                1  15  5.750000  \n",
      "12         0.52            0.48           1                1  20  6.583333  \n",
      "13         0.64            0.36           1                1  23  6.166667  \n",
      "14         0.52            0.48           1                1  10  5.416667  \n",
      "15         0.58            0.42           0                1  16  5.166667  \n",
      "16         0.68            0.32           1                1  21  4.166667  \n",
      "17         0.72            0.28           1                1  44  6.166667  \n",
      "18         0.52            0.48           1                1  22  5.500000  \n",
      "19         0.60            0.40           1                1  15  4.583333  \n",
      "20         0.52            0.48           1                1  21  5.166667  \n",
      "21         0.62            0.38           1                1  32  5.666667  \n",
      "22         0.62            0.38           1                1  16  7.000000  \n",
      "23         0.76            0.24           0                1  27  6.583333  \n",
      "24         0.74            0.26           0                1  24  6.666667  \n"
     ]
    }
   ],
   "source": [
    "#import excel file containing data summary\n",
    "\n",
    "\n",
    "prop_allmoresocials = pd.read_csv(r'prop_allmoresocials.csv', encoding='utf-8-sig')\n",
    "#prop_allmoresocials = pd.read_excel(r'wtp_taskdata_NEW.xlsx')\n",
    "pd.set_option(\"display.max_rows\", None, \"display.max_columns\", None)\n",
    "print(prop_allmoresocials)"
   ]
  },
  {
   "cell_type": "code",
   "execution_count": 191,
   "metadata": {},
   "outputs": [
    {
     "name": "stdout",
     "output_type": "stream",
     "text": [
      "group mean: 0.029178078120\n",
      "standard error of the mean: 0.000743920112\n",
      "group mean: 0.029086183280\n",
      "standard error of the mean: 0.000847437181\n"
     ]
    }
   ],
   "source": [
    "socialavg= prop_allmoresocials.avg_spent_social\n",
    "#calculate group mean for av spent on social experiences\n",
    "social_M = mean(socialavg)\n",
    "print('group mean: %.12f'% (social_M))\n",
    "print('standard error of the mean: %.12f'% (sem(socialavg)))\n",
    "\n",
    "\n",
    "nonsocialavg = prop_allmoresocials.avg_spent_nonsocial\n",
    "#calculate group mean for av spent on non-social experiences\n",
    "nonsocial_M = mean(nonsocialavg)\n",
    "print('group mean: %.12f'% (nonsocial_M))\n",
    "print('standard error of the mean: %.12f'% (sem(nonsocialavg)))"
   ]
  },
  {
   "cell_type": "code",
   "execution_count": 192,
   "metadata": {},
   "outputs": [
    {
     "name": "stdout",
     "output_type": "stream",
     "text": [
      "25\n"
     ]
    }
   ],
   "source": [
    "#sample size\n",
    "n = len(prop_allmoresocials)\n",
    "print(n)\n"
   ]
  },
  {
   "cell_type": "code",
   "execution_count": 193,
   "metadata": {},
   "outputs": [
    {
     "name": "stdout",
     "output_type": "stream",
     "text": [
      "0.00016071461425616701 0.002297370999999982\n",
      "0.00258604828612194\n"
     ]
    }
   ],
   "source": [
    "#Calculate STD\n",
    "# sum squared difference between observations\n",
    "d1 = sum([(socialavg[i]-nonsocialavg[i])**2 for i in range(n)])\n",
    "# sum difference between observations\n",
    "d2 = sum([socialavg[i]-nonsocialavg[i] for i in range(n)])\n",
    "print(d1,d2)\n",
    "\n",
    "# standard deviation of the difference between means\n",
    "standev = np.sqrt((d1 - (d2**2 / n)) / (n - 1))\n",
    "print(standev)\n"
   ]
  },
  {
   "cell_type": "code",
   "execution_count": 194,
   "metadata": {},
   "outputs": [
    {
     "name": "stdout",
     "output_type": "stream",
     "text": [
      "0.000517209657224388\n"
     ]
    }
   ],
   "source": [
    "#calculate standard error of the difference between the means\n",
    "sed = standev / np.sqrt(n)\n",
    "print(sed)"
   ]
  },
  {
   "cell_type": "code",
   "execution_count": 195,
   "metadata": {},
   "outputs": [
    {
     "name": "stdout",
     "output_type": "stream",
     "text": [
      "0.17767425398271472\n"
     ]
    }
   ],
   "source": [
    "# calculate the t statistic\n",
    "t_stat = (social_M - nonsocial_M) / sed\n",
    "print(t_stat)"
   ]
  },
  {
   "cell_type": "code",
   "execution_count": 196,
   "metadata": {},
   "outputs": [
    {
     "name": "stdout",
     "output_type": "stream",
     "text": [
      "24\n"
     ]
    }
   ],
   "source": [
    "# degrees of freedom\n",
    "df = n - 1\n",
    "print(df)\n",
    "alpha= 0.05\n"
   ]
  },
  {
   "cell_type": "code",
   "execution_count": 197,
   "metadata": {},
   "outputs": [
    {
     "name": "stdout",
     "output_type": "stream",
     "text": [
      "t=0.178, df=24, cv=1.711, p=0.860\n",
      "Accept null hypothesis that the means are equal.\n",
      "Accept null hypothesis that the means are equal.\n"
     ]
    }
   ],
   "source": [
    "# calculate the critical value\n",
    "cv = t.ppf(1.0 - alpha, df)\n",
    "# calculate the p-value\n",
    "p = (1.0 - t.cdf(abs(t_stat), df)) * 2.0\n",
    "# return everything\n",
    "print('t=%.3f, df=%d, cv=%.3f, p=%.3f' % (t_stat, df, cv, p))\n",
    "# interpret via critical value\n",
    "if abs(t_stat) <= cv:\n",
    "\tprint('Accept null hypothesis that the means are equal.')\n",
    "else:\n",
    "\tprint('Reject the null hypothesis that the means are equal.')\n",
    "# interpret via p-value\n",
    "if p > alpha:\n",
    "\tprint('Accept null hypothesis that the means are equal.')\n",
    "else:\n",
    "\tprint('Reject the null hypothesis that the means are equal.')\n"
   ]
  },
  {
   "cell_type": "code",
   "execution_count": 198,
   "metadata": {},
   "outputs": [
    {
     "data": {
      "image/png": "[encoded data removed]",
      "text/plain": [
       "<Figure size 432x288 with 1 Axes>"
      ]
     },
     "metadata": {
      "needs_background": "light"
     },
     "output_type": "display_data"
    }
   ],
   "source": [
    "wtp_means = pd.DataFrame({'experience_type': ['social','nonsocial'], 'average_spent': [social_M, nonsocial_M]})\n",
    "\n",
    "wtp_plot = sns.barplot(x=wtp_means.experience_type, y=wtp_means.average_spent, data=wtp_means)\n"
   ]
  },
  {
   "cell_type": "code",
   "execution_count": 199,
   "metadata": {},
   "outputs": [
    {
     "name": "stdout",
     "output_type": "stream",
     "text": [
      "0.02304976547577062\n"
     ]
    }
   ],
   "source": [
    "#calculate effect size- cohens d\n",
    "\n",
    "cohens_d = (mean(socialavg) - mean(nonsocialavg)) / (sqrt((stdev(socialavg) ** 2 + stdev(nonsocialavg) ** 2) / 2))\n",
    "\n",
    "print(cohens_d)\n"
   ]
  },
  {
   "cell_type": "code",
   "execution_count": 200,
   "metadata": {},
   "outputs": [],
   "source": [
    "prop_social = prop_allmoresocials['prop_social']\n",
    "aq = prop_allmoresocials.AQ #autism quotient\n",
    "mspss = prop_allmoresocials.MSPSS #perceived social support\n"
   ]
  },
  {
   "cell_type": "code",
   "execution_count": 201,
   "metadata": {},
   "outputs": [
    {
     "data": {
      "image/png": "[encoded data removed]",
      "text/plain": [
       "<Figure size 432x288 with 1 Axes>"
      ]
     },
     "metadata": {
      "needs_background": "light"
     },
     "output_type": "display_data"
    },
    {
     "name": "stdout",
     "output_type": "stream",
     "text": [
      "[[1.38354283e-05 7.52156453e-04]\n",
      " [7.52156453e-04 8.45555555e-01]]\n",
      "Pearsons correlation: 0.220\n",
      "p value: 0.2909\n",
      "Accept null hypothesis that the means are equal.\n"
     ]
    }
   ],
   "source": [
    "#amount spent on social / mulitdimensional scale of perceived social support\n",
    "pyplot.scatter(socialavg, mspss)\n",
    "pyplot.show()\n",
    "covariance = cov(socialavg, mspss)\n",
    "print(covariance)\n",
    "corr, _ = pearsonr(socialavg, mspss)\n",
    "print('Pearsons correlation: %.3f' % corr)\n",
    "r,p = scipy.stats.pearsonr(socialavg, mspss)\n",
    "print('p value: %.4f' % p)\n",
    "alpha = 0.10\n",
    "if p > alpha:\n",
    "\tprint('Accept null hypothesis that the means are equal.')\n",
    "else:\n",
    "    print('Reject the null hypothesis that the means are equal.')\n"
   ]
  },
  {
   "cell_type": "code",
   "execution_count": 202,
   "metadata": {},
   "outputs": [
    {
     "data": {
      "image/png": "[encoded data removed]",
      "text/plain": [
       "<Figure size 432x288 with 1 Axes>"
      ]
     },
     "metadata": {
      "needs_background": "light"
     },
     "output_type": "display_data"
    },
    {
     "name": "stdout",
     "output_type": "stream",
     "text": [
      "[[1.38354283e-05 7.40834782e-04]\n",
      " [7.40834782e-04 5.43266667e+01]]\n",
      "Pearsons correlation: 0.027\n",
      "p value: 0.8980\n",
      "Accept null hypothesis that the means are equal.\n"
     ]
    }
   ],
   "source": [
    "#amount spent on social / aq\n",
    "pyplot.scatter(socialavg, aq)\n",
    "pyplot.show()\n",
    "covariance = cov(socialavg, aq)\n",
    "print(covariance)\n",
    "corr, _ = pearsonr(socialavg, aq)\n",
    "print('Pearsons correlation: %.3f' % corr)\n",
    "r,p = scipy.stats.pearsonr(socialavg, aq)\n",
    "print('p value: %.4f' % p)\n",
    "alpha = 0.10\n",
    "if p > alpha:\n",
    "\tprint('Accept null hypothesis that the means are equal.')\n",
    "else:\n",
    "    print('Reject the null hypothesis that the means are equal.')"
   ]
  },
  {
   "cell_type": "code",
   "execution_count": 203,
   "metadata": {},
   "outputs": [],
   "source": [
    "##### prop of chosen social // self report #####\n"
   ]
  },
  {
   "cell_type": "code",
   "execution_count": 204,
   "metadata": {},
   "outputs": [
    {
     "data": {
      "image/png": "[encoded data removed]",
      "text/plain": [
       "<Figure size 432x288 with 1 Axes>"
      ]
     },
     "metadata": {
      "needs_background": "light"
     },
     "output_type": "display_data"
    },
    {
     "name": "stdout",
     "output_type": "stream",
     "text": [
      "[[ 0.009624   -0.00318333]\n",
      " [-0.00318333  0.84555556]]\n",
      "Pearsons correlation: -0.035\n",
      "p value: 0.8670\n",
      "Accept null hypothesis that the means are equal.\n"
     ]
    }
   ],
   "source": [
    "#prop of chosen social // MSPSS\n",
    "pyplot.scatter(prop_social, mspss)\n",
    "pyplot.show()\n",
    "covariance = cov(prop_social, mspss)\n",
    "print(covariance)\n",
    "corr, _ = pearsonr(prop_social, mspss)\n",
    "print('Pearsons correlation: %.3f' % corr)\n",
    "r,p = scipy.stats.pearsonr(prop_social, mspss)\n",
    "print('p value: %.4f' % p)\n",
    "alpha = 0.10\n",
    "if p > alpha:\n",
    "\tprint('Accept null hypothesis that the means are equal.')\n",
    "else:\n",
    "    print('Reject the null hypothesis that the means are equal.')\n"
   ]
  },
  {
   "cell_type": "code",
   "execution_count": 205,
   "metadata": {},
   "outputs": [
    {
     "data": {
      "image/png": "[encoded data removed]",
      "text/plain": [
       "<Figure size 432x288 with 1 Axes>"
      ]
     },
     "metadata": {
      "needs_background": "light"
     },
     "output_type": "display_data"
    },
    {
     "name": "stdout",
     "output_type": "stream",
     "text": [
      "[[9.62400000e-03 1.68866667e-01]\n",
      " [1.68866667e-01 5.43266667e+01]]\n",
      "Pearsons correlation: 0.234\n",
      "p value: 0.2612\n",
      "Accept null hypothesis that the means are equal.\n"
     ]
    }
   ],
   "source": [
    "# prop social // aq\n",
    "pyplot.scatter(prop_social, aq)\n",
    "pyplot.show()\n",
    "covariance = cov(prop_social, aq)\n",
    "print(covariance)\n",
    "corr, _ = pearsonr(prop_social, aq)\n",
    "print('Pearsons correlation: %.3f' % corr)\n",
    "r,p = scipy.stats.pearsonr(prop_social, aq)\n",
    "print('p value: %.4f' % p)\n",
    "\n",
    "alpha = 0.10\n",
    "if p > alpha:\n",
    "\tprint('Accept null hypothesis that the means are equal.')\n",
    "else:\n",
    "    print('Reject the null hypothesis that the means are equal.')\n"
   ]
  },
  {
   "cell_type": "code",
   "execution_count": 206,
   "metadata": {},
   "outputs": [
    {
     "data": {
      "image/png": "[encoded data removed]",
      "text/plain": [
       "<Figure size 432x288 with 1 Axes>"
      ]
     },
     "metadata": {
      "needs_background": "light"
     },
     "output_type": "display_data"
    },
    {
     "name": "stdout",
     "output_type": "stream",
     "text": [
      "[[1.79537444e-05 8.55323845e-04]\n",
      " [8.55323845e-04 8.45555555e-01]]\n",
      "Pearsons correlation: 0.220\n",
      "p value: 0.2917\n",
      "Accept null hypothesis that the means are equal.\n"
     ]
    }
   ],
   "source": [
    "##### avg spent on nonsocial // self report #####\n",
    "# nonsocial // mspss (social support)\n",
    "pyplot.scatter(nonsocialavg, mspss)\n",
    "pyplot.show()\n",
    "covariance = cov(nonsocialavg, mspss)\n",
    "print(covariance)\n",
    "corr, _ = pearsonr(nonsocialavg, mspss)\n",
    "print('Pearsons correlation: %.3f' % corr)\n",
    "r,p = scipy.stats.pearsonr(nonsocialavg, mspss)\n",
    "print('p value: %.4f' % p)\n",
    "alpha = 0.10\n",
    "if p > alpha:\n",
    "\tprint('Accept null hypothesis that the means are equal.')\n",
    "else:\n",
    "    print('Reject the null hypothesis that the means are equal.')\n"
   ]
  },
  {
   "cell_type": "code",
   "execution_count": 207,
   "metadata": {},
   "outputs": [
    {
     "data": {
      "image/png": "[encoded data removed]",
      "text/plain": [
       "<Figure size 432x288 with 1 Axes>"
      ]
     },
     "metadata": {
      "needs_background": "light"
     },
     "output_type": "display_data"
    },
    {
     "name": "stdout",
     "output_type": "stream",
     "text": [
      "[[1.79537444e-05 2.24154350e-05]\n",
      " [2.24154350e-05 5.43266667e+01]]\n",
      "Pearsons correlation: 0.001\n",
      "p value: 0.9973\n",
      "Accept null hypothesis that the means are equal.\n"
     ]
    }
   ],
   "source": [
    "# nonsocial // aq\n",
    "pyplot.scatter(nonsocialavg, aq)\n",
    "pyplot.show()\n",
    "covariance = cov(nonsocialavg, aq)\n",
    "print(covariance)\n",
    "corr, _ = pearsonr(nonsocialavg, aq)\n",
    "print('Pearsons correlation: %.3f' % corr)\n",
    "r,p = scipy.stats.pearsonr(nonsocialavg, aq)\n",
    "print('p value: %.4f' % p)\n",
    "alpha = 0.10\n",
    "if p > alpha:\n",
    "\tprint('Accept null hypothesis that the means are equal.')\n",
    "else:\n",
    "    print('Reject the null hypothesis that the means are equal.')\n"
   ]
  },
  {
   "cell_type": "code",
   "execution_count": 208,
   "metadata": {},
   "outputs": [
    {
     "name": "stdout",
     "output_type": "stream",
     "text": [
      "mean: 0.633600000000\n"
     ]
    }
   ],
   "source": [
    "prop_socialavg= prop_allmoresocials.prop_social\n",
    "#calculate group mean for prop of chosen social experiences\n",
    "prop_soc_M = mean(prop_socialavg)\n",
    "print('mean: %.12f'% (prop_soc_M))\n"
   ]
  },
  {
   "cell_type": "code",
   "execution_count": 224,
   "metadata": {},
   "outputs": [
    {
     "name": "stdout",
     "output_type": "stream",
     "text": [
      "mean: 0.366400000000\n"
     ]
    }
   ],
   "source": [
    "prop_nonsocialavg= prop_allmoresocials.prop_nonsocial\n",
    "#calculate group mean for prop of chosen social experiences\n",
    "prop_nonsoc_M = mean(prop_nonsocialavg)\n",
    "print('mean: %.12f'% (prop_nonsoc_M))\n"
   ]
  },
  {
   "cell_type": "code",
   "execution_count": 218,
   "metadata": {},
   "outputs": [
    {
     "name": "stdout",
     "output_type": "stream",
     "text": [
      "0.00016071461425616701 0.002297370999999982\n",
      "0.00258604828612194\n"
     ]
    }
   ],
   "source": [
    "#Calculate STD\n",
    "# sum squared difference between observations\n",
    "d1 = sum([(socialavg[i]-nonsocialavg[i])**2 for i in range(n)])\n",
    "# sum difference between observations\n",
    "d2 = sum([socialavg[i]-nonsocialavg[i] for i in range(n)])\n",
    "print(d1,d2)\n",
    "\n",
    "# standard deviation of the difference between means\n",
    "standev = np.sqrt((d1 - (d2**2 / n)) / (n - 1))\n",
    "print(standev)"
   ]
  },
  {
   "cell_type": "code",
   "execution_count": 219,
   "metadata": {},
   "outputs": [
    {
     "name": "stdout",
     "output_type": "stream",
     "text": [
      "0.000517209657224388\n"
     ]
    }
   ],
   "source": [
    "#calculate standard error of the difference between the means\n",
    "sed = standev / np.sqrt(n)\n",
    "print(sed)\n"
   ]
  },
  {
   "cell_type": "code",
   "execution_count": 220,
   "metadata": {},
   "outputs": [
    {
     "name": "stdout",
     "output_type": "stream",
     "text": [
      "261.3285855020217\n"
     ]
    }
   ],
   "source": [
    "# calculate the t statistic\n",
    "t_stat = (prop_soc_M - prop_nonsoc_M) / sed\n",
    "print(t_stat)\n"
   ]
  },
  {
   "cell_type": "code",
   "execution_count": 221,
   "metadata": {},
   "outputs": [
    {
     "name": "stdout",
     "output_type": "stream",
     "text": [
      "24\n"
     ]
    }
   ],
   "source": [
    "# degrees of freedom\n",
    "df = n - 1\n",
    "print(df)\n",
    "alpha= 0.05\n"
   ]
  },
  {
   "cell_type": "code",
   "execution_count": 222,
   "metadata": {},
   "outputs": [
    {
     "name": "stdout",
     "output_type": "stream",
     "text": [
      "t=261.329, df=24, cv=1.711, p=0.000\n",
      "Reject the null hypothesis that the means are equal.\n",
      "Reject the null hypothesis that the means are equal.\n"
     ]
    }
   ],
   "source": [
    "# calculate the critical value\n",
    "cv = t.ppf(1.0 - alpha, df)\n",
    "# calculate the p-value\n",
    "p = (1.0 - t.cdf(abs(t_stat), df)) * 2.0\n",
    "# return everything\n",
    "print('t=%.3f, df=%d, cv=%.3f, p=%.3f' % (t_stat, df, cv, p))\n",
    "# interpret via critical value\n",
    "if abs(t_stat) <= cv:\n",
    "\tprint('Accept null hypothesis that the means are equal.')\n",
    "else:\n",
    "\tprint('Reject the null hypothesis that the means are equal.')\n",
    "# interpret via p-value\n",
    "if p > alpha:\n",
    "\tprint('Accept null hypothesis that the means are equal.')\n",
    "else:\n",
    "\tprint('Reject the null hypothesis that the means are equal.')\n"
   ]
  },
  {
   "cell_type": "code",
   "execution_count": 223,
   "metadata": {},
   "outputs": [
    {
     "data": {
      "image/png": "[encoded data removed]",
      "text/plain": [
       "<Figure size 432x288 with 1 Axes>"
      ]
     },
     "metadata": {
      "needs_background": "light"
     },
     "output_type": "display_data"
    }
   ],
   "source": [
    "wtp_means = pd.DataFrame({'experience_type': ['social','nonsocial'], 'prop_chosen': [prop_soc_M, prop_nonsoc_M]})\n",
    "\n",
    "wtp_plot = sns.barplot(x=wtp_means.experience_type, y=wtp_means.prop_chosen, data=wtp_means)\n"
   ]
  },
  {
   "cell_type": "code",
   "execution_count": null,
   "metadata": {},
   "outputs": [],
   "source": []
  },
  {
   "cell_type": "code",
   "execution_count": null,
   "metadata": {},
   "outputs": [],
   "source": []
  },
  {
   "cell_type": "code",
   "execution_count": null,
   "metadata": {},
   "outputs": [],
   "source": []
  }
 ],
 "metadata": {
  "kernelspec": {
   "display_name": "Python 3",
   "language": "python",
   "name": "python3"
  },
  "language_info": {
   "codemirror_mode": {
    "name": "ipython",
    "version": 3
   },
   "file_extension": ".py",
   "mimetype": "text/x-python",
   "name": "python",
   "nbconvert_exporter": "python",
   "pygments_lexer": "ipython3",
   "version": "3.8.5"
  }
 },
 "nbformat": 4,
 "nbformat_minor": 5
}
